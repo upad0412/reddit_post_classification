{
 "cells": [
  {
   "cell_type": "code",
   "execution_count": 1,
   "metadata": {},
   "outputs": [],
   "source": [
    "import requests\n",
    "import time\n",
    "import pandas as pd\n",
    "from sklearn.feature_extraction.text import CountVectorizer, ENGLISH_STOP_WORDS, TfidfVectorizer\n",
    "from textblob import TextBlob\n",
    "from wordcloud import WordCloud,STOPWORDS\n",
    "from nltk.corpus import stopwords\n",
    "from nltk.corpus import wordnet\n",
    "from nltk import word_tokenize\n",
    "from nltk.corpus import state_union\n",
    "from nltk.tag import pos_tag\n",
    "from nltk.sentiment.vader import SentimentIntensityAnalyzer\n",
    "from collections import Counter\n",
    "import matplotlib.pyplot as plt\n",
    "import collections, re\n",
    "import string\n",
    "import pylab as plt\n",
    "import seaborn as sns \n",
    "import wordcloud\n",
    "import warnings\n",
    "warnings.filterwarnings('ignore')\n",
    "pd.set_option('max_colwidth', 999)\n",
    "\n",
    "%matplotlib inline"
   ]
  },
  {
   "cell_type": "code",
   "execution_count": 2,
   "metadata": {},
   "outputs": [],
   "source": [
    "def get_subreddit_data(subreddit,epoch_time):\n",
    "    url =f'https://api.pushshift.io/reddit/search/submission?subreddit={subreddit}&author!=[deleted]&size=500&is_self=true&before={epoch_time}'\n",
    "    res = requests.get(url)\n",
    "    data = res.json()\n",
    "    return data['data']"
   ]
  },
  {
   "cell_type": "code",
   "execution_count": 3,
   "metadata": {},
   "outputs": [],
   "source": [
    "def exist_keys(post_to_check):\n",
    "    if (\"author\" in post_to_check and \"selftext\" in post_to_check and \"is_self\" in post_to_check):\n",
    "        return True\n",
    "    else:\n",
    "        return False"
   ]
  },
  {
   "cell_type": "code",
   "execution_count": 4,
   "metadata": {},
   "outputs": [],
   "source": [
    "def check_post(post_to_check):\n",
    "    if exist_keys(post_to_check):\n",
    "        author = post_to_check['author']\n",
    "        selftext = post_to_check['selftext']\n",
    "        is_self = post_to_check['is_self']\n",
    "        if (author != '[deleted]' and author != 'deleted' and author != 'removed' \n",
    "                and selftext != 'removed' and selftext != \"\"\n",
    "                and selftext != 'deleted' and 500 < len(selftext) < 5000\n",
    "                and \"http://\" not in selftext and \"https://\" not in selftext\n",
    "                and is_self) :\n",
    "            return True\n",
    "        else:\n",
    "            return False\n",
    "    else:\n",
    "        return False"
   ]
  },
  {
   "cell_type": "code",
   "execution_count": 5,
   "metadata": {},
   "outputs": [],
   "source": [
    "def get_filtered_posts(subreddit,post_count):\n",
    "    result = []\n",
    "    epoch_time = int(time.time())\n",
    "    is_end_of_topic = False\n",
    "    while len(result) <= post_count and not is_end_of_topic:\n",
    "        post_list = get_subreddit_data(subreddit,epoch_time)\n",
    "        temp_result = [post for post in post_list if check_post(post)]\n",
    "        result.extend(temp_result)\n",
    "        if epoch_time != int(result[-1]['created_utc']):\n",
    "            epoch_time = int(result[-1]['created_utc'])\n",
    "        else:\n",
    "            is_end_of_topic = True\n",
    "    return result"
   ]
  },
  {
   "cell_type": "code",
   "execution_count": 6,
   "metadata": {},
   "outputs": [],
   "source": [
    "star_wars_posts = get_filtered_posts(\"StarWars\",500)"
   ]
  },
  {
   "cell_type": "code",
   "execution_count": 7,
   "metadata": {},
   "outputs": [],
   "source": [
    "star_trek_posts = get_filtered_posts(\"startrek\",500)"
   ]
  },
  {
   "cell_type": "code",
   "execution_count": 8,
   "metadata": {},
   "outputs": [],
   "source": [
    "#print(len(star_wars_posts))\n",
    "#for post in star_wars_posts:\n",
    "   # print(post['selftext'])\n",
    "    #print(\"-------------------------------------------\")"
   ]
  },
  {
   "cell_type": "code",
   "execution_count": null,
   "metadata": {},
   "outputs": [],
   "source": []
  },
  {
   "cell_type": "code",
   "execution_count": 9,
   "metadata": {},
   "outputs": [],
   "source": [
    "df = pd.DataFrame(star_wars_posts)"
   ]
  },
  {
   "cell_type": "code",
   "execution_count": 10,
   "metadata": {},
   "outputs": [],
   "source": [
    "df_1=pd.DataFrame(star_trek_posts)"
   ]
  },
  {
   "cell_type": "code",
   "execution_count": 11,
   "metadata": {},
   "outputs": [
    {
     "data": {
      "text/html": [
       "<div>\n",
       "<style scoped>\n",
       "    .dataframe tbody tr th:only-of-type {\n",
       "        vertical-align: middle;\n",
       "    }\n",
       "\n",
       "    .dataframe tbody tr th {\n",
       "        vertical-align: top;\n",
       "    }\n",
       "\n",
       "    .dataframe thead th {\n",
       "        text-align: right;\n",
       "    }\n",
       "</style>\n",
       "<table border=\"1\" class=\"dataframe\">\n",
       "  <thead>\n",
       "    <tr style=\"text-align: right;\">\n",
       "      <th></th>\n",
       "      <th>subreddit</th>\n",
       "      <th>selftext</th>\n",
       "      <th>title</th>\n",
       "    </tr>\n",
       "  </thead>\n",
       "  <tbody>\n",
       "    <tr>\n",
       "      <th>0</th>\n",
       "      <td>StarWars</td>\n",
       "      <td>Full disclosure - I'm not fully aware of all the OT lore in the comics/canon books. After seeing the Clone Wars finale and knowing that Ahsoka was alive past ROTJ - is it possible that she met with and helped train Luke between ESB and ROTJ?\\n\\nLuke levels up quite a bit between those movies and I don't think he is trained by Yoda during that time (unless there is some other non-film canon explanation for how he gets so much better with the force.)\\n\\nIt would be sweet to see them interact somehow, or with some of the other OT/ST characters. Can't wait to see what they do with her in live action.</td>\n",
       "      <td>Theory: Does Ahsoka help train Luke?</td>\n",
       "    </tr>\n",
       "    <tr>\n",
       "      <th>1</th>\n",
       "      <td>StarWars</td>\n",
       "      <td>With baby yoda seeming to have a significant purpose, where will his place be in the next hundreds of years? With The sky walker saga being done it sounds like the main story line will not continue into the future. \\n\\nWhat will baby yoda purpose be? Will his life get cut short?\\n\\nWill Ezra and baby yoda end up being the future of the Jedi or Sith?\\n\\nOr will Mando and baby yoda lead the rise of mandalorians and build a new found friendship\\n\\nWe can guess Ashoka is dead based on the voice in rise of sky Walker so where will the future be</td>\n",
       "      <td>What wil baby yoda end up being</td>\n",
       "    </tr>\n",
       "    <tr>\n",
       "      <th>2</th>\n",
       "      <td>StarWars</td>\n",
       "      <td>The show starts showing two figures laughing and talking around a table, we can't hear them talking, just see their movements. The image focuses and it shows that these figures are obi wan and Anakin(Hayden Christensen) and they're on naboo. They both turn their head and a young boy runs up to Anakin and the camera pans over to padme walking in with a young girl. Obi wan looks up at her and smiles but then we hear a loud wind and the room goes dark. We're suddenly on tatooine with a worn down obi wan who just had his fire blown out and was hit in the face with some sand. He wipes his face off and says \"I hate sand\" as the camera cuts away and the opening credits/theme plays.</td>\n",
       "      <td>Had a dream last night after watching ROTS as to how the new Kenobi show should open</td>\n",
       "    </tr>\n",
       "    <tr>\n",
       "      <th>3</th>\n",
       "      <td>StarWars</td>\n",
       "      <td>Post contains spoilers for Star Wars Rebels and Clone Wars!\\n\\n\\nI've been seeing a lot of hate towards rebels recently, specifically the art, however, there are others commenting on the \"trash plot\", \"dull characters\" and a range of other criticism which I personally feel the show doesn't deserve.\\n\\nRebels is still Star Wars and it's a great piece of canon that really helps show what the empires reign was like in the early years. It is packed with exciting moments that are arguably more memorable than a lot of the memorable moments in the clone wars (with exception of season 7), such as Ahsoka vs Vader or Ezra and Thrawn disappearing into the outer rim somewhere and especially the development and final moments of Maul. \\n\\nRebels art style isn't even that bad, it's just not as good as the clone wars. The only major flaws in the artwork was Yoda, Hondo, Anakin and Bo, Everything else was fine if not good. Rebels was our first \"Canon\" introduction to how brutal Vader was in the ti...</td>\n",
       "      <td>Rebels is still a good show despite its faults.</td>\n",
       "    </tr>\n",
       "    <tr>\n",
       "      <th>4</th>\n",
       "      <td>StarWars</td>\n",
       "      <td>I once had a friend claim that Maul is just as evil, if not, MORE evil than old Sheev. I pondered that notion, but had to disagree. Here's why:\\n\\nMaul knew nothing besides violence and bloodshed from the day he was born. He grew up on the ruthless planet of Dathomir, and was recruited by Sidious at a young age. The ways of the Sith melded naturally with the warrior ways of male Dathomirian tribes. He never really had a chance to be anything but a killing machine. He grew to tfavor the Dark Side because it granted him the ability to reach the top of any hierarchy he desired, crowning him as the alpha among all of his peers.\\n\\nContrarily, Sidious was raised in a Royal family on the peaceful planet of Naboo. He was naturally drawn to positions of power, and sought out knowledge of the mythical Sith. He initially wasn't influenced by any outside force. He just thirsted for power. He wanted to sculpt the galaxy how he saw fit. Darth Plagueis discovered him because of his immense Forc...</td>\n",
       "      <td>Is Darth Maul as evil as Darth Sidious?</td>\n",
       "    </tr>\n",
       "    <tr>\n",
       "      <th>...</th>\n",
       "      <td>...</td>\n",
       "      <td>...</td>\n",
       "      <td>...</td>\n",
       "    </tr>\n",
       "    <tr>\n",
       "      <th>502</th>\n",
       "      <td>StarWars</td>\n",
       "      <td>I don't know if anyone else does this, but whenever I hear a line from Vader whether it be from a game, movie, show, or whatever, I always try to hear that same line in the voice of Matt Lanter and Hayden Christensen. A lot of times, I just can't picture it working. Sometimes lines of dialogue are too complex to seem like something they would say. For example, \"We need not be adversaries. The Emperor will show you mercy, if you tell me where the remaining Jedi can be found\". Try to picture either of them saying that. It just doesn't work in my mind. But, basically I was just wondering if other people do the same thing or if I'm just weird.</td>\n",
       "      <td>Matching up Christensen and Lanter with JEJ</td>\n",
       "    </tr>\n",
       "    <tr>\n",
       "      <th>503</th>\n",
       "      <td>StarWars</td>\n",
       "      <td>After the prequels, he decided to stop Star Wars forever and admit that everything has an end. He realized the Saga could no longer be expanded without making the previous generation angry as fuck, creating an cumulative effect of negative reaction because, even if the younger generation gets seduced, previous ones (that are more than one after the prequels) will always be unsatisfied. Poetry and the path of the hero have a limit and repetition can only be tolerated when you put a different dress/context on it.\\n\\nSo, considering Star Wars market value will inevitably shrink year after year no matter what (like everything in this Universe), he tried to sell it now it had some worth. Disney's greed appeared into scene to buys it and make money: they failed.\\n\\nBesides this rational motivation, Lucas felt the need for redemption because of Prequels mistakes. He knew Disney will screw it all, giving a new perspective by comparision. Today, Prequels are an absolute piece of art compar...</td>\n",
       "      <td>George Lucas is a genius, his plan was a masterpiece.</td>\n",
       "    </tr>\n",
       "    <tr>\n",
       "      <th>504</th>\n",
       "      <td>StarWars</td>\n",
       "      <td>So it's universally accepted that the 4th of May is \"May the 4th Be With You\" Day, a play on the iconic quote \"May The Force be with you.\" And some people regard May 5th or 6th as \"Revenge of the Fifth/Sixth\", a play on Revenge of the Sith. This got me thinking of other plays on iconic quotes from star wars for the 5th or 6th. My favorites include \"I find your lack of Fifth disturbing\" and \"I have a bad feeling about Sixth\". Plays on \"I find your lack of faith disturbing\" and \" I have a bad feeling about this\". I think it'd be cool if either of these caught on, not that I expect them to.</td>\n",
       "      <td>You've Heard of May the 4th Be With You, and Revenge of the Fifth...</td>\n",
       "    </tr>\n",
       "    <tr>\n",
       "      <th>505</th>\n",
       "      <td>StarWars</td>\n",
       "      <td>There are millions of posts about how bad these movies are, it’s getting a little boring at this point so why don’t we share what we love about these movies.\\n\\nI love all the characters. They are all really memorable and likeable, even the Villians. The plot is simple but works really well as an episodic adventure not unlike the stories that inspired George.\\n\\nThe visuals are breathtaking and I could cover my wall in screenshots from these movies.\\n\\nI really like these movies, they are my favorite Star Wars next to revenge of the Sith and clone wars.\\n\\nWhat are your thoughts on them.</td>\n",
       "      <td>Sequel Trilogy Appreciation</td>\n",
       "    </tr>\n",
       "    <tr>\n",
       "      <th>506</th>\n",
       "      <td>StarWars</td>\n",
       "      <td>This is the greatest piece of Star Wars we’ve had in years. Without the shadow of a doubt.\\nSure TCW has built this all up for years(as it should’ve, and it’s great) but this sole episode gave me more cinematic and Star Wars joy than any of the sequel films combined. Dave Filoni shows he should be president of Lucasfilms. Sure the Trace arc felt like a waste of episodes(not every TCW is great but I feel the Trace arc, in context, was a waste of time) but it was kind of worth it for what we got. Also Ray Park killed it!!! I didn’t know he was gonna’ feature, but as soon as Maul started fighting I knew.</td>\n",
       "      <td>”The Phantom Apprentice”</td>\n",
       "    </tr>\n",
       "  </tbody>\n",
       "</table>\n",
       "<p>507 rows × 3 columns</p>\n",
       "</div>"
      ],
      "text/plain": [
       "    subreddit  \\\n",
       "0    StarWars   \n",
       "1    StarWars   \n",
       "2    StarWars   \n",
       "3    StarWars   \n",
       "4    StarWars   \n",
       "..        ...   \n",
       "502  StarWars   \n",
       "503  StarWars   \n",
       "504  StarWars   \n",
       "505  StarWars   \n",
       "506  StarWars   \n",
       "\n",
       "                                                                                                                                                                                                                                                                                                                                                                                                                                                                                                                                                                                                                                                                                                                                                                                                                                                                                                                                                                                                                                   selftext  \\\n",
       "0                                                                                                                                                                                                                                                                                                                                                                                                               Full disclosure - I'm not fully aware of all the OT lore in the comics/canon books. After seeing the Clone Wars finale and knowing that Ahsoka was alive past ROTJ - is it possible that she met with and helped train Luke between ESB and ROTJ?\\n\\nLuke levels up quite a bit between those movies and I don't think he is trained by Yoda during that time (unless there is some other non-film canon explanation for how he gets so much better with the force.)\\n\\nIt would be sweet to see them interact somehow, or with some of the other OT/ST characters. Can't wait to see what they do with her in live action.   \n",
       "1                                                                                                                                                                                                                                                                                                                                                                                                                                                                         With baby yoda seeming to have a significant purpose, where will his place be in the next hundreds of years? With The sky walker saga being done it sounds like the main story line will not continue into the future. \\n\\nWhat will baby yoda purpose be? Will his life get cut short?\\n\\nWill Ezra and baby yoda end up being the future of the Jedi or Sith?\\n\\nOr will Mando and baby yoda lead the rise of mandalorians and build a new found friendship\\n\\nWe can guess Ashoka is dead based on the voice in rise of sky Walker so where will the future be   \n",
       "2                                                                                                                                                                                                                                                                                                                               The show starts showing two figures laughing and talking around a table, we can't hear them talking, just see their movements. The image focuses and it shows that these figures are obi wan and Anakin(Hayden Christensen) and they're on naboo. They both turn their head and a young boy runs up to Anakin and the camera pans over to padme walking in with a young girl. Obi wan looks up at her and smiles but then we hear a loud wind and the room goes dark. We're suddenly on tatooine with a worn down obi wan who just had his fire blown out and was hit in the face with some sand. He wipes his face off and says \"I hate sand\" as the camera cuts away and the opening credits/theme plays.   \n",
       "3    Post contains spoilers for Star Wars Rebels and Clone Wars!\\n\\n\\nI've been seeing a lot of hate towards rebels recently, specifically the art, however, there are others commenting on the \"trash plot\", \"dull characters\" and a range of other criticism which I personally feel the show doesn't deserve.\\n\\nRebels is still Star Wars and it's a great piece of canon that really helps show what the empires reign was like in the early years. It is packed with exciting moments that are arguably more memorable than a lot of the memorable moments in the clone wars (with exception of season 7), such as Ahsoka vs Vader or Ezra and Thrawn disappearing into the outer rim somewhere and especially the development and final moments of Maul. \\n\\nRebels art style isn't even that bad, it's just not as good as the clone wars. The only major flaws in the artwork was Yoda, Hondo, Anakin and Bo, Everything else was fine if not good. Rebels was our first \"Canon\" introduction to how brutal Vader was in the ti...   \n",
       "4    I once had a friend claim that Maul is just as evil, if not, MORE evil than old Sheev. I pondered that notion, but had to disagree. Here's why:\\n\\nMaul knew nothing besides violence and bloodshed from the day he was born. He grew up on the ruthless planet of Dathomir, and was recruited by Sidious at a young age. The ways of the Sith melded naturally with the warrior ways of male Dathomirian tribes. He never really had a chance to be anything but a killing machine. He grew to tfavor the Dark Side because it granted him the ability to reach the top of any hierarchy he desired, crowning him as the alpha among all of his peers.\\n\\nContrarily, Sidious was raised in a Royal family on the peaceful planet of Naboo. He was naturally drawn to positions of power, and sought out knowledge of the mythical Sith. He initially wasn't influenced by any outside force. He just thirsted for power. He wanted to sculpt the galaxy how he saw fit. Darth Plagueis discovered him because of his immense Forc...   \n",
       "..                                                                                                                                                                                                                                                                                                                                                                                                                                                                                                                                                                                                                                                                                                                                                                                                                                                                                                                                                                                                                                      ...   \n",
       "502                                                                                                                                                                                                                                                                                                                                                                 I don't know if anyone else does this, but whenever I hear a line from Vader whether it be from a game, movie, show, or whatever, I always try to hear that same line in the voice of Matt Lanter and Hayden Christensen. A lot of times, I just can't picture it working. Sometimes lines of dialogue are too complex to seem like something they would say. For example, \"We need not be adversaries. The Emperor will show you mercy, if you tell me where the remaining Jedi can be found\". Try to picture either of them saying that. It just doesn't work in my mind. But, basically I was just wondering if other people do the same thing or if I'm just weird.   \n",
       "503  After the prequels, he decided to stop Star Wars forever and admit that everything has an end. He realized the Saga could no longer be expanded without making the previous generation angry as fuck, creating an cumulative effect of negative reaction because, even if the younger generation gets seduced, previous ones (that are more than one after the prequels) will always be unsatisfied. Poetry and the path of the hero have a limit and repetition can only be tolerated when you put a different dress/context on it.\\n\\nSo, considering Star Wars market value will inevitably shrink year after year no matter what (like everything in this Universe), he tried to sell it now it had some worth. Disney's greed appeared into scene to buys it and make money: they failed.\\n\\nBesides this rational motivation, Lucas felt the need for redemption because of Prequels mistakes. He knew Disney will screw it all, giving a new perspective by comparision. Today, Prequels are an absolute piece of art compar...   \n",
       "504                                                                                                                                                                                                                                                                                                                                                                                                                      So it's universally accepted that the 4th of May is \"May the 4th Be With You\" Day, a play on the iconic quote \"May The Force be with you.\" And some people regard May 5th or 6th as \"Revenge of the Fifth/Sixth\", a play on Revenge of the Sith. This got me thinking of other plays on iconic quotes from star wars for the 5th or 6th. My favorites include \"I find your lack of Fifth disturbing\" and \"I have a bad feeling about Sixth\". Plays on \"I find your lack of faith disturbing\" and \" I have a bad feeling about this\". I think it'd be cool if either of these caught on, not that I expect them to.   \n",
       "505                                                                                                                                                                                                                                                                                                                                                                                                                      There are millions of posts about how bad these movies are, it’s getting a little boring at this point so why don’t we share what we love about these movies.\\n\\nI love all the characters. They are all really memorable and likeable, even the Villians. The plot is simple but works really well as an episodic adventure not unlike the stories that inspired George.\\n\\nThe visuals are breathtaking and I could cover my wall in screenshots from these movies.\\n\\nI really like these movies, they are my favorite Star Wars next to revenge of the Sith and clone wars.\\n\\nWhat are your thoughts on them.   \n",
       "506                                                                                                                                                                                                                                                                                                                                                                                                        This is the greatest piece of Star Wars we’ve had in years. Without the shadow of a doubt.\\nSure TCW has built this all up for years(as it should’ve, and it’s great) but this sole episode gave me more cinematic and Star Wars joy than any of the sequel films combined. Dave Filoni shows he should be president of Lucasfilms. Sure the Trace arc felt like a waste of episodes(not every TCW is great but I feel the Trace arc, in context, was a waste of time) but it was kind of worth it for what we got. Also Ray Park killed it!!! I didn’t know he was gonna’ feature, but as soon as Maul started fighting I knew.   \n",
       "\n",
       "                                                                                    title  \n",
       "0                                                    Theory: Does Ahsoka help train Luke?  \n",
       "1                                                         What wil baby yoda end up being  \n",
       "2    Had a dream last night after watching ROTS as to how the new Kenobi show should open  \n",
       "3                                         Rebels is still a good show despite its faults.  \n",
       "4                                                 Is Darth Maul as evil as Darth Sidious?  \n",
       "..                                                                                    ...  \n",
       "502                                           Matching up Christensen and Lanter with JEJ  \n",
       "503                                 George Lucas is a genius, his plan was a masterpiece.  \n",
       "504                  You've Heard of May the 4th Be With You, and Revenge of the Fifth...  \n",
       "505                                                           Sequel Trilogy Appreciation  \n",
       "506                                                              ”The Phantom Apprentice”  \n",
       "\n",
       "[507 rows x 3 columns]"
      ]
     },
     "execution_count": 11,
     "metadata": {},
     "output_type": "execute_result"
    }
   ],
   "source": [
    "new=df[['subreddit','selftext','title']]\n",
    "new"
   ]
  },
  {
   "cell_type": "code",
   "execution_count": 12,
   "metadata": {},
   "outputs": [
    {
     "data": {
      "text/html": [
       "<div>\n",
       "<style scoped>\n",
       "    .dataframe tbody tr th:only-of-type {\n",
       "        vertical-align: middle;\n",
       "    }\n",
       "\n",
       "    .dataframe tbody tr th {\n",
       "        vertical-align: top;\n",
       "    }\n",
       "\n",
       "    .dataframe thead th {\n",
       "        text-align: right;\n",
       "    }\n",
       "</style>\n",
       "<table border=\"1\" class=\"dataframe\">\n",
       "  <thead>\n",
       "    <tr style=\"text-align: right;\">\n",
       "      <th></th>\n",
       "      <th>subreddit</th>\n",
       "      <th>selftext</th>\n",
       "      <th>title</th>\n",
       "    </tr>\n",
       "  </thead>\n",
       "  <tbody>\n",
       "    <tr>\n",
       "      <th>0</th>\n",
       "      <td>startrek</td>\n",
       "      <td>What I mean by that:\\n\\nOften times the main characters encounter some kind of danger or pursue some kind of hint which sends them traveling through the galaxy, spanning great distances, jumping in and out of warp, etc.\\n\\nThe main characters of course know what's up: Captain Picard gives the order to \"set course for X, maximum warp!\" and off they go.\\n\\nOr they get attacked and suddenly have to travel halfway across the galaxy. Or they orbit around a seemingly random planet because an away team hasn't returned.\\n\\nThe main characters as well as we, the viewers, obviously know what's up, why they're jumping from planet A to planet B in short succession or what just hit the enterprise to cause damage on decks 17 through 19.\\n\\nBut what about the \"normal\" personell? The regular people hanging out at the bar? On the holodeck? The families in their quarters?\\n\\nHow do they experience these seemingly random warp jumps? One moment they're looking out the window, maybe talking to a relat...</td>\n",
       "      <td>Rewatching TNG and have a question: How are the general personnel/regular people on board informed about travels and warp jumps?</td>\n",
       "    </tr>\n",
       "    <tr>\n",
       "      <th>1</th>\n",
       "      <td>startrek</td>\n",
       "      <td>First of all, sorry for my English or my mistakes.\\n\\nI love ST Picard, but there's a big problem with starfleet ship designs. There are only a few original models: the Inqury-Class, the Utopia Planitia space tug, Mars defense ships and the McCall Shuttlecraft. But the Magee-Class (seen in Short Treks: Children of Mars) and the Class C Shuttlecraft are from the pre-TOS era! Why are 150 year-old ships still operational?\\n\\nLet's try to answer. Obviously, the budget of the show was quite limited, but here's my ST canon theory:\\n\\nIn the 2230s the Class C Shuttlecraft was introduced. It was used in some starships and as a carrier on Earth until 2260s, and then it was replaced with other models, but it was still being used because of it's success (and maybe during its life it was updated a few times). I think some variants of this shuttle were the Galileo-class shuttlecraft (TOS era films), the Type 6 Shuttlecraft (a shorter version onboard the Enterprise D) and Type 7 Shuttlecraft (E...</td>\n",
       "      <td>150 years old ships in Picard?</td>\n",
       "    </tr>\n",
       "    <tr>\n",
       "      <th>2</th>\n",
       "      <td>startrek</td>\n",
       "      <td>Just wanted to say that having been a child of trekkies I never appreciated it until my husband got me into it when we first started dating. I first watched Next Gen, followed by voyager, and it took me a long time to get into DS9, but now that I am I am more in love with Star Trek than I ever thought I could be.  I just watched S3:E22 where Sisko and his son take a voyage on an ancient Bajoran starship replica and the ending just made my day. This is what I’m doing (among many other things) during quarantine.  I just wanted to share.</td>\n",
       "      <td>New to the sub just love Star Trek</td>\n",
       "    </tr>\n",
       "    <tr>\n",
       "      <th>3</th>\n",
       "      <td>startrek</td>\n",
       "      <td>The rebooted Star treks have some bright spots but my favorite was Cumberbatch as Kahn. He played it perfect and actually made me a big fan of Kahn. \\n\\nConsidering how much trouble the sequel series has seen I’d say if we get a fourth it has got to be downright amazing!! So I would use a tried and true enemy like Kahn combined with one of fans favorite enemies ever, the borg. \\n\\nThe next generation and piccard first encounter the borg and time travel has been a big part of this go around so maybe even find a way to use both the original and use the film to introduce the next generation crew so the 5th movie would be a reboot of piccards crew. \\n\\nWith all the history to pull from a great film can get made.</td>\n",
       "      <td>The fourth movie should include Kahn and the Borg as two threats and maybe see the crew ally with Kahn again.</td>\n",
       "    </tr>\n",
       "    <tr>\n",
       "      <th>4</th>\n",
       "      <td>startrek</td>\n",
       "      <td>Recently finished watching the show, I generally like to keep my hard sci fi (The Expanse, Gattaca, Permutation city) and science fantasy(Numenera, Q who) clearly defined, but the production value of star trek discovery helped me overlook its space magic aspects and appreciate it for what it is.\\n\\nRecently heard that  people were calling Michael Burnham a mary sue and I don't understand how that is. I have called out many characters as mary sues/gary stus and she does not seem to fit the criteria.\\n\\nShe is multidisciplinary in competence, but not much more so than a science officer(who typically have knowledge in multiple disciplines) who used to be a first officer and was training to be a captain. But most of her greater achievements were in her main field (figuring out the Klingon greeting, \"taming\" the tardigrade, which was sentient).\\n\\nShe is in the military, so she may have training in combat, but she loses up to 70% of the hand to hand fights she is in. Even against Sarek...</td>\n",
       "      <td>How is Michael Burnham a Mary sue though?</td>\n",
       "    </tr>\n",
       "    <tr>\n",
       "      <th>...</th>\n",
       "      <td>...</td>\n",
       "      <td>...</td>\n",
       "      <td>...</td>\n",
       "    </tr>\n",
       "    <tr>\n",
       "      <th>521</th>\n",
       "      <td>startrek</td>\n",
       "      <td>Data’s life\\n\\nI’m not sure if all would agree but the way data chose to die seemed a bit premature. I’m not sure but by the time of nemesis we don’t know how much and how long data was able to experience humanity with his emotion chip. So whatever Maddox put together to keep data alive doesn’t necessarily mean he was experiencing humanity. Am I missing something? \\nI feel like he had so much more to experience, especially in such a big galaxy and rich universe with so much to learn. Data character had so many experiences waiting for him I feel....</td>\n",
       "      <td>Data’s lifespan</td>\n",
       "    </tr>\n",
       "    <tr>\n",
       "      <th>522</th>\n",
       "      <td>startrek</td>\n",
       "      <td>To be blunt I didn't like Picard very much. I went in with high hopes that were killed off after the first episode. Remembrance was like a new spin on a favorite comfort food. There was enough nostolgia to scratch that itch and enough newness that made it feel different to TNG. Episodes 1-3 were mostly pleasant and then for me it fell off a cliff, with each coming episode a rock hitting me on the way down. \\n\\nIf it wasnt for for the old cast and crew of TNG and VOY I wouldn't even have watched the rest of the season. None of the new characters had time to breath and develop. Agnes was forgettable. Rios was just another hot headed Latino stereotype ala Po in the Star Wars sequels. Raffi downright creeped me the hell out for some reason. I found her switching from drunken junkie to mother figure (while well acted and would totally work in something like Moonlight) out of place and jarring in this show. Seven I felt was reduced down into kick-ass token LGBT character who for some re...</td>\n",
       "      <td>[Spoilers] St:Pic is making me like Discovery more</td>\n",
       "    </tr>\n",
       "    <tr>\n",
       "      <th>523</th>\n",
       "      <td>startrek</td>\n",
       "      <td>* Raffi/Stephen Franklin: The trusted coworker that pushes themselves too hard and ends up falling into drug use. Has a troubled past with family.\\n* Rios/Susan Ivanova: Suffering military loner. Grumpy but has soft core. Has a relationship with someone who betrays the good guys.\\n* Jurati/Michael Garibaldi: Haunted by what they did while under the influence of psychics.\\n* Elnor/Marcus Cole: A fantasy character out of place in a scifi world.\\n* Dahj/Talia Winters: Exits their series in an event that demonstrates how evil the bad guys are. Both have hidden personalities awoken.\\n* Soji/Lyta Alexander: Chosen savior of their people.\\n* Picard/John Sheridan: Disliked and not trusted by the government they worked for. Eventually quits and forms their own group fight evil. Died and came back for our sins.\\n* Data/Delenn: Mcguffin. Comes from a group that all looks alike. Undergoes changes to become more human. Main protagonist is in love them.\\n\\nBoth series' plot involves the governm...</td>\n",
       "      <td>Is Star Trek: Picard actually Babylon 5?</td>\n",
       "    </tr>\n",
       "    <tr>\n",
       "      <th>524</th>\n",
       "      <td>startrek</td>\n",
       "      <td>By the end of the season we have:  \\n\\n\\nTal-shiar infiltrator at the top of starfleet influencing policy for decades who has now returned to the Romulan empire with very current and highly-detailed intel on literally everything.  \\n\\n\\nStarfleet personnel involved in the cover-up of a several murders - Because the Tal-Shiar would have needed SOME sympathisers to get away with something so bold.  \\n\\n\\nKnowledge that the horrific slaughter on Mars was a direct Romulan terrorist attack.  \\n\\n\\nKnowledge that there's a trans-galactic synthetic alliance which hates organic life, and letting it in seems pretty easy.  \\n\\n\\nThe gigantic debt Starfleet / the Federation owe to Picard, and to a lesser extent: Acting captain Riker.  \\n\\n\\nThe absolute raging garbage fire that was the romulan neutral zone, and hosted the torture and murder of starfleet officers, plus the possibility of the Fenris Rangers rising again to deal with it if the Federation won't.</td>\n",
       "      <td>Picard S1 - Dealing with the fallout?</td>\n",
       "    </tr>\n",
       "    <tr>\n",
       "      <th>525</th>\n",
       "      <td>startrek</td>\n",
       "      <td>Even if it’s to the detriment of continuity or plot. When Riker shows up at the end and saves the day even though I don’t understand how he got there, you best believe I love that shit. When Hugh shows up even though he dies the next episode, fuck yeah that’s my boi. I never really got into Voyager but I imagine if I did, I’d have Arsenio Halled my fist at seeing Seven in the trailer. I loved to see Picard say Engage again. I’m watching Picard because I fucking love Captain Picard and The Next Generation, and I relish any morsels of that universe. If all they did was gather the old crew together and have them go on more missions together a la the TOS Star Trek movies, I’d have a hands-free orgasm. I mean, the show is called Star Trek: Picard. How can I not expect fan service? And I fucking love it.</td>\n",
       "      <td>Damn right I love fan service.</td>\n",
       "    </tr>\n",
       "  </tbody>\n",
       "</table>\n",
       "<p>526 rows × 3 columns</p>\n",
       "</div>"
      ],
      "text/plain": [
       "    subreddit  \\\n",
       "0    startrek   \n",
       "1    startrek   \n",
       "2    startrek   \n",
       "3    startrek   \n",
       "4    startrek   \n",
       "..        ...   \n",
       "521  startrek   \n",
       "522  startrek   \n",
       "523  startrek   \n",
       "524  startrek   \n",
       "525  startrek   \n",
       "\n",
       "                                                                                                                                                                                                                                                                                                                                                                                                                                                                                                                                                                                                                                                                                                                                                                                                                                                                                                                                                                                                                                   selftext  \\\n",
       "0    What I mean by that:\\n\\nOften times the main characters encounter some kind of danger or pursue some kind of hint which sends them traveling through the galaxy, spanning great distances, jumping in and out of warp, etc.\\n\\nThe main characters of course know what's up: Captain Picard gives the order to \"set course for X, maximum warp!\" and off they go.\\n\\nOr they get attacked and suddenly have to travel halfway across the galaxy. Or they orbit around a seemingly random planet because an away team hasn't returned.\\n\\nThe main characters as well as we, the viewers, obviously know what's up, why they're jumping from planet A to planet B in short succession or what just hit the enterprise to cause damage on decks 17 through 19.\\n\\nBut what about the \"normal\" personell? The regular people hanging out at the bar? On the holodeck? The families in their quarters?\\n\\nHow do they experience these seemingly random warp jumps? One moment they're looking out the window, maybe talking to a relat...   \n",
       "1    First of all, sorry for my English or my mistakes.\\n\\nI love ST Picard, but there's a big problem with starfleet ship designs. There are only a few original models: the Inqury-Class, the Utopia Planitia space tug, Mars defense ships and the McCall Shuttlecraft. But the Magee-Class (seen in Short Treks: Children of Mars) and the Class C Shuttlecraft are from the pre-TOS era! Why are 150 year-old ships still operational?\\n\\nLet's try to answer. Obviously, the budget of the show was quite limited, but here's my ST canon theory:\\n\\nIn the 2230s the Class C Shuttlecraft was introduced. It was used in some starships and as a carrier on Earth until 2260s, and then it was replaced with other models, but it was still being used because of it's success (and maybe during its life it was updated a few times). I think some variants of this shuttle were the Galileo-class shuttlecraft (TOS era films), the Type 6 Shuttlecraft (a shorter version onboard the Enterprise D) and Type 7 Shuttlecraft (E...   \n",
       "2                                                                                                                                                                                                                                                                                                                                                                                                                                                                              Just wanted to say that having been a child of trekkies I never appreciated it until my husband got me into it when we first started dating. I first watched Next Gen, followed by voyager, and it took me a long time to get into DS9, but now that I am I am more in love with Star Trek than I ever thought I could be.  I just watched S3:E22 where Sisko and his son take a voyage on an ancient Bajoran starship replica and the ending just made my day. This is what I’m doing (among many other things) during quarantine.  I just wanted to share.   \n",
       "3                                                                                                                                                                                                                                                                                             The rebooted Star treks have some bright spots but my favorite was Cumberbatch as Kahn. He played it perfect and actually made me a big fan of Kahn. \\n\\nConsidering how much trouble the sequel series has seen I’d say if we get a fourth it has got to be downright amazing!! So I would use a tried and true enemy like Kahn combined with one of fans favorite enemies ever, the borg. \\n\\nThe next generation and piccard first encounter the borg and time travel has been a big part of this go around so maybe even find a way to use both the original and use the film to introduce the next generation crew so the 5th movie would be a reboot of piccards crew. \\n\\nWith all the history to pull from a great film can get made.   \n",
       "4    Recently finished watching the show, I generally like to keep my hard sci fi (The Expanse, Gattaca, Permutation city) and science fantasy(Numenera, Q who) clearly defined, but the production value of star trek discovery helped me overlook its space magic aspects and appreciate it for what it is.\\n\\nRecently heard that  people were calling Michael Burnham a mary sue and I don't understand how that is. I have called out many characters as mary sues/gary stus and she does not seem to fit the criteria.\\n\\nShe is multidisciplinary in competence, but not much more so than a science officer(who typically have knowledge in multiple disciplines) who used to be a first officer and was training to be a captain. But most of her greater achievements were in her main field (figuring out the Klingon greeting, \"taming\" the tardigrade, which was sentient).\\n\\nShe is in the military, so she may have training in combat, but she loses up to 70% of the hand to hand fights she is in. Even against Sarek...   \n",
       "..                                                                                                                                                                                                                                                                                                                                                                                                                                                                                                                                                                                                                                                                                                                                                                                                                                                                                                                                                                                                                                      ...   \n",
       "521                                                                                                                                                                                                                                                                                                                                                                                                                                                              Data’s life\\n\\nI’m not sure if all would agree but the way data chose to die seemed a bit premature. I’m not sure but by the time of nemesis we don’t know how much and how long data was able to experience humanity with his emotion chip. So whatever Maddox put together to keep data alive doesn’t necessarily mean he was experiencing humanity. Am I missing something? \\nI feel like he had so much more to experience, especially in such a big galaxy and rich universe with so much to learn. Data character had so many experiences waiting for him I feel....   \n",
       "522  To be blunt I didn't like Picard very much. I went in with high hopes that were killed off after the first episode. Remembrance was like a new spin on a favorite comfort food. There was enough nostolgia to scratch that itch and enough newness that made it feel different to TNG. Episodes 1-3 were mostly pleasant and then for me it fell off a cliff, with each coming episode a rock hitting me on the way down. \\n\\nIf it wasnt for for the old cast and crew of TNG and VOY I wouldn't even have watched the rest of the season. None of the new characters had time to breath and develop. Agnes was forgettable. Rios was just another hot headed Latino stereotype ala Po in the Star Wars sequels. Raffi downright creeped me the hell out for some reason. I found her switching from drunken junkie to mother figure (while well acted and would totally work in something like Moonlight) out of place and jarring in this show. Seven I felt was reduced down into kick-ass token LGBT character who for some re...   \n",
       "523  * Raffi/Stephen Franklin: The trusted coworker that pushes themselves too hard and ends up falling into drug use. Has a troubled past with family.\\n* Rios/Susan Ivanova: Suffering military loner. Grumpy but has soft core. Has a relationship with someone who betrays the good guys.\\n* Jurati/Michael Garibaldi: Haunted by what they did while under the influence of psychics.\\n* Elnor/Marcus Cole: A fantasy character out of place in a scifi world.\\n* Dahj/Talia Winters: Exits their series in an event that demonstrates how evil the bad guys are. Both have hidden personalities awoken.\\n* Soji/Lyta Alexander: Chosen savior of their people.\\n* Picard/John Sheridan: Disliked and not trusted by the government they worked for. Eventually quits and forms their own group fight evil. Died and came back for our sins.\\n* Data/Delenn: Mcguffin. Comes from a group that all looks alike. Undergoes changes to become more human. Main protagonist is in love them.\\n\\nBoth series' plot involves the governm...   \n",
       "524                                       By the end of the season we have:  \\n\\n\\nTal-shiar infiltrator at the top of starfleet influencing policy for decades who has now returned to the Romulan empire with very current and highly-detailed intel on literally everything.  \\n\\n\\nStarfleet personnel involved in the cover-up of a several murders - Because the Tal-Shiar would have needed SOME sympathisers to get away with something so bold.  \\n\\n\\nKnowledge that the horrific slaughter on Mars was a direct Romulan terrorist attack.  \\n\\n\\nKnowledge that there's a trans-galactic synthetic alliance which hates organic life, and letting it in seems pretty easy.  \\n\\n\\nThe gigantic debt Starfleet / the Federation owe to Picard, and to a lesser extent: Acting captain Riker.  \\n\\n\\nThe absolute raging garbage fire that was the romulan neutral zone, and hosted the torture and murder of starfleet officers, plus the possibility of the Fenris Rangers rising again to deal with it if the Federation won't.   \n",
       "525                                                                                                                                                                                               Even if it’s to the detriment of continuity or plot. When Riker shows up at the end and saves the day even though I don’t understand how he got there, you best believe I love that shit. When Hugh shows up even though he dies the next episode, fuck yeah that’s my boi. I never really got into Voyager but I imagine if I did, I’d have Arsenio Halled my fist at seeing Seven in the trailer. I loved to see Picard say Engage again. I’m watching Picard because I fucking love Captain Picard and The Next Generation, and I relish any morsels of that universe. If all they did was gather the old crew together and have them go on more missions together a la the TOS Star Trek movies, I’d have a hands-free orgasm. I mean, the show is called Star Trek: Picard. How can I not expect fan service? And I fucking love it.   \n",
       "\n",
       "                                                                                                                                title  \n",
       "0    Rewatching TNG and have a question: How are the general personnel/regular people on board informed about travels and warp jumps?  \n",
       "1                                                                                                      150 years old ships in Picard?  \n",
       "2                                                                                                  New to the sub just love Star Trek  \n",
       "3                       The fourth movie should include Kahn and the Borg as two threats and maybe see the crew ally with Kahn again.  \n",
       "4                                                                                           How is Michael Burnham a Mary sue though?  \n",
       "..                                                                                                                                ...  \n",
       "521                                                                                                                   Data’s lifespan  \n",
       "522                                                                                [Spoilers] St:Pic is making me like Discovery more  \n",
       "523                                                                                          Is Star Trek: Picard actually Babylon 5?  \n",
       "524                                                                                             Picard S1 - Dealing with the fallout?  \n",
       "525                                                                                                    Damn right I love fan service.  \n",
       "\n",
       "[526 rows x 3 columns]"
      ]
     },
     "execution_count": 12,
     "metadata": {},
     "output_type": "execute_result"
    }
   ],
   "source": [
    "new_1=df_1[['subreddit','selftext','title']]\n",
    "new_1"
   ]
  },
  {
   "cell_type": "code",
   "execution_count": 13,
   "metadata": {},
   "outputs": [
    {
     "data": {
      "text/html": [
       "<div>\n",
       "<style scoped>\n",
       "    .dataframe tbody tr th:only-of-type {\n",
       "        vertical-align: middle;\n",
       "    }\n",
       "\n",
       "    .dataframe tbody tr th {\n",
       "        vertical-align: top;\n",
       "    }\n",
       "\n",
       "    .dataframe thead th {\n",
       "        text-align: right;\n",
       "    }\n",
       "</style>\n",
       "<table border=\"1\" class=\"dataframe\">\n",
       "  <thead>\n",
       "    <tr style=\"text-align: right;\">\n",
       "      <th></th>\n",
       "      <th>subreddit</th>\n",
       "      <th>selftext</th>\n",
       "      <th>title</th>\n",
       "    </tr>\n",
       "  </thead>\n",
       "  <tbody>\n",
       "    <tr>\n",
       "      <th>0</th>\n",
       "      <td>StarWars</td>\n",
       "      <td>Full disclosure - I'm not fully aware of all the OT lore in the comics/canon books. After seeing the Clone Wars finale and knowing that Ahsoka was alive past ROTJ - is it possible that she met with and helped train Luke between ESB and ROTJ?\\n\\nLuke levels up quite a bit between those movies and I don't think he is trained by Yoda during that time (unless there is some other non-film canon explanation for how he gets so much better with the force.)\\n\\nIt would be sweet to see them interact somehow, or with some of the other OT/ST characters. Can't wait to see what they do with her in live action.</td>\n",
       "      <td>Theory: Does Ahsoka help train Luke?</td>\n",
       "    </tr>\n",
       "    <tr>\n",
       "      <th>1</th>\n",
       "      <td>StarWars</td>\n",
       "      <td>With baby yoda seeming to have a significant purpose, where will his place be in the next hundreds of years? With The sky walker saga being done it sounds like the main story line will not continue into the future. \\n\\nWhat will baby yoda purpose be? Will his life get cut short?\\n\\nWill Ezra and baby yoda end up being the future of the Jedi or Sith?\\n\\nOr will Mando and baby yoda lead the rise of mandalorians and build a new found friendship\\n\\nWe can guess Ashoka is dead based on the voice in rise of sky Walker so where will the future be</td>\n",
       "      <td>What wil baby yoda end up being</td>\n",
       "    </tr>\n",
       "    <tr>\n",
       "      <th>2</th>\n",
       "      <td>StarWars</td>\n",
       "      <td>The show starts showing two figures laughing and talking around a table, we can't hear them talking, just see their movements. The image focuses and it shows that these figures are obi wan and Anakin(Hayden Christensen) and they're on naboo. They both turn their head and a young boy runs up to Anakin and the camera pans over to padme walking in with a young girl. Obi wan looks up at her and smiles but then we hear a loud wind and the room goes dark. We're suddenly on tatooine with a worn down obi wan who just had his fire blown out and was hit in the face with some sand. He wipes his face off and says \"I hate sand\" as the camera cuts away and the opening credits/theme plays.</td>\n",
       "      <td>Had a dream last night after watching ROTS as to how the new Kenobi show should open</td>\n",
       "    </tr>\n",
       "    <tr>\n",
       "      <th>3</th>\n",
       "      <td>StarWars</td>\n",
       "      <td>Post contains spoilers for Star Wars Rebels and Clone Wars!\\n\\n\\nI've been seeing a lot of hate towards rebels recently, specifically the art, however, there are others commenting on the \"trash plot\", \"dull characters\" and a range of other criticism which I personally feel the show doesn't deserve.\\n\\nRebels is still Star Wars and it's a great piece of canon that really helps show what the empires reign was like in the early years. It is packed with exciting moments that are arguably more memorable than a lot of the memorable moments in the clone wars (with exception of season 7), such as Ahsoka vs Vader or Ezra and Thrawn disappearing into the outer rim somewhere and especially the development and final moments of Maul. \\n\\nRebels art style isn't even that bad, it's just not as good as the clone wars. The only major flaws in the artwork was Yoda, Hondo, Anakin and Bo, Everything else was fine if not good. Rebels was our first \"Canon\" introduction to how brutal Vader was in the ti...</td>\n",
       "      <td>Rebels is still a good show despite its faults.</td>\n",
       "    </tr>\n",
       "    <tr>\n",
       "      <th>4</th>\n",
       "      <td>StarWars</td>\n",
       "      <td>I once had a friend claim that Maul is just as evil, if not, MORE evil than old Sheev. I pondered that notion, but had to disagree. Here's why:\\n\\nMaul knew nothing besides violence and bloodshed from the day he was born. He grew up on the ruthless planet of Dathomir, and was recruited by Sidious at a young age. The ways of the Sith melded naturally with the warrior ways of male Dathomirian tribes. He never really had a chance to be anything but a killing machine. He grew to tfavor the Dark Side because it granted him the ability to reach the top of any hierarchy he desired, crowning him as the alpha among all of his peers.\\n\\nContrarily, Sidious was raised in a Royal family on the peaceful planet of Naboo. He was naturally drawn to positions of power, and sought out knowledge of the mythical Sith. He initially wasn't influenced by any outside force. He just thirsted for power. He wanted to sculpt the galaxy how he saw fit. Darth Plagueis discovered him because of his immense Forc...</td>\n",
       "      <td>Is Darth Maul as evil as Darth Sidious?</td>\n",
       "    </tr>\n",
       "    <tr>\n",
       "      <th>...</th>\n",
       "      <td>...</td>\n",
       "      <td>...</td>\n",
       "      <td>...</td>\n",
       "    </tr>\n",
       "    <tr>\n",
       "      <th>502</th>\n",
       "      <td>StarWars</td>\n",
       "      <td>I don't know if anyone else does this, but whenever I hear a line from Vader whether it be from a game, movie, show, or whatever, I always try to hear that same line in the voice of Matt Lanter and Hayden Christensen. A lot of times, I just can't picture it working. Sometimes lines of dialogue are too complex to seem like something they would say. For example, \"We need not be adversaries. The Emperor will show you mercy, if you tell me where the remaining Jedi can be found\". Try to picture either of them saying that. It just doesn't work in my mind. But, basically I was just wondering if other people do the same thing or if I'm just weird.</td>\n",
       "      <td>Matching up Christensen and Lanter with JEJ</td>\n",
       "    </tr>\n",
       "    <tr>\n",
       "      <th>503</th>\n",
       "      <td>StarWars</td>\n",
       "      <td>After the prequels, he decided to stop Star Wars forever and admit that everything has an end. He realized the Saga could no longer be expanded without making the previous generation angry as fuck, creating an cumulative effect of negative reaction because, even if the younger generation gets seduced, previous ones (that are more than one after the prequels) will always be unsatisfied. Poetry and the path of the hero have a limit and repetition can only be tolerated when you put a different dress/context on it.\\n\\nSo, considering Star Wars market value will inevitably shrink year after year no matter what (like everything in this Universe), he tried to sell it now it had some worth. Disney's greed appeared into scene to buys it and make money: they failed.\\n\\nBesides this rational motivation, Lucas felt the need for redemption because of Prequels mistakes. He knew Disney will screw it all, giving a new perspective by comparision. Today, Prequels are an absolute piece of art compar...</td>\n",
       "      <td>George Lucas is a genius, his plan was a masterpiece.</td>\n",
       "    </tr>\n",
       "    <tr>\n",
       "      <th>504</th>\n",
       "      <td>StarWars</td>\n",
       "      <td>So it's universally accepted that the 4th of May is \"May the 4th Be With You\" Day, a play on the iconic quote \"May The Force be with you.\" And some people regard May 5th or 6th as \"Revenge of the Fifth/Sixth\", a play on Revenge of the Sith. This got me thinking of other plays on iconic quotes from star wars for the 5th or 6th. My favorites include \"I find your lack of Fifth disturbing\" and \"I have a bad feeling about Sixth\". Plays on \"I find your lack of faith disturbing\" and \" I have a bad feeling about this\". I think it'd be cool if either of these caught on, not that I expect them to.</td>\n",
       "      <td>You've Heard of May the 4th Be With You, and Revenge of the Fifth...</td>\n",
       "    </tr>\n",
       "    <tr>\n",
       "      <th>505</th>\n",
       "      <td>StarWars</td>\n",
       "      <td>There are millions of posts about how bad these movies are, it’s getting a little boring at this point so why don’t we share what we love about these movies.\\n\\nI love all the characters. They are all really memorable and likeable, even the Villians. The plot is simple but works really well as an episodic adventure not unlike the stories that inspired George.\\n\\nThe visuals are breathtaking and I could cover my wall in screenshots from these movies.\\n\\nI really like these movies, they are my favorite Star Wars next to revenge of the Sith and clone wars.\\n\\nWhat are your thoughts on them.</td>\n",
       "      <td>Sequel Trilogy Appreciation</td>\n",
       "    </tr>\n",
       "    <tr>\n",
       "      <th>506</th>\n",
       "      <td>StarWars</td>\n",
       "      <td>This is the greatest piece of Star Wars we’ve had in years. Without the shadow of a doubt.\\nSure TCW has built this all up for years(as it should’ve, and it’s great) but this sole episode gave me more cinematic and Star Wars joy than any of the sequel films combined. Dave Filoni shows he should be president of Lucasfilms. Sure the Trace arc felt like a waste of episodes(not every TCW is great but I feel the Trace arc, in context, was a waste of time) but it was kind of worth it for what we got. Also Ray Park killed it!!! I didn’t know he was gonna’ feature, but as soon as Maul started fighting I knew.</td>\n",
       "      <td>”The Phantom Apprentice”</td>\n",
       "    </tr>\n",
       "  </tbody>\n",
       "</table>\n",
       "<p>507 rows × 3 columns</p>\n",
       "</div>"
      ],
      "text/plain": [
       "    subreddit  \\\n",
       "0    StarWars   \n",
       "1    StarWars   \n",
       "2    StarWars   \n",
       "3    StarWars   \n",
       "4    StarWars   \n",
       "..        ...   \n",
       "502  StarWars   \n",
       "503  StarWars   \n",
       "504  StarWars   \n",
       "505  StarWars   \n",
       "506  StarWars   \n",
       "\n",
       "                                                                                                                                                                                                                                                                                                                                                                                                                                                                                                                                                                                                                                                                                                                                                                                                                                                                                                                                                                                                                                   selftext  \\\n",
       "0                                                                                                                                                                                                                                                                                                                                                                                                               Full disclosure - I'm not fully aware of all the OT lore in the comics/canon books. After seeing the Clone Wars finale and knowing that Ahsoka was alive past ROTJ - is it possible that she met with and helped train Luke between ESB and ROTJ?\\n\\nLuke levels up quite a bit between those movies and I don't think he is trained by Yoda during that time (unless there is some other non-film canon explanation for how he gets so much better with the force.)\\n\\nIt would be sweet to see them interact somehow, or with some of the other OT/ST characters. Can't wait to see what they do with her in live action.   \n",
       "1                                                                                                                                                                                                                                                                                                                                                                                                                                                                         With baby yoda seeming to have a significant purpose, where will his place be in the next hundreds of years? With The sky walker saga being done it sounds like the main story line will not continue into the future. \\n\\nWhat will baby yoda purpose be? Will his life get cut short?\\n\\nWill Ezra and baby yoda end up being the future of the Jedi or Sith?\\n\\nOr will Mando and baby yoda lead the rise of mandalorians and build a new found friendship\\n\\nWe can guess Ashoka is dead based on the voice in rise of sky Walker so where will the future be   \n",
       "2                                                                                                                                                                                                                                                                                                                               The show starts showing two figures laughing and talking around a table, we can't hear them talking, just see their movements. The image focuses and it shows that these figures are obi wan and Anakin(Hayden Christensen) and they're on naboo. They both turn their head and a young boy runs up to Anakin and the camera pans over to padme walking in with a young girl. Obi wan looks up at her and smiles but then we hear a loud wind and the room goes dark. We're suddenly on tatooine with a worn down obi wan who just had his fire blown out and was hit in the face with some sand. He wipes his face off and says \"I hate sand\" as the camera cuts away and the opening credits/theme plays.   \n",
       "3    Post contains spoilers for Star Wars Rebels and Clone Wars!\\n\\n\\nI've been seeing a lot of hate towards rebels recently, specifically the art, however, there are others commenting on the \"trash plot\", \"dull characters\" and a range of other criticism which I personally feel the show doesn't deserve.\\n\\nRebels is still Star Wars and it's a great piece of canon that really helps show what the empires reign was like in the early years. It is packed with exciting moments that are arguably more memorable than a lot of the memorable moments in the clone wars (with exception of season 7), such as Ahsoka vs Vader or Ezra and Thrawn disappearing into the outer rim somewhere and especially the development and final moments of Maul. \\n\\nRebels art style isn't even that bad, it's just not as good as the clone wars. The only major flaws in the artwork was Yoda, Hondo, Anakin and Bo, Everything else was fine if not good. Rebels was our first \"Canon\" introduction to how brutal Vader was in the ti...   \n",
       "4    I once had a friend claim that Maul is just as evil, if not, MORE evil than old Sheev. I pondered that notion, but had to disagree. Here's why:\\n\\nMaul knew nothing besides violence and bloodshed from the day he was born. He grew up on the ruthless planet of Dathomir, and was recruited by Sidious at a young age. The ways of the Sith melded naturally with the warrior ways of male Dathomirian tribes. He never really had a chance to be anything but a killing machine. He grew to tfavor the Dark Side because it granted him the ability to reach the top of any hierarchy he desired, crowning him as the alpha among all of his peers.\\n\\nContrarily, Sidious was raised in a Royal family on the peaceful planet of Naboo. He was naturally drawn to positions of power, and sought out knowledge of the mythical Sith. He initially wasn't influenced by any outside force. He just thirsted for power. He wanted to sculpt the galaxy how he saw fit. Darth Plagueis discovered him because of his immense Forc...   \n",
       "..                                                                                                                                                                                                                                                                                                                                                                                                                                                                                                                                                                                                                                                                                                                                                                                                                                                                                                                                                                                                                                      ...   \n",
       "502                                                                                                                                                                                                                                                                                                                                                                 I don't know if anyone else does this, but whenever I hear a line from Vader whether it be from a game, movie, show, or whatever, I always try to hear that same line in the voice of Matt Lanter and Hayden Christensen. A lot of times, I just can't picture it working. Sometimes lines of dialogue are too complex to seem like something they would say. For example, \"We need not be adversaries. The Emperor will show you mercy, if you tell me where the remaining Jedi can be found\". Try to picture either of them saying that. It just doesn't work in my mind. But, basically I was just wondering if other people do the same thing or if I'm just weird.   \n",
       "503  After the prequels, he decided to stop Star Wars forever and admit that everything has an end. He realized the Saga could no longer be expanded without making the previous generation angry as fuck, creating an cumulative effect of negative reaction because, even if the younger generation gets seduced, previous ones (that are more than one after the prequels) will always be unsatisfied. Poetry and the path of the hero have a limit and repetition can only be tolerated when you put a different dress/context on it.\\n\\nSo, considering Star Wars market value will inevitably shrink year after year no matter what (like everything in this Universe), he tried to sell it now it had some worth. Disney's greed appeared into scene to buys it and make money: they failed.\\n\\nBesides this rational motivation, Lucas felt the need for redemption because of Prequels mistakes. He knew Disney will screw it all, giving a new perspective by comparision. Today, Prequels are an absolute piece of art compar...   \n",
       "504                                                                                                                                                                                                                                                                                                                                                                                                                      So it's universally accepted that the 4th of May is \"May the 4th Be With You\" Day, a play on the iconic quote \"May The Force be with you.\" And some people regard May 5th or 6th as \"Revenge of the Fifth/Sixth\", a play on Revenge of the Sith. This got me thinking of other plays on iconic quotes from star wars for the 5th or 6th. My favorites include \"I find your lack of Fifth disturbing\" and \"I have a bad feeling about Sixth\". Plays on \"I find your lack of faith disturbing\" and \" I have a bad feeling about this\". I think it'd be cool if either of these caught on, not that I expect them to.   \n",
       "505                                                                                                                                                                                                                                                                                                                                                                                                                      There are millions of posts about how bad these movies are, it’s getting a little boring at this point so why don’t we share what we love about these movies.\\n\\nI love all the characters. They are all really memorable and likeable, even the Villians. The plot is simple but works really well as an episodic adventure not unlike the stories that inspired George.\\n\\nThe visuals are breathtaking and I could cover my wall in screenshots from these movies.\\n\\nI really like these movies, they are my favorite Star Wars next to revenge of the Sith and clone wars.\\n\\nWhat are your thoughts on them.   \n",
       "506                                                                                                                                                                                                                                                                                                                                                                                                        This is the greatest piece of Star Wars we’ve had in years. Without the shadow of a doubt.\\nSure TCW has built this all up for years(as it should’ve, and it’s great) but this sole episode gave me more cinematic and Star Wars joy than any of the sequel films combined. Dave Filoni shows he should be president of Lucasfilms. Sure the Trace arc felt like a waste of episodes(not every TCW is great but I feel the Trace arc, in context, was a waste of time) but it was kind of worth it for what we got. Also Ray Park killed it!!! I didn’t know he was gonna’ feature, but as soon as Maul started fighting I knew.   \n",
       "\n",
       "                                                                                    title  \n",
       "0                                                    Theory: Does Ahsoka help train Luke?  \n",
       "1                                                         What wil baby yoda end up being  \n",
       "2    Had a dream last night after watching ROTS as to how the new Kenobi show should open  \n",
       "3                                         Rebels is still a good show despite its faults.  \n",
       "4                                                 Is Darth Maul as evil as Darth Sidious?  \n",
       "..                                                                                    ...  \n",
       "502                                           Matching up Christensen and Lanter with JEJ  \n",
       "503                                 George Lucas is a genius, his plan was a masterpiece.  \n",
       "504                  You've Heard of May the 4th Be With You, and Revenge of the Fifth...  \n",
       "505                                                           Sequel Trilogy Appreciation  \n",
       "506                                                              ”The Phantom Apprentice”  \n",
       "\n",
       "[507 rows x 3 columns]"
      ]
     },
     "execution_count": 13,
     "metadata": {},
     "output_type": "execute_result"
    }
   ],
   "source": [
    "new"
   ]
  },
  {
   "cell_type": "code",
   "execution_count": 14,
   "metadata": {},
   "outputs": [
    {
     "data": {
      "text/html": [
       "<div>\n",
       "<style scoped>\n",
       "    .dataframe tbody tr th:only-of-type {\n",
       "        vertical-align: middle;\n",
       "    }\n",
       "\n",
       "    .dataframe tbody tr th {\n",
       "        vertical-align: top;\n",
       "    }\n",
       "\n",
       "    .dataframe thead th {\n",
       "        text-align: right;\n",
       "    }\n",
       "</style>\n",
       "<table border=\"1\" class=\"dataframe\">\n",
       "  <thead>\n",
       "    <tr style=\"text-align: right;\">\n",
       "      <th></th>\n",
       "      <th>subreddit</th>\n",
       "      <th>selftext</th>\n",
       "      <th>title</th>\n",
       "    </tr>\n",
       "  </thead>\n",
       "  <tbody>\n",
       "    <tr>\n",
       "      <th>0</th>\n",
       "      <td>startrek</td>\n",
       "      <td>What I mean by that:\\n\\nOften times the main characters encounter some kind of danger or pursue some kind of hint which sends them traveling through the galaxy, spanning great distances, jumping in and out of warp, etc.\\n\\nThe main characters of course know what's up: Captain Picard gives the order to \"set course for X, maximum warp!\" and off they go.\\n\\nOr they get attacked and suddenly have to travel halfway across the galaxy. Or they orbit around a seemingly random planet because an away team hasn't returned.\\n\\nThe main characters as well as we, the viewers, obviously know what's up, why they're jumping from planet A to planet B in short succession or what just hit the enterprise to cause damage on decks 17 through 19.\\n\\nBut what about the \"normal\" personell? The regular people hanging out at the bar? On the holodeck? The families in their quarters?\\n\\nHow do they experience these seemingly random warp jumps? One moment they're looking out the window, maybe talking to a relat...</td>\n",
       "      <td>Rewatching TNG and have a question: How are the general personnel/regular people on board informed about travels and warp jumps?</td>\n",
       "    </tr>\n",
       "    <tr>\n",
       "      <th>1</th>\n",
       "      <td>startrek</td>\n",
       "      <td>First of all, sorry for my English or my mistakes.\\n\\nI love ST Picard, but there's a big problem with starfleet ship designs. There are only a few original models: the Inqury-Class, the Utopia Planitia space tug, Mars defense ships and the McCall Shuttlecraft. But the Magee-Class (seen in Short Treks: Children of Mars) and the Class C Shuttlecraft are from the pre-TOS era! Why are 150 year-old ships still operational?\\n\\nLet's try to answer. Obviously, the budget of the show was quite limited, but here's my ST canon theory:\\n\\nIn the 2230s the Class C Shuttlecraft was introduced. It was used in some starships and as a carrier on Earth until 2260s, and then it was replaced with other models, but it was still being used because of it's success (and maybe during its life it was updated a few times). I think some variants of this shuttle were the Galileo-class shuttlecraft (TOS era films), the Type 6 Shuttlecraft (a shorter version onboard the Enterprise D) and Type 7 Shuttlecraft (E...</td>\n",
       "      <td>150 years old ships in Picard?</td>\n",
       "    </tr>\n",
       "    <tr>\n",
       "      <th>2</th>\n",
       "      <td>startrek</td>\n",
       "      <td>Just wanted to say that having been a child of trekkies I never appreciated it until my husband got me into it when we first started dating. I first watched Next Gen, followed by voyager, and it took me a long time to get into DS9, but now that I am I am more in love with Star Trek than I ever thought I could be.  I just watched S3:E22 where Sisko and his son take a voyage on an ancient Bajoran starship replica and the ending just made my day. This is what I’m doing (among many other things) during quarantine.  I just wanted to share.</td>\n",
       "      <td>New to the sub just love Star Trek</td>\n",
       "    </tr>\n",
       "    <tr>\n",
       "      <th>3</th>\n",
       "      <td>startrek</td>\n",
       "      <td>The rebooted Star treks have some bright spots but my favorite was Cumberbatch as Kahn. He played it perfect and actually made me a big fan of Kahn. \\n\\nConsidering how much trouble the sequel series has seen I’d say if we get a fourth it has got to be downright amazing!! So I would use a tried and true enemy like Kahn combined with one of fans favorite enemies ever, the borg. \\n\\nThe next generation and piccard first encounter the borg and time travel has been a big part of this go around so maybe even find a way to use both the original and use the film to introduce the next generation crew so the 5th movie would be a reboot of piccards crew. \\n\\nWith all the history to pull from a great film can get made.</td>\n",
       "      <td>The fourth movie should include Kahn and the Borg as two threats and maybe see the crew ally with Kahn again.</td>\n",
       "    </tr>\n",
       "    <tr>\n",
       "      <th>4</th>\n",
       "      <td>startrek</td>\n",
       "      <td>Recently finished watching the show, I generally like to keep my hard sci fi (The Expanse, Gattaca, Permutation city) and science fantasy(Numenera, Q who) clearly defined, but the production value of star trek discovery helped me overlook its space magic aspects and appreciate it for what it is.\\n\\nRecently heard that  people were calling Michael Burnham a mary sue and I don't understand how that is. I have called out many characters as mary sues/gary stus and she does not seem to fit the criteria.\\n\\nShe is multidisciplinary in competence, but not much more so than a science officer(who typically have knowledge in multiple disciplines) who used to be a first officer and was training to be a captain. But most of her greater achievements were in her main field (figuring out the Klingon greeting, \"taming\" the tardigrade, which was sentient).\\n\\nShe is in the military, so she may have training in combat, but she loses up to 70% of the hand to hand fights she is in. Even against Sarek...</td>\n",
       "      <td>How is Michael Burnham a Mary sue though?</td>\n",
       "    </tr>\n",
       "  </tbody>\n",
       "</table>\n",
       "</div>"
      ],
      "text/plain": [
       "  subreddit  \\\n",
       "0  startrek   \n",
       "1  startrek   \n",
       "2  startrek   \n",
       "3  startrek   \n",
       "4  startrek   \n",
       "\n",
       "                                                                                                                                                                                                                                                                                                                                                                                                                                                                                                                                                                                                                                                                                                                                                                                                                                                                                                                                                                                                                                 selftext  \\\n",
       "0  What I mean by that:\\n\\nOften times the main characters encounter some kind of danger or pursue some kind of hint which sends them traveling through the galaxy, spanning great distances, jumping in and out of warp, etc.\\n\\nThe main characters of course know what's up: Captain Picard gives the order to \"set course for X, maximum warp!\" and off they go.\\n\\nOr they get attacked and suddenly have to travel halfway across the galaxy. Or they orbit around a seemingly random planet because an away team hasn't returned.\\n\\nThe main characters as well as we, the viewers, obviously know what's up, why they're jumping from planet A to planet B in short succession or what just hit the enterprise to cause damage on decks 17 through 19.\\n\\nBut what about the \"normal\" personell? The regular people hanging out at the bar? On the holodeck? The families in their quarters?\\n\\nHow do they experience these seemingly random warp jumps? One moment they're looking out the window, maybe talking to a relat...   \n",
       "1  First of all, sorry for my English or my mistakes.\\n\\nI love ST Picard, but there's a big problem with starfleet ship designs. There are only a few original models: the Inqury-Class, the Utopia Planitia space tug, Mars defense ships and the McCall Shuttlecraft. But the Magee-Class (seen in Short Treks: Children of Mars) and the Class C Shuttlecraft are from the pre-TOS era! Why are 150 year-old ships still operational?\\n\\nLet's try to answer. Obviously, the budget of the show was quite limited, but here's my ST canon theory:\\n\\nIn the 2230s the Class C Shuttlecraft was introduced. It was used in some starships and as a carrier on Earth until 2260s, and then it was replaced with other models, but it was still being used because of it's success (and maybe during its life it was updated a few times). I think some variants of this shuttle were the Galileo-class shuttlecraft (TOS era films), the Type 6 Shuttlecraft (a shorter version onboard the Enterprise D) and Type 7 Shuttlecraft (E...   \n",
       "2                                                                                                                                                                                                                                                                                                                                                                                                                                                                            Just wanted to say that having been a child of trekkies I never appreciated it until my husband got me into it when we first started dating. I first watched Next Gen, followed by voyager, and it took me a long time to get into DS9, but now that I am I am more in love with Star Trek than I ever thought I could be.  I just watched S3:E22 where Sisko and his son take a voyage on an ancient Bajoran starship replica and the ending just made my day. This is what I’m doing (among many other things) during quarantine.  I just wanted to share.   \n",
       "3                                                                                                                                                                                                                                                                                           The rebooted Star treks have some bright spots but my favorite was Cumberbatch as Kahn. He played it perfect and actually made me a big fan of Kahn. \\n\\nConsidering how much trouble the sequel series has seen I’d say if we get a fourth it has got to be downright amazing!! So I would use a tried and true enemy like Kahn combined with one of fans favorite enemies ever, the borg. \\n\\nThe next generation and piccard first encounter the borg and time travel has been a big part of this go around so maybe even find a way to use both the original and use the film to introduce the next generation crew so the 5th movie would be a reboot of piccards crew. \\n\\nWith all the history to pull from a great film can get made.   \n",
       "4  Recently finished watching the show, I generally like to keep my hard sci fi (The Expanse, Gattaca, Permutation city) and science fantasy(Numenera, Q who) clearly defined, but the production value of star trek discovery helped me overlook its space magic aspects and appreciate it for what it is.\\n\\nRecently heard that  people were calling Michael Burnham a mary sue and I don't understand how that is. I have called out many characters as mary sues/gary stus and she does not seem to fit the criteria.\\n\\nShe is multidisciplinary in competence, but not much more so than a science officer(who typically have knowledge in multiple disciplines) who used to be a first officer and was training to be a captain. But most of her greater achievements were in her main field (figuring out the Klingon greeting, \"taming\" the tardigrade, which was sentient).\\n\\nShe is in the military, so she may have training in combat, but she loses up to 70% of the hand to hand fights she is in. Even against Sarek...   \n",
       "\n",
       "                                                                                                                              title  \n",
       "0  Rewatching TNG and have a question: How are the general personnel/regular people on board informed about travels and warp jumps?  \n",
       "1                                                                                                    150 years old ships in Picard?  \n",
       "2                                                                                                New to the sub just love Star Trek  \n",
       "3                     The fourth movie should include Kahn and the Borg as two threats and maybe see the crew ally with Kahn again.  \n",
       "4                                                                                         How is Michael Burnham a Mary sue though?  "
      ]
     },
     "execution_count": 14,
     "metadata": {},
     "output_type": "execute_result"
    }
   ],
   "source": [
    "new_1.head()"
   ]
  },
  {
   "cell_type": "code",
   "execution_count": 15,
   "metadata": {},
   "outputs": [
    {
     "data": {
      "text/html": [
       "<div>\n",
       "<style scoped>\n",
       "    .dataframe tbody tr th:only-of-type {\n",
       "        vertical-align: middle;\n",
       "    }\n",
       "\n",
       "    .dataframe tbody tr th {\n",
       "        vertical-align: top;\n",
       "    }\n",
       "\n",
       "    .dataframe thead th {\n",
       "        text-align: right;\n",
       "    }\n",
       "</style>\n",
       "<table border=\"1\" class=\"dataframe\">\n",
       "  <thead>\n",
       "    <tr style=\"text-align: right;\">\n",
       "      <th></th>\n",
       "      <th>subreddit</th>\n",
       "      <th>selftext</th>\n",
       "      <th>title</th>\n",
       "    </tr>\n",
       "  </thead>\n",
       "  <tbody>\n",
       "    <tr>\n",
       "      <th>0</th>\n",
       "      <td>StarWars</td>\n",
       "      <td>Full disclosure - I'm not fully aware of all the OT lore in the comics/canon books. After seeing the Clone Wars finale and knowing that Ahsoka was alive past ROTJ - is it possible that she met with and helped train Luke between ESB and ROTJ?\\n\\nLuke levels up quite a bit between those movies and I don't think he is trained by Yoda during that time (unless there is some other non-film canon explanation for how he gets so much better with the force.)\\n\\nIt would be sweet to see them interact somehow, or with some of the other OT/ST characters. Can't wait to see what they do with her in live action.</td>\n",
       "      <td>Theory: Does Ahsoka help train Luke?</td>\n",
       "    </tr>\n",
       "    <tr>\n",
       "      <th>1</th>\n",
       "      <td>StarWars</td>\n",
       "      <td>With baby yoda seeming to have a significant purpose, where will his place be in the next hundreds of years? With The sky walker saga being done it sounds like the main story line will not continue into the future. \\n\\nWhat will baby yoda purpose be? Will his life get cut short?\\n\\nWill Ezra and baby yoda end up being the future of the Jedi or Sith?\\n\\nOr will Mando and baby yoda lead the rise of mandalorians and build a new found friendship\\n\\nWe can guess Ashoka is dead based on the voice in rise of sky Walker so where will the future be</td>\n",
       "      <td>What wil baby yoda end up being</td>\n",
       "    </tr>\n",
       "    <tr>\n",
       "      <th>2</th>\n",
       "      <td>StarWars</td>\n",
       "      <td>The show starts showing two figures laughing and talking around a table, we can't hear them talking, just see their movements. The image focuses and it shows that these figures are obi wan and Anakin(Hayden Christensen) and they're on naboo. They both turn their head and a young boy runs up to Anakin and the camera pans over to padme walking in with a young girl. Obi wan looks up at her and smiles but then we hear a loud wind and the room goes dark. We're suddenly on tatooine with a worn down obi wan who just had his fire blown out and was hit in the face with some sand. He wipes his face off and says \"I hate sand\" as the camera cuts away and the opening credits/theme plays.</td>\n",
       "      <td>Had a dream last night after watching ROTS as to how the new Kenobi show should open</td>\n",
       "    </tr>\n",
       "    <tr>\n",
       "      <th>3</th>\n",
       "      <td>StarWars</td>\n",
       "      <td>Post contains spoilers for Star Wars Rebels and Clone Wars!\\n\\n\\nI've been seeing a lot of hate towards rebels recently, specifically the art, however, there are others commenting on the \"trash plot\", \"dull characters\" and a range of other criticism which I personally feel the show doesn't deserve.\\n\\nRebels is still Star Wars and it's a great piece of canon that really helps show what the empires reign was like in the early years. It is packed with exciting moments that are arguably more memorable than a lot of the memorable moments in the clone wars (with exception of season 7), such as Ahsoka vs Vader or Ezra and Thrawn disappearing into the outer rim somewhere and especially the development and final moments of Maul. \\n\\nRebels art style isn't even that bad, it's just not as good as the clone wars. The only major flaws in the artwork was Yoda, Hondo, Anakin and Bo, Everything else was fine if not good. Rebels was our first \"Canon\" introduction to how brutal Vader was in the ti...</td>\n",
       "      <td>Rebels is still a good show despite its faults.</td>\n",
       "    </tr>\n",
       "    <tr>\n",
       "      <th>4</th>\n",
       "      <td>StarWars</td>\n",
       "      <td>I once had a friend claim that Maul is just as evil, if not, MORE evil than old Sheev. I pondered that notion, but had to disagree. Here's why:\\n\\nMaul knew nothing besides violence and bloodshed from the day he was born. He grew up on the ruthless planet of Dathomir, and was recruited by Sidious at a young age. The ways of the Sith melded naturally with the warrior ways of male Dathomirian tribes. He never really had a chance to be anything but a killing machine. He grew to tfavor the Dark Side because it granted him the ability to reach the top of any hierarchy he desired, crowning him as the alpha among all of his peers.\\n\\nContrarily, Sidious was raised in a Royal family on the peaceful planet of Naboo. He was naturally drawn to positions of power, and sought out knowledge of the mythical Sith. He initially wasn't influenced by any outside force. He just thirsted for power. He wanted to sculpt the galaxy how he saw fit. Darth Plagueis discovered him because of his immense Forc...</td>\n",
       "      <td>Is Darth Maul as evil as Darth Sidious?</td>\n",
       "    </tr>\n",
       "    <tr>\n",
       "      <th>...</th>\n",
       "      <td>...</td>\n",
       "      <td>...</td>\n",
       "      <td>...</td>\n",
       "    </tr>\n",
       "    <tr>\n",
       "      <th>502</th>\n",
       "      <td>StarWars</td>\n",
       "      <td>I don't know if anyone else does this, but whenever I hear a line from Vader whether it be from a game, movie, show, or whatever, I always try to hear that same line in the voice of Matt Lanter and Hayden Christensen. A lot of times, I just can't picture it working. Sometimes lines of dialogue are too complex to seem like something they would say. For example, \"We need not be adversaries. The Emperor will show you mercy, if you tell me where the remaining Jedi can be found\". Try to picture either of them saying that. It just doesn't work in my mind. But, basically I was just wondering if other people do the same thing or if I'm just weird.</td>\n",
       "      <td>Matching up Christensen and Lanter with JEJ</td>\n",
       "    </tr>\n",
       "    <tr>\n",
       "      <th>503</th>\n",
       "      <td>StarWars</td>\n",
       "      <td>After the prequels, he decided to stop Star Wars forever and admit that everything has an end. He realized the Saga could no longer be expanded without making the previous generation angry as fuck, creating an cumulative effect of negative reaction because, even if the younger generation gets seduced, previous ones (that are more than one after the prequels) will always be unsatisfied. Poetry and the path of the hero have a limit and repetition can only be tolerated when you put a different dress/context on it.\\n\\nSo, considering Star Wars market value will inevitably shrink year after year no matter what (like everything in this Universe), he tried to sell it now it had some worth. Disney's greed appeared into scene to buys it and make money: they failed.\\n\\nBesides this rational motivation, Lucas felt the need for redemption because of Prequels mistakes. He knew Disney will screw it all, giving a new perspective by comparision. Today, Prequels are an absolute piece of art compar...</td>\n",
       "      <td>George Lucas is a genius, his plan was a masterpiece.</td>\n",
       "    </tr>\n",
       "    <tr>\n",
       "      <th>504</th>\n",
       "      <td>StarWars</td>\n",
       "      <td>So it's universally accepted that the 4th of May is \"May the 4th Be With You\" Day, a play on the iconic quote \"May The Force be with you.\" And some people regard May 5th or 6th as \"Revenge of the Fifth/Sixth\", a play on Revenge of the Sith. This got me thinking of other plays on iconic quotes from star wars for the 5th or 6th. My favorites include \"I find your lack of Fifth disturbing\" and \"I have a bad feeling about Sixth\". Plays on \"I find your lack of faith disturbing\" and \" I have a bad feeling about this\". I think it'd be cool if either of these caught on, not that I expect them to.</td>\n",
       "      <td>You've Heard of May the 4th Be With You, and Revenge of the Fifth...</td>\n",
       "    </tr>\n",
       "    <tr>\n",
       "      <th>505</th>\n",
       "      <td>StarWars</td>\n",
       "      <td>There are millions of posts about how bad these movies are, it’s getting a little boring at this point so why don’t we share what we love about these movies.\\n\\nI love all the characters. They are all really memorable and likeable, even the Villians. The plot is simple but works really well as an episodic adventure not unlike the stories that inspired George.\\n\\nThe visuals are breathtaking and I could cover my wall in screenshots from these movies.\\n\\nI really like these movies, they are my favorite Star Wars next to revenge of the Sith and clone wars.\\n\\nWhat are your thoughts on them.</td>\n",
       "      <td>Sequel Trilogy Appreciation</td>\n",
       "    </tr>\n",
       "    <tr>\n",
       "      <th>506</th>\n",
       "      <td>StarWars</td>\n",
       "      <td>This is the greatest piece of Star Wars we’ve had in years. Without the shadow of a doubt.\\nSure TCW has built this all up for years(as it should’ve, and it’s great) but this sole episode gave me more cinematic and Star Wars joy than any of the sequel films combined. Dave Filoni shows he should be president of Lucasfilms. Sure the Trace arc felt like a waste of episodes(not every TCW is great but I feel the Trace arc, in context, was a waste of time) but it was kind of worth it for what we got. Also Ray Park killed it!!! I didn’t know he was gonna’ feature, but as soon as Maul started fighting I knew.</td>\n",
       "      <td>”The Phantom Apprentice”</td>\n",
       "    </tr>\n",
       "  </tbody>\n",
       "</table>\n",
       "<p>507 rows × 3 columns</p>\n",
       "</div>"
      ],
      "text/plain": [
       "    subreddit  \\\n",
       "0    StarWars   \n",
       "1    StarWars   \n",
       "2    StarWars   \n",
       "3    StarWars   \n",
       "4    StarWars   \n",
       "..        ...   \n",
       "502  StarWars   \n",
       "503  StarWars   \n",
       "504  StarWars   \n",
       "505  StarWars   \n",
       "506  StarWars   \n",
       "\n",
       "                                                                                                                                                                                                                                                                                                                                                                                                                                                                                                                                                                                                                                                                                                                                                                                                                                                                                                                                                                                                                                   selftext  \\\n",
       "0                                                                                                                                                                                                                                                                                                                                                                                                               Full disclosure - I'm not fully aware of all the OT lore in the comics/canon books. After seeing the Clone Wars finale and knowing that Ahsoka was alive past ROTJ - is it possible that she met with and helped train Luke between ESB and ROTJ?\\n\\nLuke levels up quite a bit between those movies and I don't think he is trained by Yoda during that time (unless there is some other non-film canon explanation for how he gets so much better with the force.)\\n\\nIt would be sweet to see them interact somehow, or with some of the other OT/ST characters. Can't wait to see what they do with her in live action.   \n",
       "1                                                                                                                                                                                                                                                                                                                                                                                                                                                                         With baby yoda seeming to have a significant purpose, where will his place be in the next hundreds of years? With The sky walker saga being done it sounds like the main story line will not continue into the future. \\n\\nWhat will baby yoda purpose be? Will his life get cut short?\\n\\nWill Ezra and baby yoda end up being the future of the Jedi or Sith?\\n\\nOr will Mando and baby yoda lead the rise of mandalorians and build a new found friendship\\n\\nWe can guess Ashoka is dead based on the voice in rise of sky Walker so where will the future be   \n",
       "2                                                                                                                                                                                                                                                                                                                               The show starts showing two figures laughing and talking around a table, we can't hear them talking, just see their movements. The image focuses and it shows that these figures are obi wan and Anakin(Hayden Christensen) and they're on naboo. They both turn their head and a young boy runs up to Anakin and the camera pans over to padme walking in with a young girl. Obi wan looks up at her and smiles but then we hear a loud wind and the room goes dark. We're suddenly on tatooine with a worn down obi wan who just had his fire blown out and was hit in the face with some sand. He wipes his face off and says \"I hate sand\" as the camera cuts away and the opening credits/theme plays.   \n",
       "3    Post contains spoilers for Star Wars Rebels and Clone Wars!\\n\\n\\nI've been seeing a lot of hate towards rebels recently, specifically the art, however, there are others commenting on the \"trash plot\", \"dull characters\" and a range of other criticism which I personally feel the show doesn't deserve.\\n\\nRebels is still Star Wars and it's a great piece of canon that really helps show what the empires reign was like in the early years. It is packed with exciting moments that are arguably more memorable than a lot of the memorable moments in the clone wars (with exception of season 7), such as Ahsoka vs Vader or Ezra and Thrawn disappearing into the outer rim somewhere and especially the development and final moments of Maul. \\n\\nRebels art style isn't even that bad, it's just not as good as the clone wars. The only major flaws in the artwork was Yoda, Hondo, Anakin and Bo, Everything else was fine if not good. Rebels was our first \"Canon\" introduction to how brutal Vader was in the ti...   \n",
       "4    I once had a friend claim that Maul is just as evil, if not, MORE evil than old Sheev. I pondered that notion, but had to disagree. Here's why:\\n\\nMaul knew nothing besides violence and bloodshed from the day he was born. He grew up on the ruthless planet of Dathomir, and was recruited by Sidious at a young age. The ways of the Sith melded naturally with the warrior ways of male Dathomirian tribes. He never really had a chance to be anything but a killing machine. He grew to tfavor the Dark Side because it granted him the ability to reach the top of any hierarchy he desired, crowning him as the alpha among all of his peers.\\n\\nContrarily, Sidious was raised in a Royal family on the peaceful planet of Naboo. He was naturally drawn to positions of power, and sought out knowledge of the mythical Sith. He initially wasn't influenced by any outside force. He just thirsted for power. He wanted to sculpt the galaxy how he saw fit. Darth Plagueis discovered him because of his immense Forc...   \n",
       "..                                                                                                                                                                                                                                                                                                                                                                                                                                                                                                                                                                                                                                                                                                                                                                                                                                                                                                                                                                                                                                      ...   \n",
       "502                                                                                                                                                                                                                                                                                                                                                                 I don't know if anyone else does this, but whenever I hear a line from Vader whether it be from a game, movie, show, or whatever, I always try to hear that same line in the voice of Matt Lanter and Hayden Christensen. A lot of times, I just can't picture it working. Sometimes lines of dialogue are too complex to seem like something they would say. For example, \"We need not be adversaries. The Emperor will show you mercy, if you tell me where the remaining Jedi can be found\". Try to picture either of them saying that. It just doesn't work in my mind. But, basically I was just wondering if other people do the same thing or if I'm just weird.   \n",
       "503  After the prequels, he decided to stop Star Wars forever and admit that everything has an end. He realized the Saga could no longer be expanded without making the previous generation angry as fuck, creating an cumulative effect of negative reaction because, even if the younger generation gets seduced, previous ones (that are more than one after the prequels) will always be unsatisfied. Poetry and the path of the hero have a limit and repetition can only be tolerated when you put a different dress/context on it.\\n\\nSo, considering Star Wars market value will inevitably shrink year after year no matter what (like everything in this Universe), he tried to sell it now it had some worth. Disney's greed appeared into scene to buys it and make money: they failed.\\n\\nBesides this rational motivation, Lucas felt the need for redemption because of Prequels mistakes. He knew Disney will screw it all, giving a new perspective by comparision. Today, Prequels are an absolute piece of art compar...   \n",
       "504                                                                                                                                                                                                                                                                                                                                                                                                                      So it's universally accepted that the 4th of May is \"May the 4th Be With You\" Day, a play on the iconic quote \"May The Force be with you.\" And some people regard May 5th or 6th as \"Revenge of the Fifth/Sixth\", a play on Revenge of the Sith. This got me thinking of other plays on iconic quotes from star wars for the 5th or 6th. My favorites include \"I find your lack of Fifth disturbing\" and \"I have a bad feeling about Sixth\". Plays on \"I find your lack of faith disturbing\" and \" I have a bad feeling about this\". I think it'd be cool if either of these caught on, not that I expect them to.   \n",
       "505                                                                                                                                                                                                                                                                                                                                                                                                                      There are millions of posts about how bad these movies are, it’s getting a little boring at this point so why don’t we share what we love about these movies.\\n\\nI love all the characters. They are all really memorable and likeable, even the Villians. The plot is simple but works really well as an episodic adventure not unlike the stories that inspired George.\\n\\nThe visuals are breathtaking and I could cover my wall in screenshots from these movies.\\n\\nI really like these movies, they are my favorite Star Wars next to revenge of the Sith and clone wars.\\n\\nWhat are your thoughts on them.   \n",
       "506                                                                                                                                                                                                                                                                                                                                                                                                        This is the greatest piece of Star Wars we’ve had in years. Without the shadow of a doubt.\\nSure TCW has built this all up for years(as it should’ve, and it’s great) but this sole episode gave me more cinematic and Star Wars joy than any of the sequel films combined. Dave Filoni shows he should be president of Lucasfilms. Sure the Trace arc felt like a waste of episodes(not every TCW is great but I feel the Trace arc, in context, was a waste of time) but it was kind of worth it for what we got. Also Ray Park killed it!!! I didn’t know he was gonna’ feature, but as soon as Maul started fighting I knew.   \n",
       "\n",
       "                                                                                    title  \n",
       "0                                                    Theory: Does Ahsoka help train Luke?  \n",
       "1                                                         What wil baby yoda end up being  \n",
       "2    Had a dream last night after watching ROTS as to how the new Kenobi show should open  \n",
       "3                                         Rebels is still a good show despite its faults.  \n",
       "4                                                 Is Darth Maul as evil as Darth Sidious?  \n",
       "..                                                                                    ...  \n",
       "502                                           Matching up Christensen and Lanter with JEJ  \n",
       "503                                 George Lucas is a genius, his plan was a masterpiece.  \n",
       "504                  You've Heard of May the 4th Be With You, and Revenge of the Fifth...  \n",
       "505                                                           Sequel Trilogy Appreciation  \n",
       "506                                                              ”The Phantom Apprentice”  \n",
       "\n",
       "[507 rows x 3 columns]"
      ]
     },
     "execution_count": 15,
     "metadata": {},
     "output_type": "execute_result"
    }
   ],
   "source": [
    "df_new = pd.DataFrame(new)\n",
    "df_new"
   ]
  },
  {
   "cell_type": "code",
   "execution_count": 16,
   "metadata": {},
   "outputs": [
    {
     "data": {
      "text/html": [
       "<div>\n",
       "<style scoped>\n",
       "    .dataframe tbody tr th:only-of-type {\n",
       "        vertical-align: middle;\n",
       "    }\n",
       "\n",
       "    .dataframe tbody tr th {\n",
       "        vertical-align: top;\n",
       "    }\n",
       "\n",
       "    .dataframe thead th {\n",
       "        text-align: right;\n",
       "    }\n",
       "</style>\n",
       "<table border=\"1\" class=\"dataframe\">\n",
       "  <thead>\n",
       "    <tr style=\"text-align: right;\">\n",
       "      <th></th>\n",
       "      <th>subreddit</th>\n",
       "      <th>selftext</th>\n",
       "      <th>title</th>\n",
       "    </tr>\n",
       "  </thead>\n",
       "  <tbody>\n",
       "    <tr>\n",
       "      <th>0</th>\n",
       "      <td>startrek</td>\n",
       "      <td>What I mean by that:\\n\\nOften times the main characters encounter some kind of danger or pursue some kind of hint which sends them traveling through the galaxy, spanning great distances, jumping in and out of warp, etc.\\n\\nThe main characters of course know what's up: Captain Picard gives the order to \"set course for X, maximum warp!\" and off they go.\\n\\nOr they get attacked and suddenly have to travel halfway across the galaxy. Or they orbit around a seemingly random planet because an away team hasn't returned.\\n\\nThe main characters as well as we, the viewers, obviously know what's up, why they're jumping from planet A to planet B in short succession or what just hit the enterprise to cause damage on decks 17 through 19.\\n\\nBut what about the \"normal\" personell? The regular people hanging out at the bar? On the holodeck? The families in their quarters?\\n\\nHow do they experience these seemingly random warp jumps? One moment they're looking out the window, maybe talking to a relat...</td>\n",
       "      <td>Rewatching TNG and have a question: How are the general personnel/regular people on board informed about travels and warp jumps?</td>\n",
       "    </tr>\n",
       "    <tr>\n",
       "      <th>1</th>\n",
       "      <td>startrek</td>\n",
       "      <td>First of all, sorry for my English or my mistakes.\\n\\nI love ST Picard, but there's a big problem with starfleet ship designs. There are only a few original models: the Inqury-Class, the Utopia Planitia space tug, Mars defense ships and the McCall Shuttlecraft. But the Magee-Class (seen in Short Treks: Children of Mars) and the Class C Shuttlecraft are from the pre-TOS era! Why are 150 year-old ships still operational?\\n\\nLet's try to answer. Obviously, the budget of the show was quite limited, but here's my ST canon theory:\\n\\nIn the 2230s the Class C Shuttlecraft was introduced. It was used in some starships and as a carrier on Earth until 2260s, and then it was replaced with other models, but it was still being used because of it's success (and maybe during its life it was updated a few times). I think some variants of this shuttle were the Galileo-class shuttlecraft (TOS era films), the Type 6 Shuttlecraft (a shorter version onboard the Enterprise D) and Type 7 Shuttlecraft (E...</td>\n",
       "      <td>150 years old ships in Picard?</td>\n",
       "    </tr>\n",
       "    <tr>\n",
       "      <th>2</th>\n",
       "      <td>startrek</td>\n",
       "      <td>Just wanted to say that having been a child of trekkies I never appreciated it until my husband got me into it when we first started dating. I first watched Next Gen, followed by voyager, and it took me a long time to get into DS9, but now that I am I am more in love with Star Trek than I ever thought I could be.  I just watched S3:E22 where Sisko and his son take a voyage on an ancient Bajoran starship replica and the ending just made my day. This is what I’m doing (among many other things) during quarantine.  I just wanted to share.</td>\n",
       "      <td>New to the sub just love Star Trek</td>\n",
       "    </tr>\n",
       "    <tr>\n",
       "      <th>3</th>\n",
       "      <td>startrek</td>\n",
       "      <td>The rebooted Star treks have some bright spots but my favorite was Cumberbatch as Kahn. He played it perfect and actually made me a big fan of Kahn. \\n\\nConsidering how much trouble the sequel series has seen I’d say if we get a fourth it has got to be downright amazing!! So I would use a tried and true enemy like Kahn combined with one of fans favorite enemies ever, the borg. \\n\\nThe next generation and piccard first encounter the borg and time travel has been a big part of this go around so maybe even find a way to use both the original and use the film to introduce the next generation crew so the 5th movie would be a reboot of piccards crew. \\n\\nWith all the history to pull from a great film can get made.</td>\n",
       "      <td>The fourth movie should include Kahn and the Borg as two threats and maybe see the crew ally with Kahn again.</td>\n",
       "    </tr>\n",
       "    <tr>\n",
       "      <th>4</th>\n",
       "      <td>startrek</td>\n",
       "      <td>Recently finished watching the show, I generally like to keep my hard sci fi (The Expanse, Gattaca, Permutation city) and science fantasy(Numenera, Q who) clearly defined, but the production value of star trek discovery helped me overlook its space magic aspects and appreciate it for what it is.\\n\\nRecently heard that  people were calling Michael Burnham a mary sue and I don't understand how that is. I have called out many characters as mary sues/gary stus and she does not seem to fit the criteria.\\n\\nShe is multidisciplinary in competence, but not much more so than a science officer(who typically have knowledge in multiple disciplines) who used to be a first officer and was training to be a captain. But most of her greater achievements were in her main field (figuring out the Klingon greeting, \"taming\" the tardigrade, which was sentient).\\n\\nShe is in the military, so she may have training in combat, but she loses up to 70% of the hand to hand fights she is in. Even against Sarek...</td>\n",
       "      <td>How is Michael Burnham a Mary sue though?</td>\n",
       "    </tr>\n",
       "    <tr>\n",
       "      <th>...</th>\n",
       "      <td>...</td>\n",
       "      <td>...</td>\n",
       "      <td>...</td>\n",
       "    </tr>\n",
       "    <tr>\n",
       "      <th>521</th>\n",
       "      <td>startrek</td>\n",
       "      <td>Data’s life\\n\\nI’m not sure if all would agree but the way data chose to die seemed a bit premature. I’m not sure but by the time of nemesis we don’t know how much and how long data was able to experience humanity with his emotion chip. So whatever Maddox put together to keep data alive doesn’t necessarily mean he was experiencing humanity. Am I missing something? \\nI feel like he had so much more to experience, especially in such a big galaxy and rich universe with so much to learn. Data character had so many experiences waiting for him I feel....</td>\n",
       "      <td>Data’s lifespan</td>\n",
       "    </tr>\n",
       "    <tr>\n",
       "      <th>522</th>\n",
       "      <td>startrek</td>\n",
       "      <td>To be blunt I didn't like Picard very much. I went in with high hopes that were killed off after the first episode. Remembrance was like a new spin on a favorite comfort food. There was enough nostolgia to scratch that itch and enough newness that made it feel different to TNG. Episodes 1-3 were mostly pleasant and then for me it fell off a cliff, with each coming episode a rock hitting me on the way down. \\n\\nIf it wasnt for for the old cast and crew of TNG and VOY I wouldn't even have watched the rest of the season. None of the new characters had time to breath and develop. Agnes was forgettable. Rios was just another hot headed Latino stereotype ala Po in the Star Wars sequels. Raffi downright creeped me the hell out for some reason. I found her switching from drunken junkie to mother figure (while well acted and would totally work in something like Moonlight) out of place and jarring in this show. Seven I felt was reduced down into kick-ass token LGBT character who for some re...</td>\n",
       "      <td>[Spoilers] St:Pic is making me like Discovery more</td>\n",
       "    </tr>\n",
       "    <tr>\n",
       "      <th>523</th>\n",
       "      <td>startrek</td>\n",
       "      <td>* Raffi/Stephen Franklin: The trusted coworker that pushes themselves too hard and ends up falling into drug use. Has a troubled past with family.\\n* Rios/Susan Ivanova: Suffering military loner. Grumpy but has soft core. Has a relationship with someone who betrays the good guys.\\n* Jurati/Michael Garibaldi: Haunted by what they did while under the influence of psychics.\\n* Elnor/Marcus Cole: A fantasy character out of place in a scifi world.\\n* Dahj/Talia Winters: Exits their series in an event that demonstrates how evil the bad guys are. Both have hidden personalities awoken.\\n* Soji/Lyta Alexander: Chosen savior of their people.\\n* Picard/John Sheridan: Disliked and not trusted by the government they worked for. Eventually quits and forms their own group fight evil. Died and came back for our sins.\\n* Data/Delenn: Mcguffin. Comes from a group that all looks alike. Undergoes changes to become more human. Main protagonist is in love them.\\n\\nBoth series' plot involves the governm...</td>\n",
       "      <td>Is Star Trek: Picard actually Babylon 5?</td>\n",
       "    </tr>\n",
       "    <tr>\n",
       "      <th>524</th>\n",
       "      <td>startrek</td>\n",
       "      <td>By the end of the season we have:  \\n\\n\\nTal-shiar infiltrator at the top of starfleet influencing policy for decades who has now returned to the Romulan empire with very current and highly-detailed intel on literally everything.  \\n\\n\\nStarfleet personnel involved in the cover-up of a several murders - Because the Tal-Shiar would have needed SOME sympathisers to get away with something so bold.  \\n\\n\\nKnowledge that the horrific slaughter on Mars was a direct Romulan terrorist attack.  \\n\\n\\nKnowledge that there's a trans-galactic synthetic alliance which hates organic life, and letting it in seems pretty easy.  \\n\\n\\nThe gigantic debt Starfleet / the Federation owe to Picard, and to a lesser extent: Acting captain Riker.  \\n\\n\\nThe absolute raging garbage fire that was the romulan neutral zone, and hosted the torture and murder of starfleet officers, plus the possibility of the Fenris Rangers rising again to deal with it if the Federation won't.</td>\n",
       "      <td>Picard S1 - Dealing with the fallout?</td>\n",
       "    </tr>\n",
       "    <tr>\n",
       "      <th>525</th>\n",
       "      <td>startrek</td>\n",
       "      <td>Even if it’s to the detriment of continuity or plot. When Riker shows up at the end and saves the day even though I don’t understand how he got there, you best believe I love that shit. When Hugh shows up even though he dies the next episode, fuck yeah that’s my boi. I never really got into Voyager but I imagine if I did, I’d have Arsenio Halled my fist at seeing Seven in the trailer. I loved to see Picard say Engage again. I’m watching Picard because I fucking love Captain Picard and The Next Generation, and I relish any morsels of that universe. If all they did was gather the old crew together and have them go on more missions together a la the TOS Star Trek movies, I’d have a hands-free orgasm. I mean, the show is called Star Trek: Picard. How can I not expect fan service? And I fucking love it.</td>\n",
       "      <td>Damn right I love fan service.</td>\n",
       "    </tr>\n",
       "  </tbody>\n",
       "</table>\n",
       "<p>526 rows × 3 columns</p>\n",
       "</div>"
      ],
      "text/plain": [
       "    subreddit  \\\n",
       "0    startrek   \n",
       "1    startrek   \n",
       "2    startrek   \n",
       "3    startrek   \n",
       "4    startrek   \n",
       "..        ...   \n",
       "521  startrek   \n",
       "522  startrek   \n",
       "523  startrek   \n",
       "524  startrek   \n",
       "525  startrek   \n",
       "\n",
       "                                                                                                                                                                                                                                                                                                                                                                                                                                                                                                                                                                                                                                                                                                                                                                                                                                                                                                                                                                                                                                   selftext  \\\n",
       "0    What I mean by that:\\n\\nOften times the main characters encounter some kind of danger or pursue some kind of hint which sends them traveling through the galaxy, spanning great distances, jumping in and out of warp, etc.\\n\\nThe main characters of course know what's up: Captain Picard gives the order to \"set course for X, maximum warp!\" and off they go.\\n\\nOr they get attacked and suddenly have to travel halfway across the galaxy. Or they orbit around a seemingly random planet because an away team hasn't returned.\\n\\nThe main characters as well as we, the viewers, obviously know what's up, why they're jumping from planet A to planet B in short succession or what just hit the enterprise to cause damage on decks 17 through 19.\\n\\nBut what about the \"normal\" personell? The regular people hanging out at the bar? On the holodeck? The families in their quarters?\\n\\nHow do they experience these seemingly random warp jumps? One moment they're looking out the window, maybe talking to a relat...   \n",
       "1    First of all, sorry for my English or my mistakes.\\n\\nI love ST Picard, but there's a big problem with starfleet ship designs. There are only a few original models: the Inqury-Class, the Utopia Planitia space tug, Mars defense ships and the McCall Shuttlecraft. But the Magee-Class (seen in Short Treks: Children of Mars) and the Class C Shuttlecraft are from the pre-TOS era! Why are 150 year-old ships still operational?\\n\\nLet's try to answer. Obviously, the budget of the show was quite limited, but here's my ST canon theory:\\n\\nIn the 2230s the Class C Shuttlecraft was introduced. It was used in some starships and as a carrier on Earth until 2260s, and then it was replaced with other models, but it was still being used because of it's success (and maybe during its life it was updated a few times). I think some variants of this shuttle were the Galileo-class shuttlecraft (TOS era films), the Type 6 Shuttlecraft (a shorter version onboard the Enterprise D) and Type 7 Shuttlecraft (E...   \n",
       "2                                                                                                                                                                                                                                                                                                                                                                                                                                                                              Just wanted to say that having been a child of trekkies I never appreciated it until my husband got me into it when we first started dating. I first watched Next Gen, followed by voyager, and it took me a long time to get into DS9, but now that I am I am more in love with Star Trek than I ever thought I could be.  I just watched S3:E22 where Sisko and his son take a voyage on an ancient Bajoran starship replica and the ending just made my day. This is what I’m doing (among many other things) during quarantine.  I just wanted to share.   \n",
       "3                                                                                                                                                                                                                                                                                             The rebooted Star treks have some bright spots but my favorite was Cumberbatch as Kahn. He played it perfect and actually made me a big fan of Kahn. \\n\\nConsidering how much trouble the sequel series has seen I’d say if we get a fourth it has got to be downright amazing!! So I would use a tried and true enemy like Kahn combined with one of fans favorite enemies ever, the borg. \\n\\nThe next generation and piccard first encounter the borg and time travel has been a big part of this go around so maybe even find a way to use both the original and use the film to introduce the next generation crew so the 5th movie would be a reboot of piccards crew. \\n\\nWith all the history to pull from a great film can get made.   \n",
       "4    Recently finished watching the show, I generally like to keep my hard sci fi (The Expanse, Gattaca, Permutation city) and science fantasy(Numenera, Q who) clearly defined, but the production value of star trek discovery helped me overlook its space magic aspects and appreciate it for what it is.\\n\\nRecently heard that  people were calling Michael Burnham a mary sue and I don't understand how that is. I have called out many characters as mary sues/gary stus and she does not seem to fit the criteria.\\n\\nShe is multidisciplinary in competence, but not much more so than a science officer(who typically have knowledge in multiple disciplines) who used to be a first officer and was training to be a captain. But most of her greater achievements were in her main field (figuring out the Klingon greeting, \"taming\" the tardigrade, which was sentient).\\n\\nShe is in the military, so she may have training in combat, but she loses up to 70% of the hand to hand fights she is in. Even against Sarek...   \n",
       "..                                                                                                                                                                                                                                                                                                                                                                                                                                                                                                                                                                                                                                                                                                                                                                                                                                                                                                                                                                                                                                      ...   \n",
       "521                                                                                                                                                                                                                                                                                                                                                                                                                                                              Data’s life\\n\\nI’m not sure if all would agree but the way data chose to die seemed a bit premature. I’m not sure but by the time of nemesis we don’t know how much and how long data was able to experience humanity with his emotion chip. So whatever Maddox put together to keep data alive doesn’t necessarily mean he was experiencing humanity. Am I missing something? \\nI feel like he had so much more to experience, especially in such a big galaxy and rich universe with so much to learn. Data character had so many experiences waiting for him I feel....   \n",
       "522  To be blunt I didn't like Picard very much. I went in with high hopes that were killed off after the first episode. Remembrance was like a new spin on a favorite comfort food. There was enough nostolgia to scratch that itch and enough newness that made it feel different to TNG. Episodes 1-3 were mostly pleasant and then for me it fell off a cliff, with each coming episode a rock hitting me on the way down. \\n\\nIf it wasnt for for the old cast and crew of TNG and VOY I wouldn't even have watched the rest of the season. None of the new characters had time to breath and develop. Agnes was forgettable. Rios was just another hot headed Latino stereotype ala Po in the Star Wars sequels. Raffi downright creeped me the hell out for some reason. I found her switching from drunken junkie to mother figure (while well acted and would totally work in something like Moonlight) out of place and jarring in this show. Seven I felt was reduced down into kick-ass token LGBT character who for some re...   \n",
       "523  * Raffi/Stephen Franklin: The trusted coworker that pushes themselves too hard and ends up falling into drug use. Has a troubled past with family.\\n* Rios/Susan Ivanova: Suffering military loner. Grumpy but has soft core. Has a relationship with someone who betrays the good guys.\\n* Jurati/Michael Garibaldi: Haunted by what they did while under the influence of psychics.\\n* Elnor/Marcus Cole: A fantasy character out of place in a scifi world.\\n* Dahj/Talia Winters: Exits their series in an event that demonstrates how evil the bad guys are. Both have hidden personalities awoken.\\n* Soji/Lyta Alexander: Chosen savior of their people.\\n* Picard/John Sheridan: Disliked and not trusted by the government they worked for. Eventually quits and forms their own group fight evil. Died and came back for our sins.\\n* Data/Delenn: Mcguffin. Comes from a group that all looks alike. Undergoes changes to become more human. Main protagonist is in love them.\\n\\nBoth series' plot involves the governm...   \n",
       "524                                       By the end of the season we have:  \\n\\n\\nTal-shiar infiltrator at the top of starfleet influencing policy for decades who has now returned to the Romulan empire with very current and highly-detailed intel on literally everything.  \\n\\n\\nStarfleet personnel involved in the cover-up of a several murders - Because the Tal-Shiar would have needed SOME sympathisers to get away with something so bold.  \\n\\n\\nKnowledge that the horrific slaughter on Mars was a direct Romulan terrorist attack.  \\n\\n\\nKnowledge that there's a trans-galactic synthetic alliance which hates organic life, and letting it in seems pretty easy.  \\n\\n\\nThe gigantic debt Starfleet / the Federation owe to Picard, and to a lesser extent: Acting captain Riker.  \\n\\n\\nThe absolute raging garbage fire that was the romulan neutral zone, and hosted the torture and murder of starfleet officers, plus the possibility of the Fenris Rangers rising again to deal with it if the Federation won't.   \n",
       "525                                                                                                                                                                                               Even if it’s to the detriment of continuity or plot. When Riker shows up at the end and saves the day even though I don’t understand how he got there, you best believe I love that shit. When Hugh shows up even though he dies the next episode, fuck yeah that’s my boi. I never really got into Voyager but I imagine if I did, I’d have Arsenio Halled my fist at seeing Seven in the trailer. I loved to see Picard say Engage again. I’m watching Picard because I fucking love Captain Picard and The Next Generation, and I relish any morsels of that universe. If all they did was gather the old crew together and have them go on more missions together a la the TOS Star Trek movies, I’d have a hands-free orgasm. I mean, the show is called Star Trek: Picard. How can I not expect fan service? And I fucking love it.   \n",
       "\n",
       "                                                                                                                                title  \n",
       "0    Rewatching TNG and have a question: How are the general personnel/regular people on board informed about travels and warp jumps?  \n",
       "1                                                                                                      150 years old ships in Picard?  \n",
       "2                                                                                                  New to the sub just love Star Trek  \n",
       "3                       The fourth movie should include Kahn and the Borg as two threats and maybe see the crew ally with Kahn again.  \n",
       "4                                                                                           How is Michael Burnham a Mary sue though?  \n",
       "..                                                                                                                                ...  \n",
       "521                                                                                                                   Data’s lifespan  \n",
       "522                                                                                [Spoilers] St:Pic is making me like Discovery more  \n",
       "523                                                                                          Is Star Trek: Picard actually Babylon 5?  \n",
       "524                                                                                             Picard S1 - Dealing with the fallout?  \n",
       "525                                                                                                    Damn right I love fan service.  \n",
       "\n",
       "[526 rows x 3 columns]"
      ]
     },
     "execution_count": 16,
     "metadata": {},
     "output_type": "execute_result"
    }
   ],
   "source": [
    "df_new_1 = pd.DataFrame(new_1)\n",
    "df_new_1"
   ]
  },
  {
   "cell_type": "code",
   "execution_count": 17,
   "metadata": {},
   "outputs": [
    {
     "data": {
      "text/plain": [
       "subreddit    0\n",
       "selftext     0\n",
       "title        0\n",
       "dtype: int64"
      ]
     },
     "execution_count": 17,
     "metadata": {},
     "output_type": "execute_result"
    }
   ],
   "source": [
    "df_new.isnull().sum()"
   ]
  },
  {
   "cell_type": "code",
   "execution_count": 18,
   "metadata": {},
   "outputs": [
    {
     "data": {
      "text/plain": [
       "subreddit    0\n",
       "selftext     0\n",
       "title        0\n",
       "dtype: int64"
      ]
     },
     "execution_count": 18,
     "metadata": {},
     "output_type": "execute_result"
    }
   ],
   "source": [
    "df_new_1.isnull().sum()"
   ]
  },
  {
   "cell_type": "code",
   "execution_count": 19,
   "metadata": {},
   "outputs": [],
   "source": [
    "df_new.to_csv('df_new.csv',index=False)"
   ]
  },
  {
   "cell_type": "code",
   "execution_count": 20,
   "metadata": {},
   "outputs": [],
   "source": [
    "df_new_1.to_csv('df_new_1.csv',index=False)"
   ]
  },
  {
   "cell_type": "code",
   "execution_count": 21,
   "metadata": {},
   "outputs": [
    {
     "data": {
      "text/html": [
       "<div>\n",
       "<style scoped>\n",
       "    .dataframe tbody tr th:only-of-type {\n",
       "        vertical-align: middle;\n",
       "    }\n",
       "\n",
       "    .dataframe tbody tr th {\n",
       "        vertical-align: top;\n",
       "    }\n",
       "\n",
       "    .dataframe thead th {\n",
       "        text-align: right;\n",
       "    }\n",
       "</style>\n",
       "<table border=\"1\" class=\"dataframe\">\n",
       "  <thead>\n",
       "    <tr style=\"text-align: right;\">\n",
       "      <th></th>\n",
       "      <th>subreddit</th>\n",
       "      <th>selftext</th>\n",
       "      <th>title</th>\n",
       "    </tr>\n",
       "  </thead>\n",
       "  <tbody>\n",
       "    <tr>\n",
       "      <th>0</th>\n",
       "      <td>StarWars</td>\n",
       "      <td>Full disclosure - I'm not fully aware of all the OT lore in the comics/canon books. After seeing the Clone Wars finale and knowing that Ahsoka was alive past ROTJ - is it possible that she met with and helped train Luke between ESB and ROTJ?\\n\\nLuke levels up quite a bit between those movies and I don't think he is trained by Yoda during that time (unless there is some other non-film canon explanation for how he gets so much better with the force.)\\n\\nIt would be sweet to see them interact somehow, or with some of the other OT/ST characters. Can't wait to see what they do with her in live action.</td>\n",
       "      <td>Theory: Does Ahsoka help train Luke?</td>\n",
       "    </tr>\n",
       "    <tr>\n",
       "      <th>1</th>\n",
       "      <td>StarWars</td>\n",
       "      <td>With baby yoda seeming to have a significant purpose, where will his place be in the next hundreds of years? With The sky walker saga being done it sounds like the main story line will not continue into the future. \\n\\nWhat will baby yoda purpose be? Will his life get cut short?\\n\\nWill Ezra and baby yoda end up being the future of the Jedi or Sith?\\n\\nOr will Mando and baby yoda lead the rise of mandalorians and build a new found friendship\\n\\nWe can guess Ashoka is dead based on the voice in rise of sky Walker so where will the future be</td>\n",
       "      <td>What wil baby yoda end up being</td>\n",
       "    </tr>\n",
       "    <tr>\n",
       "      <th>2</th>\n",
       "      <td>StarWars</td>\n",
       "      <td>The show starts showing two figures laughing and talking around a table, we can't hear them talking, just see their movements. The image focuses and it shows that these figures are obi wan and Anakin(Hayden Christensen) and they're on naboo. They both turn their head and a young boy runs up to Anakin and the camera pans over to padme walking in with a young girl. Obi wan looks up at her and smiles but then we hear a loud wind and the room goes dark. We're suddenly on tatooine with a worn down obi wan who just had his fire blown out and was hit in the face with some sand. He wipes his face off and says \"I hate sand\" as the camera cuts away and the opening credits/theme plays.</td>\n",
       "      <td>Had a dream last night after watching ROTS as to how the new Kenobi show should open</td>\n",
       "    </tr>\n",
       "    <tr>\n",
       "      <th>3</th>\n",
       "      <td>StarWars</td>\n",
       "      <td>Post contains spoilers for Star Wars Rebels and Clone Wars!\\n\\n\\nI've been seeing a lot of hate towards rebels recently, specifically the art, however, there are others commenting on the \"trash plot\", \"dull characters\" and a range of other criticism which I personally feel the show doesn't deserve.\\n\\nRebels is still Star Wars and it's a great piece of canon that really helps show what the empires reign was like in the early years. It is packed with exciting moments that are arguably more memorable than a lot of the memorable moments in the clone wars (with exception of season 7), such as Ahsoka vs Vader or Ezra and Thrawn disappearing into the outer rim somewhere and especially the development and final moments of Maul. \\n\\nRebels art style isn't even that bad, it's just not as good as the clone wars. The only major flaws in the artwork was Yoda, Hondo, Anakin and Bo, Everything else was fine if not good. Rebels was our first \"Canon\" introduction to how brutal Vader was in the ti...</td>\n",
       "      <td>Rebels is still a good show despite its faults.</td>\n",
       "    </tr>\n",
       "    <tr>\n",
       "      <th>4</th>\n",
       "      <td>StarWars</td>\n",
       "      <td>I once had a friend claim that Maul is just as evil, if not, MORE evil than old Sheev. I pondered that notion, but had to disagree. Here's why:\\n\\nMaul knew nothing besides violence and bloodshed from the day he was born. He grew up on the ruthless planet of Dathomir, and was recruited by Sidious at a young age. The ways of the Sith melded naturally with the warrior ways of male Dathomirian tribes. He never really had a chance to be anything but a killing machine. He grew to tfavor the Dark Side because it granted him the ability to reach the top of any hierarchy he desired, crowning him as the alpha among all of his peers.\\n\\nContrarily, Sidious was raised in a Royal family on the peaceful planet of Naboo. He was naturally drawn to positions of power, and sought out knowledge of the mythical Sith. He initially wasn't influenced by any outside force. He just thirsted for power. He wanted to sculpt the galaxy how he saw fit. Darth Plagueis discovered him because of his immense Forc...</td>\n",
       "      <td>Is Darth Maul as evil as Darth Sidious?</td>\n",
       "    </tr>\n",
       "    <tr>\n",
       "      <th>...</th>\n",
       "      <td>...</td>\n",
       "      <td>...</td>\n",
       "      <td>...</td>\n",
       "    </tr>\n",
       "    <tr>\n",
       "      <th>502</th>\n",
       "      <td>StarWars</td>\n",
       "      <td>I don't know if anyone else does this, but whenever I hear a line from Vader whether it be from a game, movie, show, or whatever, I always try to hear that same line in the voice of Matt Lanter and Hayden Christensen. A lot of times, I just can't picture it working. Sometimes lines of dialogue are too complex to seem like something they would say. For example, \"We need not be adversaries. The Emperor will show you mercy, if you tell me where the remaining Jedi can be found\". Try to picture either of them saying that. It just doesn't work in my mind. But, basically I was just wondering if other people do the same thing or if I'm just weird.</td>\n",
       "      <td>Matching up Christensen and Lanter with JEJ</td>\n",
       "    </tr>\n",
       "    <tr>\n",
       "      <th>503</th>\n",
       "      <td>StarWars</td>\n",
       "      <td>After the prequels, he decided to stop Star Wars forever and admit that everything has an end. He realized the Saga could no longer be expanded without making the previous generation angry as fuck, creating an cumulative effect of negative reaction because, even if the younger generation gets seduced, previous ones (that are more than one after the prequels) will always be unsatisfied. Poetry and the path of the hero have a limit and repetition can only be tolerated when you put a different dress/context on it.\\n\\nSo, considering Star Wars market value will inevitably shrink year after year no matter what (like everything in this Universe), he tried to sell it now it had some worth. Disney's greed appeared into scene to buys it and make money: they failed.\\n\\nBesides this rational motivation, Lucas felt the need for redemption because of Prequels mistakes. He knew Disney will screw it all, giving a new perspective by comparision. Today, Prequels are an absolute piece of art compar...</td>\n",
       "      <td>George Lucas is a genius, his plan was a masterpiece.</td>\n",
       "    </tr>\n",
       "    <tr>\n",
       "      <th>504</th>\n",
       "      <td>StarWars</td>\n",
       "      <td>So it's universally accepted that the 4th of May is \"May the 4th Be With You\" Day, a play on the iconic quote \"May The Force be with you.\" And some people regard May 5th or 6th as \"Revenge of the Fifth/Sixth\", a play on Revenge of the Sith. This got me thinking of other plays on iconic quotes from star wars for the 5th or 6th. My favorites include \"I find your lack of Fifth disturbing\" and \"I have a bad feeling about Sixth\". Plays on \"I find your lack of faith disturbing\" and \" I have a bad feeling about this\". I think it'd be cool if either of these caught on, not that I expect them to.</td>\n",
       "      <td>You've Heard of May the 4th Be With You, and Revenge of the Fifth...</td>\n",
       "    </tr>\n",
       "    <tr>\n",
       "      <th>505</th>\n",
       "      <td>StarWars</td>\n",
       "      <td>There are millions of posts about how bad these movies are, it’s getting a little boring at this point so why don’t we share what we love about these movies.\\n\\nI love all the characters. They are all really memorable and likeable, even the Villians. The plot is simple but works really well as an episodic adventure not unlike the stories that inspired George.\\n\\nThe visuals are breathtaking and I could cover my wall in screenshots from these movies.\\n\\nI really like these movies, they are my favorite Star Wars next to revenge of the Sith and clone wars.\\n\\nWhat are your thoughts on them.</td>\n",
       "      <td>Sequel Trilogy Appreciation</td>\n",
       "    </tr>\n",
       "    <tr>\n",
       "      <th>506</th>\n",
       "      <td>StarWars</td>\n",
       "      <td>This is the greatest piece of Star Wars we’ve had in years. Without the shadow of a doubt.\\nSure TCW has built this all up for years(as it should’ve, and it’s great) but this sole episode gave me more cinematic and Star Wars joy than any of the sequel films combined. Dave Filoni shows he should be president of Lucasfilms. Sure the Trace arc felt like a waste of episodes(not every TCW is great but I feel the Trace arc, in context, was a waste of time) but it was kind of worth it for what we got. Also Ray Park killed it!!! I didn’t know he was gonna’ feature, but as soon as Maul started fighting I knew.</td>\n",
       "      <td>”The Phantom Apprentice”</td>\n",
       "    </tr>\n",
       "  </tbody>\n",
       "</table>\n",
       "<p>507 rows × 3 columns</p>\n",
       "</div>"
      ],
      "text/plain": [
       "    subreddit  \\\n",
       "0    StarWars   \n",
       "1    StarWars   \n",
       "2    StarWars   \n",
       "3    StarWars   \n",
       "4    StarWars   \n",
       "..        ...   \n",
       "502  StarWars   \n",
       "503  StarWars   \n",
       "504  StarWars   \n",
       "505  StarWars   \n",
       "506  StarWars   \n",
       "\n",
       "                                                                                                                                                                                                                                                                                                                                                                                                                                                                                                                                                                                                                                                                                                                                                                                                                                                                                                                                                                                                                                   selftext  \\\n",
       "0                                                                                                                                                                                                                                                                                                                                                                                                               Full disclosure - I'm not fully aware of all the OT lore in the comics/canon books. After seeing the Clone Wars finale and knowing that Ahsoka was alive past ROTJ - is it possible that she met with and helped train Luke between ESB and ROTJ?\\n\\nLuke levels up quite a bit between those movies and I don't think he is trained by Yoda during that time (unless there is some other non-film canon explanation for how he gets so much better with the force.)\\n\\nIt would be sweet to see them interact somehow, or with some of the other OT/ST characters. Can't wait to see what they do with her in live action.   \n",
       "1                                                                                                                                                                                                                                                                                                                                                                                                                                                                         With baby yoda seeming to have a significant purpose, where will his place be in the next hundreds of years? With The sky walker saga being done it sounds like the main story line will not continue into the future. \\n\\nWhat will baby yoda purpose be? Will his life get cut short?\\n\\nWill Ezra and baby yoda end up being the future of the Jedi or Sith?\\n\\nOr will Mando and baby yoda lead the rise of mandalorians and build a new found friendship\\n\\nWe can guess Ashoka is dead based on the voice in rise of sky Walker so where will the future be   \n",
       "2                                                                                                                                                                                                                                                                                                                               The show starts showing two figures laughing and talking around a table, we can't hear them talking, just see their movements. The image focuses and it shows that these figures are obi wan and Anakin(Hayden Christensen) and they're on naboo. They both turn their head and a young boy runs up to Anakin and the camera pans over to padme walking in with a young girl. Obi wan looks up at her and smiles but then we hear a loud wind and the room goes dark. We're suddenly on tatooine with a worn down obi wan who just had his fire blown out and was hit in the face with some sand. He wipes his face off and says \"I hate sand\" as the camera cuts away and the opening credits/theme plays.   \n",
       "3    Post contains spoilers for Star Wars Rebels and Clone Wars!\\n\\n\\nI've been seeing a lot of hate towards rebels recently, specifically the art, however, there are others commenting on the \"trash plot\", \"dull characters\" and a range of other criticism which I personally feel the show doesn't deserve.\\n\\nRebels is still Star Wars and it's a great piece of canon that really helps show what the empires reign was like in the early years. It is packed with exciting moments that are arguably more memorable than a lot of the memorable moments in the clone wars (with exception of season 7), such as Ahsoka vs Vader or Ezra and Thrawn disappearing into the outer rim somewhere and especially the development and final moments of Maul. \\n\\nRebels art style isn't even that bad, it's just not as good as the clone wars. The only major flaws in the artwork was Yoda, Hondo, Anakin and Bo, Everything else was fine if not good. Rebels was our first \"Canon\" introduction to how brutal Vader was in the ti...   \n",
       "4    I once had a friend claim that Maul is just as evil, if not, MORE evil than old Sheev. I pondered that notion, but had to disagree. Here's why:\\n\\nMaul knew nothing besides violence and bloodshed from the day he was born. He grew up on the ruthless planet of Dathomir, and was recruited by Sidious at a young age. The ways of the Sith melded naturally with the warrior ways of male Dathomirian tribes. He never really had a chance to be anything but a killing machine. He grew to tfavor the Dark Side because it granted him the ability to reach the top of any hierarchy he desired, crowning him as the alpha among all of his peers.\\n\\nContrarily, Sidious was raised in a Royal family on the peaceful planet of Naboo. He was naturally drawn to positions of power, and sought out knowledge of the mythical Sith. He initially wasn't influenced by any outside force. He just thirsted for power. He wanted to sculpt the galaxy how he saw fit. Darth Plagueis discovered him because of his immense Forc...   \n",
       "..                                                                                                                                                                                                                                                                                                                                                                                                                                                                                                                                                                                                                                                                                                                                                                                                                                                                                                                                                                                                                                      ...   \n",
       "502                                                                                                                                                                                                                                                                                                                                                                 I don't know if anyone else does this, but whenever I hear a line from Vader whether it be from a game, movie, show, or whatever, I always try to hear that same line in the voice of Matt Lanter and Hayden Christensen. A lot of times, I just can't picture it working. Sometimes lines of dialogue are too complex to seem like something they would say. For example, \"We need not be adversaries. The Emperor will show you mercy, if you tell me where the remaining Jedi can be found\". Try to picture either of them saying that. It just doesn't work in my mind. But, basically I was just wondering if other people do the same thing or if I'm just weird.   \n",
       "503  After the prequels, he decided to stop Star Wars forever and admit that everything has an end. He realized the Saga could no longer be expanded without making the previous generation angry as fuck, creating an cumulative effect of negative reaction because, even if the younger generation gets seduced, previous ones (that are more than one after the prequels) will always be unsatisfied. Poetry and the path of the hero have a limit and repetition can only be tolerated when you put a different dress/context on it.\\n\\nSo, considering Star Wars market value will inevitably shrink year after year no matter what (like everything in this Universe), he tried to sell it now it had some worth. Disney's greed appeared into scene to buys it and make money: they failed.\\n\\nBesides this rational motivation, Lucas felt the need for redemption because of Prequels mistakes. He knew Disney will screw it all, giving a new perspective by comparision. Today, Prequels are an absolute piece of art compar...   \n",
       "504                                                                                                                                                                                                                                                                                                                                                                                                                      So it's universally accepted that the 4th of May is \"May the 4th Be With You\" Day, a play on the iconic quote \"May The Force be with you.\" And some people regard May 5th or 6th as \"Revenge of the Fifth/Sixth\", a play on Revenge of the Sith. This got me thinking of other plays on iconic quotes from star wars for the 5th or 6th. My favorites include \"I find your lack of Fifth disturbing\" and \"I have a bad feeling about Sixth\". Plays on \"I find your lack of faith disturbing\" and \" I have a bad feeling about this\". I think it'd be cool if either of these caught on, not that I expect them to.   \n",
       "505                                                                                                                                                                                                                                                                                                                                                                                                                      There are millions of posts about how bad these movies are, it’s getting a little boring at this point so why don’t we share what we love about these movies.\\n\\nI love all the characters. They are all really memorable and likeable, even the Villians. The plot is simple but works really well as an episodic adventure not unlike the stories that inspired George.\\n\\nThe visuals are breathtaking and I could cover my wall in screenshots from these movies.\\n\\nI really like these movies, they are my favorite Star Wars next to revenge of the Sith and clone wars.\\n\\nWhat are your thoughts on them.   \n",
       "506                                                                                                                                                                                                                                                                                                                                                                                                        This is the greatest piece of Star Wars we’ve had in years. Without the shadow of a doubt.\\nSure TCW has built this all up for years(as it should’ve, and it’s great) but this sole episode gave me more cinematic and Star Wars joy than any of the sequel films combined. Dave Filoni shows he should be president of Lucasfilms. Sure the Trace arc felt like a waste of episodes(not every TCW is great but I feel the Trace arc, in context, was a waste of time) but it was kind of worth it for what we got. Also Ray Park killed it!!! I didn’t know he was gonna’ feature, but as soon as Maul started fighting I knew.   \n",
       "\n",
       "                                                                                    title  \n",
       "0                                                    Theory: Does Ahsoka help train Luke?  \n",
       "1                                                         What wil baby yoda end up being  \n",
       "2    Had a dream last night after watching ROTS as to how the new Kenobi show should open  \n",
       "3                                         Rebels is still a good show despite its faults.  \n",
       "4                                                 Is Darth Maul as evil as Darth Sidious?  \n",
       "..                                                                                    ...  \n",
       "502                                           Matching up Christensen and Lanter with JEJ  \n",
       "503                                 George Lucas is a genius, his plan was a masterpiece.  \n",
       "504                  You've Heard of May the 4th Be With You, and Revenge of the Fifth...  \n",
       "505                                                           Sequel Trilogy Appreciation  \n",
       "506                                                              ”The Phantom Apprentice”  \n",
       "\n",
       "[507 rows x 3 columns]"
      ]
     },
     "execution_count": 21,
     "metadata": {},
     "output_type": "execute_result"
    }
   ],
   "source": [
    "new_1=df_new.dropna()\n",
    "new_1"
   ]
  },
  {
   "cell_type": "code",
   "execution_count": 22,
   "metadata": {},
   "outputs": [
    {
     "data": {
      "text/html": [
       "<div>\n",
       "<style scoped>\n",
       "    .dataframe tbody tr th:only-of-type {\n",
       "        vertical-align: middle;\n",
       "    }\n",
       "\n",
       "    .dataframe tbody tr th {\n",
       "        vertical-align: top;\n",
       "    }\n",
       "\n",
       "    .dataframe thead th {\n",
       "        text-align: right;\n",
       "    }\n",
       "</style>\n",
       "<table border=\"1\" class=\"dataframe\">\n",
       "  <thead>\n",
       "    <tr style=\"text-align: right;\">\n",
       "      <th></th>\n",
       "      <th>subreddit</th>\n",
       "      <th>selftext</th>\n",
       "      <th>title</th>\n",
       "    </tr>\n",
       "  </thead>\n",
       "  <tbody>\n",
       "    <tr>\n",
       "      <th>0</th>\n",
       "      <td>startrek</td>\n",
       "      <td>What I mean by that:\\n\\nOften times the main characters encounter some kind of danger or pursue some kind of hint which sends them traveling through the galaxy, spanning great distances, jumping in and out of warp, etc.\\n\\nThe main characters of course know what's up: Captain Picard gives the order to \"set course for X, maximum warp!\" and off they go.\\n\\nOr they get attacked and suddenly have to travel halfway across the galaxy. Or they orbit around a seemingly random planet because an away team hasn't returned.\\n\\nThe main characters as well as we, the viewers, obviously know what's up, why they're jumping from planet A to planet B in short succession or what just hit the enterprise to cause damage on decks 17 through 19.\\n\\nBut what about the \"normal\" personell? The regular people hanging out at the bar? On the holodeck? The families in their quarters?\\n\\nHow do they experience these seemingly random warp jumps? One moment they're looking out the window, maybe talking to a relat...</td>\n",
       "      <td>Rewatching TNG and have a question: How are the general personnel/regular people on board informed about travels and warp jumps?</td>\n",
       "    </tr>\n",
       "    <tr>\n",
       "      <th>1</th>\n",
       "      <td>startrek</td>\n",
       "      <td>First of all, sorry for my English or my mistakes.\\n\\nI love ST Picard, but there's a big problem with starfleet ship designs. There are only a few original models: the Inqury-Class, the Utopia Planitia space tug, Mars defense ships and the McCall Shuttlecraft. But the Magee-Class (seen in Short Treks: Children of Mars) and the Class C Shuttlecraft are from the pre-TOS era! Why are 150 year-old ships still operational?\\n\\nLet's try to answer. Obviously, the budget of the show was quite limited, but here's my ST canon theory:\\n\\nIn the 2230s the Class C Shuttlecraft was introduced. It was used in some starships and as a carrier on Earth until 2260s, and then it was replaced with other models, but it was still being used because of it's success (and maybe during its life it was updated a few times). I think some variants of this shuttle were the Galileo-class shuttlecraft (TOS era films), the Type 6 Shuttlecraft (a shorter version onboard the Enterprise D) and Type 7 Shuttlecraft (E...</td>\n",
       "      <td>150 years old ships in Picard?</td>\n",
       "    </tr>\n",
       "    <tr>\n",
       "      <th>2</th>\n",
       "      <td>startrek</td>\n",
       "      <td>Just wanted to say that having been a child of trekkies I never appreciated it until my husband got me into it when we first started dating. I first watched Next Gen, followed by voyager, and it took me a long time to get into DS9, but now that I am I am more in love with Star Trek than I ever thought I could be.  I just watched S3:E22 where Sisko and his son take a voyage on an ancient Bajoran starship replica and the ending just made my day. This is what I’m doing (among many other things) during quarantine.  I just wanted to share.</td>\n",
       "      <td>New to the sub just love Star Trek</td>\n",
       "    </tr>\n",
       "    <tr>\n",
       "      <th>3</th>\n",
       "      <td>startrek</td>\n",
       "      <td>The rebooted Star treks have some bright spots but my favorite was Cumberbatch as Kahn. He played it perfect and actually made me a big fan of Kahn. \\n\\nConsidering how much trouble the sequel series has seen I’d say if we get a fourth it has got to be downright amazing!! So I would use a tried and true enemy like Kahn combined with one of fans favorite enemies ever, the borg. \\n\\nThe next generation and piccard first encounter the borg and time travel has been a big part of this go around so maybe even find a way to use both the original and use the film to introduce the next generation crew so the 5th movie would be a reboot of piccards crew. \\n\\nWith all the history to pull from a great film can get made.</td>\n",
       "      <td>The fourth movie should include Kahn and the Borg as two threats and maybe see the crew ally with Kahn again.</td>\n",
       "    </tr>\n",
       "    <tr>\n",
       "      <th>4</th>\n",
       "      <td>startrek</td>\n",
       "      <td>Recently finished watching the show, I generally like to keep my hard sci fi (The Expanse, Gattaca, Permutation city) and science fantasy(Numenera, Q who) clearly defined, but the production value of star trek discovery helped me overlook its space magic aspects and appreciate it for what it is.\\n\\nRecently heard that  people were calling Michael Burnham a mary sue and I don't understand how that is. I have called out many characters as mary sues/gary stus and she does not seem to fit the criteria.\\n\\nShe is multidisciplinary in competence, but not much more so than a science officer(who typically have knowledge in multiple disciplines) who used to be a first officer and was training to be a captain. But most of her greater achievements were in her main field (figuring out the Klingon greeting, \"taming\" the tardigrade, which was sentient).\\n\\nShe is in the military, so she may have training in combat, but she loses up to 70% of the hand to hand fights she is in. Even against Sarek...</td>\n",
       "      <td>How is Michael Burnham a Mary sue though?</td>\n",
       "    </tr>\n",
       "    <tr>\n",
       "      <th>...</th>\n",
       "      <td>...</td>\n",
       "      <td>...</td>\n",
       "      <td>...</td>\n",
       "    </tr>\n",
       "    <tr>\n",
       "      <th>521</th>\n",
       "      <td>startrek</td>\n",
       "      <td>Data’s life\\n\\nI’m not sure if all would agree but the way data chose to die seemed a bit premature. I’m not sure but by the time of nemesis we don’t know how much and how long data was able to experience humanity with his emotion chip. So whatever Maddox put together to keep data alive doesn’t necessarily mean he was experiencing humanity. Am I missing something? \\nI feel like he had so much more to experience, especially in such a big galaxy and rich universe with so much to learn. Data character had so many experiences waiting for him I feel....</td>\n",
       "      <td>Data’s lifespan</td>\n",
       "    </tr>\n",
       "    <tr>\n",
       "      <th>522</th>\n",
       "      <td>startrek</td>\n",
       "      <td>To be blunt I didn't like Picard very much. I went in with high hopes that were killed off after the first episode. Remembrance was like a new spin on a favorite comfort food. There was enough nostolgia to scratch that itch and enough newness that made it feel different to TNG. Episodes 1-3 were mostly pleasant and then for me it fell off a cliff, with each coming episode a rock hitting me on the way down. \\n\\nIf it wasnt for for the old cast and crew of TNG and VOY I wouldn't even have watched the rest of the season. None of the new characters had time to breath and develop. Agnes was forgettable. Rios was just another hot headed Latino stereotype ala Po in the Star Wars sequels. Raffi downright creeped me the hell out for some reason. I found her switching from drunken junkie to mother figure (while well acted and would totally work in something like Moonlight) out of place and jarring in this show. Seven I felt was reduced down into kick-ass token LGBT character who for some re...</td>\n",
       "      <td>[Spoilers] St:Pic is making me like Discovery more</td>\n",
       "    </tr>\n",
       "    <tr>\n",
       "      <th>523</th>\n",
       "      <td>startrek</td>\n",
       "      <td>* Raffi/Stephen Franklin: The trusted coworker that pushes themselves too hard and ends up falling into drug use. Has a troubled past with family.\\n* Rios/Susan Ivanova: Suffering military loner. Grumpy but has soft core. Has a relationship with someone who betrays the good guys.\\n* Jurati/Michael Garibaldi: Haunted by what they did while under the influence of psychics.\\n* Elnor/Marcus Cole: A fantasy character out of place in a scifi world.\\n* Dahj/Talia Winters: Exits their series in an event that demonstrates how evil the bad guys are. Both have hidden personalities awoken.\\n* Soji/Lyta Alexander: Chosen savior of their people.\\n* Picard/John Sheridan: Disliked and not trusted by the government they worked for. Eventually quits and forms their own group fight evil. Died and came back for our sins.\\n* Data/Delenn: Mcguffin. Comes from a group that all looks alike. Undergoes changes to become more human. Main protagonist is in love them.\\n\\nBoth series' plot involves the governm...</td>\n",
       "      <td>Is Star Trek: Picard actually Babylon 5?</td>\n",
       "    </tr>\n",
       "    <tr>\n",
       "      <th>524</th>\n",
       "      <td>startrek</td>\n",
       "      <td>By the end of the season we have:  \\n\\n\\nTal-shiar infiltrator at the top of starfleet influencing policy for decades who has now returned to the Romulan empire with very current and highly-detailed intel on literally everything.  \\n\\n\\nStarfleet personnel involved in the cover-up of a several murders - Because the Tal-Shiar would have needed SOME sympathisers to get away with something so bold.  \\n\\n\\nKnowledge that the horrific slaughter on Mars was a direct Romulan terrorist attack.  \\n\\n\\nKnowledge that there's a trans-galactic synthetic alliance which hates organic life, and letting it in seems pretty easy.  \\n\\n\\nThe gigantic debt Starfleet / the Federation owe to Picard, and to a lesser extent: Acting captain Riker.  \\n\\n\\nThe absolute raging garbage fire that was the romulan neutral zone, and hosted the torture and murder of starfleet officers, plus the possibility of the Fenris Rangers rising again to deal with it if the Federation won't.</td>\n",
       "      <td>Picard S1 - Dealing with the fallout?</td>\n",
       "    </tr>\n",
       "    <tr>\n",
       "      <th>525</th>\n",
       "      <td>startrek</td>\n",
       "      <td>Even if it’s to the detriment of continuity or plot. When Riker shows up at the end and saves the day even though I don’t understand how he got there, you best believe I love that shit. When Hugh shows up even though he dies the next episode, fuck yeah that’s my boi. I never really got into Voyager but I imagine if I did, I’d have Arsenio Halled my fist at seeing Seven in the trailer. I loved to see Picard say Engage again. I’m watching Picard because I fucking love Captain Picard and The Next Generation, and I relish any morsels of that universe. If all they did was gather the old crew together and have them go on more missions together a la the TOS Star Trek movies, I’d have a hands-free orgasm. I mean, the show is called Star Trek: Picard. How can I not expect fan service? And I fucking love it.</td>\n",
       "      <td>Damn right I love fan service.</td>\n",
       "    </tr>\n",
       "  </tbody>\n",
       "</table>\n",
       "<p>526 rows × 3 columns</p>\n",
       "</div>"
      ],
      "text/plain": [
       "    subreddit  \\\n",
       "0    startrek   \n",
       "1    startrek   \n",
       "2    startrek   \n",
       "3    startrek   \n",
       "4    startrek   \n",
       "..        ...   \n",
       "521  startrek   \n",
       "522  startrek   \n",
       "523  startrek   \n",
       "524  startrek   \n",
       "525  startrek   \n",
       "\n",
       "                                                                                                                                                                                                                                                                                                                                                                                                                                                                                                                                                                                                                                                                                                                                                                                                                                                                                                                                                                                                                                   selftext  \\\n",
       "0    What I mean by that:\\n\\nOften times the main characters encounter some kind of danger or pursue some kind of hint which sends them traveling through the galaxy, spanning great distances, jumping in and out of warp, etc.\\n\\nThe main characters of course know what's up: Captain Picard gives the order to \"set course for X, maximum warp!\" and off they go.\\n\\nOr they get attacked and suddenly have to travel halfway across the galaxy. Or they orbit around a seemingly random planet because an away team hasn't returned.\\n\\nThe main characters as well as we, the viewers, obviously know what's up, why they're jumping from planet A to planet B in short succession or what just hit the enterprise to cause damage on decks 17 through 19.\\n\\nBut what about the \"normal\" personell? The regular people hanging out at the bar? On the holodeck? The families in their quarters?\\n\\nHow do they experience these seemingly random warp jumps? One moment they're looking out the window, maybe talking to a relat...   \n",
       "1    First of all, sorry for my English or my mistakes.\\n\\nI love ST Picard, but there's a big problem with starfleet ship designs. There are only a few original models: the Inqury-Class, the Utopia Planitia space tug, Mars defense ships and the McCall Shuttlecraft. But the Magee-Class (seen in Short Treks: Children of Mars) and the Class C Shuttlecraft are from the pre-TOS era! Why are 150 year-old ships still operational?\\n\\nLet's try to answer. Obviously, the budget of the show was quite limited, but here's my ST canon theory:\\n\\nIn the 2230s the Class C Shuttlecraft was introduced. It was used in some starships and as a carrier on Earth until 2260s, and then it was replaced with other models, but it was still being used because of it's success (and maybe during its life it was updated a few times). I think some variants of this shuttle were the Galileo-class shuttlecraft (TOS era films), the Type 6 Shuttlecraft (a shorter version onboard the Enterprise D) and Type 7 Shuttlecraft (E...   \n",
       "2                                                                                                                                                                                                                                                                                                                                                                                                                                                                              Just wanted to say that having been a child of trekkies I never appreciated it until my husband got me into it when we first started dating. I first watched Next Gen, followed by voyager, and it took me a long time to get into DS9, but now that I am I am more in love with Star Trek than I ever thought I could be.  I just watched S3:E22 where Sisko and his son take a voyage on an ancient Bajoran starship replica and the ending just made my day. This is what I’m doing (among many other things) during quarantine.  I just wanted to share.   \n",
       "3                                                                                                                                                                                                                                                                                             The rebooted Star treks have some bright spots but my favorite was Cumberbatch as Kahn. He played it perfect and actually made me a big fan of Kahn. \\n\\nConsidering how much trouble the sequel series has seen I’d say if we get a fourth it has got to be downright amazing!! So I would use a tried and true enemy like Kahn combined with one of fans favorite enemies ever, the borg. \\n\\nThe next generation and piccard first encounter the borg and time travel has been a big part of this go around so maybe even find a way to use both the original and use the film to introduce the next generation crew so the 5th movie would be a reboot of piccards crew. \\n\\nWith all the history to pull from a great film can get made.   \n",
       "4    Recently finished watching the show, I generally like to keep my hard sci fi (The Expanse, Gattaca, Permutation city) and science fantasy(Numenera, Q who) clearly defined, but the production value of star trek discovery helped me overlook its space magic aspects and appreciate it for what it is.\\n\\nRecently heard that  people were calling Michael Burnham a mary sue and I don't understand how that is. I have called out many characters as mary sues/gary stus and she does not seem to fit the criteria.\\n\\nShe is multidisciplinary in competence, but not much more so than a science officer(who typically have knowledge in multiple disciplines) who used to be a first officer and was training to be a captain. But most of her greater achievements were in her main field (figuring out the Klingon greeting, \"taming\" the tardigrade, which was sentient).\\n\\nShe is in the military, so she may have training in combat, but she loses up to 70% of the hand to hand fights she is in. Even against Sarek...   \n",
       "..                                                                                                                                                                                                                                                                                                                                                                                                                                                                                                                                                                                                                                                                                                                                                                                                                                                                                                                                                                                                                                      ...   \n",
       "521                                                                                                                                                                                                                                                                                                                                                                                                                                                              Data’s life\\n\\nI’m not sure if all would agree but the way data chose to die seemed a bit premature. I’m not sure but by the time of nemesis we don’t know how much and how long data was able to experience humanity with his emotion chip. So whatever Maddox put together to keep data alive doesn’t necessarily mean he was experiencing humanity. Am I missing something? \\nI feel like he had so much more to experience, especially in such a big galaxy and rich universe with so much to learn. Data character had so many experiences waiting for him I feel....   \n",
       "522  To be blunt I didn't like Picard very much. I went in with high hopes that were killed off after the first episode. Remembrance was like a new spin on a favorite comfort food. There was enough nostolgia to scratch that itch and enough newness that made it feel different to TNG. Episodes 1-3 were mostly pleasant and then for me it fell off a cliff, with each coming episode a rock hitting me on the way down. \\n\\nIf it wasnt for for the old cast and crew of TNG and VOY I wouldn't even have watched the rest of the season. None of the new characters had time to breath and develop. Agnes was forgettable. Rios was just another hot headed Latino stereotype ala Po in the Star Wars sequels. Raffi downright creeped me the hell out for some reason. I found her switching from drunken junkie to mother figure (while well acted and would totally work in something like Moonlight) out of place and jarring in this show. Seven I felt was reduced down into kick-ass token LGBT character who for some re...   \n",
       "523  * Raffi/Stephen Franklin: The trusted coworker that pushes themselves too hard and ends up falling into drug use. Has a troubled past with family.\\n* Rios/Susan Ivanova: Suffering military loner. Grumpy but has soft core. Has a relationship with someone who betrays the good guys.\\n* Jurati/Michael Garibaldi: Haunted by what they did while under the influence of psychics.\\n* Elnor/Marcus Cole: A fantasy character out of place in a scifi world.\\n* Dahj/Talia Winters: Exits their series in an event that demonstrates how evil the bad guys are. Both have hidden personalities awoken.\\n* Soji/Lyta Alexander: Chosen savior of their people.\\n* Picard/John Sheridan: Disliked and not trusted by the government they worked for. Eventually quits and forms their own group fight evil. Died and came back for our sins.\\n* Data/Delenn: Mcguffin. Comes from a group that all looks alike. Undergoes changes to become more human. Main protagonist is in love them.\\n\\nBoth series' plot involves the governm...   \n",
       "524                                       By the end of the season we have:  \\n\\n\\nTal-shiar infiltrator at the top of starfleet influencing policy for decades who has now returned to the Romulan empire with very current and highly-detailed intel on literally everything.  \\n\\n\\nStarfleet personnel involved in the cover-up of a several murders - Because the Tal-Shiar would have needed SOME sympathisers to get away with something so bold.  \\n\\n\\nKnowledge that the horrific slaughter on Mars was a direct Romulan terrorist attack.  \\n\\n\\nKnowledge that there's a trans-galactic synthetic alliance which hates organic life, and letting it in seems pretty easy.  \\n\\n\\nThe gigantic debt Starfleet / the Federation owe to Picard, and to a lesser extent: Acting captain Riker.  \\n\\n\\nThe absolute raging garbage fire that was the romulan neutral zone, and hosted the torture and murder of starfleet officers, plus the possibility of the Fenris Rangers rising again to deal with it if the Federation won't.   \n",
       "525                                                                                                                                                                                               Even if it’s to the detriment of continuity or plot. When Riker shows up at the end and saves the day even though I don’t understand how he got there, you best believe I love that shit. When Hugh shows up even though he dies the next episode, fuck yeah that’s my boi. I never really got into Voyager but I imagine if I did, I’d have Arsenio Halled my fist at seeing Seven in the trailer. I loved to see Picard say Engage again. I’m watching Picard because I fucking love Captain Picard and The Next Generation, and I relish any morsels of that universe. If all they did was gather the old crew together and have them go on more missions together a la the TOS Star Trek movies, I’d have a hands-free orgasm. I mean, the show is called Star Trek: Picard. How can I not expect fan service? And I fucking love it.   \n",
       "\n",
       "                                                                                                                                title  \n",
       "0    Rewatching TNG and have a question: How are the general personnel/regular people on board informed about travels and warp jumps?  \n",
       "1                                                                                                      150 years old ships in Picard?  \n",
       "2                                                                                                  New to the sub just love Star Trek  \n",
       "3                       The fourth movie should include Kahn and the Borg as two threats and maybe see the crew ally with Kahn again.  \n",
       "4                                                                                           How is Michael Burnham a Mary sue though?  \n",
       "..                                                                                                                                ...  \n",
       "521                                                                                                                   Data’s lifespan  \n",
       "522                                                                                [Spoilers] St:Pic is making me like Discovery more  \n",
       "523                                                                                          Is Star Trek: Picard actually Babylon 5?  \n",
       "524                                                                                             Picard S1 - Dealing with the fallout?  \n",
       "525                                                                                                    Damn right I love fan service.  \n",
       "\n",
       "[526 rows x 3 columns]"
      ]
     },
     "execution_count": 22,
     "metadata": {},
     "output_type": "execute_result"
    }
   ],
   "source": [
    "new_2=df_new_1.dropna()\n",
    "new_2"
   ]
  },
  {
   "cell_type": "code",
   "execution_count": 23,
   "metadata": {},
   "outputs": [
    {
     "data": {
      "text/html": [
       "<div>\n",
       "<style scoped>\n",
       "    .dataframe tbody tr th:only-of-type {\n",
       "        vertical-align: middle;\n",
       "    }\n",
       "\n",
       "    .dataframe tbody tr th {\n",
       "        vertical-align: top;\n",
       "    }\n",
       "\n",
       "    .dataframe thead th {\n",
       "        text-align: right;\n",
       "    }\n",
       "</style>\n",
       "<table border=\"1\" class=\"dataframe\">\n",
       "  <thead>\n",
       "    <tr style=\"text-align: right;\">\n",
       "      <th></th>\n",
       "      <th>subreddit</th>\n",
       "      <th>selftext</th>\n",
       "      <th>title</th>\n",
       "    </tr>\n",
       "  </thead>\n",
       "  <tbody>\n",
       "    <tr>\n",
       "      <th>0</th>\n",
       "      <td>StarWars</td>\n",
       "      <td>Full disclosure - I'm not fully aware of all the OT lore in the comics/canon books. After seeing the Clone Wars finale and knowing that Ahsoka was alive past ROTJ - is it possible that she met with and helped train Luke between ESB and ROTJ?\\n\\nLuke levels up quite a bit between those movies and I don't think he is trained by Yoda during that time (unless there is some other non-film canon explanation for how he gets so much better with the force.)\\n\\nIt would be sweet to see them interact somehow, or with some of the other OT/ST characters. Can't wait to see what they do with her in live action.</td>\n",
       "      <td>Theory: Does Ahsoka help train Luke?</td>\n",
       "    </tr>\n",
       "    <tr>\n",
       "      <th>1</th>\n",
       "      <td>StarWars</td>\n",
       "      <td>With baby yoda seeming to have a significant purpose, where will his place be in the next hundreds of years? With The sky walker saga being done it sounds like the main story line will not continue into the future. \\n\\nWhat will baby yoda purpose be? Will his life get cut short?\\n\\nWill Ezra and baby yoda end up being the future of the Jedi or Sith?\\n\\nOr will Mando and baby yoda lead the rise of mandalorians and build a new found friendship\\n\\nWe can guess Ashoka is dead based on the voice in rise of sky Walker so where will the future be</td>\n",
       "      <td>What wil baby yoda end up being</td>\n",
       "    </tr>\n",
       "    <tr>\n",
       "      <th>2</th>\n",
       "      <td>StarWars</td>\n",
       "      <td>The show starts showing two figures laughing and talking around a table, we can't hear them talking, just see their movements. The image focuses and it shows that these figures are obi wan and Anakin(Hayden Christensen) and they're on naboo. They both turn their head and a young boy runs up to Anakin and the camera pans over to padme walking in with a young girl. Obi wan looks up at her and smiles but then we hear a loud wind and the room goes dark. We're suddenly on tatooine with a worn down obi wan who just had his fire blown out and was hit in the face with some sand. He wipes his face off and says \"I hate sand\" as the camera cuts away and the opening credits/theme plays.</td>\n",
       "      <td>Had a dream last night after watching ROTS as to how the new Kenobi show should open</td>\n",
       "    </tr>\n",
       "    <tr>\n",
       "      <th>3</th>\n",
       "      <td>StarWars</td>\n",
       "      <td>Post contains spoilers for Star Wars Rebels and Clone Wars!\\n\\n\\nI've been seeing a lot of hate towards rebels recently, specifically the art, however, there are others commenting on the \"trash plot\", \"dull characters\" and a range of other criticism which I personally feel the show doesn't deserve.\\n\\nRebels is still Star Wars and it's a great piece of canon that really helps show what the empires reign was like in the early years. It is packed with exciting moments that are arguably more memorable than a lot of the memorable moments in the clone wars (with exception of season 7), such as Ahsoka vs Vader or Ezra and Thrawn disappearing into the outer rim somewhere and especially the development and final moments of Maul. \\n\\nRebels art style isn't even that bad, it's just not as good as the clone wars. The only major flaws in the artwork was Yoda, Hondo, Anakin and Bo, Everything else was fine if not good. Rebels was our first \"Canon\" introduction to how brutal Vader was in the ti...</td>\n",
       "      <td>Rebels is still a good show despite its faults.</td>\n",
       "    </tr>\n",
       "    <tr>\n",
       "      <th>4</th>\n",
       "      <td>StarWars</td>\n",
       "      <td>I once had a friend claim that Maul is just as evil, if not, MORE evil than old Sheev. I pondered that notion, but had to disagree. Here's why:\\n\\nMaul knew nothing besides violence and bloodshed from the day he was born. He grew up on the ruthless planet of Dathomir, and was recruited by Sidious at a young age. The ways of the Sith melded naturally with the warrior ways of male Dathomirian tribes. He never really had a chance to be anything but a killing machine. He grew to tfavor the Dark Side because it granted him the ability to reach the top of any hierarchy he desired, crowning him as the alpha among all of his peers.\\n\\nContrarily, Sidious was raised in a Royal family on the peaceful planet of Naboo. He was naturally drawn to positions of power, and sought out knowledge of the mythical Sith. He initially wasn't influenced by any outside force. He just thirsted for power. He wanted to sculpt the galaxy how he saw fit. Darth Plagueis discovered him because of his immense Forc...</td>\n",
       "      <td>Is Darth Maul as evil as Darth Sidious?</td>\n",
       "    </tr>\n",
       "    <tr>\n",
       "      <th>...</th>\n",
       "      <td>...</td>\n",
       "      <td>...</td>\n",
       "      <td>...</td>\n",
       "    </tr>\n",
       "    <tr>\n",
       "      <th>1028</th>\n",
       "      <td>startrek</td>\n",
       "      <td>Data’s life\\n\\nI’m not sure if all would agree but the way data chose to die seemed a bit premature. I’m not sure but by the time of nemesis we don’t know how much and how long data was able to experience humanity with his emotion chip. So whatever Maddox put together to keep data alive doesn’t necessarily mean he was experiencing humanity. Am I missing something? \\nI feel like he had so much more to experience, especially in such a big galaxy and rich universe with so much to learn. Data character had so many experiences waiting for him I feel....</td>\n",
       "      <td>Data’s lifespan</td>\n",
       "    </tr>\n",
       "    <tr>\n",
       "      <th>1029</th>\n",
       "      <td>startrek</td>\n",
       "      <td>To be blunt I didn't like Picard very much. I went in with high hopes that were killed off after the first episode. Remembrance was like a new spin on a favorite comfort food. There was enough nostolgia to scratch that itch and enough newness that made it feel different to TNG. Episodes 1-3 were mostly pleasant and then for me it fell off a cliff, with each coming episode a rock hitting me on the way down. \\n\\nIf it wasnt for for the old cast and crew of TNG and VOY I wouldn't even have watched the rest of the season. None of the new characters had time to breath and develop. Agnes was forgettable. Rios was just another hot headed Latino stereotype ala Po in the Star Wars sequels. Raffi downright creeped me the hell out for some reason. I found her switching from drunken junkie to mother figure (while well acted and would totally work in something like Moonlight) out of place and jarring in this show. Seven I felt was reduced down into kick-ass token LGBT character who for some re...</td>\n",
       "      <td>[Spoilers] St:Pic is making me like Discovery more</td>\n",
       "    </tr>\n",
       "    <tr>\n",
       "      <th>1030</th>\n",
       "      <td>startrek</td>\n",
       "      <td>* Raffi/Stephen Franklin: The trusted coworker that pushes themselves too hard and ends up falling into drug use. Has a troubled past with family.\\n* Rios/Susan Ivanova: Suffering military loner. Grumpy but has soft core. Has a relationship with someone who betrays the good guys.\\n* Jurati/Michael Garibaldi: Haunted by what they did while under the influence of psychics.\\n* Elnor/Marcus Cole: A fantasy character out of place in a scifi world.\\n* Dahj/Talia Winters: Exits their series in an event that demonstrates how evil the bad guys are. Both have hidden personalities awoken.\\n* Soji/Lyta Alexander: Chosen savior of their people.\\n* Picard/John Sheridan: Disliked and not trusted by the government they worked for. Eventually quits and forms their own group fight evil. Died and came back for our sins.\\n* Data/Delenn: Mcguffin. Comes from a group that all looks alike. Undergoes changes to become more human. Main protagonist is in love them.\\n\\nBoth series' plot involves the governm...</td>\n",
       "      <td>Is Star Trek: Picard actually Babylon 5?</td>\n",
       "    </tr>\n",
       "    <tr>\n",
       "      <th>1031</th>\n",
       "      <td>startrek</td>\n",
       "      <td>By the end of the season we have:  \\n\\n\\nTal-shiar infiltrator at the top of starfleet influencing policy for decades who has now returned to the Romulan empire with very current and highly-detailed intel on literally everything.  \\n\\n\\nStarfleet personnel involved in the cover-up of a several murders - Because the Tal-Shiar would have needed SOME sympathisers to get away with something so bold.  \\n\\n\\nKnowledge that the horrific slaughter on Mars was a direct Romulan terrorist attack.  \\n\\n\\nKnowledge that there's a trans-galactic synthetic alliance which hates organic life, and letting it in seems pretty easy.  \\n\\n\\nThe gigantic debt Starfleet / the Federation owe to Picard, and to a lesser extent: Acting captain Riker.  \\n\\n\\nThe absolute raging garbage fire that was the romulan neutral zone, and hosted the torture and murder of starfleet officers, plus the possibility of the Fenris Rangers rising again to deal with it if the Federation won't.</td>\n",
       "      <td>Picard S1 - Dealing with the fallout?</td>\n",
       "    </tr>\n",
       "    <tr>\n",
       "      <th>1032</th>\n",
       "      <td>startrek</td>\n",
       "      <td>Even if it’s to the detriment of continuity or plot. When Riker shows up at the end and saves the day even though I don’t understand how he got there, you best believe I love that shit. When Hugh shows up even though he dies the next episode, fuck yeah that’s my boi. I never really got into Voyager but I imagine if I did, I’d have Arsenio Halled my fist at seeing Seven in the trailer. I loved to see Picard say Engage again. I’m watching Picard because I fucking love Captain Picard and The Next Generation, and I relish any morsels of that universe. If all they did was gather the old crew together and have them go on more missions together a la the TOS Star Trek movies, I’d have a hands-free orgasm. I mean, the show is called Star Trek: Picard. How can I not expect fan service? And I fucking love it.</td>\n",
       "      <td>Damn right I love fan service.</td>\n",
       "    </tr>\n",
       "  </tbody>\n",
       "</table>\n",
       "<p>1033 rows × 3 columns</p>\n",
       "</div>"
      ],
      "text/plain": [
       "     subreddit  \\\n",
       "0     StarWars   \n",
       "1     StarWars   \n",
       "2     StarWars   \n",
       "3     StarWars   \n",
       "4     StarWars   \n",
       "...        ...   \n",
       "1028  startrek   \n",
       "1029  startrek   \n",
       "1030  startrek   \n",
       "1031  startrek   \n",
       "1032  startrek   \n",
       "\n",
       "                                                                                                                                                                                                                                                                                                                                                                                                                                                                                                                                                                                                                                                                                                                                                                                                                                                                                                                                                                                                                                    selftext  \\\n",
       "0                                                                                                                                                                                                                                                                                                                                                                                                                Full disclosure - I'm not fully aware of all the OT lore in the comics/canon books. After seeing the Clone Wars finale and knowing that Ahsoka was alive past ROTJ - is it possible that she met with and helped train Luke between ESB and ROTJ?\\n\\nLuke levels up quite a bit between those movies and I don't think he is trained by Yoda during that time (unless there is some other non-film canon explanation for how he gets so much better with the force.)\\n\\nIt would be sweet to see them interact somehow, or with some of the other OT/ST characters. Can't wait to see what they do with her in live action.   \n",
       "1                                                                                                                                                                                                                                                                                                                                                                                                                                                                          With baby yoda seeming to have a significant purpose, where will his place be in the next hundreds of years? With The sky walker saga being done it sounds like the main story line will not continue into the future. \\n\\nWhat will baby yoda purpose be? Will his life get cut short?\\n\\nWill Ezra and baby yoda end up being the future of the Jedi or Sith?\\n\\nOr will Mando and baby yoda lead the rise of mandalorians and build a new found friendship\\n\\nWe can guess Ashoka is dead based on the voice in rise of sky Walker so where will the future be   \n",
       "2                                                                                                                                                                                                                                                                                                                                The show starts showing two figures laughing and talking around a table, we can't hear them talking, just see their movements. The image focuses and it shows that these figures are obi wan and Anakin(Hayden Christensen) and they're on naboo. They both turn their head and a young boy runs up to Anakin and the camera pans over to padme walking in with a young girl. Obi wan looks up at her and smiles but then we hear a loud wind and the room goes dark. We're suddenly on tatooine with a worn down obi wan who just had his fire blown out and was hit in the face with some sand. He wipes his face off and says \"I hate sand\" as the camera cuts away and the opening credits/theme plays.   \n",
       "3     Post contains spoilers for Star Wars Rebels and Clone Wars!\\n\\n\\nI've been seeing a lot of hate towards rebels recently, specifically the art, however, there are others commenting on the \"trash plot\", \"dull characters\" and a range of other criticism which I personally feel the show doesn't deserve.\\n\\nRebels is still Star Wars and it's a great piece of canon that really helps show what the empires reign was like in the early years. It is packed with exciting moments that are arguably more memorable than a lot of the memorable moments in the clone wars (with exception of season 7), such as Ahsoka vs Vader or Ezra and Thrawn disappearing into the outer rim somewhere and especially the development and final moments of Maul. \\n\\nRebels art style isn't even that bad, it's just not as good as the clone wars. The only major flaws in the artwork was Yoda, Hondo, Anakin and Bo, Everything else was fine if not good. Rebels was our first \"Canon\" introduction to how brutal Vader was in the ti...   \n",
       "4     I once had a friend claim that Maul is just as evil, if not, MORE evil than old Sheev. I pondered that notion, but had to disagree. Here's why:\\n\\nMaul knew nothing besides violence and bloodshed from the day he was born. He grew up on the ruthless planet of Dathomir, and was recruited by Sidious at a young age. The ways of the Sith melded naturally with the warrior ways of male Dathomirian tribes. He never really had a chance to be anything but a killing machine. He grew to tfavor the Dark Side because it granted him the ability to reach the top of any hierarchy he desired, crowning him as the alpha among all of his peers.\\n\\nContrarily, Sidious was raised in a Royal family on the peaceful planet of Naboo. He was naturally drawn to positions of power, and sought out knowledge of the mythical Sith. He initially wasn't influenced by any outside force. He just thirsted for power. He wanted to sculpt the galaxy how he saw fit. Darth Plagueis discovered him because of his immense Forc...   \n",
       "...                                                                                                                                                                                                                                                                                                                                                                                                                                                                                                                                                                                                                                                                                                                                                                                                                                                                                                                                                                                                                                      ...   \n",
       "1028                                                                                                                                                                                                                                                                                                                                                                                                                                                              Data’s life\\n\\nI’m not sure if all would agree but the way data chose to die seemed a bit premature. I’m not sure but by the time of nemesis we don’t know how much and how long data was able to experience humanity with his emotion chip. So whatever Maddox put together to keep data alive doesn’t necessarily mean he was experiencing humanity. Am I missing something? \\nI feel like he had so much more to experience, especially in such a big galaxy and rich universe with so much to learn. Data character had so many experiences waiting for him I feel....   \n",
       "1029  To be blunt I didn't like Picard very much. I went in with high hopes that were killed off after the first episode. Remembrance was like a new spin on a favorite comfort food. There was enough nostolgia to scratch that itch and enough newness that made it feel different to TNG. Episodes 1-3 were mostly pleasant and then for me it fell off a cliff, with each coming episode a rock hitting me on the way down. \\n\\nIf it wasnt for for the old cast and crew of TNG and VOY I wouldn't even have watched the rest of the season. None of the new characters had time to breath and develop. Agnes was forgettable. Rios was just another hot headed Latino stereotype ala Po in the Star Wars sequels. Raffi downright creeped me the hell out for some reason. I found her switching from drunken junkie to mother figure (while well acted and would totally work in something like Moonlight) out of place and jarring in this show. Seven I felt was reduced down into kick-ass token LGBT character who for some re...   \n",
       "1030  * Raffi/Stephen Franklin: The trusted coworker that pushes themselves too hard and ends up falling into drug use. Has a troubled past with family.\\n* Rios/Susan Ivanova: Suffering military loner. Grumpy but has soft core. Has a relationship with someone who betrays the good guys.\\n* Jurati/Michael Garibaldi: Haunted by what they did while under the influence of psychics.\\n* Elnor/Marcus Cole: A fantasy character out of place in a scifi world.\\n* Dahj/Talia Winters: Exits their series in an event that demonstrates how evil the bad guys are. Both have hidden personalities awoken.\\n* Soji/Lyta Alexander: Chosen savior of their people.\\n* Picard/John Sheridan: Disliked and not trusted by the government they worked for. Eventually quits and forms their own group fight evil. Died and came back for our sins.\\n* Data/Delenn: Mcguffin. Comes from a group that all looks alike. Undergoes changes to become more human. Main protagonist is in love them.\\n\\nBoth series' plot involves the governm...   \n",
       "1031                                       By the end of the season we have:  \\n\\n\\nTal-shiar infiltrator at the top of starfleet influencing policy for decades who has now returned to the Romulan empire with very current and highly-detailed intel on literally everything.  \\n\\n\\nStarfleet personnel involved in the cover-up of a several murders - Because the Tal-Shiar would have needed SOME sympathisers to get away with something so bold.  \\n\\n\\nKnowledge that the horrific slaughter on Mars was a direct Romulan terrorist attack.  \\n\\n\\nKnowledge that there's a trans-galactic synthetic alliance which hates organic life, and letting it in seems pretty easy.  \\n\\n\\nThe gigantic debt Starfleet / the Federation owe to Picard, and to a lesser extent: Acting captain Riker.  \\n\\n\\nThe absolute raging garbage fire that was the romulan neutral zone, and hosted the torture and murder of starfleet officers, plus the possibility of the Fenris Rangers rising again to deal with it if the Federation won't.   \n",
       "1032                                                                                                                                                                                               Even if it’s to the detriment of continuity or plot. When Riker shows up at the end and saves the day even though I don’t understand how he got there, you best believe I love that shit. When Hugh shows up even though he dies the next episode, fuck yeah that’s my boi. I never really got into Voyager but I imagine if I did, I’d have Arsenio Halled my fist at seeing Seven in the trailer. I loved to see Picard say Engage again. I’m watching Picard because I fucking love Captain Picard and The Next Generation, and I relish any morsels of that universe. If all they did was gather the old crew together and have them go on more missions together a la the TOS Star Trek movies, I’d have a hands-free orgasm. I mean, the show is called Star Trek: Picard. How can I not expect fan service? And I fucking love it.   \n",
       "\n",
       "                                                                                     title  \n",
       "0                                                     Theory: Does Ahsoka help train Luke?  \n",
       "1                                                          What wil baby yoda end up being  \n",
       "2     Had a dream last night after watching ROTS as to how the new Kenobi show should open  \n",
       "3                                          Rebels is still a good show despite its faults.  \n",
       "4                                                  Is Darth Maul as evil as Darth Sidious?  \n",
       "...                                                                                    ...  \n",
       "1028                                                                       Data’s lifespan  \n",
       "1029                                    [Spoilers] St:Pic is making me like Discovery more  \n",
       "1030                                              Is Star Trek: Picard actually Babylon 5?  \n",
       "1031                                                 Picard S1 - Dealing with the fallout?  \n",
       "1032                                                        Damn right I love fan service.  \n",
       "\n",
       "[1033 rows x 3 columns]"
      ]
     },
     "execution_count": 23,
     "metadata": {},
     "output_type": "execute_result"
    }
   ],
   "source": [
    "new_df=pd.concat([new_1, new_2], ignore_index=True)\n",
    "new_df"
   ]
  },
  {
   "cell_type": "code",
   "execution_count": 24,
   "metadata": {},
   "outputs": [],
   "source": [
    "new_df.to_csv('new_df.csv',index=False)\n",
    "\n"
   ]
  },
  {
   "cell_type": "code",
   "execution_count": 25,
   "metadata": {},
   "outputs": [],
   "source": [
    "df_ed = pd.read_csv('new_df.csv')"
   ]
  },
  {
   "cell_type": "code",
   "execution_count": 26,
   "metadata": {},
   "outputs": [
    {
     "data": {
      "text/html": [
       "<div>\n",
       "<style scoped>\n",
       "    .dataframe tbody tr th:only-of-type {\n",
       "        vertical-align: middle;\n",
       "    }\n",
       "\n",
       "    .dataframe tbody tr th {\n",
       "        vertical-align: top;\n",
       "    }\n",
       "\n",
       "    .dataframe thead th {\n",
       "        text-align: right;\n",
       "    }\n",
       "</style>\n",
       "<table border=\"1\" class=\"dataframe\">\n",
       "  <thead>\n",
       "    <tr style=\"text-align: right;\">\n",
       "      <th></th>\n",
       "      <th>subreddit</th>\n",
       "      <th>selftext</th>\n",
       "      <th>title</th>\n",
       "    </tr>\n",
       "  </thead>\n",
       "  <tbody>\n",
       "    <tr>\n",
       "      <th>0</th>\n",
       "      <td>StarWars</td>\n",
       "      <td>Full disclosure - I'm not fully aware of all the OT lore in the comics/canon books. After seeing the Clone Wars finale and knowing that Ahsoka was alive past ROTJ - is it possible that she met with and helped train Luke between ESB and ROTJ?\\n\\nLuke levels up quite a bit between those movies and I don't think he is trained by Yoda during that time (unless there is some other non-film canon explanation for how he gets so much better with the force.)\\n\\nIt would be sweet to see them interact somehow, or with some of the other OT/ST characters. Can't wait to see what they do with her in live action.</td>\n",
       "      <td>Theory: Does Ahsoka help train Luke?</td>\n",
       "    </tr>\n",
       "    <tr>\n",
       "      <th>1</th>\n",
       "      <td>StarWars</td>\n",
       "      <td>With baby yoda seeming to have a significant purpose, where will his place be in the next hundreds of years? With The sky walker saga being done it sounds like the main story line will not continue into the future. \\n\\nWhat will baby yoda purpose be? Will his life get cut short?\\n\\nWill Ezra and baby yoda end up being the future of the Jedi or Sith?\\n\\nOr will Mando and baby yoda lead the rise of mandalorians and build a new found friendship\\n\\nWe can guess Ashoka is dead based on the voice in rise of sky Walker so where will the future be</td>\n",
       "      <td>What wil baby yoda end up being</td>\n",
       "    </tr>\n",
       "    <tr>\n",
       "      <th>2</th>\n",
       "      <td>StarWars</td>\n",
       "      <td>The show starts showing two figures laughing and talking around a table, we can't hear them talking, just see their movements. The image focuses and it shows that these figures are obi wan and Anakin(Hayden Christensen) and they're on naboo. They both turn their head and a young boy runs up to Anakin and the camera pans over to padme walking in with a young girl. Obi wan looks up at her and smiles but then we hear a loud wind and the room goes dark. We're suddenly on tatooine with a worn down obi wan who just had his fire blown out and was hit in the face with some sand. He wipes his face off and says \"I hate sand\" as the camera cuts away and the opening credits/theme plays.</td>\n",
       "      <td>Had a dream last night after watching ROTS as to how the new Kenobi show should open</td>\n",
       "    </tr>\n",
       "    <tr>\n",
       "      <th>3</th>\n",
       "      <td>StarWars</td>\n",
       "      <td>Post contains spoilers for Star Wars Rebels and Clone Wars!\\n\\n\\nI've been seeing a lot of hate towards rebels recently, specifically the art, however, there are others commenting on the \"trash plot\", \"dull characters\" and a range of other criticism which I personally feel the show doesn't deserve.\\n\\nRebels is still Star Wars and it's a great piece of canon that really helps show what the empires reign was like in the early years. It is packed with exciting moments that are arguably more memorable than a lot of the memorable moments in the clone wars (with exception of season 7), such as Ahsoka vs Vader or Ezra and Thrawn disappearing into the outer rim somewhere and especially the development and final moments of Maul. \\n\\nRebels art style isn't even that bad, it's just not as good as the clone wars. The only major flaws in the artwork was Yoda, Hondo, Anakin and Bo, Everything else was fine if not good. Rebels was our first \"Canon\" introduction to how brutal Vader was in the ti...</td>\n",
       "      <td>Rebels is still a good show despite its faults.</td>\n",
       "    </tr>\n",
       "    <tr>\n",
       "      <th>4</th>\n",
       "      <td>StarWars</td>\n",
       "      <td>I once had a friend claim that Maul is just as evil, if not, MORE evil than old Sheev. I pondered that notion, but had to disagree. Here's why:\\n\\nMaul knew nothing besides violence and bloodshed from the day he was born. He grew up on the ruthless planet of Dathomir, and was recruited by Sidious at a young age. The ways of the Sith melded naturally with the warrior ways of male Dathomirian tribes. He never really had a chance to be anything but a killing machine. He grew to tfavor the Dark Side because it granted him the ability to reach the top of any hierarchy he desired, crowning him as the alpha among all of his peers.\\n\\nContrarily, Sidious was raised in a Royal family on the peaceful planet of Naboo. He was naturally drawn to positions of power, and sought out knowledge of the mythical Sith. He initially wasn't influenced by any outside force. He just thirsted for power. He wanted to sculpt the galaxy how he saw fit. Darth Plagueis discovered him because of his immense Forc...</td>\n",
       "      <td>Is Darth Maul as evil as Darth Sidious?</td>\n",
       "    </tr>\n",
       "  </tbody>\n",
       "</table>\n",
       "</div>"
      ],
      "text/plain": [
       "  subreddit  \\\n",
       "0  StarWars   \n",
       "1  StarWars   \n",
       "2  StarWars   \n",
       "3  StarWars   \n",
       "4  StarWars   \n",
       "\n",
       "                                                                                                                                                                                                                                                                                                                                                                                                                                                                                                                                                                                                                                                                                                                                                                                                                                                                                                                                                                                                                                 selftext  \\\n",
       "0                                                                                                                                                                                                                                                                                                                                                                                                             Full disclosure - I'm not fully aware of all the OT lore in the comics/canon books. After seeing the Clone Wars finale and knowing that Ahsoka was alive past ROTJ - is it possible that she met with and helped train Luke between ESB and ROTJ?\\n\\nLuke levels up quite a bit between those movies and I don't think he is trained by Yoda during that time (unless there is some other non-film canon explanation for how he gets so much better with the force.)\\n\\nIt would be sweet to see them interact somehow, or with some of the other OT/ST characters. Can't wait to see what they do with her in live action.   \n",
       "1                                                                                                                                                                                                                                                                                                                                                                                                                                                                       With baby yoda seeming to have a significant purpose, where will his place be in the next hundreds of years? With The sky walker saga being done it sounds like the main story line will not continue into the future. \\n\\nWhat will baby yoda purpose be? Will his life get cut short?\\n\\nWill Ezra and baby yoda end up being the future of the Jedi or Sith?\\n\\nOr will Mando and baby yoda lead the rise of mandalorians and build a new found friendship\\n\\nWe can guess Ashoka is dead based on the voice in rise of sky Walker so where will the future be   \n",
       "2                                                                                                                                                                                                                                                                                                                             The show starts showing two figures laughing and talking around a table, we can't hear them talking, just see their movements. The image focuses and it shows that these figures are obi wan and Anakin(Hayden Christensen) and they're on naboo. They both turn their head and a young boy runs up to Anakin and the camera pans over to padme walking in with a young girl. Obi wan looks up at her and smiles but then we hear a loud wind and the room goes dark. We're suddenly on tatooine with a worn down obi wan who just had his fire blown out and was hit in the face with some sand. He wipes his face off and says \"I hate sand\" as the camera cuts away and the opening credits/theme plays.   \n",
       "3  Post contains spoilers for Star Wars Rebels and Clone Wars!\\n\\n\\nI've been seeing a lot of hate towards rebels recently, specifically the art, however, there are others commenting on the \"trash plot\", \"dull characters\" and a range of other criticism which I personally feel the show doesn't deserve.\\n\\nRebels is still Star Wars and it's a great piece of canon that really helps show what the empires reign was like in the early years. It is packed with exciting moments that are arguably more memorable than a lot of the memorable moments in the clone wars (with exception of season 7), such as Ahsoka vs Vader or Ezra and Thrawn disappearing into the outer rim somewhere and especially the development and final moments of Maul. \\n\\nRebels art style isn't even that bad, it's just not as good as the clone wars. The only major flaws in the artwork was Yoda, Hondo, Anakin and Bo, Everything else was fine if not good. Rebels was our first \"Canon\" introduction to how brutal Vader was in the ti...   \n",
       "4  I once had a friend claim that Maul is just as evil, if not, MORE evil than old Sheev. I pondered that notion, but had to disagree. Here's why:\\n\\nMaul knew nothing besides violence and bloodshed from the day he was born. He grew up on the ruthless planet of Dathomir, and was recruited by Sidious at a young age. The ways of the Sith melded naturally with the warrior ways of male Dathomirian tribes. He never really had a chance to be anything but a killing machine. He grew to tfavor the Dark Side because it granted him the ability to reach the top of any hierarchy he desired, crowning him as the alpha among all of his peers.\\n\\nContrarily, Sidious was raised in a Royal family on the peaceful planet of Naboo. He was naturally drawn to positions of power, and sought out knowledge of the mythical Sith. He initially wasn't influenced by any outside force. He just thirsted for power. He wanted to sculpt the galaxy how he saw fit. Darth Plagueis discovered him because of his immense Forc...   \n",
       "\n",
       "                                                                                  title  \n",
       "0                                                  Theory: Does Ahsoka help train Luke?  \n",
       "1                                                       What wil baby yoda end up being  \n",
       "2  Had a dream last night after watching ROTS as to how the new Kenobi show should open  \n",
       "3                                       Rebels is still a good show despite its faults.  \n",
       "4                                               Is Darth Maul as evil as Darth Sidious?  "
      ]
     },
     "execution_count": 26,
     "metadata": {},
     "output_type": "execute_result"
    }
   ],
   "source": [
    "df_ed.head(5)"
   ]
  },
  {
   "cell_type": "code",
   "execution_count": 27,
   "metadata": {},
   "outputs": [],
   "source": [
    "import nltk"
   ]
  },
  {
   "cell_type": "code",
   "execution_count": 28,
   "metadata": {},
   "outputs": [
    {
     "name": "stderr",
     "output_type": "stream",
     "text": [
      "[nltk_data] Downloading package wordnet to\n",
      "[nltk_data]     /Users/upasanamahanta/nltk_data...\n",
      "[nltk_data]   Package wordnet is already up-to-date!\n"
     ]
    },
    {
     "data": {
      "text/plain": [
       "True"
      ]
     },
     "execution_count": 28,
     "metadata": {},
     "output_type": "execute_result"
    }
   ],
   "source": [
    "from nltk.stem import WordNetLemmatizer\n",
    "lemmatizer = WordNetLemmatizer()\n",
    "nltk.download('wordnet')"
   ]
  },
  {
   "cell_type": "code",
   "execution_count": 29,
   "metadata": {},
   "outputs": [],
   "source": [
    "# Import Tokenizer\n",
    "from nltk.tokenize import RegexpTokenizer"
   ]
  },
  {
   "cell_type": "code",
   "execution_count": 30,
   "metadata": {},
   "outputs": [],
   "source": [
    "import pandas as pd\n",
    "from sklearn.model_selection import train_test_split, GridSearchCV\n",
    "from sklearn.pipeline import Pipeline\n",
    "from sklearn.linear_model import LogisticRegression\n",
    "\n",
    "# Import CountVectorizer and TFIDFVectorizer from feature_extraction.text.\n",
    "from sklearn.feature_extraction.text import CountVectorizer, TfidfVectorizer"
   ]
  },
  {
   "cell_type": "code",
   "execution_count": 31,
   "metadata": {},
   "outputs": [
    {
     "data": {
      "text/html": [
       "<div>\n",
       "<style scoped>\n",
       "    .dataframe tbody tr th:only-of-type {\n",
       "        vertical-align: middle;\n",
       "    }\n",
       "\n",
       "    .dataframe tbody tr th {\n",
       "        vertical-align: top;\n",
       "    }\n",
       "\n",
       "    .dataframe thead th {\n",
       "        text-align: right;\n",
       "    }\n",
       "</style>\n",
       "<table border=\"1\" class=\"dataframe\">\n",
       "  <thead>\n",
       "    <tr style=\"text-align: right;\">\n",
       "      <th></th>\n",
       "      <th>subreddit</th>\n",
       "      <th>selftext</th>\n",
       "      <th>title</th>\n",
       "    </tr>\n",
       "  </thead>\n",
       "  <tbody>\n",
       "    <tr>\n",
       "      <th>0</th>\n",
       "      <td>0</td>\n",
       "      <td>Full disclosure - I'm not fully aware of all the OT lore in the comics/canon books. After seeing the Clone Wars finale and knowing that Ahsoka was alive past ROTJ - is it possible that she met with and helped train Luke between ESB and ROTJ?\\n\\nLuke levels up quite a bit between those movies and I don't think he is trained by Yoda during that time (unless there is some other non-film canon explanation for how he gets so much better with the force.)\\n\\nIt would be sweet to see them interact somehow, or with some of the other OT/ST characters. Can't wait to see what they do with her in live action.</td>\n",
       "      <td>Theory: Does Ahsoka help train Luke?</td>\n",
       "    </tr>\n",
       "    <tr>\n",
       "      <th>1</th>\n",
       "      <td>0</td>\n",
       "      <td>With baby yoda seeming to have a significant purpose, where will his place be in the next hundreds of years? With The sky walker saga being done it sounds like the main story line will not continue into the future. \\n\\nWhat will baby yoda purpose be? Will his life get cut short?\\n\\nWill Ezra and baby yoda end up being the future of the Jedi or Sith?\\n\\nOr will Mando and baby yoda lead the rise of mandalorians and build a new found friendship\\n\\nWe can guess Ashoka is dead based on the voice in rise of sky Walker so where will the future be</td>\n",
       "      <td>What wil baby yoda end up being</td>\n",
       "    </tr>\n",
       "    <tr>\n",
       "      <th>2</th>\n",
       "      <td>0</td>\n",
       "      <td>The show starts showing two figures laughing and talking around a table, we can't hear them talking, just see their movements. The image focuses and it shows that these figures are obi wan and Anakin(Hayden Christensen) and they're on naboo. They both turn their head and a young boy runs up to Anakin and the camera pans over to padme walking in with a young girl. Obi wan looks up at her and smiles but then we hear a loud wind and the room goes dark. We're suddenly on tatooine with a worn down obi wan who just had his fire blown out and was hit in the face with some sand. He wipes his face off and says \"I hate sand\" as the camera cuts away and the opening credits/theme plays.</td>\n",
       "      <td>Had a dream last night after watching ROTS as to how the new Kenobi show should open</td>\n",
       "    </tr>\n",
       "    <tr>\n",
       "      <th>3</th>\n",
       "      <td>0</td>\n",
       "      <td>Post contains spoilers for Star Wars Rebels and Clone Wars!\\n\\n\\nI've been seeing a lot of hate towards rebels recently, specifically the art, however, there are others commenting on the \"trash plot\", \"dull characters\" and a range of other criticism which I personally feel the show doesn't deserve.\\n\\nRebels is still Star Wars and it's a great piece of canon that really helps show what the empires reign was like in the early years. It is packed with exciting moments that are arguably more memorable than a lot of the memorable moments in the clone wars (with exception of season 7), such as Ahsoka vs Vader or Ezra and Thrawn disappearing into the outer rim somewhere and especially the development and final moments of Maul. \\n\\nRebels art style isn't even that bad, it's just not as good as the clone wars. The only major flaws in the artwork was Yoda, Hondo, Anakin and Bo, Everything else was fine if not good. Rebels was our first \"Canon\" introduction to how brutal Vader was in the ti...</td>\n",
       "      <td>Rebels is still a good show despite its faults.</td>\n",
       "    </tr>\n",
       "    <tr>\n",
       "      <th>4</th>\n",
       "      <td>0</td>\n",
       "      <td>I once had a friend claim that Maul is just as evil, if not, MORE evil than old Sheev. I pondered that notion, but had to disagree. Here's why:\\n\\nMaul knew nothing besides violence and bloodshed from the day he was born. He grew up on the ruthless planet of Dathomir, and was recruited by Sidious at a young age. The ways of the Sith melded naturally with the warrior ways of male Dathomirian tribes. He never really had a chance to be anything but a killing machine. He grew to tfavor the Dark Side because it granted him the ability to reach the top of any hierarchy he desired, crowning him as the alpha among all of his peers.\\n\\nContrarily, Sidious was raised in a Royal family on the peaceful planet of Naboo. He was naturally drawn to positions of power, and sought out knowledge of the mythical Sith. He initially wasn't influenced by any outside force. He just thirsted for power. He wanted to sculpt the galaxy how he saw fit. Darth Plagueis discovered him because of his immense Forc...</td>\n",
       "      <td>Is Darth Maul as evil as Darth Sidious?</td>\n",
       "    </tr>\n",
       "  </tbody>\n",
       "</table>\n",
       "</div>"
      ],
      "text/plain": [
       "   subreddit  \\\n",
       "0          0   \n",
       "1          0   \n",
       "2          0   \n",
       "3          0   \n",
       "4          0   \n",
       "\n",
       "                                                                                                                                                                                                                                                                                                                                                                                                                                                                                                                                                                                                                                                                                                                                                                                                                                                                                                                                                                                                                                 selftext  \\\n",
       "0                                                                                                                                                                                                                                                                                                                                                                                                             Full disclosure - I'm not fully aware of all the OT lore in the comics/canon books. After seeing the Clone Wars finale and knowing that Ahsoka was alive past ROTJ - is it possible that she met with and helped train Luke between ESB and ROTJ?\\n\\nLuke levels up quite a bit between those movies and I don't think he is trained by Yoda during that time (unless there is some other non-film canon explanation for how he gets so much better with the force.)\\n\\nIt would be sweet to see them interact somehow, or with some of the other OT/ST characters. Can't wait to see what they do with her in live action.   \n",
       "1                                                                                                                                                                                                                                                                                                                                                                                                                                                                       With baby yoda seeming to have a significant purpose, where will his place be in the next hundreds of years? With The sky walker saga being done it sounds like the main story line will not continue into the future. \\n\\nWhat will baby yoda purpose be? Will his life get cut short?\\n\\nWill Ezra and baby yoda end up being the future of the Jedi or Sith?\\n\\nOr will Mando and baby yoda lead the rise of mandalorians and build a new found friendship\\n\\nWe can guess Ashoka is dead based on the voice in rise of sky Walker so where will the future be   \n",
       "2                                                                                                                                                                                                                                                                                                                             The show starts showing two figures laughing and talking around a table, we can't hear them talking, just see their movements. The image focuses and it shows that these figures are obi wan and Anakin(Hayden Christensen) and they're on naboo. They both turn their head and a young boy runs up to Anakin and the camera pans over to padme walking in with a young girl. Obi wan looks up at her and smiles but then we hear a loud wind and the room goes dark. We're suddenly on tatooine with a worn down obi wan who just had his fire blown out and was hit in the face with some sand. He wipes his face off and says \"I hate sand\" as the camera cuts away and the opening credits/theme plays.   \n",
       "3  Post contains spoilers for Star Wars Rebels and Clone Wars!\\n\\n\\nI've been seeing a lot of hate towards rebels recently, specifically the art, however, there are others commenting on the \"trash plot\", \"dull characters\" and a range of other criticism which I personally feel the show doesn't deserve.\\n\\nRebels is still Star Wars and it's a great piece of canon that really helps show what the empires reign was like in the early years. It is packed with exciting moments that are arguably more memorable than a lot of the memorable moments in the clone wars (with exception of season 7), such as Ahsoka vs Vader or Ezra and Thrawn disappearing into the outer rim somewhere and especially the development and final moments of Maul. \\n\\nRebels art style isn't even that bad, it's just not as good as the clone wars. The only major flaws in the artwork was Yoda, Hondo, Anakin and Bo, Everything else was fine if not good. Rebels was our first \"Canon\" introduction to how brutal Vader was in the ti...   \n",
       "4  I once had a friend claim that Maul is just as evil, if not, MORE evil than old Sheev. I pondered that notion, but had to disagree. Here's why:\\n\\nMaul knew nothing besides violence and bloodshed from the day he was born. He grew up on the ruthless planet of Dathomir, and was recruited by Sidious at a young age. The ways of the Sith melded naturally with the warrior ways of male Dathomirian tribes. He never really had a chance to be anything but a killing machine. He grew to tfavor the Dark Side because it granted him the ability to reach the top of any hierarchy he desired, crowning him as the alpha among all of his peers.\\n\\nContrarily, Sidious was raised in a Royal family on the peaceful planet of Naboo. He was naturally drawn to positions of power, and sought out knowledge of the mythical Sith. He initially wasn't influenced by any outside force. He just thirsted for power. He wanted to sculpt the galaxy how he saw fit. Darth Plagueis discovered him because of his immense Forc...   \n",
       "\n",
       "                                                                                  title  \n",
       "0                                                  Theory: Does Ahsoka help train Luke?  \n",
       "1                                                       What wil baby yoda end up being  \n",
       "2  Had a dream last night after watching ROTS as to how the new Kenobi show should open  \n",
       "3                                       Rebels is still a good show despite its faults.  \n",
       "4                                               Is Darth Maul as evil as Darth Sidious?  "
      ]
     },
     "execution_count": 31,
     "metadata": {},
     "output_type": "execute_result"
    }
   ],
   "source": [
    "df_ed['subreddit'] = df_ed['subreddit'].map({'StarWars': 0, 'startrek': 1})\n",
    "df_ed.head()"
   ]
  },
  {
   "cell_type": "code",
   "execution_count": 32,
   "metadata": {},
   "outputs": [
    {
     "data": {
      "text/plain": [
       "subreddit    0\n",
       "selftext     0\n",
       "title        0\n",
       "dtype: int64"
      ]
     },
     "execution_count": 32,
     "metadata": {},
     "output_type": "execute_result"
    }
   ],
   "source": [
    "df_ed.isnull().sum()"
   ]
  },
  {
   "cell_type": "code",
   "execution_count": 33,
   "metadata": {},
   "outputs": [],
   "source": [
    "#Cleaning the selftext for visualization"
   ]
  },
  {
   "cell_type": "code",
   "execution_count": 34,
   "metadata": {},
   "outputs": [
    {
     "data": {
      "text/html": [
       "        <script type=\"text/javascript\">\n",
       "        window.PlotlyConfig = {MathJaxConfig: 'local'};\n",
       "        if (window.MathJax) {MathJax.Hub.Config({SVG: {font: \"STIX-Web\"}});}\n",
       "        if (typeof require !== 'undefined') {\n",
       "        require.undef(\"plotly\");\n",
       "        requirejs.config({\n",
       "            paths: {\n",
       "                'plotly': ['https://cdn.plot.ly/plotly-latest.min']\n",
       "            }\n",
       "        });\n",
       "        require(['plotly'], function(Plotly) {\n",
       "            window._Plotly = Plotly;\n",
       "        });\n",
       "        }\n",
       "        </script>\n",
       "        "
      ]
     },
     "metadata": {},
     "output_type": "display_data"
    }
   ],
   "source": [
    "import cufflinks as cf\n",
    "cf.go_offline()\n",
    "cf.set_config_file(offline=False, world_readable=True)"
   ]
  },
  {
   "cell_type": "code",
   "execution_count": 35,
   "metadata": {},
   "outputs": [],
   "source": [
    "df_ed.drop(df_ed.columns[df_ed.columns.str.contains('unnamed',case = False)],axis = 1, inplace = True)\n",
    "\n",
    "def preprocess(SelfText):\n",
    "    SelfText = SelfText.astype(str).str.replace(\"(<br/>)\", \"\")\n",
    "    SelfText = SelfText.astype(str).str.replace('(<a).*(>).*(</a>)', '')\n",
    "    SelfText = SelfText.astype(str).str.replace('(&amp)', '')\n",
    "    SelfText = SelfText.astype(str).str.replace('(\\n)', '')\n",
    "    SelfText = SelfText.astype(str).str.replace('(\\t)', '')\n",
    "    SelfText = SelfText.astype(str).str.replace('(&gt)', '')\n",
    "    SelfText = SelfText.astype(str).str.replace('(&lt)', '')\n",
    "    SelfText = SelfText.astype(str).str.replace('(\\xa0)', ' ')  \n",
    "    return SelfText\n",
    "df_ed['selftext'] = preprocess(df_ed['selftext'])\n",
    "\n",
    "df_ed['polarity'] = df_ed['selftext'].map(lambda text: TextBlob(text).sentiment.polarity)\n",
    "df_ed['text_len'] = df_ed['selftext'].astype(str).apply(len)\n",
    "df_ed['word_count'] = df_ed['selftext'].apply(lambda x: len(str(x).split()))"
   ]
  },
  {
   "cell_type": "code",
   "execution_count": 36,
   "metadata": {},
   "outputs": [
    {
     "data": {
      "text/html": [
       "<div>\n",
       "<style scoped>\n",
       "    .dataframe tbody tr th:only-of-type {\n",
       "        vertical-align: middle;\n",
       "    }\n",
       "\n",
       "    .dataframe tbody tr th {\n",
       "        vertical-align: top;\n",
       "    }\n",
       "\n",
       "    .dataframe thead th {\n",
       "        text-align: right;\n",
       "    }\n",
       "</style>\n",
       "<table border=\"1\" class=\"dataframe\">\n",
       "  <thead>\n",
       "    <tr style=\"text-align: right;\">\n",
       "      <th></th>\n",
       "      <th>subreddit</th>\n",
       "      <th>selftext</th>\n",
       "      <th>title</th>\n",
       "      <th>polarity</th>\n",
       "      <th>text_len</th>\n",
       "      <th>word_count</th>\n",
       "    </tr>\n",
       "  </thead>\n",
       "  <tbody>\n",
       "    <tr>\n",
       "      <th>0</th>\n",
       "      <td>0</td>\n",
       "      <td>Full disclosure - I'm not fully aware of all the OT lore in the comics/canon books. After seeing the Clone Wars finale and knowing that Ahsoka was alive past ROTJ - is it possible that she met with and helped train Luke between ESB and ROTJ?Luke levels up quite a bit between those movies and I don't think he is trained by Yoda during that time (unless there is some other non-film canon explanation for how he gets so much better with the force.)It would be sweet to see them interact somehow, or with some of the other OT/ST characters. Can't wait to see what they do with her in live action.</td>\n",
       "      <td>Theory: Does Ahsoka help train Luke?</td>\n",
       "      <td>0.116942</td>\n",
       "      <td>595</td>\n",
       "      <td>112</td>\n",
       "    </tr>\n",
       "    <tr>\n",
       "      <th>1</th>\n",
       "      <td>0</td>\n",
       "      <td>With baby yoda seeming to have a significant purpose, where will his place be in the next hundreds of years? With The sky walker saga being done it sounds like the main story line will not continue into the future. What will baby yoda purpose be? Will his life get cut short?Will Ezra and baby yoda end up being the future of the Jedi or Sith?Or will Mando and baby yoda lead the rise of mandalorians and build a new found friendshipWe can guess Ashoka is dead based on the voice in rise of sky Walker so where will the future be</td>\n",
       "      <td>What wil baby yoda end up being</td>\n",
       "      <td>0.059754</td>\n",
       "      <td>529</td>\n",
       "      <td>102</td>\n",
       "    </tr>\n",
       "    <tr>\n",
       "      <th>2</th>\n",
       "      <td>0</td>\n",
       "      <td>The show starts showing two figures laughing and talking around a table, we can't hear them talking, just see their movements. The image focuses and it shows that these figures are obi wan and Anakin(Hayden Christensen) and they're on naboo. They both turn their head and a young boy runs up to Anakin and the camera pans over to padme walking in with a young girl. Obi wan looks up at her and smiles but then we hear a loud wind and the room goes dark. We're suddenly on tatooine with a worn down obi wan who just had his fire blown out and was hit in the face with some sand. He wipes his face off and says \"I hate sand\" as the camera cuts away and the opening credits/theme plays.</td>\n",
       "      <td>Had a dream last night after watching ROTS as to how the new Kenobi show should open</td>\n",
       "      <td>-0.140556</td>\n",
       "      <td>683</td>\n",
       "      <td>132</td>\n",
       "    </tr>\n",
       "    <tr>\n",
       "      <th>3</th>\n",
       "      <td>0</td>\n",
       "      <td>Post contains spoilers for Star Wars Rebels and Clone Wars!I've been seeing a lot of hate towards rebels recently, specifically the art, however, there are others commenting on the \"trash plot\", \"dull characters\" and a range of other criticism which I personally feel the show doesn't deserve.Rebels is still Star Wars and it's a great piece of canon that really helps show what the empires reign was like in the early years. It is packed with exciting moments that are arguably more memorable than a lot of the memorable moments in the clone wars (with exception of season 7), such as Ahsoka vs Vader or Ezra and Thrawn disappearing into the outer rim somewhere and especially the development and final moments of Maul. Rebels art style isn't even that bad, it's just not as good as the clone wars. The only major flaws in the artwork was Yoda, Hondo, Anakin and Bo, Everything else was fine if not good. Rebels was our first \"Canon\" introduction to how brutal Vader was in the time between ROT...</td>\n",
       "      <td>Rebels is still a good show despite its faults.</td>\n",
       "      <td>0.030613</td>\n",
       "      <td>1520</td>\n",
       "      <td>270</td>\n",
       "    </tr>\n",
       "    <tr>\n",
       "      <th>4</th>\n",
       "      <td>0</td>\n",
       "      <td>I once had a friend claim that Maul is just as evil, if not, MORE evil than old Sheev. I pondered that notion, but had to disagree. Here's why:Maul knew nothing besides violence and bloodshed from the day he was born. He grew up on the ruthless planet of Dathomir, and was recruited by Sidious at a young age. The ways of the Sith melded naturally with the warrior ways of male Dathomirian tribes. He never really had a chance to be anything but a killing machine. He grew to tfavor the Dark Side because it granted him the ability to reach the top of any hierarchy he desired, crowning him as the alpha among all of his peers.Contrarily, Sidious was raised in a Royal family on the peaceful planet of Naboo. He was naturally drawn to positions of power, and sought out knowledge of the mythical Sith. He initially wasn't influenced by any outside force. He just thirsted for power. He wanted to sculpt the galaxy how he saw fit. Darth Plagueis discovered him because of his immense Force sensit...</td>\n",
       "      <td>Is Darth Maul as evil as Darth Sidious?</td>\n",
       "      <td>0.016757</td>\n",
       "      <td>2518</td>\n",
       "      <td>444</td>\n",
       "    </tr>\n",
       "  </tbody>\n",
       "</table>\n",
       "</div>"
      ],
      "text/plain": [
       "   subreddit  \\\n",
       "0          0   \n",
       "1          0   \n",
       "2          0   \n",
       "3          0   \n",
       "4          0   \n",
       "\n",
       "                                                                                                                                                                                                                                                                                                                                                                                                                                                                                                                                                                                                                                                                                                                                                                                                                                                                                                                                                                                                                                 selftext  \\\n",
       "0                                                                                                                                                                                                                                                                                                                                                                                                                     Full disclosure - I'm not fully aware of all the OT lore in the comics/canon books. After seeing the Clone Wars finale and knowing that Ahsoka was alive past ROTJ - is it possible that she met with and helped train Luke between ESB and ROTJ?Luke levels up quite a bit between those movies and I don't think he is trained by Yoda during that time (unless there is some other non-film canon explanation for how he gets so much better with the force.)It would be sweet to see them interact somehow, or with some of the other OT/ST characters. Can't wait to see what they do with her in live action.   \n",
       "1                                                                                                                                                                                                                                                                                                                                                                                                                                                                                       With baby yoda seeming to have a significant purpose, where will his place be in the next hundreds of years? With The sky walker saga being done it sounds like the main story line will not continue into the future. What will baby yoda purpose be? Will his life get cut short?Will Ezra and baby yoda end up being the future of the Jedi or Sith?Or will Mando and baby yoda lead the rise of mandalorians and build a new found friendshipWe can guess Ashoka is dead based on the voice in rise of sky Walker so where will the future be   \n",
       "2                                                                                                                                                                                                                                                                                                                             The show starts showing two figures laughing and talking around a table, we can't hear them talking, just see their movements. The image focuses and it shows that these figures are obi wan and Anakin(Hayden Christensen) and they're on naboo. They both turn their head and a young boy runs up to Anakin and the camera pans over to padme walking in with a young girl. Obi wan looks up at her and smiles but then we hear a loud wind and the room goes dark. We're suddenly on tatooine with a worn down obi wan who just had his fire blown out and was hit in the face with some sand. He wipes his face off and says \"I hate sand\" as the camera cuts away and the opening credits/theme plays.   \n",
       "3  Post contains spoilers for Star Wars Rebels and Clone Wars!I've been seeing a lot of hate towards rebels recently, specifically the art, however, there are others commenting on the \"trash plot\", \"dull characters\" and a range of other criticism which I personally feel the show doesn't deserve.Rebels is still Star Wars and it's a great piece of canon that really helps show what the empires reign was like in the early years. It is packed with exciting moments that are arguably more memorable than a lot of the memorable moments in the clone wars (with exception of season 7), such as Ahsoka vs Vader or Ezra and Thrawn disappearing into the outer rim somewhere and especially the development and final moments of Maul. Rebels art style isn't even that bad, it's just not as good as the clone wars. The only major flaws in the artwork was Yoda, Hondo, Anakin and Bo, Everything else was fine if not good. Rebels was our first \"Canon\" introduction to how brutal Vader was in the time between ROT...   \n",
       "4  I once had a friend claim that Maul is just as evil, if not, MORE evil than old Sheev. I pondered that notion, but had to disagree. Here's why:Maul knew nothing besides violence and bloodshed from the day he was born. He grew up on the ruthless planet of Dathomir, and was recruited by Sidious at a young age. The ways of the Sith melded naturally with the warrior ways of male Dathomirian tribes. He never really had a chance to be anything but a killing machine. He grew to tfavor the Dark Side because it granted him the ability to reach the top of any hierarchy he desired, crowning him as the alpha among all of his peers.Contrarily, Sidious was raised in a Royal family on the peaceful planet of Naboo. He was naturally drawn to positions of power, and sought out knowledge of the mythical Sith. He initially wasn't influenced by any outside force. He just thirsted for power. He wanted to sculpt the galaxy how he saw fit. Darth Plagueis discovered him because of his immense Force sensit...   \n",
       "\n",
       "                                                                                  title  \\\n",
       "0                                                  Theory: Does Ahsoka help train Luke?   \n",
       "1                                                       What wil baby yoda end up being   \n",
       "2  Had a dream last night after watching ROTS as to how the new Kenobi show should open   \n",
       "3                                       Rebels is still a good show despite its faults.   \n",
       "4                                               Is Darth Maul as evil as Darth Sidious?   \n",
       "\n",
       "   polarity  text_len  word_count  \n",
       "0  0.116942       595         112  \n",
       "1  0.059754       529         102  \n",
       "2 -0.140556       683         132  \n",
       "3  0.030613      1520         270  \n",
       "4  0.016757      2518         444  "
      ]
     },
     "execution_count": 36,
     "metadata": {},
     "output_type": "execute_result"
    }
   ],
   "source": [
    "df_ed.head()"
   ]
  },
  {
   "cell_type": "code",
   "execution_count": 37,
   "metadata": {},
   "outputs": [
    {
     "data": {
      "text/html": [
       "<div>\n",
       "<style scoped>\n",
       "    .dataframe tbody tr th:only-of-type {\n",
       "        vertical-align: middle;\n",
       "    }\n",
       "\n",
       "    .dataframe tbody tr th {\n",
       "        vertical-align: top;\n",
       "    }\n",
       "\n",
       "    .dataframe thead th {\n",
       "        text-align: right;\n",
       "    }\n",
       "</style>\n",
       "<table border=\"1\" class=\"dataframe\">\n",
       "  <thead>\n",
       "    <tr style=\"text-align: right;\">\n",
       "      <th></th>\n",
       "      <th>selftext</th>\n",
       "    </tr>\n",
       "  </thead>\n",
       "  <tbody>\n",
       "  </tbody>\n",
       "</table>\n",
       "</div>"
      ],
      "text/plain": [
       "Empty DataFrame\n",
       "Columns: [selftext]\n",
       "Index: []"
      ]
     },
     "execution_count": 37,
     "metadata": {},
     "output_type": "execute_result"
    }
   ],
   "source": [
    "df_ed.loc[df_ed.polarity < -0.4, ['selftext']]"
   ]
  },
  {
   "cell_type": "code",
   "execution_count": 38,
   "metadata": {},
   "outputs": [],
   "source": [
    "### Checking sentiment polarity greater than 0.4"
   ]
  },
  {
   "cell_type": "code",
   "execution_count": 39,
   "metadata": {},
   "outputs": [
    {
     "name": "stdout",
     "output_type": "stream",
     "text": [
      "5 random selftext with the sentiment polarity greater than 0.4 : \n",
      "\n",
      "I read an article the other day stating the Clone Wars tv series \"saved\" the prequels. I disagree with that notion. I think that among the younger generation the prequels were always loved. I am in my 20s and always loved the prequels. Most of the people I talk to  my age love them as well.  Some of us haven't even seen TCW. I think the show serves the same purpose as the x-wing book series or the Thrawn trilogy did.  I think it enhances the characters, and fleshes out the story of the movies. I don't think it saved them more like maybe enhanced the already great trilogy.\n",
      "-----------------------------------------------------------\n",
      "Just finished all 8 episodes of the Mandalorian but I still have some questions.We see him being rescued by a member of Death Watch during the Separatists' attack. So my first question would be; is/was Mando a part of Death Watch? What is the Tribe  and how is it connected to DW? And how did he get into it?Also, pretty sure most are still speculating about this, but what/when was the Purge? And for TCW: Is the Night of a Thousand Tears the Siege of Mandalore? (Also, is the Siege the one we see in TCW or is it another?);#x200B;I know that's a lot of questions but I'd be grateful for any answer!\n",
      "-----------------------------------------------------------\n",
      "star wars has literally always had strong, empowering and inspiring females. Right from 1977 we had Leia and Mon Mothma, both super independent women who inspire others. They all have wonderful arcs. In the prequels, we obviously have Ahsoka (have you ever heard anyone say I don't like Ahsoka) who we grew with, her story, her arcs, her character all brilliant, that's why she is one of the most loved characters in star wars to date. Then there's Padme, a woman who's independent, can fight for herself and most importantly fights for what is right. We have so many string Jedi, aayla secura, aadi galya, luminara unduli, bariss offee. If you want badass women who rule over others, we have asajj ventress (her arc is one the best), aurra sing, bo katan. There are so many leaders, padme, satine, tu chi. Then we have Sabine wren later. Women have always been there in star wars and the fans have never been against it. Kathleen Kennedy wanted another woman character, yes we need more of course. But due to her sheer lack of creativity, stubbornness to look into older stories and hunger for control (there's this quote in clone wars, \"one who seeks control, shall never find peace.\") she created this \"perfect\" Disney princess who had no flaws and was extremely bland. No one can relate to someone like that, therefore the backlash. Rey has no plot or personally and overall I think she has done the worse for the future of women. The prequels did have real world politics, but it was part of the plot. Here the plot is part of the politics...\n",
      "-----------------------------------------------------------\n",
      "All things considered with how Ashoka turned out to be, she became a great Jedi better even than most of the councils in their glory time. Despite his fall to the dark side tragedy, Anakin Skywalker was a great master to Ashoka, he trained Ashoka with great care and compassion, he taught ashoka how to be a Jedi should be not a Jedi The council wanted. She has the best quality of a great Jedi even though she doesn't she herself a Jedi. The last episode of TCW really shows how a Jedi should act even in the most darkest and pressing time.Funny when we first saw Ashoka she was this obnoxious and annoying little girl throughout the years we watched her grow and evolve into this mature, strong and wise Jedi. Anakin is a hell of teacher.\n",
      "-----------------------------------------------------------\n",
      "So this whole weekend I tried to watch as much Star Wars as I possibly could and today I watched the last arch of the clone wars and revenge of the sith I truly looked back and felt like kid again I was born 96 so I grew up with the prequels I remember watching phantom menace on the vhs and seeing attack of the clones in the theater and absolutely loved it and watched it every night before I went to bed but I will never forget seeing revenge of the sith and watching it today looking back i couldn’t help but remember all the great memories that Star Wars has broughtFrom episode 1-9 and rouge one,solo , the clone wars and rebels I’m truly appreciative but to be Able to watch all these great films No matter what trilogy you fell in love with we are all Star Wars fansMay the force be with all of you this Star Wars day\n",
      "-----------------------------------------------------------\n"
     ]
    }
   ],
   "source": [
    "print('5 random selftext with the sentiment polarity greater than 0.4 : \\n')\n",
    "cl = df_ed.loc[df_ed.polarity > 0.3, ['selftext']].sample(5).values\n",
    "for c in cl:\n",
    "    print(c[0])\n",
    "    print(\"-----------------------------------------------------------\")"
   ]
  },
  {
   "cell_type": "code",
   "execution_count": 40,
   "metadata": {},
   "outputs": [
    {
     "data": {
      "text/plain": [
       "<bound method NDFrame.sample of       subreddit  \\\n",
       "0             0   \n",
       "1             0   \n",
       "2             0   \n",
       "3             0   \n",
       "4             0   \n",
       "...         ...   \n",
       "1028          1   \n",
       "1029          1   \n",
       "1030          1   \n",
       "1031          1   \n",
       "1032          1   \n",
       "\n",
       "                                                                                                                                                                                                                                                                                                                                                                                                                                                                                                                                                                                                                                                                                                                                                                                                                                                                                                                                                                                                                                    selftext  \\\n",
       "0                                                                                                                                                                                                                                                                                                                                                                                                                        Full disclosure - I'm not fully aware of all the OT lore in the comics/canon books. After seeing the Clone Wars finale and knowing that Ahsoka was alive past ROTJ - is it possible that she met with and helped train Luke between ESB and ROTJ?Luke levels up quite a bit between those movies and I don't think he is trained by Yoda during that time (unless there is some other non-film canon explanation for how he gets so much better with the force.)It would be sweet to see them interact somehow, or with some of the other OT/ST characters. Can't wait to see what they do with her in live action.   \n",
       "1                                                                                                                                                                                                                                                                                                                                                                                                                                                                                          With baby yoda seeming to have a significant purpose, where will his place be in the next hundreds of years? With The sky walker saga being done it sounds like the main story line will not continue into the future. What will baby yoda purpose be? Will his life get cut short?Will Ezra and baby yoda end up being the future of the Jedi or Sith?Or will Mando and baby yoda lead the rise of mandalorians and build a new found friendshipWe can guess Ashoka is dead based on the voice in rise of sky Walker so where will the future be   \n",
       "2                                                                                                                                                                                                                                                                                                                                The show starts showing two figures laughing and talking around a table, we can't hear them talking, just see their movements. The image focuses and it shows that these figures are obi wan and Anakin(Hayden Christensen) and they're on naboo. They both turn their head and a young boy runs up to Anakin and the camera pans over to padme walking in with a young girl. Obi wan looks up at her and smiles but then we hear a loud wind and the room goes dark. We're suddenly on tatooine with a worn down obi wan who just had his fire blown out and was hit in the face with some sand. He wipes his face off and says \"I hate sand\" as the camera cuts away and the opening credits/theme plays.   \n",
       "3     Post contains spoilers for Star Wars Rebels and Clone Wars!I've been seeing a lot of hate towards rebels recently, specifically the art, however, there are others commenting on the \"trash plot\", \"dull characters\" and a range of other criticism which I personally feel the show doesn't deserve.Rebels is still Star Wars and it's a great piece of canon that really helps show what the empires reign was like in the early years. It is packed with exciting moments that are arguably more memorable than a lot of the memorable moments in the clone wars (with exception of season 7), such as Ahsoka vs Vader or Ezra and Thrawn disappearing into the outer rim somewhere and especially the development and final moments of Maul. Rebels art style isn't even that bad, it's just not as good as the clone wars. The only major flaws in the artwork was Yoda, Hondo, Anakin and Bo, Everything else was fine if not good. Rebels was our first \"Canon\" introduction to how brutal Vader was in the time between ROT...   \n",
       "4     I once had a friend claim that Maul is just as evil, if not, MORE evil than old Sheev. I pondered that notion, but had to disagree. Here's why:Maul knew nothing besides violence and bloodshed from the day he was born. He grew up on the ruthless planet of Dathomir, and was recruited by Sidious at a young age. The ways of the Sith melded naturally with the warrior ways of male Dathomirian tribes. He never really had a chance to be anything but a killing machine. He grew to tfavor the Dark Side because it granted him the ability to reach the top of any hierarchy he desired, crowning him as the alpha among all of his peers.Contrarily, Sidious was raised in a Royal family on the peaceful planet of Naboo. He was naturally drawn to positions of power, and sought out knowledge of the mythical Sith. He initially wasn't influenced by any outside force. He just thirsted for power. He wanted to sculpt the galaxy how he saw fit. Darth Plagueis discovered him because of his immense Force sensit...   \n",
       "...                                                                                                                                                                                                                                                                                                                                                                                                                                                                                                                                                                                                                                                                                                                                                                                                                                                                                                                                                                                                                                      ...   \n",
       "1028                                                                                                                                                                                                                                                                                                                                                                                                                                                                    Data’s lifeI’m not sure if all would agree but the way data chose to die seemed a bit premature. I’m not sure but by the time of nemesis we don’t know how much and how long data was able to experience humanity with his emotion chip. So whatever Maddox put together to keep data alive doesn’t necessarily mean he was experiencing humanity. Am I missing something? I feel like he had so much more to experience, especially in such a big galaxy and rich universe with so much to learn. Data character had so many experiences waiting for him I feel....   \n",
       "1029  To be blunt I didn't like Picard very much. I went in with high hopes that were killed off after the first episode. Remembrance was like a new spin on a favorite comfort food. There was enough nostolgia to scratch that itch and enough newness that made it feel different to TNG. Episodes 1-3 were mostly pleasant and then for me it fell off a cliff, with each coming episode a rock hitting me on the way down. If it wasnt for for the old cast and crew of TNG and VOY I wouldn't even have watched the rest of the season. None of the new characters had time to breath and develop. Agnes was forgettable. Rios was just another hot headed Latino stereotype ala Po in the Star Wars sequels. Raffi downright creeped me the hell out for some reason. I found her switching from drunken junkie to mother figure (while well acted and would totally work in something like Moonlight) out of place and jarring in this show. Seven I felt was reduced down into kick-ass token LGBT character who for some reason...   \n",
       "1030  * Raffi/Stephen Franklin: The trusted coworker that pushes themselves too hard and ends up falling into drug use. Has a troubled past with family.* Rios/Susan Ivanova: Suffering military loner. Grumpy but has soft core. Has a relationship with someone who betrays the good guys.* Jurati/Michael Garibaldi: Haunted by what they did while under the influence of psychics.* Elnor/Marcus Cole: A fantasy character out of place in a scifi world.* Dahj/Talia Winters: Exits their series in an event that demonstrates how evil the bad guys are. Both have hidden personalities awoken.* Soji/Lyta Alexander: Chosen savior of their people.* Picard/John Sheridan: Disliked and not trusted by the government they worked for. Eventually quits and forms their own group fight evil. Died and came back for our sins.* Data/Delenn: Mcguffin. Comes from a group that all looks alike. Undergoes changes to become more human. Main protagonist is in love them.Both series' plot involves the government acting xenopho...   \n",
       "1031                                                                           By the end of the season we have:  Tal-shiar infiltrator at the top of starfleet influencing policy for decades who has now returned to the Romulan empire with very current and highly-detailed intel on literally everything.  Starfleet personnel involved in the cover-up of a several murders - Because the Tal-Shiar would have needed SOME sympathisers to get away with something so bold.  Knowledge that the horrific slaughter on Mars was a direct Romulan terrorist attack.  Knowledge that there's a trans-galactic synthetic alliance which hates organic life, and letting it in seems pretty easy.  The gigantic debt Starfleet / the Federation owe to Picard, and to a lesser extent: Acting captain Riker.  The absolute raging garbage fire that was the romulan neutral zone, and hosted the torture and murder of starfleet officers, plus the possibility of the Fenris Rangers rising again to deal with it if the Federation won't.   \n",
       "1032                                                                                                                                                                                               Even if it’s to the detriment of continuity or plot. When Riker shows up at the end and saves the day even though I don’t understand how he got there, you best believe I love that shit. When Hugh shows up even though he dies the next episode, fuck yeah that’s my boi. I never really got into Voyager but I imagine if I did, I’d have Arsenio Halled my fist at seeing Seven in the trailer. I loved to see Picard say Engage again. I’m watching Picard because I fucking love Captain Picard and The Next Generation, and I relish any morsels of that universe. If all they did was gather the old crew together and have them go on more missions together a la the TOS Star Trek movies, I’d have a hands-free orgasm. I mean, the show is called Star Trek: Picard. How can I not expect fan service? And I fucking love it.   \n",
       "\n",
       "                                                                                     title  \\\n",
       "0                                                     Theory: Does Ahsoka help train Luke?   \n",
       "1                                                          What wil baby yoda end up being   \n",
       "2     Had a dream last night after watching ROTS as to how the new Kenobi show should open   \n",
       "3                                          Rebels is still a good show despite its faults.   \n",
       "4                                                  Is Darth Maul as evil as Darth Sidious?   \n",
       "...                                                                                    ...   \n",
       "1028                                                                       Data’s lifespan   \n",
       "1029                                    [Spoilers] St:Pic is making me like Discovery more   \n",
       "1030                                              Is Star Trek: Picard actually Babylon 5?   \n",
       "1031                                                 Picard S1 - Dealing with the fallout?   \n",
       "1032                                                        Damn right I love fan service.   \n",
       "\n",
       "      polarity  text_len  word_count  \n",
       "0     0.116942       595         112  \n",
       "1     0.059754       529         102  \n",
       "2    -0.140556       683         132  \n",
       "3     0.030613      1520         270  \n",
       "4     0.016757      2518         444  \n",
       "...        ...       ...         ...  \n",
       "1028  0.093750       548         101  \n",
       "1029  0.080376      3594         660  \n",
       "1030 -0.185668      1546         245  \n",
       "1031  0.074242       925         148  \n",
       "1032  0.214423       809         157  \n",
       "\n",
       "[1033 rows x 6 columns]>"
      ]
     },
     "execution_count": 40,
     "metadata": {},
     "output_type": "execute_result"
    }
   ],
   "source": [
    "df_ed.sample"
   ]
  },
  {
   "cell_type": "code",
   "execution_count": 41,
   "metadata": {},
   "outputs": [
    {
     "data": {
      "text/html": [
       "<div>\n",
       "<style scoped>\n",
       "    .dataframe tbody tr th:only-of-type {\n",
       "        vertical-align: middle;\n",
       "    }\n",
       "\n",
       "    .dataframe tbody tr th {\n",
       "        vertical-align: top;\n",
       "    }\n",
       "\n",
       "    .dataframe thead th {\n",
       "        text-align: right;\n",
       "    }\n",
       "</style>\n",
       "<table border=\"1\" class=\"dataframe\">\n",
       "  <thead>\n",
       "    <tr style=\"text-align: right;\">\n",
       "      <th></th>\n",
       "      <th>subreddit</th>\n",
       "      <th>selftext</th>\n",
       "      <th>title</th>\n",
       "      <th>polarity</th>\n",
       "      <th>text_len</th>\n",
       "      <th>word_count</th>\n",
       "    </tr>\n",
       "  </thead>\n",
       "  <tbody>\n",
       "    <tr>\n",
       "      <th>0</th>\n",
       "      <td>0</td>\n",
       "      <td>Full disclosure - I'm not fully aware of all the OT lore in the comics/canon books. After seeing the Clone Wars finale and knowing that Ahsoka was alive past ROTJ - is it possible that she met with and helped train Luke between ESB and ROTJ?Luke levels up quite a bit between those movies and I don't think he is trained by Yoda during that time (unless there is some other non-film canon explanation for how he gets so much better with the force.)It would be sweet to see them interact somehow, or with some of the other OT/ST characters. Can't wait to see what they do with her in live action.</td>\n",
       "      <td>Theory: Does Ahsoka help train Luke?</td>\n",
       "      <td>0.116942</td>\n",
       "      <td>595</td>\n",
       "      <td>112</td>\n",
       "    </tr>\n",
       "    <tr>\n",
       "      <th>1</th>\n",
       "      <td>0</td>\n",
       "      <td>With baby yoda seeming to have a significant purpose, where will his place be in the next hundreds of years? With The sky walker saga being done it sounds like the main story line will not continue into the future. What will baby yoda purpose be? Will his life get cut short?Will Ezra and baby yoda end up being the future of the Jedi or Sith?Or will Mando and baby yoda lead the rise of mandalorians and build a new found friendshipWe can guess Ashoka is dead based on the voice in rise of sky Walker so where will the future be</td>\n",
       "      <td>What wil baby yoda end up being</td>\n",
       "      <td>0.059754</td>\n",
       "      <td>529</td>\n",
       "      <td>102</td>\n",
       "    </tr>\n",
       "    <tr>\n",
       "      <th>2</th>\n",
       "      <td>0</td>\n",
       "      <td>The show starts showing two figures laughing and talking around a table, we can't hear them talking, just see their movements. The image focuses and it shows that these figures are obi wan and Anakin(Hayden Christensen) and they're on naboo. They both turn their head and a young boy runs up to Anakin and the camera pans over to padme walking in with a young girl. Obi wan looks up at her and smiles but then we hear a loud wind and the room goes dark. We're suddenly on tatooine with a worn down obi wan who just had his fire blown out and was hit in the face with some sand. He wipes his face off and says \"I hate sand\" as the camera cuts away and the opening credits/theme plays.</td>\n",
       "      <td>Had a dream last night after watching ROTS as to how the new Kenobi show should open</td>\n",
       "      <td>-0.140556</td>\n",
       "      <td>683</td>\n",
       "      <td>132</td>\n",
       "    </tr>\n",
       "    <tr>\n",
       "      <th>3</th>\n",
       "      <td>0</td>\n",
       "      <td>Post contains spoilers for Star Wars Rebels and Clone Wars!I've been seeing a lot of hate towards rebels recently, specifically the art, however, there are others commenting on the \"trash plot\", \"dull characters\" and a range of other criticism which I personally feel the show doesn't deserve.Rebels is still Star Wars and it's a great piece of canon that really helps show what the empires reign was like in the early years. It is packed with exciting moments that are arguably more memorable than a lot of the memorable moments in the clone wars (with exception of season 7), such as Ahsoka vs Vader or Ezra and Thrawn disappearing into the outer rim somewhere and especially the development and final moments of Maul. Rebels art style isn't even that bad, it's just not as good as the clone wars. The only major flaws in the artwork was Yoda, Hondo, Anakin and Bo, Everything else was fine if not good. Rebels was our first \"Canon\" introduction to how brutal Vader was in the time between ROT...</td>\n",
       "      <td>Rebels is still a good show despite its faults.</td>\n",
       "      <td>0.030613</td>\n",
       "      <td>1520</td>\n",
       "      <td>270</td>\n",
       "    </tr>\n",
       "    <tr>\n",
       "      <th>4</th>\n",
       "      <td>0</td>\n",
       "      <td>I once had a friend claim that Maul is just as evil, if not, MORE evil than old Sheev. I pondered that notion, but had to disagree. Here's why:Maul knew nothing besides violence and bloodshed from the day he was born. He grew up on the ruthless planet of Dathomir, and was recruited by Sidious at a young age. The ways of the Sith melded naturally with the warrior ways of male Dathomirian tribes. He never really had a chance to be anything but a killing machine. He grew to tfavor the Dark Side because it granted him the ability to reach the top of any hierarchy he desired, crowning him as the alpha among all of his peers.Contrarily, Sidious was raised in a Royal family on the peaceful planet of Naboo. He was naturally drawn to positions of power, and sought out knowledge of the mythical Sith. He initially wasn't influenced by any outside force. He just thirsted for power. He wanted to sculpt the galaxy how he saw fit. Darth Plagueis discovered him because of his immense Force sensit...</td>\n",
       "      <td>Is Darth Maul as evil as Darth Sidious?</td>\n",
       "      <td>0.016757</td>\n",
       "      <td>2518</td>\n",
       "      <td>444</td>\n",
       "    </tr>\n",
       "  </tbody>\n",
       "</table>\n",
       "</div>"
      ],
      "text/plain": [
       "   subreddit  \\\n",
       "0          0   \n",
       "1          0   \n",
       "2          0   \n",
       "3          0   \n",
       "4          0   \n",
       "\n",
       "                                                                                                                                                                                                                                                                                                                                                                                                                                                                                                                                                                                                                                                                                                                                                                                                                                                                                                                                                                                                                                 selftext  \\\n",
       "0                                                                                                                                                                                                                                                                                                                                                                                                                     Full disclosure - I'm not fully aware of all the OT lore in the comics/canon books. After seeing the Clone Wars finale and knowing that Ahsoka was alive past ROTJ - is it possible that she met with and helped train Luke between ESB and ROTJ?Luke levels up quite a bit between those movies and I don't think he is trained by Yoda during that time (unless there is some other non-film canon explanation for how he gets so much better with the force.)It would be sweet to see them interact somehow, or with some of the other OT/ST characters. Can't wait to see what they do with her in live action.   \n",
       "1                                                                                                                                                                                                                                                                                                                                                                                                                                                                                       With baby yoda seeming to have a significant purpose, where will his place be in the next hundreds of years? With The sky walker saga being done it sounds like the main story line will not continue into the future. What will baby yoda purpose be? Will his life get cut short?Will Ezra and baby yoda end up being the future of the Jedi or Sith?Or will Mando and baby yoda lead the rise of mandalorians and build a new found friendshipWe can guess Ashoka is dead based on the voice in rise of sky Walker so where will the future be   \n",
       "2                                                                                                                                                                                                                                                                                                                             The show starts showing two figures laughing and talking around a table, we can't hear them talking, just see their movements. The image focuses and it shows that these figures are obi wan and Anakin(Hayden Christensen) and they're on naboo. They both turn their head and a young boy runs up to Anakin and the camera pans over to padme walking in with a young girl. Obi wan looks up at her and smiles but then we hear a loud wind and the room goes dark. We're suddenly on tatooine with a worn down obi wan who just had his fire blown out and was hit in the face with some sand. He wipes his face off and says \"I hate sand\" as the camera cuts away and the opening credits/theme plays.   \n",
       "3  Post contains spoilers for Star Wars Rebels and Clone Wars!I've been seeing a lot of hate towards rebels recently, specifically the art, however, there are others commenting on the \"trash plot\", \"dull characters\" and a range of other criticism which I personally feel the show doesn't deserve.Rebels is still Star Wars and it's a great piece of canon that really helps show what the empires reign was like in the early years. It is packed with exciting moments that are arguably more memorable than a lot of the memorable moments in the clone wars (with exception of season 7), such as Ahsoka vs Vader or Ezra and Thrawn disappearing into the outer rim somewhere and especially the development and final moments of Maul. Rebels art style isn't even that bad, it's just not as good as the clone wars. The only major flaws in the artwork was Yoda, Hondo, Anakin and Bo, Everything else was fine if not good. Rebels was our first \"Canon\" introduction to how brutal Vader was in the time between ROT...   \n",
       "4  I once had a friend claim that Maul is just as evil, if not, MORE evil than old Sheev. I pondered that notion, but had to disagree. Here's why:Maul knew nothing besides violence and bloodshed from the day he was born. He grew up on the ruthless planet of Dathomir, and was recruited by Sidious at a young age. The ways of the Sith melded naturally with the warrior ways of male Dathomirian tribes. He never really had a chance to be anything but a killing machine. He grew to tfavor the Dark Side because it granted him the ability to reach the top of any hierarchy he desired, crowning him as the alpha among all of his peers.Contrarily, Sidious was raised in a Royal family on the peaceful planet of Naboo. He was naturally drawn to positions of power, and sought out knowledge of the mythical Sith. He initially wasn't influenced by any outside force. He just thirsted for power. He wanted to sculpt the galaxy how he saw fit. Darth Plagueis discovered him because of his immense Force sensit...   \n",
       "\n",
       "                                                                                  title  \\\n",
       "0                                                  Theory: Does Ahsoka help train Luke?   \n",
       "1                                                       What wil baby yoda end up being   \n",
       "2  Had a dream last night after watching ROTS as to how the new Kenobi show should open   \n",
       "3                                       Rebels is still a good show despite its faults.   \n",
       "4                                               Is Darth Maul as evil as Darth Sidious?   \n",
       "\n",
       "   polarity  text_len  word_count  \n",
       "0  0.116942       595         112  \n",
       "1  0.059754       529         102  \n",
       "2 -0.140556       683         132  \n",
       "3  0.030613      1520         270  \n",
       "4  0.016757      2518         444  "
      ]
     },
     "execution_count": 41,
     "metadata": {},
     "output_type": "execute_result"
    }
   ],
   "source": [
    "df_ed.head()"
   ]
  },
  {
   "cell_type": "code",
   "execution_count": 42,
   "metadata": {},
   "outputs": [
    {
     "data": {
      "application/vnd.plotly.v1+json": {
       "config": {
        "linkText": "Export to plot.ly",
        "plotlyServerURL": "https://plot.ly",
        "showLink": true
       },
       "data": [
        {
         "histfunc": "count",
         "histnorm": "",
         "marker": {
          "color": "rgba(255, 153, 51, 1.0)",
          "line": {
           "color": "#000000",
           "width": 1.3
          }
         },
         "name": "polarity",
         "nbinsx": 50,
         "opacity": 0.8,
         "orientation": "v",
         "type": "histogram",
         "x": [
          0.11694214876033056,
          0.05975378787878787,
          -0.14055555555555557,
          0.030612947658402192,
          0.016757246376811606,
          0.36466942148760323,
          0.22291666666666668,
          0.2316358024691358,
          0.06923076923076922,
          0.2204081632653061,
          0.19652777777777777,
          0.22777777777777777,
          0.30937499999999996,
          0.05439814814814814,
          0.22678571428571428,
          -0.20426136363636366,
          0.11805291005291006,
          0.3125,
          0.08226551226551225,
          0.11553030303030302,
          0.275,
          0.21184052275849147,
          0.212396694214876,
          0.31875,
          0.0557142857142857,
          0.07608024691358026,
          0.31250000000000006,
          0.05735294117647058,
          -0.03815104166666666,
          0.0038461538461538494,
          0.19331955922865013,
          0.2570707070707071,
          0.14444444444444443,
          0.1163186669652187,
          -0.03202168202168202,
          0.048425142016914155,
          0.21909937508727828,
          0.19880934343434342,
          0.09821428571428571,
          -0.028571428571428574,
          -0.006113215488215487,
          0.05439814814814814,
          0.12305194805194805,
          0.21184052275849147,
          0.1557142857142857,
          0.04420238095238097,
          0.044718117131910214,
          -0.023393939393939394,
          0.17423076923076927,
          -0.2607142857142857,
          0.02564625850340136,
          -0.038095238095238085,
          0.153125,
          0.07532467532467534,
          0.11746031746031746,
          0.15889550264550267,
          0.20300925925925925,
          0.13095238095238096,
          -0.02222222222222222,
          0.1031328320802005,
          0.0963797313797314,
          0.23313656040928765,
          0.11666666666666665,
          0.06868686868686869,
          -0.020000000000000007,
          0.190625,
          0.36740196078431375,
          0.1955952380952381,
          0.2375,
          0.2090606060606061,
          0.0707070707070707,
          0.20941142191142192,
          0.09330929487179486,
          0.10000000000000002,
          0.23125,
          0.22250000000000006,
          0.052976190476190475,
          0.1197878787878788,
          -0.009194214876033058,
          0.35312499999999997,
          0.07641739980449655,
          0.11648550724637684,
          0.1134297520661157,
          0.13425925925925924,
          0.2409090909090909,
          -0.3235380116959064,
          0.013541666666666674,
          0.34375000000000006,
          0.07031250000000003,
          0.10277777777777779,
          0.3854166666666667,
          0.03497091144149968,
          0.23304093567251463,
          0.19687693259121836,
          0.17380952380952377,
          -0.053125,
          0.2979931972789115,
          0.15352564102564104,
          0.18508522727272725,
          0.10008280860553587,
          0.03425925925925927,
          0.11363636363636362,
          0.09792692939244663,
          0.2833333333333333,
          0.11250000000000002,
          0.11250000000000002,
          0.20245887445887448,
          0.4133928571428572,
          0.03888888888888889,
          0.07388888888888889,
          0.05238095238095238,
          -0.034166666666666665,
          0.13459595959595957,
          0.1866666666666667,
          -0.23489583333333333,
          0.20569923371647506,
          0.008333333333333331,
          0.09444444444444446,
          0.13194444444444442,
          0.075,
          0.14913223140495868,
          0.0890625,
          0.2710497835497835,
          0,
          0.16812834982477845,
          0.1619047619047619,
          0.271984126984127,
          0.07924107142857142,
          0.12916666666666668,
          0.13499422799422803,
          0.11635802469135802,
          0.3277692895339954,
          0.08750000000000001,
          0.01681818181818183,
          0.35833333333333334,
          0.03628787878787878,
          0.07702284165698799,
          0.07279741863075195,
          0.14238413547237075,
          0.07998652291105122,
          0.1731353106353106,
          0.011425974025974023,
          0.24220779220779218,
          0.24636363636363637,
          0.007621212121212122,
          0.18427064007421148,
          0.2029166666666667,
          0.125,
          -0.023737373737373748,
          0.058159117305458745,
          0.023888888888888883,
          0.08090277777777777,
          0.26651785714285714,
          0.171829597343296,
          0.16574074074074074,
          0.19375,
          0.11875000000000001,
          0.16845454545454547,
          0.06710526315789475,
          0.3710526315789474,
          0.3083333333333333,
          0.21373626373626373,
          0.09535714285714285,
          0.25166666666666665,
          0.1765625,
          0.06666666666666667,
          0.16666666666666666,
          0.2412698412698413,
          -0.10520833333333335,
          0.050747863247863255,
          0.18863636363636363,
          0.21101532567049805,
          0.19412121212121217,
          0.02680431547619046,
          -0.17380952380952377,
          0.15367778772951185,
          0.12803030303030302,
          0.2142857142857143,
          0.24027280743947416,
          0.20197368421052633,
          0.2785714285714286,
          0.16159297052154195,
          0.278125,
          0.02662337662337661,
          -0.0990151515151515,
          0.128125,
          0.2101010101010101,
          0.2212461597542243,
          0,
          0.13846153846153847,
          0.19551620859760394,
          0.127734375,
          0.0398629148629149,
          0.2120454545454545,
          0.21047932330827068,
          0.12613636363636363,
          0.18046594982078853,
          0.11309523809523808,
          0.15555555555555553,
          0.23032598714416908,
          0.13106060606060607,
          0.28566849816849815,
          0.08293650793650796,
          0.2214285714285714,
          0.1636734693877551,
          0.25888888888888884,
          0.2611111111111111,
          -0.07777777777777778,
          0.2573214285714286,
          0.16823813043325236,
          0.14053030303030303,
          0.37214781746031744,
          0.13968253968253969,
          0.03833333333333332,
          0.22142857142857145,
          0.25,
          0.15833333333333333,
          -0.12272727272727274,
          -0.07114197530864197,
          0.3316017316017316,
          0.26,
          0.2816433566433567,
          0.14141767323585505,
          -0.1538170163170163,
          -0.22051282051282056,
          0.21708849862258955,
          -0.11299283154121861,
          0.1306301652892562,
          0.23194444444444443,
          0.07348484848484849,
          0.24559884559884562,
          0.38275862068965516,
          0.08304232804232801,
          0.06581632653061224,
          -0.08928571428571427,
          -0.0586679292929293,
          0.05663265306122449,
          0.0642857142857143,
          0.0948830409356725,
          0.18611111111111112,
          0.0035714285714285787,
          0.5666666666666667,
          0.25078125,
          0.1625,
          0.15620370370370373,
          -0.059517045454545475,
          0.1625,
          0.09804203732775156,
          0.1125,
          0.07857142857142856,
          0.21527777777777776,
          0.5,
          0.06818181818181818,
          0.17954545454545454,
          0.3555555555555555,
          -0.01874999999999999,
          0.15568783068783068,
          0.5,
          0.2962566844919787,
          -0.125,
          -0.06272893772893774,
          0.050721500721500744,
          0.19642857142857142,
          0.30250000000000005,
          -0.012666666666666675,
          0.38822314049586787,
          0.3175619834710744,
          0.25705627705627704,
          0.14583333333333334,
          0.1625,
          -0.1306122448979592,
          0.022727272727272724,
          0.34097796143250697,
          0.35833333333333334,
          -0.14575320512820508,
          0.24597625413801888,
          0.15852272727272726,
          -0.10740740740740742,
          0.24791666666666667,
          0.02152777777777778,
          0.25388490819525306,
          0.07404761904761906,
          0.34980158730158734,
          0.1289351851851852,
          -0.11249999999999999,
          0.20325396825396824,
          0.26666666666666666,
          0.15529574592074596,
          0.24956709956709952,
          0.13518217893217896,
          0.2847222222222222,
          0.11201073232323233,
          0.22263257575757578,
          0.22263257575757578,
          0.321741452991453,
          0.3105855855855856,
          0.1527777777777778,
          0.07870813397129187,
          0.07499999999999998,
          0.07916666666666666,
          0.027508267195767197,
          0.4373333333333333,
          0.39722222222222225,
          0.3043831168831169,
          0.16515151515151513,
          0.2903296356421356,
          0.26088184803702047,
          0.13530701754385965,
          -0.025000000000000012,
          0.3088235294117647,
          0.0038461538461538416,
          0.009090909090909092,
          0.525,
          0.09588189588189586,
          0.09805194805194804,
          0.1609717868338558,
          0.19687500000000002,
          0.06979166666666668,
          0.19081439393939395,
          -0.08352813852813853,
          -0.08270202020202018,
          0.07400000000000001,
          0.05254820936639118,
          0.05254820936639118,
          0.14583333333333334,
          0.020654761904761905,
          0.023992673992673987,
          0.43039772727272724,
          0.030007102272727272,
          0.18897959183673468,
          0.10850852272727274,
          0.14886363636363636,
          0.18506493506493507,
          0.31082251082251083,
          0.24666666666666667,
          -0.09381914381914382,
          -0.09950396825396823,
          -0.04579681835779398,
          0.3,
          0.40625,
          -0.013124999999999998,
          0.01666666666666667,
          0.3679487179487179,
          0.15138888888888888,
          0.1340909090909091,
          0.36169981060606055,
          0.1628621378621379,
          0.21580578512396692,
          0.08391729797979801,
          0.17399691358024694,
          0.09779040404040402,
          0.11770833333333332,
          0.2509469696969697,
          -0.011458333333333274,
          0.16985746352413017,
          -0.08229166666666667,
          0.36222222222222217,
          0.1337962962962963,
          0.16480519480519482,
          0.21590909090909088,
          0.15940656565656564,
          0.2325,
          -0.02321428571428571,
          0.041413139329806,
          0.12050000000000002,
          0.30600000000000005,
          0.06785714285714284,
          0.22916666666666666,
          0.11698717948717949,
          -0.020833333333333336,
          0.0411904761904762,
          0.09517045454545454,
          0.17946428571428572,
          0.08147321428571429,
          0.21212121212121213,
          0.16658653846153845,
          0.18522727272727274,
          0.12962962962962962,
          0.17261904761904762,
          0.027038690476190477,
          0.12321428571428572,
          0.1468939393939394,
          0.20454545454545453,
          0.28939393939393937,
          0.17500000000000004,
          0.16507936507936505,
          0.04964520202020202,
          0.15303030303030304,
          0.18613636363636366,
          0.10819805194805193,
          0.1857142857142857,
          0.1447368421052632,
          0.3578125,
          0,
          0.30156249999999996,
          0.29125,
          0.05575396825396826,
          0.04705062205062204,
          0.04705062205062204,
          0.04705062205062204,
          0.04705062205062204,
          0.04705062205062204,
          -0.021717171717171715,
          0.05575396825396826,
          0.05575396825396826,
          0.05575396825396826,
          0.05575396825396826,
          0.05575396825396826,
          0.022763347763347763,
          0.022763347763347763,
          0.022763347763347763,
          0.022763347763347763,
          0.05575396825396826,
          0.05575396825396826,
          0.05575396825396826,
          0.05575396825396826,
          0.05575396825396826,
          0.05575396825396826,
          0.05575396825396826,
          0.05575396825396826,
          -0.002678571428571433,
          -0.02135416666666667,
          0.1653846153846154,
          0.053490259740259734,
          0.14332238642583472,
          -0.033333333333333326,
          0.18966942148760332,
          -0.021093749999999994,
          -0.10172391360915954,
          0.13289141414141417,
          0.31048951048951046,
          0.31048951048951046,
          0.15333333333333335,
          0.2019965277777777,
          0.08783212560386473,
          0.16714285714285715,
          0.2,
          0.11390151515151517,
          0.18393458393458392,
          0.1426970203285993,
          0.05720439691027927,
          0.29000000000000004,
          -0.036458333333333336,
          0.06212121212121214,
          0.3107963875205254,
          0.11467663649481828,
          0.17500000000000004,
          0.16534090909090907,
          0.1,
          0.04672910052910052,
          0.29,
          0.29,
          0.17727272727272725,
          0.12258335635995209,
          0.023295454545454543,
          0.19213943950786055,
          -0.05235042735042734,
          -0.009856630824372757,
          0.07472222222222222,
          0.2305785123966942,
          0.04895833333333333,
          0.21403508771929824,
          0.007196969696969687,
          0.10598214285714289,
          0.32341269841269843,
          -0.04444444444444445,
          0.027811447811447804,
          0.2698979591836735,
          0.05573870573870573,
          0.26625,
          -0.04166666666666666,
          0.12708333333333333,
          0.013920454545454545,
          0.049999999999999996,
          0.19821428571428573,
          0.19821428571428573,
          0.19821428571428573,
          0.07858796296296296,
          0.11456349206349209,
          0.12041245791245792,
          0.18714285714285714,
          0.0574404761904762,
          0.12668597742127152,
          0.08251748251748252,
          0.025476190476190468,
          0.3018229166666666,
          -0.08277972027972028,
          0.041666666666666664,
          0.2943877551020408,
          0.12110389610389612,
          0.019683794466403157,
          0.2313131313131313,
          0.17487667371388302,
          0.056633189033189035,
          0.25833333333333336,
          0.28963903743315506,
          0.19624542124542127,
          0.3321428571428572,
          0.17750000000000002,
          0.09062499999999998,
          0.23636363636363633,
          0.3471666666666667,
          -0.22083333333333333,
          -0.0015692640692640733,
          -0.13055555555555554,
          0.1260416666666667,
          0.3468749999999999,
          0.05439814814814815,
          0.033503401360544215,
          0.19166666666666668,
          0.32578124999999997,
          0.10764880952380951,
          0.017992424242424237,
          0.1,
          -0.053333333333333344,
          0.1297222222222222,
          -0.03629148629148629,
          0.09681465821000705,
          0.04523809523809525,
          0.03125,
          0.35072820037105756,
          -0.01097222222222222,
          0.1282163742690059,
          0.12916666666666665,
          0.11636389404246547,
          0.12254689754689756,
          0.075,
          0.5020833333333333,
          0.10486111111111111,
          0.053125,
          0.12000000000000002,
          0.018181818181818184,
          0.08115314637053768,
          0.13426406926406925,
          0.12843406593406595,
          0.0017857142857142932,
          0.14700854700854699,
          0.06874999999999998,
          0.07083333333333332,
          -0.030169172932330825,
          0.3341450216450217,
          0.17009871441689622,
          0.11086626139817629,
          0.16590909090909092,
          -0.05174242424242424,
          0.21318681318681318,
          0.2603009259259259,
          -0.15520833333333334,
          0.2088235294117647,
          0.04444444444444444,
          0.1409090909090909,
          0.08129984051036682,
          0.07072649572649573,
          0.14848484848484847,
          0.22628205128205126,
          0.1260416666666667,
          0.22272727272727275,
          0.03630050505050505,
          0.03630050505050505,
          0.03630050505050505,
          0.03630050505050505,
          0.03630050505050505,
          0.03630050505050505,
          0.03630050505050505,
          0.03630050505050505,
          0.19421487603305784,
          -0.06064935064935066,
          0.12714285714285717,
          0.18696687370600412,
          0.0873015873015873,
          0.04519400352733686,
          -0.02102272727272723,
          0.21334089191232045,
          0.1,
          0.11742424242424243,
          -0.003968253968253978,
          0.015000000000000003,
          -0.02222222222222223,
          9.25185853854297e-18,
          0.1671875,
          0.2482792207792208,
          0.1688095238095238,
          0.125,
          0.15944444444444447,
          0.20025252525252527,
          0.11580086580086581,
          0.09870129870129872,
          -0.0467948717948718,
          -0.2847222222222222,
          0.2916666666666667,
          0.19583333333333333,
          0.08148148148148149,
          0.21028645833333331,
          0.10231186224489797,
          -0.036994949494949504,
          0.0515151515151515,
          -0.05512820512820512,
          0.12962962962962962,
          0.1622549019607843,
          0.16901709401709406,
          0.24943427784336872,
          -0.08706293706293702,
          0.17094627594627598,
          0.1287470238095238,
          0.16166666666666668,
          0.09706959706959707,
          0.044240878169449604,
          0.03212682379349045,
          0.24496753246753245,
          0.18515873015873022,
          0.20909863945578236,
          0.03333333333333333,
          -0.11944444444444446,
          0.06204004329004328,
          -0.06745789779326365,
          -0.06745789779326365,
          0.032851239669421495,
          0.23227272727272724,
          0.04569444444444444,
          0.15489583333333334,
          0.16264309764309764,
          0.23399122807017547,
          0.0899092970521542,
          0.07124183006535947,
          -0.05107142857142858,
          -0.11881313131313131,
          0.09479166666666666,
          -0.07857142857142858,
          0.03402777777777777,
          0.10000000000000002,
          0.18009259259259258,
          0.19736036321402178,
          0.005333333333333349,
          0.10656990068754778,
          0.13636363636363633,
          0.04027777777777777,
          0.02932323232323231,
          0.057608695652173914,
          0.24828597532162672,
          0.17444444444444446,
          0.14920033670033675,
          0.2913533834586466,
          0.17955182072829134,
          0.05267857142857143,
          0.08342490842490842,
          0.36,
          0.12942708333333336,
          0.1495115995115995,
          0.047357723577235764,
          -0.038708513708513706,
          0,
          0.0838095238095238,
          0.05480769230769232,
          -0.04444444444444444,
          0.10700000000000003,
          0.16227272727272726,
          -0.09999999999999999,
          0.13196969696969696,
          0.10375000000000001,
          -0.014646464646464637,
          0.09074074074074073,
          0.14020396270396268,
          0.2287878787878788,
          0.1611642926965508,
          0.21970227051859711,
          0.03361235119047619,
          0.14285714285714282,
          -0.10277777777777779,
          0.1435185185185185,
          0.0836734693877551,
          0.07500000000000001,
          0.17427899686520376,
          0.13749999999999998,
          0.16329365079365082,
          0.24349982209571253,
          0.28686868686868683,
          0.22365196078431374,
          -0.08229166666666667,
          0.2642113095238095,
          0.10000000000000002,
          0.23287037037037037,
          0.09162658329324996,
          0.18973684210526315,
          0.20530303030303027,
          0.24086580086580084,
          0.25,
          -0.05833333333333333,
          0.10277777777777779,
          -0.024865591397849468,
          0.25622710622710626,
          0.029292929292929294,
          -0.02766666666666666,
          0.2799603174603174,
          0.04659090909090909,
          0.09110863095238096,
          0.2376984126984127,
          0.11318027210884352,
          0.05714285714285713,
          -0.06388888888888888,
          0.2259920634920635,
          0.026190476190476188,
          0.062121212121212126,
          0.05675410116199588,
          0.09714285714285714,
          0.26587301587301587,
          0.23500824572253143,
          0.15900220150220148,
          0.11249999999999999,
          0.14375000000000002,
          0.14375000000000002,
          0.03583333333333333,
          0.11702317290552584,
          0.1564484126984127,
          0.07666666666666665,
          0.06304824561403513,
          0.03801652892561984,
          0.019141156462585036,
          -0.07377777777777776,
          0.11129032258064518,
          0.03084415584415584,
          0.16612295313382267,
          0.07525252525252525,
          -0.16666666666666666,
          0.19153535353535356,
          -0.07823129251700678,
          0.24696969696969698,
          0.04375,
          0.0957070707070707,
          0.125,
          0.1840909090909091,
          0.06759259259259259,
          -0.05014792899408284,
          -0.016233766233766236,
          0.08522727272727273,
          0.13440115440115438,
          0.23159206864564005,
          0.1142857142857143,
          0.20555555555555557,
          0.09386574074074074,
          0.03708333333333334,
          0.11499999999999999,
          0.05101851851851851,
          0.16833333333333336,
          0.21534391534391534,
          -0.1131613005050505,
          0.2156167328042328,
          0.0047101449275362296,
          -0.0011904761904761967,
          0.05464743589743589,
          0.13031655844155846,
          0.3181818181818182,
          0.09148745519713262,
          0.07833333333333334,
          0.08286564625850339,
          0.06666666666666667,
          0.20937499999999998,
          0.03125,
          0.1872402597402598,
          0.2884259259259259,
          0.24950396825396823,
          0.06874999999999999,
          0.07586206896551725,
          0.20986394557823132,
          0.3242129629629629,
          0.06013888888888888,
          0.125,
          0.12383449883449885,
          0.11562499999999999,
          0.13402777777777775,
          0.13484848484848483,
          0.047306397306397296,
          0.08666666666666666,
          0.2545454545454545,
          0.01931818181818181,
          0.05409090909090909,
          0.14398809523809525,
          -0.010297619047619045,
          -0.016835016835016838,
          0.20166666666666666,
          -0.02202380952380952,
          0.17799823633156966,
          0.09687499999999999,
          0.18125,
          0.21601339481774265,
          0.023532636194973873,
          0.17146464646464643,
          0.029166666666666664,
          0.19468713105076743,
          -0.20159567901234565,
          0.0968118686868687,
          0.1272727272727273,
          0.31666666666666665,
          0.06763322884012542,
          0.3634848484848485,
          0.1922008547008547,
          0.10833333333333334,
          0.1058080808080808,
          0.23210784313725488,
          0.2588888888888889,
          0.18104978354978357,
          -0.05324675324675325,
          -0.08636363636363636,
          0.22592592592592592,
          0.06666666666666667,
          0.26877029220779214,
          0.13499999999999998,
          0.12121212121212119,
          0.27658963585434165,
          0.17738095238095236,
          0.26845703125,
          -0.04166666666666668,
          0.07234848484848486,
          0.1053754086981935,
          0.11205908289241624,
          -0.08333333333333333,
          -0.06363636363636363,
          0.0581439393939394,
          0.16077533577533576,
          0.14944444444444444,
          0.1341970121381886,
          -0.19642857142857142,
          0.03202861952861952,
          0.4409090909090909,
          0.1462121212121212,
          0.17265151515151517,
          0.1419642857142857,
          0.1042559523809524,
          0.21302083333333333,
          0.24839743589743588,
          -0.06130952380952378,
          0.29000000000000004,
          -0.03222222222222222,
          0.029166666666666657,
          0.41071428571428564,
          0.09853479853479855,
          0.051840882694541235,
          0.021607142857142853,
          0.11112914862914865,
          0.2602272727272727,
          0.12261904761904761,
          0.0369047619047619,
          0.26293907116275533,
          -0.08697916666666666,
          0.31166666666666665,
          0.07750000000000001,
          0.3,
          0.19151515151515153,
          0.12458739177489178,
          0.12826086956521737,
          0.1029210758377425,
          0.21347655661088494,
          0.17362637362637362,
          0.10876190476190475,
          0.26,
          0.2606884057971014,
          0.20555555555555557,
          0.04104308390022676,
          0.32255244755244755,
          0.24546218487394955,
          0.19999999999999998,
          0.0564068100358423,
          0.03079545454545455,
          0.19307692307692306,
          0.0010416666666666664,
          0.24000000000000005,
          0.29642857142857143,
          -0.049999999999999996,
          -0.10324675324675324,
          -0.026388888888888868,
          0.02512894906511929,
          0.10238095238095239,
          0.06392045454545454,
          0.11372601279317698,
          0.2,
          0.17482924482924483,
          0.2103338068181818,
          0.09404227459783016,
          0.18333333333333335,
          0.21354166666666666,
          0.08153787878787877,
          0.03437499999999999,
          0.35781250000000003,
          -0.04488289488289488,
          0.24297520661157027,
          0.1884259259259259,
          0.2001258741258741,
          0.20666666666666664,
          0.11944444444444446,
          0.08807519640852973,
          0.022222222222222223,
          0.2996212121212121,
          0.05514705882352942,
          0.07626488095238096,
          0.3022108843537415,
          0.21515151515151518,
          -0.025248015873015874,
          0.08407407407407408,
          0.29294871794871796,
          0.3573051948051948,
          0.06969246031746032,
          0.17272727272727273,
          0.16763392857142856,
          0.11272727272727277,
          0.05210905349794238,
          0.30833333333333335,
          0.29863945578231293,
          0.2858974358974359,
          -0.0611111111111111,
          0.19074074074074074,
          0.09464285714285714,
          0.07651515151515151,
          0.03464795008912655,
          0.1287037037037037,
          0.12781954887218044,
          0.03900476627749354,
          0.14696428571428571,
          0.19148343187977335,
          0.026680264180264177,
          -0.1962962962962963,
          -0.225,
          0.1009255112703389,
          0.13387445887445887,
          0.2839285714285714,
          0.18076923076923077,
          0.16275510204081628,
          0.09375,
          -0.052777777777777785,
          0.13214285714285712,
          -0.020000000000000007,
          0.003382936507936496,
          0.16666666666666666,
          -0.005888888888888887,
          0.14444444444444446,
          0.10096153846153846,
          0.09552469135802469,
          -0.00896694214876033,
          0.1841422227198089,
          0.23374732697021847,
          0.29122670807453416,
          0.059610389610389614,
          0.05546464646464646,
          0.12000000000000002,
          0.14711419753086422,
          0.0625,
          -0.053767586580086575,
          0.08287878787878787,
          0.2039551357733176,
          0.1118132624950807,
          0.1625,
          0.20506968418360824,
          0.13935185185185187,
          0.15182539682539678,
          0.08175579322638146,
          -0.08565493646138808,
          -0.04707792207792206,
          0.106875,
          0.11408276311502118,
          0.25094276094276097,
          0.023469387755102045,
          0.14090909090909096,
          0.2200701871657754,
          0.34854497354497355,
          0.2308020202020202,
          0.10814301552106431,
          0.11515216127156429,
          0.19882716049382715,
          0.07739018087855298,
          0.1787037037037037,
          0.029075091575091565,
          0.07142857142857142,
          -0.01874999999999996,
          0.3510416666666667,
          0.05204081632653063,
          0.18811309523809527,
          0.05,
          0.07500000000000001,
          0.24638888888888885,
          0.09462241462241462,
          0.13856506238859181,
          0.2287676767676768,
          0.36363636363636365,
          -0.10072278911564626,
          0.19222222222222224,
          0.18541666666666667,
          0.01964285714285714,
          0.0963744588744589,
          0.14629629629629629,
          0.20134680134680136,
          0.12698412698412698,
          0.007936507936507945,
          -0.028634751773049638,
          0.11773809523809524,
          0.15190295815295815,
          0.09033143939393941,
          -0.03757575757575757,
          0.10899470899470899,
          0.20757575757575758,
          0.17007575757575757,
          0.1350789511035413,
          -0.015873015873015865,
          0.12678571428571428,
          0.09559523809523811,
          0.4148268398268398,
          0.02352941176470589,
          0.06083333333333333,
          0.11666666666666665,
          0.3142857142857142,
          0.14375000000000002,
          0.2246212121212121,
          0.12191558441558442,
          0.3368055555555555,
          0.27651515151515155,
          -0.025259740259740256,
          0.04679539210789212,
          0.2551587301587302,
          0.07566844919786095,
          0.14583333333333334,
          0.18160683760683766,
          0.1358843537414966,
          0.21777777777777774,
          0.2515151515151515,
          0.34944444444444445,
          -0.012662337662337661,
          0.15208333333333332,
          0.2610357142857143,
          0.187059787059787,
          0.24951790633608814,
          0.18928571428571428,
          0.09375,
          0.08037603639298553,
          -0.18566849816849815,
          0.07424242424242423,
          0.21442307692307694
         ]
        }
       ],
       "layout": {
        "barmode": "overlay",
        "legend": {
         "bgcolor": "#F5F6F9",
         "font": {
          "color": "#4D5663"
         }
        },
        "paper_bgcolor": "#F5F6F9",
        "plot_bgcolor": "#F5F6F9",
        "template": {
         "data": {
          "bar": [
           {
            "error_x": {
             "color": "#2a3f5f"
            },
            "error_y": {
             "color": "#2a3f5f"
            },
            "marker": {
             "line": {
              "color": "#E5ECF6",
              "width": 0.5
             }
            },
            "type": "bar"
           }
          ],
          "barpolar": [
           {
            "marker": {
             "line": {
              "color": "#E5ECF6",
              "width": 0.5
             }
            },
            "type": "barpolar"
           }
          ],
          "carpet": [
           {
            "aaxis": {
             "endlinecolor": "#2a3f5f",
             "gridcolor": "white",
             "linecolor": "white",
             "minorgridcolor": "white",
             "startlinecolor": "#2a3f5f"
            },
            "baxis": {
             "endlinecolor": "#2a3f5f",
             "gridcolor": "white",
             "linecolor": "white",
             "minorgridcolor": "white",
             "startlinecolor": "#2a3f5f"
            },
            "type": "carpet"
           }
          ],
          "choropleth": [
           {
            "colorbar": {
             "outlinewidth": 0,
             "ticks": ""
            },
            "type": "choropleth"
           }
          ],
          "contour": [
           {
            "colorbar": {
             "outlinewidth": 0,
             "ticks": ""
            },
            "colorscale": [
             [
              0,
              "#0d0887"
             ],
             [
              0.1111111111111111,
              "#46039f"
             ],
             [
              0.2222222222222222,
              "#7201a8"
             ],
             [
              0.3333333333333333,
              "#9c179e"
             ],
             [
              0.4444444444444444,
              "#bd3786"
             ],
             [
              0.5555555555555556,
              "#d8576b"
             ],
             [
              0.6666666666666666,
              "#ed7953"
             ],
             [
              0.7777777777777778,
              "#fb9f3a"
             ],
             [
              0.8888888888888888,
              "#fdca26"
             ],
             [
              1,
              "#f0f921"
             ]
            ],
            "type": "contour"
           }
          ],
          "contourcarpet": [
           {
            "colorbar": {
             "outlinewidth": 0,
             "ticks": ""
            },
            "type": "contourcarpet"
           }
          ],
          "heatmap": [
           {
            "colorbar": {
             "outlinewidth": 0,
             "ticks": ""
            },
            "colorscale": [
             [
              0,
              "#0d0887"
             ],
             [
              0.1111111111111111,
              "#46039f"
             ],
             [
              0.2222222222222222,
              "#7201a8"
             ],
             [
              0.3333333333333333,
              "#9c179e"
             ],
             [
              0.4444444444444444,
              "#bd3786"
             ],
             [
              0.5555555555555556,
              "#d8576b"
             ],
             [
              0.6666666666666666,
              "#ed7953"
             ],
             [
              0.7777777777777778,
              "#fb9f3a"
             ],
             [
              0.8888888888888888,
              "#fdca26"
             ],
             [
              1,
              "#f0f921"
             ]
            ],
            "type": "heatmap"
           }
          ],
          "heatmapgl": [
           {
            "colorbar": {
             "outlinewidth": 0,
             "ticks": ""
            },
            "colorscale": [
             [
              0,
              "#0d0887"
             ],
             [
              0.1111111111111111,
              "#46039f"
             ],
             [
              0.2222222222222222,
              "#7201a8"
             ],
             [
              0.3333333333333333,
              "#9c179e"
             ],
             [
              0.4444444444444444,
              "#bd3786"
             ],
             [
              0.5555555555555556,
              "#d8576b"
             ],
             [
              0.6666666666666666,
              "#ed7953"
             ],
             [
              0.7777777777777778,
              "#fb9f3a"
             ],
             [
              0.8888888888888888,
              "#fdca26"
             ],
             [
              1,
              "#f0f921"
             ]
            ],
            "type": "heatmapgl"
           }
          ],
          "histogram": [
           {
            "marker": {
             "colorbar": {
              "outlinewidth": 0,
              "ticks": ""
             }
            },
            "type": "histogram"
           }
          ],
          "histogram2d": [
           {
            "colorbar": {
             "outlinewidth": 0,
             "ticks": ""
            },
            "colorscale": [
             [
              0,
              "#0d0887"
             ],
             [
              0.1111111111111111,
              "#46039f"
             ],
             [
              0.2222222222222222,
              "#7201a8"
             ],
             [
              0.3333333333333333,
              "#9c179e"
             ],
             [
              0.4444444444444444,
              "#bd3786"
             ],
             [
              0.5555555555555556,
              "#d8576b"
             ],
             [
              0.6666666666666666,
              "#ed7953"
             ],
             [
              0.7777777777777778,
              "#fb9f3a"
             ],
             [
              0.8888888888888888,
              "#fdca26"
             ],
             [
              1,
              "#f0f921"
             ]
            ],
            "type": "histogram2d"
           }
          ],
          "histogram2dcontour": [
           {
            "colorbar": {
             "outlinewidth": 0,
             "ticks": ""
            },
            "colorscale": [
             [
              0,
              "#0d0887"
             ],
             [
              0.1111111111111111,
              "#46039f"
             ],
             [
              0.2222222222222222,
              "#7201a8"
             ],
             [
              0.3333333333333333,
              "#9c179e"
             ],
             [
              0.4444444444444444,
              "#bd3786"
             ],
             [
              0.5555555555555556,
              "#d8576b"
             ],
             [
              0.6666666666666666,
              "#ed7953"
             ],
             [
              0.7777777777777778,
              "#fb9f3a"
             ],
             [
              0.8888888888888888,
              "#fdca26"
             ],
             [
              1,
              "#f0f921"
             ]
            ],
            "type": "histogram2dcontour"
           }
          ],
          "mesh3d": [
           {
            "colorbar": {
             "outlinewidth": 0,
             "ticks": ""
            },
            "type": "mesh3d"
           }
          ],
          "parcoords": [
           {
            "line": {
             "colorbar": {
              "outlinewidth": 0,
              "ticks": ""
             }
            },
            "type": "parcoords"
           }
          ],
          "pie": [
           {
            "automargin": true,
            "type": "pie"
           }
          ],
          "scatter": [
           {
            "marker": {
             "colorbar": {
              "outlinewidth": 0,
              "ticks": ""
             }
            },
            "type": "scatter"
           }
          ],
          "scatter3d": [
           {
            "line": {
             "colorbar": {
              "outlinewidth": 0,
              "ticks": ""
             }
            },
            "marker": {
             "colorbar": {
              "outlinewidth": 0,
              "ticks": ""
             }
            },
            "type": "scatter3d"
           }
          ],
          "scattercarpet": [
           {
            "marker": {
             "colorbar": {
              "outlinewidth": 0,
              "ticks": ""
             }
            },
            "type": "scattercarpet"
           }
          ],
          "scattergeo": [
           {
            "marker": {
             "colorbar": {
              "outlinewidth": 0,
              "ticks": ""
             }
            },
            "type": "scattergeo"
           }
          ],
          "scattergl": [
           {
            "marker": {
             "colorbar": {
              "outlinewidth": 0,
              "ticks": ""
             }
            },
            "type": "scattergl"
           }
          ],
          "scattermapbox": [
           {
            "marker": {
             "colorbar": {
              "outlinewidth": 0,
              "ticks": ""
             }
            },
            "type": "scattermapbox"
           }
          ],
          "scatterpolar": [
           {
            "marker": {
             "colorbar": {
              "outlinewidth": 0,
              "ticks": ""
             }
            },
            "type": "scatterpolar"
           }
          ],
          "scatterpolargl": [
           {
            "marker": {
             "colorbar": {
              "outlinewidth": 0,
              "ticks": ""
             }
            },
            "type": "scatterpolargl"
           }
          ],
          "scatterternary": [
           {
            "marker": {
             "colorbar": {
              "outlinewidth": 0,
              "ticks": ""
             }
            },
            "type": "scatterternary"
           }
          ],
          "surface": [
           {
            "colorbar": {
             "outlinewidth": 0,
             "ticks": ""
            },
            "colorscale": [
             [
              0,
              "#0d0887"
             ],
             [
              0.1111111111111111,
              "#46039f"
             ],
             [
              0.2222222222222222,
              "#7201a8"
             ],
             [
              0.3333333333333333,
              "#9c179e"
             ],
             [
              0.4444444444444444,
              "#bd3786"
             ],
             [
              0.5555555555555556,
              "#d8576b"
             ],
             [
              0.6666666666666666,
              "#ed7953"
             ],
             [
              0.7777777777777778,
              "#fb9f3a"
             ],
             [
              0.8888888888888888,
              "#fdca26"
             ],
             [
              1,
              "#f0f921"
             ]
            ],
            "type": "surface"
           }
          ],
          "table": [
           {
            "cells": {
             "fill": {
              "color": "#EBF0F8"
             },
             "line": {
              "color": "white"
             }
            },
            "header": {
             "fill": {
              "color": "#C8D4E3"
             },
             "line": {
              "color": "white"
             }
            },
            "type": "table"
           }
          ]
         },
         "layout": {
          "annotationdefaults": {
           "arrowcolor": "#2a3f5f",
           "arrowhead": 0,
           "arrowwidth": 1
          },
          "coloraxis": {
           "colorbar": {
            "outlinewidth": 0,
            "ticks": ""
           }
          },
          "colorscale": {
           "diverging": [
            [
             0,
             "#8e0152"
            ],
            [
             0.1,
             "#c51b7d"
            ],
            [
             0.2,
             "#de77ae"
            ],
            [
             0.3,
             "#f1b6da"
            ],
            [
             0.4,
             "#fde0ef"
            ],
            [
             0.5,
             "#f7f7f7"
            ],
            [
             0.6,
             "#e6f5d0"
            ],
            [
             0.7,
             "#b8e186"
            ],
            [
             0.8,
             "#7fbc41"
            ],
            [
             0.9,
             "#4d9221"
            ],
            [
             1,
             "#276419"
            ]
           ],
           "sequential": [
            [
             0,
             "#0d0887"
            ],
            [
             0.1111111111111111,
             "#46039f"
            ],
            [
             0.2222222222222222,
             "#7201a8"
            ],
            [
             0.3333333333333333,
             "#9c179e"
            ],
            [
             0.4444444444444444,
             "#bd3786"
            ],
            [
             0.5555555555555556,
             "#d8576b"
            ],
            [
             0.6666666666666666,
             "#ed7953"
            ],
            [
             0.7777777777777778,
             "#fb9f3a"
            ],
            [
             0.8888888888888888,
             "#fdca26"
            ],
            [
             1,
             "#f0f921"
            ]
           ],
           "sequentialminus": [
            [
             0,
             "#0d0887"
            ],
            [
             0.1111111111111111,
             "#46039f"
            ],
            [
             0.2222222222222222,
             "#7201a8"
            ],
            [
             0.3333333333333333,
             "#9c179e"
            ],
            [
             0.4444444444444444,
             "#bd3786"
            ],
            [
             0.5555555555555556,
             "#d8576b"
            ],
            [
             0.6666666666666666,
             "#ed7953"
            ],
            [
             0.7777777777777778,
             "#fb9f3a"
            ],
            [
             0.8888888888888888,
             "#fdca26"
            ],
            [
             1,
             "#f0f921"
            ]
           ]
          },
          "colorway": [
           "#636efa",
           "#EF553B",
           "#00cc96",
           "#ab63fa",
           "#FFA15A",
           "#19d3f3",
           "#FF6692",
           "#B6E880",
           "#FF97FF",
           "#FECB52"
          ],
          "font": {
           "color": "#2a3f5f"
          },
          "geo": {
           "bgcolor": "white",
           "lakecolor": "white",
           "landcolor": "#E5ECF6",
           "showlakes": true,
           "showland": true,
           "subunitcolor": "white"
          },
          "hoverlabel": {
           "align": "left"
          },
          "hovermode": "closest",
          "mapbox": {
           "style": "light"
          },
          "paper_bgcolor": "white",
          "plot_bgcolor": "#E5ECF6",
          "polar": {
           "angularaxis": {
            "gridcolor": "white",
            "linecolor": "white",
            "ticks": ""
           },
           "bgcolor": "#E5ECF6",
           "radialaxis": {
            "gridcolor": "white",
            "linecolor": "white",
            "ticks": ""
           }
          },
          "scene": {
           "xaxis": {
            "backgroundcolor": "#E5ECF6",
            "gridcolor": "white",
            "gridwidth": 2,
            "linecolor": "white",
            "showbackground": true,
            "ticks": "",
            "zerolinecolor": "white"
           },
           "yaxis": {
            "backgroundcolor": "#E5ECF6",
            "gridcolor": "white",
            "gridwidth": 2,
            "linecolor": "white",
            "showbackground": true,
            "ticks": "",
            "zerolinecolor": "white"
           },
           "zaxis": {
            "backgroundcolor": "#E5ECF6",
            "gridcolor": "white",
            "gridwidth": 2,
            "linecolor": "white",
            "showbackground": true,
            "ticks": "",
            "zerolinecolor": "white"
           }
          },
          "shapedefaults": {
           "line": {
            "color": "#2a3f5f"
           }
          },
          "ternary": {
           "aaxis": {
            "gridcolor": "white",
            "linecolor": "white",
            "ticks": ""
           },
           "baxis": {
            "gridcolor": "white",
            "linecolor": "white",
            "ticks": ""
           },
           "bgcolor": "#E5ECF6",
           "caxis": {
            "gridcolor": "white",
            "linecolor": "white",
            "ticks": ""
           }
          },
          "title": {
           "x": 0.05
          },
          "xaxis": {
           "automargin": true,
           "gridcolor": "white",
           "linecolor": "white",
           "ticks": "",
           "title": {
            "standoff": 15
           },
           "zerolinecolor": "white",
           "zerolinewidth": 2
          },
          "yaxis": {
           "automargin": true,
           "gridcolor": "white",
           "linecolor": "white",
           "ticks": "",
           "title": {
            "standoff": 15
           },
           "zerolinecolor": "white",
           "zerolinewidth": 2
          }
         }
        },
        "title": {
         "font": {
          "color": "#4D5663"
         },
         "text": "Sentiment Polarity Distribution"
        },
        "xaxis": {
         "gridcolor": "#E1E5ED",
         "linecolor": "black",
         "showgrid": true,
         "tickfont": {
          "color": "#4D5663"
         },
         "title": {
          "font": {
           "color": "#4D5663"
          },
          "text": "polarity"
         },
         "zerolinecolor": "#E1E5ED"
        },
        "yaxis": {
         "gridcolor": "#E1E5ED",
         "linecolor": "black",
         "showgrid": true,
         "tickfont": {
          "color": "#4D5663"
         },
         "title": {
          "font": {
           "color": "#4D5663"
          },
          "text": "count"
         },
         "zerolinecolor": "#E1E5ED"
        }
       }
      },
      "text/html": [
       "<div>\n",
       "        \n",
       "        \n",
       "            <div id=\"503c2da3-ca2f-4473-827d-c1331e86ecf6\" class=\"plotly-graph-div\" style=\"height:525px; width:100%;\"></div>\n",
       "            <script type=\"text/javascript\">\n",
       "                require([\"plotly\"], function(Plotly) {\n",
       "                    window.PLOTLYENV=window.PLOTLYENV || {};\n",
       "                    window.PLOTLYENV.BASE_URL='https://plot.ly';\n",
       "                    \n",
       "                if (document.getElementById(\"503c2da3-ca2f-4473-827d-c1331e86ecf6\")) {\n",
       "                    Plotly.newPlot(\n",
       "                        '503c2da3-ca2f-4473-827d-c1331e86ecf6',\n",
       "                        [{\"histfunc\": \"count\", \"histnorm\": \"\", \"marker\": {\"color\": \"rgba(255, 153, 51, 1.0)\", \"line\": {\"color\": \"#000000\", \"width\": 1.3}}, \"name\": \"polarity\", \"nbinsx\": 50, \"opacity\": 0.8, \"orientation\": \"v\", \"type\": \"histogram\", \"x\": [0.11694214876033056, 0.05975378787878787, -0.14055555555555557, 0.030612947658402192, 0.016757246376811606, 0.36466942148760323, 0.22291666666666668, 0.2316358024691358, 0.06923076923076922, 0.2204081632653061, 0.19652777777777777, 0.22777777777777777, 0.30937499999999996, 0.05439814814814814, 0.22678571428571428, -0.20426136363636366, 0.11805291005291006, 0.3125, 0.08226551226551225, 0.11553030303030302, 0.275, 0.21184052275849147, 0.212396694214876, 0.31875, 0.0557142857142857, 0.07608024691358026, 0.31250000000000006, 0.05735294117647058, -0.03815104166666666, 0.0038461538461538494, 0.19331955922865013, 0.2570707070707071, 0.14444444444444443, 0.1163186669652187, -0.03202168202168202, 0.048425142016914155, 0.21909937508727828, 0.19880934343434342, 0.09821428571428571, -0.028571428571428574, -0.006113215488215487, 0.05439814814814814, 0.12305194805194805, 0.21184052275849147, 0.1557142857142857, 0.04420238095238097, 0.044718117131910214, -0.023393939393939394, 0.17423076923076927, -0.2607142857142857, 0.02564625850340136, -0.038095238095238085, 0.153125, 0.07532467532467534, 0.11746031746031746, 0.15889550264550267, 0.20300925925925925, 0.13095238095238096, -0.02222222222222222, 0.1031328320802005, 0.0963797313797314, 0.23313656040928765, 0.11666666666666665, 0.06868686868686869, -0.020000000000000007, 0.190625, 0.36740196078431375, 0.1955952380952381, 0.2375, 0.2090606060606061, 0.0707070707070707, 0.20941142191142192, 0.09330929487179486, 0.10000000000000002, 0.23125, 0.22250000000000006, 0.052976190476190475, 0.1197878787878788, -0.009194214876033058, 0.35312499999999997, 0.07641739980449655, 0.11648550724637684, 0.1134297520661157, 0.13425925925925924, 0.2409090909090909, -0.3235380116959064, 0.013541666666666674, 0.34375000000000006, 0.07031250000000003, 0.10277777777777779, 0.3854166666666667, 0.03497091144149968, 0.23304093567251463, 0.19687693259121836, 0.17380952380952377, -0.053125, 0.2979931972789115, 0.15352564102564104, 0.18508522727272725, 0.10008280860553587, 0.03425925925925927, 0.11363636363636362, 0.09792692939244663, 0.2833333333333333, 0.11250000000000002, 0.11250000000000002, 0.20245887445887448, 0.4133928571428572, 0.03888888888888889, 0.07388888888888889, 0.05238095238095238, -0.034166666666666665, 0.13459595959595957, 0.1866666666666667, -0.23489583333333333, 0.20569923371647506, 0.008333333333333331, 0.09444444444444446, 0.13194444444444442, 0.075, 0.14913223140495868, 0.0890625, 0.2710497835497835, 0.0, 0.16812834982477845, 0.1619047619047619, 0.271984126984127, 0.07924107142857142, 0.12916666666666668, 0.13499422799422803, 0.11635802469135802, 0.3277692895339954, 0.08750000000000001, 0.01681818181818183, 0.35833333333333334, 0.03628787878787878, 0.07702284165698799, 0.07279741863075195, 0.14238413547237075, 0.07998652291105122, 0.1731353106353106, 0.011425974025974023, 0.24220779220779218, 0.24636363636363637, 0.007621212121212122, 0.18427064007421148, 0.2029166666666667, 0.125, -0.023737373737373748, 0.058159117305458745, 0.023888888888888883, 0.08090277777777777, 0.26651785714285714, 0.171829597343296, 0.16574074074074074, 0.19375, 0.11875000000000001, 0.16845454545454547, 0.06710526315789475, 0.3710526315789474, 0.3083333333333333, 0.21373626373626373, 0.09535714285714285, 0.25166666666666665, 0.1765625, 0.06666666666666667, 0.16666666666666666, 0.2412698412698413, -0.10520833333333335, 0.050747863247863255, 0.18863636363636363, 0.21101532567049805, 0.19412121212121217, 0.02680431547619046, -0.17380952380952377, 0.15367778772951185, 0.12803030303030302, 0.2142857142857143, 0.24027280743947416, 0.20197368421052633, 0.2785714285714286, 0.16159297052154195, 0.278125, 0.02662337662337661, -0.0990151515151515, 0.128125, 0.2101010101010101, 0.2212461597542243, 0.0, 0.13846153846153847, 0.19551620859760394, 0.127734375, 0.0398629148629149, 0.2120454545454545, 0.21047932330827068, 0.12613636363636363, 0.18046594982078853, 0.11309523809523808, 0.15555555555555553, 0.23032598714416908, 0.13106060606060607, 0.28566849816849815, 0.08293650793650796, 0.2214285714285714, 0.1636734693877551, 0.25888888888888884, 0.2611111111111111, -0.07777777777777778, 0.2573214285714286, 0.16823813043325236, 0.14053030303030303, 0.37214781746031744, 0.13968253968253969, 0.03833333333333332, 0.22142857142857145, 0.25, 0.15833333333333333, -0.12272727272727274, -0.07114197530864197, 0.3316017316017316, 0.26, 0.2816433566433567, 0.14141767323585505, -0.1538170163170163, -0.22051282051282056, 0.21708849862258955, -0.11299283154121861, 0.1306301652892562, 0.23194444444444443, 0.07348484848484849, 0.24559884559884562, 0.38275862068965516, 0.08304232804232801, 0.06581632653061224, -0.08928571428571427, -0.0586679292929293, 0.05663265306122449, 0.0642857142857143, 0.0948830409356725, 0.18611111111111112, 0.0035714285714285787, 0.5666666666666667, 0.25078125, 0.1625, 0.15620370370370373, -0.059517045454545475, 0.1625, 0.09804203732775156, 0.1125, 0.07857142857142856, 0.21527777777777776, 0.5, 0.06818181818181818, 0.17954545454545454, 0.3555555555555555, -0.01874999999999999, 0.15568783068783068, 0.5, 0.2962566844919787, -0.125, -0.06272893772893774, 0.050721500721500744, 0.19642857142857142, 0.30250000000000005, -0.012666666666666675, 0.38822314049586787, 0.3175619834710744, 0.25705627705627704, 0.14583333333333334, 0.1625, -0.1306122448979592, 0.022727272727272724, 0.34097796143250697, 0.35833333333333334, -0.14575320512820508, 0.24597625413801888, 0.15852272727272726, -0.10740740740740742, 0.24791666666666667, 0.02152777777777778, 0.25388490819525306, 0.07404761904761906, 0.34980158730158734, 0.1289351851851852, -0.11249999999999999, 0.20325396825396824, 0.26666666666666666, 0.15529574592074596, 0.24956709956709952, 0.13518217893217896, 0.2847222222222222, 0.11201073232323233, 0.22263257575757578, 0.22263257575757578, 0.321741452991453, 0.3105855855855856, 0.1527777777777778, 0.07870813397129187, 0.07499999999999998, 0.07916666666666666, 0.027508267195767197, 0.4373333333333333, 0.39722222222222225, 0.3043831168831169, 0.16515151515151513, 0.2903296356421356, 0.26088184803702047, 0.13530701754385965, -0.025000000000000012, 0.3088235294117647, 0.0038461538461538416, 0.009090909090909092, 0.525, 0.09588189588189586, 0.09805194805194804, 0.1609717868338558, 0.19687500000000002, 0.06979166666666668, 0.19081439393939395, -0.08352813852813853, -0.08270202020202018, 0.07400000000000001, 0.05254820936639118, 0.05254820936639118, 0.14583333333333334, 0.020654761904761905, 0.023992673992673987, 0.43039772727272724, 0.030007102272727272, 0.18897959183673468, 0.10850852272727274, 0.14886363636363636, 0.18506493506493507, 0.31082251082251083, 0.24666666666666667, -0.09381914381914382, -0.09950396825396823, -0.04579681835779398, 0.3, 0.40625, -0.013124999999999998, 0.01666666666666667, 0.3679487179487179, 0.15138888888888888, 0.1340909090909091, 0.36169981060606055, 0.1628621378621379, 0.21580578512396692, 0.08391729797979801, 0.17399691358024694, 0.09779040404040402, 0.11770833333333332, 0.2509469696969697, -0.011458333333333274, 0.16985746352413017, -0.08229166666666667, 0.36222222222222217, 0.1337962962962963, 0.16480519480519482, 0.21590909090909088, 0.15940656565656564, 0.2325, -0.02321428571428571, 0.041413139329806, 0.12050000000000002, 0.30600000000000005, 0.06785714285714284, 0.22916666666666666, 0.11698717948717949, -0.020833333333333336, 0.0411904761904762, 0.09517045454545454, 0.17946428571428572, 0.08147321428571429, 0.21212121212121213, 0.16658653846153845, 0.18522727272727274, 0.12962962962962962, 0.17261904761904762, 0.027038690476190477, 0.12321428571428572, 0.1468939393939394, 0.20454545454545453, 0.28939393939393937, 0.17500000000000004, 0.16507936507936505, 0.04964520202020202, 0.15303030303030304, 0.18613636363636366, 0.10819805194805193, 0.1857142857142857, 0.1447368421052632, 0.3578125, 0.0, 0.30156249999999996, 0.29125, 0.05575396825396826, 0.04705062205062204, 0.04705062205062204, 0.04705062205062204, 0.04705062205062204, 0.04705062205062204, -0.021717171717171715, 0.05575396825396826, 0.05575396825396826, 0.05575396825396826, 0.05575396825396826, 0.05575396825396826, 0.022763347763347763, 0.022763347763347763, 0.022763347763347763, 0.022763347763347763, 0.05575396825396826, 0.05575396825396826, 0.05575396825396826, 0.05575396825396826, 0.05575396825396826, 0.05575396825396826, 0.05575396825396826, 0.05575396825396826, -0.002678571428571433, -0.02135416666666667, 0.1653846153846154, 0.053490259740259734, 0.14332238642583472, -0.033333333333333326, 0.18966942148760332, -0.021093749999999994, -0.10172391360915954, 0.13289141414141417, 0.31048951048951046, 0.31048951048951046, 0.15333333333333335, 0.2019965277777777, 0.08783212560386473, 0.16714285714285715, 0.2, 0.11390151515151517, 0.18393458393458392, 0.1426970203285993, 0.05720439691027927, 0.29000000000000004, -0.036458333333333336, 0.06212121212121214, 0.3107963875205254, 0.11467663649481828, 0.17500000000000004, 0.16534090909090907, 0.1, 0.04672910052910052, 0.29, 0.29, 0.17727272727272725, 0.12258335635995209, 0.023295454545454543, 0.19213943950786055, -0.05235042735042734, -0.009856630824372757, 0.07472222222222222, 0.2305785123966942, 0.04895833333333333, 0.21403508771929824, 0.007196969696969687, 0.10598214285714289, 0.32341269841269843, -0.04444444444444445, 0.027811447811447804, 0.2698979591836735, 0.05573870573870573, 0.26625, -0.04166666666666666, 0.12708333333333333, 0.013920454545454545, 0.049999999999999996, 0.19821428571428573, 0.19821428571428573, 0.19821428571428573, 0.07858796296296296, 0.11456349206349209, 0.12041245791245792, 0.18714285714285714, 0.0574404761904762, 0.12668597742127152, 0.08251748251748252, 0.025476190476190468, 0.3018229166666666, -0.08277972027972028, 0.041666666666666664, 0.2943877551020408, 0.12110389610389612, 0.019683794466403157, 0.2313131313131313, 0.17487667371388302, 0.056633189033189035, 0.25833333333333336, 0.28963903743315506, 0.19624542124542127, 0.3321428571428572, 0.17750000000000002, 0.09062499999999998, 0.23636363636363633, 0.3471666666666667, -0.22083333333333333, -0.0015692640692640733, -0.13055555555555554, 0.1260416666666667, 0.3468749999999999, 0.05439814814814815, 0.033503401360544215, 0.19166666666666668, 0.32578124999999997, 0.10764880952380951, 0.017992424242424237, 0.1, -0.053333333333333344, 0.1297222222222222, -0.03629148629148629, 0.09681465821000705, 0.04523809523809525, 0.03125, 0.35072820037105756, -0.01097222222222222, 0.1282163742690059, 0.12916666666666665, 0.11636389404246547, 0.12254689754689756, 0.075, 0.5020833333333333, 0.10486111111111111, 0.053125, 0.12000000000000002, 0.018181818181818184, 0.08115314637053768, 0.13426406926406925, 0.12843406593406595, 0.0017857142857142932, 0.14700854700854699, 0.06874999999999998, 0.07083333333333332, -0.030169172932330825, 0.3341450216450217, 0.17009871441689622, 0.11086626139817629, 0.16590909090909092, -0.05174242424242424, 0.21318681318681318, 0.2603009259259259, -0.15520833333333334, 0.2088235294117647, 0.04444444444444444, 0.1409090909090909, 0.08129984051036682, 0.07072649572649573, 0.14848484848484847, 0.22628205128205126, 0.1260416666666667, 0.22272727272727275, 0.03630050505050505, 0.03630050505050505, 0.03630050505050505, 0.03630050505050505, 0.03630050505050505, 0.03630050505050505, 0.03630050505050505, 0.03630050505050505, 0.19421487603305784, -0.06064935064935066, 0.12714285714285717, 0.18696687370600412, 0.0873015873015873, 0.04519400352733686, -0.02102272727272723, 0.21334089191232045, 0.1, 0.11742424242424243, -0.003968253968253978, 0.015000000000000003, -0.02222222222222223, 9.25185853854297e-18, 0.1671875, 0.2482792207792208, 0.1688095238095238, 0.125, 0.15944444444444447, 0.20025252525252527, 0.11580086580086581, 0.09870129870129872, -0.0467948717948718, -0.2847222222222222, 0.2916666666666667, 0.19583333333333333, 0.08148148148148149, 0.21028645833333331, 0.10231186224489797, -0.036994949494949504, 0.0515151515151515, -0.05512820512820512, 0.12962962962962962, 0.1622549019607843, 0.16901709401709406, 0.24943427784336872, -0.08706293706293702, 0.17094627594627598, 0.1287470238095238, 0.16166666666666668, 0.09706959706959707, 0.044240878169449604, 0.03212682379349045, 0.24496753246753245, 0.18515873015873022, 0.20909863945578236, 0.03333333333333333, -0.11944444444444446, 0.06204004329004328, -0.06745789779326365, -0.06745789779326365, 0.032851239669421495, 0.23227272727272724, 0.04569444444444444, 0.15489583333333334, 0.16264309764309764, 0.23399122807017547, 0.0899092970521542, 0.07124183006535947, -0.05107142857142858, -0.11881313131313131, 0.09479166666666666, -0.07857142857142858, 0.03402777777777777, 0.10000000000000002, 0.18009259259259258, 0.19736036321402178, 0.005333333333333349, 0.10656990068754778, 0.13636363636363633, 0.04027777777777777, 0.02932323232323231, 0.057608695652173914, 0.24828597532162672, 0.17444444444444446, 0.14920033670033675, 0.2913533834586466, 0.17955182072829134, 0.05267857142857143, 0.08342490842490842, 0.36, 0.12942708333333336, 0.1495115995115995, 0.047357723577235764, -0.038708513708513706, 0.0, 0.0838095238095238, 0.05480769230769232, -0.04444444444444444, 0.10700000000000003, 0.16227272727272726, -0.09999999999999999, 0.13196969696969696, 0.10375000000000001, -0.014646464646464637, 0.09074074074074073, 0.14020396270396268, 0.2287878787878788, 0.1611642926965508, 0.21970227051859711, 0.03361235119047619, 0.14285714285714282, -0.10277777777777779, 0.1435185185185185, 0.0836734693877551, 0.07500000000000001, 0.17427899686520376, 0.13749999999999998, 0.16329365079365082, 0.24349982209571253, 0.28686868686868683, 0.22365196078431374, -0.08229166666666667, 0.2642113095238095, 0.10000000000000002, 0.23287037037037037, 0.09162658329324996, 0.18973684210526315, 0.20530303030303027, 0.24086580086580084, 0.25, -0.05833333333333333, 0.10277777777777779, -0.024865591397849468, 0.25622710622710626, 0.029292929292929294, -0.02766666666666666, 0.2799603174603174, 0.04659090909090909, 0.09110863095238096, 0.2376984126984127, 0.11318027210884352, 0.05714285714285713, -0.06388888888888888, 0.2259920634920635, 0.026190476190476188, 0.062121212121212126, 0.05675410116199588, 0.09714285714285714, 0.26587301587301587, 0.23500824572253143, 0.15900220150220148, 0.11249999999999999, 0.14375000000000002, 0.14375000000000002, 0.03583333333333333, 0.11702317290552584, 0.1564484126984127, 0.07666666666666665, 0.06304824561403513, 0.03801652892561984, 0.019141156462585036, -0.07377777777777776, 0.11129032258064518, 0.03084415584415584, 0.16612295313382267, 0.07525252525252525, -0.16666666666666666, 0.19153535353535356, -0.07823129251700678, 0.24696969696969698, 0.04375, 0.0957070707070707, 0.125, 0.1840909090909091, 0.06759259259259259, -0.05014792899408284, -0.016233766233766236, 0.08522727272727273, 0.13440115440115438, 0.23159206864564005, 0.1142857142857143, 0.20555555555555557, 0.09386574074074074, 0.03708333333333334, 0.11499999999999999, 0.05101851851851851, 0.16833333333333336, 0.21534391534391534, -0.1131613005050505, 0.2156167328042328, 0.0047101449275362296, -0.0011904761904761967, 0.05464743589743589, 0.13031655844155846, 0.3181818181818182, 0.09148745519713262, 0.07833333333333334, 0.08286564625850339, 0.06666666666666667, 0.20937499999999998, 0.03125, 0.1872402597402598, 0.2884259259259259, 0.24950396825396823, 0.06874999999999999, 0.07586206896551725, 0.20986394557823132, 0.3242129629629629, 0.06013888888888888, 0.125, 0.12383449883449885, 0.11562499999999999, 0.13402777777777775, 0.13484848484848483, 0.047306397306397296, 0.08666666666666666, 0.2545454545454545, 0.01931818181818181, 0.05409090909090909, 0.14398809523809525, -0.010297619047619045, -0.016835016835016838, 0.20166666666666666, -0.02202380952380952, 0.17799823633156966, 0.09687499999999999, 0.18125, 0.21601339481774265, 0.023532636194973873, 0.17146464646464643, 0.029166666666666664, 0.19468713105076743, -0.20159567901234565, 0.0968118686868687, 0.1272727272727273, 0.31666666666666665, 0.06763322884012542, 0.3634848484848485, 0.1922008547008547, 0.10833333333333334, 0.1058080808080808, 0.23210784313725488, 0.2588888888888889, 0.18104978354978357, -0.05324675324675325, -0.08636363636363636, 0.22592592592592592, 0.06666666666666667, 0.26877029220779214, 0.13499999999999998, 0.12121212121212119, 0.27658963585434165, 0.17738095238095236, 0.26845703125, -0.04166666666666668, 0.07234848484848486, 0.1053754086981935, 0.11205908289241624, -0.08333333333333333, -0.06363636363636363, 0.0581439393939394, 0.16077533577533576, 0.14944444444444444, 0.1341970121381886, -0.19642857142857142, 0.03202861952861952, 0.4409090909090909, 0.1462121212121212, 0.17265151515151517, 0.1419642857142857, 0.1042559523809524, 0.21302083333333333, 0.24839743589743588, -0.06130952380952378, 0.29000000000000004, -0.03222222222222222, 0.029166666666666657, 0.41071428571428564, 0.09853479853479855, 0.051840882694541235, 0.021607142857142853, 0.11112914862914865, 0.2602272727272727, 0.12261904761904761, 0.0369047619047619, 0.26293907116275533, -0.08697916666666666, 0.31166666666666665, 0.07750000000000001, 0.3, 0.19151515151515153, 0.12458739177489178, 0.12826086956521737, 0.1029210758377425, 0.21347655661088494, 0.17362637362637362, 0.10876190476190475, 0.26, 0.2606884057971014, 0.20555555555555557, 0.04104308390022676, 0.32255244755244755, 0.24546218487394955, 0.19999999999999998, 0.0564068100358423, 0.03079545454545455, 0.19307692307692306, 0.0010416666666666664, 0.24000000000000005, 0.29642857142857143, -0.049999999999999996, -0.10324675324675324, -0.026388888888888868, 0.02512894906511929, 0.10238095238095239, 0.06392045454545454, 0.11372601279317698, 0.2, 0.17482924482924483, 0.2103338068181818, 0.09404227459783016, 0.18333333333333335, 0.21354166666666666, 0.08153787878787877, 0.03437499999999999, 0.35781250000000003, -0.04488289488289488, 0.24297520661157027, 0.1884259259259259, 0.2001258741258741, 0.20666666666666664, 0.11944444444444446, 0.08807519640852973, 0.022222222222222223, 0.2996212121212121, 0.05514705882352942, 0.07626488095238096, 0.3022108843537415, 0.21515151515151518, -0.025248015873015874, 0.08407407407407408, 0.29294871794871796, 0.3573051948051948, 0.06969246031746032, 0.17272727272727273, 0.16763392857142856, 0.11272727272727277, 0.05210905349794238, 0.30833333333333335, 0.29863945578231293, 0.2858974358974359, -0.0611111111111111, 0.19074074074074074, 0.09464285714285714, 0.07651515151515151, 0.03464795008912655, 0.1287037037037037, 0.12781954887218044, 0.03900476627749354, 0.14696428571428571, 0.19148343187977335, 0.026680264180264177, -0.1962962962962963, -0.225, 0.1009255112703389, 0.13387445887445887, 0.2839285714285714, 0.18076923076923077, 0.16275510204081628, 0.09375, -0.052777777777777785, 0.13214285714285712, -0.020000000000000007, 0.003382936507936496, 0.16666666666666666, -0.005888888888888887, 0.14444444444444446, 0.10096153846153846, 0.09552469135802469, -0.00896694214876033, 0.1841422227198089, 0.23374732697021847, 0.29122670807453416, 0.059610389610389614, 0.05546464646464646, 0.12000000000000002, 0.14711419753086422, 0.0625, -0.053767586580086575, 0.08287878787878787, 0.2039551357733176, 0.1118132624950807, 0.1625, 0.20506968418360824, 0.13935185185185187, 0.15182539682539678, 0.08175579322638146, -0.08565493646138808, -0.04707792207792206, 0.106875, 0.11408276311502118, 0.25094276094276097, 0.023469387755102045, 0.14090909090909096, 0.2200701871657754, 0.34854497354497355, 0.2308020202020202, 0.10814301552106431, 0.11515216127156429, 0.19882716049382715, 0.07739018087855298, 0.1787037037037037, 0.029075091575091565, 0.07142857142857142, -0.01874999999999996, 0.3510416666666667, 0.05204081632653063, 0.18811309523809527, 0.05, 0.07500000000000001, 0.24638888888888885, 0.09462241462241462, 0.13856506238859181, 0.2287676767676768, 0.36363636363636365, -0.10072278911564626, 0.19222222222222224, 0.18541666666666667, 0.01964285714285714, 0.0963744588744589, 0.14629629629629629, 0.20134680134680136, 0.12698412698412698, 0.007936507936507945, -0.028634751773049638, 0.11773809523809524, 0.15190295815295815, 0.09033143939393941, -0.03757575757575757, 0.10899470899470899, 0.20757575757575758, 0.17007575757575757, 0.1350789511035413, -0.015873015873015865, 0.12678571428571428, 0.09559523809523811, 0.4148268398268398, 0.02352941176470589, 0.06083333333333333, 0.11666666666666665, 0.3142857142857142, 0.14375000000000002, 0.2246212121212121, 0.12191558441558442, 0.3368055555555555, 0.27651515151515155, -0.025259740259740256, 0.04679539210789212, 0.2551587301587302, 0.07566844919786095, 0.14583333333333334, 0.18160683760683766, 0.1358843537414966, 0.21777777777777774, 0.2515151515151515, 0.34944444444444445, -0.012662337662337661, 0.15208333333333332, 0.2610357142857143, 0.187059787059787, 0.24951790633608814, 0.18928571428571428, 0.09375, 0.08037603639298553, -0.18566849816849815, 0.07424242424242423, 0.21442307692307694]}],\n",
       "                        {\"barmode\": \"overlay\", \"legend\": {\"bgcolor\": \"#F5F6F9\", \"font\": {\"color\": \"#4D5663\"}}, \"paper_bgcolor\": \"#F5F6F9\", \"plot_bgcolor\": \"#F5F6F9\", \"template\": {\"data\": {\"bar\": [{\"error_x\": {\"color\": \"#2a3f5f\"}, \"error_y\": {\"color\": \"#2a3f5f\"}, \"marker\": {\"line\": {\"color\": \"#E5ECF6\", \"width\": 0.5}}, \"type\": \"bar\"}], \"barpolar\": [{\"marker\": {\"line\": {\"color\": \"#E5ECF6\", \"width\": 0.5}}, \"type\": \"barpolar\"}], \"carpet\": [{\"aaxis\": {\"endlinecolor\": \"#2a3f5f\", \"gridcolor\": \"white\", \"linecolor\": \"white\", \"minorgridcolor\": \"white\", \"startlinecolor\": \"#2a3f5f\"}, \"baxis\": {\"endlinecolor\": \"#2a3f5f\", \"gridcolor\": \"white\", \"linecolor\": \"white\", \"minorgridcolor\": \"white\", \"startlinecolor\": \"#2a3f5f\"}, \"type\": \"carpet\"}], \"choropleth\": [{\"colorbar\": {\"outlinewidth\": 0, \"ticks\": \"\"}, \"type\": \"choropleth\"}], \"contour\": [{\"colorbar\": {\"outlinewidth\": 0, \"ticks\": \"\"}, \"colorscale\": [[0.0, \"#0d0887\"], [0.1111111111111111, \"#46039f\"], [0.2222222222222222, \"#7201a8\"], [0.3333333333333333, \"#9c179e\"], [0.4444444444444444, \"#bd3786\"], [0.5555555555555556, \"#d8576b\"], [0.6666666666666666, \"#ed7953\"], [0.7777777777777778, \"#fb9f3a\"], [0.8888888888888888, \"#fdca26\"], [1.0, \"#f0f921\"]], \"type\": \"contour\"}], \"contourcarpet\": [{\"colorbar\": {\"outlinewidth\": 0, \"ticks\": \"\"}, \"type\": \"contourcarpet\"}], \"heatmap\": [{\"colorbar\": {\"outlinewidth\": 0, \"ticks\": \"\"}, \"colorscale\": [[0.0, \"#0d0887\"], [0.1111111111111111, \"#46039f\"], [0.2222222222222222, \"#7201a8\"], [0.3333333333333333, \"#9c179e\"], [0.4444444444444444, \"#bd3786\"], [0.5555555555555556, \"#d8576b\"], [0.6666666666666666, \"#ed7953\"], [0.7777777777777778, \"#fb9f3a\"], [0.8888888888888888, \"#fdca26\"], [1.0, \"#f0f921\"]], \"type\": \"heatmap\"}], \"heatmapgl\": [{\"colorbar\": {\"outlinewidth\": 0, \"ticks\": \"\"}, \"colorscale\": [[0.0, \"#0d0887\"], [0.1111111111111111, \"#46039f\"], [0.2222222222222222, \"#7201a8\"], [0.3333333333333333, \"#9c179e\"], [0.4444444444444444, \"#bd3786\"], [0.5555555555555556, \"#d8576b\"], [0.6666666666666666, \"#ed7953\"], [0.7777777777777778, \"#fb9f3a\"], [0.8888888888888888, \"#fdca26\"], [1.0, \"#f0f921\"]], \"type\": \"heatmapgl\"}], \"histogram\": [{\"marker\": {\"colorbar\": {\"outlinewidth\": 0, \"ticks\": \"\"}}, \"type\": \"histogram\"}], \"histogram2d\": [{\"colorbar\": {\"outlinewidth\": 0, \"ticks\": \"\"}, \"colorscale\": [[0.0, \"#0d0887\"], [0.1111111111111111, \"#46039f\"], [0.2222222222222222, \"#7201a8\"], [0.3333333333333333, \"#9c179e\"], [0.4444444444444444, \"#bd3786\"], [0.5555555555555556, \"#d8576b\"], [0.6666666666666666, \"#ed7953\"], [0.7777777777777778, \"#fb9f3a\"], [0.8888888888888888, \"#fdca26\"], [1.0, \"#f0f921\"]], \"type\": \"histogram2d\"}], \"histogram2dcontour\": [{\"colorbar\": {\"outlinewidth\": 0, \"ticks\": \"\"}, \"colorscale\": [[0.0, \"#0d0887\"], [0.1111111111111111, \"#46039f\"], [0.2222222222222222, \"#7201a8\"], [0.3333333333333333, \"#9c179e\"], [0.4444444444444444, \"#bd3786\"], [0.5555555555555556, \"#d8576b\"], [0.6666666666666666, \"#ed7953\"], [0.7777777777777778, \"#fb9f3a\"], [0.8888888888888888, \"#fdca26\"], [1.0, \"#f0f921\"]], \"type\": \"histogram2dcontour\"}], \"mesh3d\": [{\"colorbar\": {\"outlinewidth\": 0, \"ticks\": \"\"}, \"type\": \"mesh3d\"}], \"parcoords\": [{\"line\": {\"colorbar\": {\"outlinewidth\": 0, \"ticks\": \"\"}}, \"type\": \"parcoords\"}], \"pie\": [{\"automargin\": true, \"type\": \"pie\"}], \"scatter\": [{\"marker\": {\"colorbar\": {\"outlinewidth\": 0, \"ticks\": \"\"}}, \"type\": \"scatter\"}], \"scatter3d\": [{\"line\": {\"colorbar\": {\"outlinewidth\": 0, \"ticks\": \"\"}}, \"marker\": {\"colorbar\": {\"outlinewidth\": 0, \"ticks\": \"\"}}, \"type\": \"scatter3d\"}], \"scattercarpet\": [{\"marker\": {\"colorbar\": {\"outlinewidth\": 0, \"ticks\": \"\"}}, \"type\": \"scattercarpet\"}], \"scattergeo\": [{\"marker\": {\"colorbar\": {\"outlinewidth\": 0, \"ticks\": \"\"}}, \"type\": \"scattergeo\"}], \"scattergl\": [{\"marker\": {\"colorbar\": {\"outlinewidth\": 0, \"ticks\": \"\"}}, \"type\": \"scattergl\"}], \"scattermapbox\": [{\"marker\": {\"colorbar\": {\"outlinewidth\": 0, \"ticks\": \"\"}}, \"type\": \"scattermapbox\"}], \"scatterpolar\": [{\"marker\": {\"colorbar\": {\"outlinewidth\": 0, \"ticks\": \"\"}}, \"type\": \"scatterpolar\"}], \"scatterpolargl\": [{\"marker\": {\"colorbar\": {\"outlinewidth\": 0, \"ticks\": \"\"}}, \"type\": \"scatterpolargl\"}], \"scatterternary\": [{\"marker\": {\"colorbar\": {\"outlinewidth\": 0, \"ticks\": \"\"}}, \"type\": \"scatterternary\"}], \"surface\": [{\"colorbar\": {\"outlinewidth\": 0, \"ticks\": \"\"}, \"colorscale\": [[0.0, \"#0d0887\"], [0.1111111111111111, \"#46039f\"], [0.2222222222222222, \"#7201a8\"], [0.3333333333333333, \"#9c179e\"], [0.4444444444444444, \"#bd3786\"], [0.5555555555555556, \"#d8576b\"], [0.6666666666666666, \"#ed7953\"], [0.7777777777777778, \"#fb9f3a\"], [0.8888888888888888, \"#fdca26\"], [1.0, \"#f0f921\"]], \"type\": \"surface\"}], \"table\": [{\"cells\": {\"fill\": {\"color\": \"#EBF0F8\"}, \"line\": {\"color\": \"white\"}}, \"header\": {\"fill\": {\"color\": \"#C8D4E3\"}, \"line\": {\"color\": \"white\"}}, \"type\": \"table\"}]}, \"layout\": {\"annotationdefaults\": {\"arrowcolor\": \"#2a3f5f\", \"arrowhead\": 0, \"arrowwidth\": 1}, \"coloraxis\": {\"colorbar\": {\"outlinewidth\": 0, \"ticks\": \"\"}}, \"colorscale\": {\"diverging\": [[0, \"#8e0152\"], [0.1, \"#c51b7d\"], [0.2, \"#de77ae\"], [0.3, \"#f1b6da\"], [0.4, \"#fde0ef\"], [0.5, \"#f7f7f7\"], [0.6, \"#e6f5d0\"], [0.7, \"#b8e186\"], [0.8, \"#7fbc41\"], [0.9, \"#4d9221\"], [1, \"#276419\"]], \"sequential\": [[0.0, \"#0d0887\"], [0.1111111111111111, \"#46039f\"], [0.2222222222222222, \"#7201a8\"], [0.3333333333333333, \"#9c179e\"], [0.4444444444444444, \"#bd3786\"], [0.5555555555555556, \"#d8576b\"], [0.6666666666666666, \"#ed7953\"], [0.7777777777777778, \"#fb9f3a\"], [0.8888888888888888, \"#fdca26\"], [1.0, \"#f0f921\"]], \"sequentialminus\": [[0.0, \"#0d0887\"], [0.1111111111111111, \"#46039f\"], [0.2222222222222222, \"#7201a8\"], [0.3333333333333333, \"#9c179e\"], [0.4444444444444444, \"#bd3786\"], [0.5555555555555556, \"#d8576b\"], [0.6666666666666666, \"#ed7953\"], [0.7777777777777778, \"#fb9f3a\"], [0.8888888888888888, \"#fdca26\"], [1.0, \"#f0f921\"]]}, \"colorway\": [\"#636efa\", \"#EF553B\", \"#00cc96\", \"#ab63fa\", \"#FFA15A\", \"#19d3f3\", \"#FF6692\", \"#B6E880\", \"#FF97FF\", \"#FECB52\"], \"font\": {\"color\": \"#2a3f5f\"}, \"geo\": {\"bgcolor\": \"white\", \"lakecolor\": \"white\", \"landcolor\": \"#E5ECF6\", \"showlakes\": true, \"showland\": true, \"subunitcolor\": \"white\"}, \"hoverlabel\": {\"align\": \"left\"}, \"hovermode\": \"closest\", \"mapbox\": {\"style\": \"light\"}, \"paper_bgcolor\": \"white\", \"plot_bgcolor\": \"#E5ECF6\", \"polar\": {\"angularaxis\": {\"gridcolor\": \"white\", \"linecolor\": \"white\", \"ticks\": \"\"}, \"bgcolor\": \"#E5ECF6\", \"radialaxis\": {\"gridcolor\": \"white\", \"linecolor\": \"white\", \"ticks\": \"\"}}, \"scene\": {\"xaxis\": {\"backgroundcolor\": \"#E5ECF6\", \"gridcolor\": \"white\", \"gridwidth\": 2, \"linecolor\": \"white\", \"showbackground\": true, \"ticks\": \"\", \"zerolinecolor\": \"white\"}, \"yaxis\": {\"backgroundcolor\": \"#E5ECF6\", \"gridcolor\": \"white\", \"gridwidth\": 2, \"linecolor\": \"white\", \"showbackground\": true, \"ticks\": \"\", \"zerolinecolor\": \"white\"}, \"zaxis\": {\"backgroundcolor\": \"#E5ECF6\", \"gridcolor\": \"white\", \"gridwidth\": 2, \"linecolor\": \"white\", \"showbackground\": true, \"ticks\": \"\", \"zerolinecolor\": \"white\"}}, \"shapedefaults\": {\"line\": {\"color\": \"#2a3f5f\"}}, \"ternary\": {\"aaxis\": {\"gridcolor\": \"white\", \"linecolor\": \"white\", \"ticks\": \"\"}, \"baxis\": {\"gridcolor\": \"white\", \"linecolor\": \"white\", \"ticks\": \"\"}, \"bgcolor\": \"#E5ECF6\", \"caxis\": {\"gridcolor\": \"white\", \"linecolor\": \"white\", \"ticks\": \"\"}}, \"title\": {\"x\": 0.05}, \"xaxis\": {\"automargin\": true, \"gridcolor\": \"white\", \"linecolor\": \"white\", \"ticks\": \"\", \"title\": {\"standoff\": 15}, \"zerolinecolor\": \"white\", \"zerolinewidth\": 2}, \"yaxis\": {\"automargin\": true, \"gridcolor\": \"white\", \"linecolor\": \"white\", \"ticks\": \"\", \"title\": {\"standoff\": 15}, \"zerolinecolor\": \"white\", \"zerolinewidth\": 2}}}, \"title\": {\"font\": {\"color\": \"#4D5663\"}, \"text\": \"Sentiment Polarity Distribution\"}, \"xaxis\": {\"gridcolor\": \"#E1E5ED\", \"linecolor\": \"black\", \"showgrid\": true, \"tickfont\": {\"color\": \"#4D5663\"}, \"title\": {\"font\": {\"color\": \"#4D5663\"}, \"text\": \"polarity\"}, \"zerolinecolor\": \"#E1E5ED\"}, \"yaxis\": {\"gridcolor\": \"#E1E5ED\", \"linecolor\": \"black\", \"showgrid\": true, \"tickfont\": {\"color\": \"#4D5663\"}, \"title\": {\"font\": {\"color\": \"#4D5663\"}, \"text\": \"count\"}, \"zerolinecolor\": \"#E1E5ED\"}},\n",
       "                        {\"showLink\": true, \"linkText\": \"Export to plot.ly\", \"plotlyServerURL\": \"https://plot.ly\", \"responsive\": true}\n",
       "                    ).then(function(){\n",
       "                            \n",
       "var gd = document.getElementById('503c2da3-ca2f-4473-827d-c1331e86ecf6');\n",
       "var x = new MutationObserver(function (mutations, observer) {{\n",
       "        var display = window.getComputedStyle(gd).display;\n",
       "        if (!display || display === 'none') {{\n",
       "            console.log([gd, 'removed!']);\n",
       "            Plotly.purge(gd);\n",
       "            observer.disconnect();\n",
       "        }}\n",
       "}});\n",
       "\n",
       "// Listen for the removal of the full notebook cells\n",
       "var notebookContainer = gd.closest('#notebook-container');\n",
       "if (notebookContainer) {{\n",
       "    x.observe(notebookContainer, {childList: true});\n",
       "}}\n",
       "\n",
       "// Listen for the clearing of the current output cell\n",
       "var outputEl = gd.closest('.output');\n",
       "if (outputEl) {{\n",
       "    x.observe(outputEl, {childList: true});\n",
       "}}\n",
       "\n",
       "                        })\n",
       "                };\n",
       "                });\n",
       "            </script>\n",
       "        </div>"
      ]
     },
     "metadata": {},
     "output_type": "display_data"
    }
   ],
   "source": [
    "df_ed['polarity'].iplot(\n",
    "    kind='hist',\n",
    "    bins=50,\n",
    "    xTitle='polarity',\n",
    "    linecolor='black',\n",
    "    yTitle='count',\n",
    "    title='Sentiment Polarity Distribution')"
   ]
  },
  {
   "cell_type": "code",
   "execution_count": 43,
   "metadata": {},
   "outputs": [],
   "source": [
    "#Vast majority of the sentiment polarity scores are greater than zero, means most of them are pretty positive."
   ]
  },
  {
   "cell_type": "code",
   "execution_count": 44,
   "metadata": {
    "scrolled": true
   },
   "outputs": [
    {
     "data": {
      "application/vnd.plotly.v1+json": {
       "config": {
        "linkText": "Export to plot.ly",
        "plotlyServerURL": "https://plot.ly",
        "showLink": true
       },
       "data": [
        {
         "histfunc": "count",
         "histnorm": "",
         "marker": {
          "color": "rgba(255, 153, 51, 1.0)",
          "line": {
           "color": "#000000",
           "width": 1.3
          }
         },
         "name": "text_len",
         "nbinsx": 100,
         "opacity": 0.8,
         "orientation": "v",
         "type": "histogram",
         "x": [
          595,
          529,
          683,
          1520,
          2518,
          584,
          591,
          981,
          650,
          946,
          820,
          660,
          578,
          1335,
          827,
          500,
          4472,
          548,
          788,
          2135,
          734,
          2954,
          756,
          508,
          1062,
          949,
          580,
          864,
          772,
          993,
          2242,
          800,
          631,
          3630,
          3668,
          3431,
          3036,
          2466,
          538,
          677,
          849,
          1335,
          752,
          2954,
          1256,
          2087,
          1502,
          919,
          723,
          515,
          1537,
          646,
          511,
          1151,
          712,
          2320,
          623,
          1553,
          866,
          2273,
          919,
          1624,
          632,
          1216,
          736,
          684,
          740,
          630,
          710,
          2474,
          524,
          1336,
          720,
          547,
          816,
          500,
          614,
          1800,
          587,
          687,
          1413,
          1486,
          575,
          620,
          503,
          1125,
          1408,
          1071,
          509,
          988,
          1180,
          2210,
          1116,
          2022,
          1336,
          579,
          866,
          541,
          964,
          3890,
          1325,
          1369,
          1801,
          589,
          1242,
          1192,
          1215,
          958,
          1054,
          699,
          810,
          497,
          949,
          1550,
          516,
          1323,
          638,
          1001,
          726,
          509,
          2393,
          1330,
          531,
          510,
          1907,
          628,
          692,
          865,
          522,
          1220,
          1580,
          716,
          745,
          909,
          825,
          2005,
          3540,
          1949,
          1688,
          2704,
          3998,
          1467,
          1298,
          610,
          4132,
          1322,
          962,
          611,
          1507,
          2164,
          656,
          1941,
          801,
          3537,
          798,
          516,
          675,
          1828,
          673,
          1371,
          918,
          623,
          2036,
          532,
          591,
          666,
          542,
          631,
          757,
          1158,
          573,
          1653,
          1094,
          1122,
          600,
          1135,
          752,
          547,
          2651,
          999,
          707,
          1019,
          958,
          749,
          3222,
          842,
          512,
          2753,
          489,
          687,
          1830,
          1680,
          1841,
          1008,
          1330,
          536,
          1937,
          1313,
          782,
          1868,
          667,
          1151,
          2186,
          646,
          605,
          495,
          562,
          630,
          777,
          4811,
          698,
          770,
          993,
          655,
          674,
          564,
          1235,
          608,
          652,
          867,
          547,
          691,
          778,
          1414,
          625,
          984,
          1673,
          869,
          635,
          1264,
          703,
          1585,
          4578,
          569,
          1163,
          2049,
          1481,
          503,
          802,
          2093,
          549,
          636,
          739,
          655,
          838,
          582,
          655,
          4474,
          533,
          680,
          1677,
          571,
          667,
          559,
          562,
          931,
          1833,
          516,
          950,
          495,
          4726,
          2116,
          557,
          497,
          2206,
          642,
          910,
          1039,
          1080,
          596,
          498,
          519,
          1209,
          589,
          2896,
          1419,
          621,
          523,
          994,
          1075,
          2294,
          597,
          1515,
          911,
          804,
          2588,
          859,
          2770,
          877,
          2505,
          538,
          1285,
          580,
          580,
          1376,
          2216,
          713,
          2396,
          555,
          983,
          2298,
          595,
          578,
          797,
          826,
          2421,
          1321,
          936,
          1437,
          699,
          632,
          589,
          516,
          2569,
          513,
          1125,
          655,
          752,
          700,
          694,
          1032,
          2798,
          896,
          896,
          554,
          631,
          1330,
          687,
          720,
          597,
          2076,
          3137,
          1134,
          1082,
          517,
          2366,
          872,
          4485,
          637,
          600,
          583,
          680,
          514,
          966,
          618,
          1219,
          2089,
          559,
          2651,
          659,
          931,
          1074,
          509,
          676,
          2869,
          1557,
          1352,
          1317,
          1123,
          587,
          732,
          509,
          1071,
          3189,
          532,
          677,
          748,
          918,
          646,
          1166,
          619,
          601,
          588,
          741,
          513,
          1162,
          904,
          713,
          589,
          3191,
          573,
          557,
          922,
          1009,
          1271,
          522,
          2472,
          1060,
          1095,
          1346,
          1596,
          1388,
          776,
          870,
          1909,
          579,
          722,
          3242,
          3242,
          3239,
          3239,
          3239,
          705,
          722,
          722,
          722,
          722,
          722,
          2478,
          2478,
          2478,
          2478,
          722,
          722,
          722,
          722,
          722,
          722,
          722,
          722,
          724,
          508,
          1158,
          2095,
          1689,
          655,
          788,
          634,
          3381,
          873,
          1298,
          1298,
          657,
          1390,
          1614,
          668,
          721,
          2289,
          956,
          3017,
          886,
          509,
          1243,
          592,
          1547,
          944,
          694,
          1320,
          611,
          4447,
          656,
          655,
          692,
          2253,
          574,
          859,
          953,
          2044,
          878,
          786,
          529,
          1077,
          617,
          901,
          557,
          600,
          812,
          571,
          1160,
          886,
          1233,
          608,
          1066,
          735,
          503,
          503,
          503,
          648,
          1352,
          1783,
          536,
          646,
          712,
          1098,
          1717,
          808,
          658,
          869,
          621,
          1286,
          1145,
          1009,
          2049,
          4233,
          543,
          770,
          573,
          572,
          855,
          941,
          677,
          1236,
          647,
          1079,
          594,
          578,
          606,
          1391,
          1567,
          540,
          705,
          1352,
          1066,
          586,
          558,
          1034,
          2403,
          2407,
          498,
          609,
          3166,
          726,
          1545,
          1585,
          2110,
          2470,
          717,
          533,
          652,
          508,
          693,
          896,
          2045,
          952,
          1232,
          1124,
          1001,
          635,
          662,
          1676,
          1135,
          1217,
          2342,
          604,
          1423,
          996,
          1431,
          605,
          869,
          695,
          1003,
          1641,
          988,
          979,
          622,
          558,
          526,
          1500,
          1501,
          1501,
          1501,
          1501,
          1501,
          1501,
          1501,
          645,
          1206,
          765,
          2201,
          1132,
          3023,
          509,
          1336,
          539,
          617,
          783,
          712,
          631,
          554,
          625,
          1374,
          826,
          666,
          921,
          923,
          1134,
          584,
          999,
          583,
          727,
          750,
          732,
          1344,
          3311,
          1302,
          1734,
          1079,
          737,
          993,
          501,
          2007,
          1216,
          4261,
          1529,
          596,
          797,
          1482,
          1437,
          1875,
          958,
          870,
          752,
          539,
          2185,
          2072,
          2070,
          558,
          1127,
          1501,
          2173,
          2510,
          1442,
          553,
          861,
          765,
          1105,
          1095,
          797,
          1760,
          626,
          904,
          2307,
          1038,
          1846,
          1157,
          1013,
          1500,
          1551,
          3606,
          586,
          1517,
          1188,
          688,
          904,
          1420,
          1388,
          930,
          1297,
          1764,
          2554,
          724,
          765,
          630,
          730,
          3209,
          1197,
          645,
          690,
          1241,
          1410,
          621,
          2484,
          574,
          3964,
          2602,
          2178,
          609,
          1369,
          931,
          540,
          875,
          1492,
          656,
          681,
          3321,
          992,
          1610,
          724,
          1290,
          626,
          675,
          4320,
          1697,
          1486,
          845,
          518,
          536,
          1934,
          2449,
          580,
          830,
          1046,
          1202,
          1500,
          1982,
          2514,
          2182,
          545,
          608,
          1487,
          779,
          770,
          601,
          912,
          1681,
          1168,
          2028,
          693,
          520,
          514,
          1149,
          797,
          593,
          508,
          1056,
          1092,
          3052,
          879,
          1930,
          629,
          2078,
          1964,
          786,
          608,
          529,
          529,
          1188,
          901,
          623,
          882,
          735,
          1409,
          560,
          1426,
          701,
          1085,
          530,
          863,
          1369,
          589,
          1282,
          889,
          750,
          1178,
          922,
          983,
          1548,
          589,
          1986,
          1689,
          543,
          2125,
          1600,
          1203,
          562,
          628,
          501,
          2227,
          621,
          618,
          835,
          1676,
          546,
          792,
          3901,
          556,
          1127,
          517,
          785,
          787,
          591,
          1115,
          541,
          729,
          1298,
          1155,
          1038,
          1191,
          1000,
          660,
          1612,
          2185,
          594,
          1940,
          3653,
          812,
          798,
          731,
          2851,
          1620,
          699,
          633,
          1648,
          969,
          3288,
          1206,
          960,
          673,
          682,
          902,
          546,
          614,
          565,
          1049,
          1469,
          504,
          826,
          1928,
          605,
          1078,
          550,
          633,
          4866,
          1832,
          584,
          666,
          1200,
          1599,
          942,
          1048,
          714,
          2339,
          612,
          643,
          1304,
          497,
          1053,
          856,
          1417,
          722,
          561,
          1256,
          509,
          575,
          575,
          4101,
          760,
          950,
          650,
          537,
          531,
          1973,
          610,
          545,
          1075,
          513,
          693,
          1308,
          1346,
          2364,
          3025,
          1113,
          3589,
          527,
          1447,
          510,
          813,
          867,
          1580,
          606,
          1477,
          836,
          659,
          710,
          671,
          865,
          782,
          926,
          1050,
          2542,
          1362,
          674,
          3119,
          782,
          2300,
          496,
          1143,
          532,
          826,
          970,
          687,
          551,
          549,
          869,
          591,
          1314,
          768,
          853,
          1672,
          595,
          908,
          615,
          1909,
          566,
          504,
          637,
          1336,
          622,
          652,
          2528,
          505,
          701,
          2062,
          1689,
          739,
          638,
          854,
          656,
          619,
          1370,
          887,
          2021,
          579,
          832,
          1599,
          845,
          3373,
          911,
          668,
          628,
          3424,
          3547,
          759,
          584,
          1034,
          508,
          565,
          517,
          713,
          957,
          544,
          1814,
          517,
          575,
          1410,
          534,
          3312,
          4399,
          1050,
          1598,
          1454,
          716,
          2033,
          660,
          1436,
          1294,
          598,
          3740,
          507,
          4249,
          584,
          797,
          1654,
          1633,
          740,
          500,
          1748,
          1366,
          555,
          674,
          4269,
          1396,
          1536,
          2490,
          3036,
          2746,
          2557,
          759,
          1868,
          499,
          572,
          581,
          722,
          3782,
          565,
          533,
          1384,
          1499,
          705,
          1082,
          723,
          578,
          1144,
          1203,
          822,
          2827,
          1049,
          1316,
          1017,
          979,
          1941,
          507,
          662,
          1637,
          1065,
          712,
          734,
          1162,
          3129,
          2036,
          596,
          1115,
          1302,
          1037,
          1048,
          495,
          577,
          608,
          871,
          742,
          600,
          1194,
          792,
          1488,
          562,
          1048,
          548,
          2710,
          766,
          562,
          606,
          703,
          503,
          603,
          1117,
          4826,
          513,
          1128,
          548,
          3594,
          1546,
          925,
          809
         ]
        }
       ],
       "layout": {
        "barmode": "overlay",
        "legend": {
         "bgcolor": "#F5F6F9",
         "font": {
          "color": "#4D5663"
         }
        },
        "paper_bgcolor": "#F5F6F9",
        "plot_bgcolor": "#F5F6F9",
        "template": {
         "data": {
          "bar": [
           {
            "error_x": {
             "color": "#2a3f5f"
            },
            "error_y": {
             "color": "#2a3f5f"
            },
            "marker": {
             "line": {
              "color": "#E5ECF6",
              "width": 0.5
             }
            },
            "type": "bar"
           }
          ],
          "barpolar": [
           {
            "marker": {
             "line": {
              "color": "#E5ECF6",
              "width": 0.5
             }
            },
            "type": "barpolar"
           }
          ],
          "carpet": [
           {
            "aaxis": {
             "endlinecolor": "#2a3f5f",
             "gridcolor": "white",
             "linecolor": "white",
             "minorgridcolor": "white",
             "startlinecolor": "#2a3f5f"
            },
            "baxis": {
             "endlinecolor": "#2a3f5f",
             "gridcolor": "white",
             "linecolor": "white",
             "minorgridcolor": "white",
             "startlinecolor": "#2a3f5f"
            },
            "type": "carpet"
           }
          ],
          "choropleth": [
           {
            "colorbar": {
             "outlinewidth": 0,
             "ticks": ""
            },
            "type": "choropleth"
           }
          ],
          "contour": [
           {
            "colorbar": {
             "outlinewidth": 0,
             "ticks": ""
            },
            "colorscale": [
             [
              0,
              "#0d0887"
             ],
             [
              0.1111111111111111,
              "#46039f"
             ],
             [
              0.2222222222222222,
              "#7201a8"
             ],
             [
              0.3333333333333333,
              "#9c179e"
             ],
             [
              0.4444444444444444,
              "#bd3786"
             ],
             [
              0.5555555555555556,
              "#d8576b"
             ],
             [
              0.6666666666666666,
              "#ed7953"
             ],
             [
              0.7777777777777778,
              "#fb9f3a"
             ],
             [
              0.8888888888888888,
              "#fdca26"
             ],
             [
              1,
              "#f0f921"
             ]
            ],
            "type": "contour"
           }
          ],
          "contourcarpet": [
           {
            "colorbar": {
             "outlinewidth": 0,
             "ticks": ""
            },
            "type": "contourcarpet"
           }
          ],
          "heatmap": [
           {
            "colorbar": {
             "outlinewidth": 0,
             "ticks": ""
            },
            "colorscale": [
             [
              0,
              "#0d0887"
             ],
             [
              0.1111111111111111,
              "#46039f"
             ],
             [
              0.2222222222222222,
              "#7201a8"
             ],
             [
              0.3333333333333333,
              "#9c179e"
             ],
             [
              0.4444444444444444,
              "#bd3786"
             ],
             [
              0.5555555555555556,
              "#d8576b"
             ],
             [
              0.6666666666666666,
              "#ed7953"
             ],
             [
              0.7777777777777778,
              "#fb9f3a"
             ],
             [
              0.8888888888888888,
              "#fdca26"
             ],
             [
              1,
              "#f0f921"
             ]
            ],
            "type": "heatmap"
           }
          ],
          "heatmapgl": [
           {
            "colorbar": {
             "outlinewidth": 0,
             "ticks": ""
            },
            "colorscale": [
             [
              0,
              "#0d0887"
             ],
             [
              0.1111111111111111,
              "#46039f"
             ],
             [
              0.2222222222222222,
              "#7201a8"
             ],
             [
              0.3333333333333333,
              "#9c179e"
             ],
             [
              0.4444444444444444,
              "#bd3786"
             ],
             [
              0.5555555555555556,
              "#d8576b"
             ],
             [
              0.6666666666666666,
              "#ed7953"
             ],
             [
              0.7777777777777778,
              "#fb9f3a"
             ],
             [
              0.8888888888888888,
              "#fdca26"
             ],
             [
              1,
              "#f0f921"
             ]
            ],
            "type": "heatmapgl"
           }
          ],
          "histogram": [
           {
            "marker": {
             "colorbar": {
              "outlinewidth": 0,
              "ticks": ""
             }
            },
            "type": "histogram"
           }
          ],
          "histogram2d": [
           {
            "colorbar": {
             "outlinewidth": 0,
             "ticks": ""
            },
            "colorscale": [
             [
              0,
              "#0d0887"
             ],
             [
              0.1111111111111111,
              "#46039f"
             ],
             [
              0.2222222222222222,
              "#7201a8"
             ],
             [
              0.3333333333333333,
              "#9c179e"
             ],
             [
              0.4444444444444444,
              "#bd3786"
             ],
             [
              0.5555555555555556,
              "#d8576b"
             ],
             [
              0.6666666666666666,
              "#ed7953"
             ],
             [
              0.7777777777777778,
              "#fb9f3a"
             ],
             [
              0.8888888888888888,
              "#fdca26"
             ],
             [
              1,
              "#f0f921"
             ]
            ],
            "type": "histogram2d"
           }
          ],
          "histogram2dcontour": [
           {
            "colorbar": {
             "outlinewidth": 0,
             "ticks": ""
            },
            "colorscale": [
             [
              0,
              "#0d0887"
             ],
             [
              0.1111111111111111,
              "#46039f"
             ],
             [
              0.2222222222222222,
              "#7201a8"
             ],
             [
              0.3333333333333333,
              "#9c179e"
             ],
             [
              0.4444444444444444,
              "#bd3786"
             ],
             [
              0.5555555555555556,
              "#d8576b"
             ],
             [
              0.6666666666666666,
              "#ed7953"
             ],
             [
              0.7777777777777778,
              "#fb9f3a"
             ],
             [
              0.8888888888888888,
              "#fdca26"
             ],
             [
              1,
              "#f0f921"
             ]
            ],
            "type": "histogram2dcontour"
           }
          ],
          "mesh3d": [
           {
            "colorbar": {
             "outlinewidth": 0,
             "ticks": ""
            },
            "type": "mesh3d"
           }
          ],
          "parcoords": [
           {
            "line": {
             "colorbar": {
              "outlinewidth": 0,
              "ticks": ""
             }
            },
            "type": "parcoords"
           }
          ],
          "pie": [
           {
            "automargin": true,
            "type": "pie"
           }
          ],
          "scatter": [
           {
            "marker": {
             "colorbar": {
              "outlinewidth": 0,
              "ticks": ""
             }
            },
            "type": "scatter"
           }
          ],
          "scatter3d": [
           {
            "line": {
             "colorbar": {
              "outlinewidth": 0,
              "ticks": ""
             }
            },
            "marker": {
             "colorbar": {
              "outlinewidth": 0,
              "ticks": ""
             }
            },
            "type": "scatter3d"
           }
          ],
          "scattercarpet": [
           {
            "marker": {
             "colorbar": {
              "outlinewidth": 0,
              "ticks": ""
             }
            },
            "type": "scattercarpet"
           }
          ],
          "scattergeo": [
           {
            "marker": {
             "colorbar": {
              "outlinewidth": 0,
              "ticks": ""
             }
            },
            "type": "scattergeo"
           }
          ],
          "scattergl": [
           {
            "marker": {
             "colorbar": {
              "outlinewidth": 0,
              "ticks": ""
             }
            },
            "type": "scattergl"
           }
          ],
          "scattermapbox": [
           {
            "marker": {
             "colorbar": {
              "outlinewidth": 0,
              "ticks": ""
             }
            },
            "type": "scattermapbox"
           }
          ],
          "scatterpolar": [
           {
            "marker": {
             "colorbar": {
              "outlinewidth": 0,
              "ticks": ""
             }
            },
            "type": "scatterpolar"
           }
          ],
          "scatterpolargl": [
           {
            "marker": {
             "colorbar": {
              "outlinewidth": 0,
              "ticks": ""
             }
            },
            "type": "scatterpolargl"
           }
          ],
          "scatterternary": [
           {
            "marker": {
             "colorbar": {
              "outlinewidth": 0,
              "ticks": ""
             }
            },
            "type": "scatterternary"
           }
          ],
          "surface": [
           {
            "colorbar": {
             "outlinewidth": 0,
             "ticks": ""
            },
            "colorscale": [
             [
              0,
              "#0d0887"
             ],
             [
              0.1111111111111111,
              "#46039f"
             ],
             [
              0.2222222222222222,
              "#7201a8"
             ],
             [
              0.3333333333333333,
              "#9c179e"
             ],
             [
              0.4444444444444444,
              "#bd3786"
             ],
             [
              0.5555555555555556,
              "#d8576b"
             ],
             [
              0.6666666666666666,
              "#ed7953"
             ],
             [
              0.7777777777777778,
              "#fb9f3a"
             ],
             [
              0.8888888888888888,
              "#fdca26"
             ],
             [
              1,
              "#f0f921"
             ]
            ],
            "type": "surface"
           }
          ],
          "table": [
           {
            "cells": {
             "fill": {
              "color": "#EBF0F8"
             },
             "line": {
              "color": "white"
             }
            },
            "header": {
             "fill": {
              "color": "#C8D4E3"
             },
             "line": {
              "color": "white"
             }
            },
            "type": "table"
           }
          ]
         },
         "layout": {
          "annotationdefaults": {
           "arrowcolor": "#2a3f5f",
           "arrowhead": 0,
           "arrowwidth": 1
          },
          "coloraxis": {
           "colorbar": {
            "outlinewidth": 0,
            "ticks": ""
           }
          },
          "colorscale": {
           "diverging": [
            [
             0,
             "#8e0152"
            ],
            [
             0.1,
             "#c51b7d"
            ],
            [
             0.2,
             "#de77ae"
            ],
            [
             0.3,
             "#f1b6da"
            ],
            [
             0.4,
             "#fde0ef"
            ],
            [
             0.5,
             "#f7f7f7"
            ],
            [
             0.6,
             "#e6f5d0"
            ],
            [
             0.7,
             "#b8e186"
            ],
            [
             0.8,
             "#7fbc41"
            ],
            [
             0.9,
             "#4d9221"
            ],
            [
             1,
             "#276419"
            ]
           ],
           "sequential": [
            [
             0,
             "#0d0887"
            ],
            [
             0.1111111111111111,
             "#46039f"
            ],
            [
             0.2222222222222222,
             "#7201a8"
            ],
            [
             0.3333333333333333,
             "#9c179e"
            ],
            [
             0.4444444444444444,
             "#bd3786"
            ],
            [
             0.5555555555555556,
             "#d8576b"
            ],
            [
             0.6666666666666666,
             "#ed7953"
            ],
            [
             0.7777777777777778,
             "#fb9f3a"
            ],
            [
             0.8888888888888888,
             "#fdca26"
            ],
            [
             1,
             "#f0f921"
            ]
           ],
           "sequentialminus": [
            [
             0,
             "#0d0887"
            ],
            [
             0.1111111111111111,
             "#46039f"
            ],
            [
             0.2222222222222222,
             "#7201a8"
            ],
            [
             0.3333333333333333,
             "#9c179e"
            ],
            [
             0.4444444444444444,
             "#bd3786"
            ],
            [
             0.5555555555555556,
             "#d8576b"
            ],
            [
             0.6666666666666666,
             "#ed7953"
            ],
            [
             0.7777777777777778,
             "#fb9f3a"
            ],
            [
             0.8888888888888888,
             "#fdca26"
            ],
            [
             1,
             "#f0f921"
            ]
           ]
          },
          "colorway": [
           "#636efa",
           "#EF553B",
           "#00cc96",
           "#ab63fa",
           "#FFA15A",
           "#19d3f3",
           "#FF6692",
           "#B6E880",
           "#FF97FF",
           "#FECB52"
          ],
          "font": {
           "color": "#2a3f5f"
          },
          "geo": {
           "bgcolor": "white",
           "lakecolor": "white",
           "landcolor": "#E5ECF6",
           "showlakes": true,
           "showland": true,
           "subunitcolor": "white"
          },
          "hoverlabel": {
           "align": "left"
          },
          "hovermode": "closest",
          "mapbox": {
           "style": "light"
          },
          "paper_bgcolor": "white",
          "plot_bgcolor": "#E5ECF6",
          "polar": {
           "angularaxis": {
            "gridcolor": "white",
            "linecolor": "white",
            "ticks": ""
           },
           "bgcolor": "#E5ECF6",
           "radialaxis": {
            "gridcolor": "white",
            "linecolor": "white",
            "ticks": ""
           }
          },
          "scene": {
           "xaxis": {
            "backgroundcolor": "#E5ECF6",
            "gridcolor": "white",
            "gridwidth": 2,
            "linecolor": "white",
            "showbackground": true,
            "ticks": "",
            "zerolinecolor": "white"
           },
           "yaxis": {
            "backgroundcolor": "#E5ECF6",
            "gridcolor": "white",
            "gridwidth": 2,
            "linecolor": "white",
            "showbackground": true,
            "ticks": "",
            "zerolinecolor": "white"
           },
           "zaxis": {
            "backgroundcolor": "#E5ECF6",
            "gridcolor": "white",
            "gridwidth": 2,
            "linecolor": "white",
            "showbackground": true,
            "ticks": "",
            "zerolinecolor": "white"
           }
          },
          "shapedefaults": {
           "line": {
            "color": "#2a3f5f"
           }
          },
          "ternary": {
           "aaxis": {
            "gridcolor": "white",
            "linecolor": "white",
            "ticks": ""
           },
           "baxis": {
            "gridcolor": "white",
            "linecolor": "white",
            "ticks": ""
           },
           "bgcolor": "#E5ECF6",
           "caxis": {
            "gridcolor": "white",
            "linecolor": "white",
            "ticks": ""
           }
          },
          "title": {
           "x": 0.05
          },
          "xaxis": {
           "automargin": true,
           "gridcolor": "white",
           "linecolor": "white",
           "ticks": "",
           "title": {
            "standoff": 15
           },
           "zerolinecolor": "white",
           "zerolinewidth": 2
          },
          "yaxis": {
           "automargin": true,
           "gridcolor": "white",
           "linecolor": "white",
           "ticks": "",
           "title": {
            "standoff": 15
           },
           "zerolinecolor": "white",
           "zerolinewidth": 2
          }
         }
        },
        "title": {
         "font": {
          "color": "#4D5663"
         },
         "text": "Post Text Length Distribution"
        },
        "xaxis": {
         "gridcolor": "#E1E5ED",
         "linecolor": "black",
         "showgrid": true,
         "tickfont": {
          "color": "#4D5663"
         },
         "title": {
          "font": {
           "color": "#4D5663"
          },
          "text": "text length"
         },
         "zerolinecolor": "#E1E5ED"
        },
        "yaxis": {
         "gridcolor": "#E1E5ED",
         "linecolor": "black",
         "showgrid": true,
         "tickfont": {
          "color": "#4D5663"
         },
         "title": {
          "font": {
           "color": "#4D5663"
          },
          "text": "count"
         },
         "zerolinecolor": "#E1E5ED"
        }
       }
      },
      "text/html": [
       "<div>\n",
       "        \n",
       "        \n",
       "            <div id=\"3c7013f1-9774-4b8d-aeff-7b9f9960c269\" class=\"plotly-graph-div\" style=\"height:525px; width:100%;\"></div>\n",
       "            <script type=\"text/javascript\">\n",
       "                require([\"plotly\"], function(Plotly) {\n",
       "                    window.PLOTLYENV=window.PLOTLYENV || {};\n",
       "                    window.PLOTLYENV.BASE_URL='https://plot.ly';\n",
       "                    \n",
       "                if (document.getElementById(\"3c7013f1-9774-4b8d-aeff-7b9f9960c269\")) {\n",
       "                    Plotly.newPlot(\n",
       "                        '3c7013f1-9774-4b8d-aeff-7b9f9960c269',\n",
       "                        [{\"histfunc\": \"count\", \"histnorm\": \"\", \"marker\": {\"color\": \"rgba(255, 153, 51, 1.0)\", \"line\": {\"color\": \"#000000\", \"width\": 1.3}}, \"name\": \"text_len\", \"nbinsx\": 100, \"opacity\": 0.8, \"orientation\": \"v\", \"type\": \"histogram\", \"x\": [595, 529, 683, 1520, 2518, 584, 591, 981, 650, 946, 820, 660, 578, 1335, 827, 500, 4472, 548, 788, 2135, 734, 2954, 756, 508, 1062, 949, 580, 864, 772, 993, 2242, 800, 631, 3630, 3668, 3431, 3036, 2466, 538, 677, 849, 1335, 752, 2954, 1256, 2087, 1502, 919, 723, 515, 1537, 646, 511, 1151, 712, 2320, 623, 1553, 866, 2273, 919, 1624, 632, 1216, 736, 684, 740, 630, 710, 2474, 524, 1336, 720, 547, 816, 500, 614, 1800, 587, 687, 1413, 1486, 575, 620, 503, 1125, 1408, 1071, 509, 988, 1180, 2210, 1116, 2022, 1336, 579, 866, 541, 964, 3890, 1325, 1369, 1801, 589, 1242, 1192, 1215, 958, 1054, 699, 810, 497, 949, 1550, 516, 1323, 638, 1001, 726, 509, 2393, 1330, 531, 510, 1907, 628, 692, 865, 522, 1220, 1580, 716, 745, 909, 825, 2005, 3540, 1949, 1688, 2704, 3998, 1467, 1298, 610, 4132, 1322, 962, 611, 1507, 2164, 656, 1941, 801, 3537, 798, 516, 675, 1828, 673, 1371, 918, 623, 2036, 532, 591, 666, 542, 631, 757, 1158, 573, 1653, 1094, 1122, 600, 1135, 752, 547, 2651, 999, 707, 1019, 958, 749, 3222, 842, 512, 2753, 489, 687, 1830, 1680, 1841, 1008, 1330, 536, 1937, 1313, 782, 1868, 667, 1151, 2186, 646, 605, 495, 562, 630, 777, 4811, 698, 770, 993, 655, 674, 564, 1235, 608, 652, 867, 547, 691, 778, 1414, 625, 984, 1673, 869, 635, 1264, 703, 1585, 4578, 569, 1163, 2049, 1481, 503, 802, 2093, 549, 636, 739, 655, 838, 582, 655, 4474, 533, 680, 1677, 571, 667, 559, 562, 931, 1833, 516, 950, 495, 4726, 2116, 557, 497, 2206, 642, 910, 1039, 1080, 596, 498, 519, 1209, 589, 2896, 1419, 621, 523, 994, 1075, 2294, 597, 1515, 911, 804, 2588, 859, 2770, 877, 2505, 538, 1285, 580, 580, 1376, 2216, 713, 2396, 555, 983, 2298, 595, 578, 797, 826, 2421, 1321, 936, 1437, 699, 632, 589, 516, 2569, 513, 1125, 655, 752, 700, 694, 1032, 2798, 896, 896, 554, 631, 1330, 687, 720, 597, 2076, 3137, 1134, 1082, 517, 2366, 872, 4485, 637, 600, 583, 680, 514, 966, 618, 1219, 2089, 559, 2651, 659, 931, 1074, 509, 676, 2869, 1557, 1352, 1317, 1123, 587, 732, 509, 1071, 3189, 532, 677, 748, 918, 646, 1166, 619, 601, 588, 741, 513, 1162, 904, 713, 589, 3191, 573, 557, 922, 1009, 1271, 522, 2472, 1060, 1095, 1346, 1596, 1388, 776, 870, 1909, 579, 722, 3242, 3242, 3239, 3239, 3239, 705, 722, 722, 722, 722, 722, 2478, 2478, 2478, 2478, 722, 722, 722, 722, 722, 722, 722, 722, 724, 508, 1158, 2095, 1689, 655, 788, 634, 3381, 873, 1298, 1298, 657, 1390, 1614, 668, 721, 2289, 956, 3017, 886, 509, 1243, 592, 1547, 944, 694, 1320, 611, 4447, 656, 655, 692, 2253, 574, 859, 953, 2044, 878, 786, 529, 1077, 617, 901, 557, 600, 812, 571, 1160, 886, 1233, 608, 1066, 735, 503, 503, 503, 648, 1352, 1783, 536, 646, 712, 1098, 1717, 808, 658, 869, 621, 1286, 1145, 1009, 2049, 4233, 543, 770, 573, 572, 855, 941, 677, 1236, 647, 1079, 594, 578, 606, 1391, 1567, 540, 705, 1352, 1066, 586, 558, 1034, 2403, 2407, 498, 609, 3166, 726, 1545, 1585, 2110, 2470, 717, 533, 652, 508, 693, 896, 2045, 952, 1232, 1124, 1001, 635, 662, 1676, 1135, 1217, 2342, 604, 1423, 996, 1431, 605, 869, 695, 1003, 1641, 988, 979, 622, 558, 526, 1500, 1501, 1501, 1501, 1501, 1501, 1501, 1501, 645, 1206, 765, 2201, 1132, 3023, 509, 1336, 539, 617, 783, 712, 631, 554, 625, 1374, 826, 666, 921, 923, 1134, 584, 999, 583, 727, 750, 732, 1344, 3311, 1302, 1734, 1079, 737, 993, 501, 2007, 1216, 4261, 1529, 596, 797, 1482, 1437, 1875, 958, 870, 752, 539, 2185, 2072, 2070, 558, 1127, 1501, 2173, 2510, 1442, 553, 861, 765, 1105, 1095, 797, 1760, 626, 904, 2307, 1038, 1846, 1157, 1013, 1500, 1551, 3606, 586, 1517, 1188, 688, 904, 1420, 1388, 930, 1297, 1764, 2554, 724, 765, 630, 730, 3209, 1197, 645, 690, 1241, 1410, 621, 2484, 574, 3964, 2602, 2178, 609, 1369, 931, 540, 875, 1492, 656, 681, 3321, 992, 1610, 724, 1290, 626, 675, 4320, 1697, 1486, 845, 518, 536, 1934, 2449, 580, 830, 1046, 1202, 1500, 1982, 2514, 2182, 545, 608, 1487, 779, 770, 601, 912, 1681, 1168, 2028, 693, 520, 514, 1149, 797, 593, 508, 1056, 1092, 3052, 879, 1930, 629, 2078, 1964, 786, 608, 529, 529, 1188, 901, 623, 882, 735, 1409, 560, 1426, 701, 1085, 530, 863, 1369, 589, 1282, 889, 750, 1178, 922, 983, 1548, 589, 1986, 1689, 543, 2125, 1600, 1203, 562, 628, 501, 2227, 621, 618, 835, 1676, 546, 792, 3901, 556, 1127, 517, 785, 787, 591, 1115, 541, 729, 1298, 1155, 1038, 1191, 1000, 660, 1612, 2185, 594, 1940, 3653, 812, 798, 731, 2851, 1620, 699, 633, 1648, 969, 3288, 1206, 960, 673, 682, 902, 546, 614, 565, 1049, 1469, 504, 826, 1928, 605, 1078, 550, 633, 4866, 1832, 584, 666, 1200, 1599, 942, 1048, 714, 2339, 612, 643, 1304, 497, 1053, 856, 1417, 722, 561, 1256, 509, 575, 575, 4101, 760, 950, 650, 537, 531, 1973, 610, 545, 1075, 513, 693, 1308, 1346, 2364, 3025, 1113, 3589, 527, 1447, 510, 813, 867, 1580, 606, 1477, 836, 659, 710, 671, 865, 782, 926, 1050, 2542, 1362, 674, 3119, 782, 2300, 496, 1143, 532, 826, 970, 687, 551, 549, 869, 591, 1314, 768, 853, 1672, 595, 908, 615, 1909, 566, 504, 637, 1336, 622, 652, 2528, 505, 701, 2062, 1689, 739, 638, 854, 656, 619, 1370, 887, 2021, 579, 832, 1599, 845, 3373, 911, 668, 628, 3424, 3547, 759, 584, 1034, 508, 565, 517, 713, 957, 544, 1814, 517, 575, 1410, 534, 3312, 4399, 1050, 1598, 1454, 716, 2033, 660, 1436, 1294, 598, 3740, 507, 4249, 584, 797, 1654, 1633, 740, 500, 1748, 1366, 555, 674, 4269, 1396, 1536, 2490, 3036, 2746, 2557, 759, 1868, 499, 572, 581, 722, 3782, 565, 533, 1384, 1499, 705, 1082, 723, 578, 1144, 1203, 822, 2827, 1049, 1316, 1017, 979, 1941, 507, 662, 1637, 1065, 712, 734, 1162, 3129, 2036, 596, 1115, 1302, 1037, 1048, 495, 577, 608, 871, 742, 600, 1194, 792, 1488, 562, 1048, 548, 2710, 766, 562, 606, 703, 503, 603, 1117, 4826, 513, 1128, 548, 3594, 1546, 925, 809]}],\n",
       "                        {\"barmode\": \"overlay\", \"legend\": {\"bgcolor\": \"#F5F6F9\", \"font\": {\"color\": \"#4D5663\"}}, \"paper_bgcolor\": \"#F5F6F9\", \"plot_bgcolor\": \"#F5F6F9\", \"template\": {\"data\": {\"bar\": [{\"error_x\": {\"color\": \"#2a3f5f\"}, \"error_y\": {\"color\": \"#2a3f5f\"}, \"marker\": {\"line\": {\"color\": \"#E5ECF6\", \"width\": 0.5}}, \"type\": \"bar\"}], \"barpolar\": [{\"marker\": {\"line\": {\"color\": \"#E5ECF6\", \"width\": 0.5}}, \"type\": \"barpolar\"}], \"carpet\": [{\"aaxis\": {\"endlinecolor\": \"#2a3f5f\", \"gridcolor\": \"white\", \"linecolor\": \"white\", \"minorgridcolor\": \"white\", \"startlinecolor\": \"#2a3f5f\"}, \"baxis\": {\"endlinecolor\": \"#2a3f5f\", \"gridcolor\": \"white\", \"linecolor\": \"white\", \"minorgridcolor\": \"white\", \"startlinecolor\": \"#2a3f5f\"}, \"type\": \"carpet\"}], \"choropleth\": [{\"colorbar\": {\"outlinewidth\": 0, \"ticks\": \"\"}, \"type\": \"choropleth\"}], \"contour\": [{\"colorbar\": {\"outlinewidth\": 0, \"ticks\": \"\"}, \"colorscale\": [[0.0, \"#0d0887\"], [0.1111111111111111, \"#46039f\"], [0.2222222222222222, \"#7201a8\"], [0.3333333333333333, \"#9c179e\"], [0.4444444444444444, \"#bd3786\"], [0.5555555555555556, \"#d8576b\"], [0.6666666666666666, \"#ed7953\"], [0.7777777777777778, \"#fb9f3a\"], [0.8888888888888888, \"#fdca26\"], [1.0, \"#f0f921\"]], \"type\": \"contour\"}], \"contourcarpet\": [{\"colorbar\": {\"outlinewidth\": 0, \"ticks\": \"\"}, \"type\": \"contourcarpet\"}], \"heatmap\": [{\"colorbar\": {\"outlinewidth\": 0, \"ticks\": \"\"}, \"colorscale\": [[0.0, \"#0d0887\"], [0.1111111111111111, \"#46039f\"], [0.2222222222222222, \"#7201a8\"], [0.3333333333333333, \"#9c179e\"], [0.4444444444444444, \"#bd3786\"], [0.5555555555555556, \"#d8576b\"], [0.6666666666666666, \"#ed7953\"], [0.7777777777777778, \"#fb9f3a\"], [0.8888888888888888, \"#fdca26\"], [1.0, \"#f0f921\"]], \"type\": \"heatmap\"}], \"heatmapgl\": [{\"colorbar\": {\"outlinewidth\": 0, \"ticks\": \"\"}, \"colorscale\": [[0.0, \"#0d0887\"], [0.1111111111111111, \"#46039f\"], [0.2222222222222222, \"#7201a8\"], [0.3333333333333333, \"#9c179e\"], [0.4444444444444444, \"#bd3786\"], [0.5555555555555556, \"#d8576b\"], [0.6666666666666666, \"#ed7953\"], [0.7777777777777778, \"#fb9f3a\"], [0.8888888888888888, \"#fdca26\"], [1.0, \"#f0f921\"]], \"type\": \"heatmapgl\"}], \"histogram\": [{\"marker\": {\"colorbar\": {\"outlinewidth\": 0, \"ticks\": \"\"}}, \"type\": \"histogram\"}], \"histogram2d\": [{\"colorbar\": {\"outlinewidth\": 0, \"ticks\": \"\"}, \"colorscale\": [[0.0, \"#0d0887\"], [0.1111111111111111, \"#46039f\"], [0.2222222222222222, \"#7201a8\"], [0.3333333333333333, \"#9c179e\"], [0.4444444444444444, \"#bd3786\"], [0.5555555555555556, \"#d8576b\"], [0.6666666666666666, \"#ed7953\"], [0.7777777777777778, \"#fb9f3a\"], [0.8888888888888888, \"#fdca26\"], [1.0, \"#f0f921\"]], \"type\": \"histogram2d\"}], \"histogram2dcontour\": [{\"colorbar\": {\"outlinewidth\": 0, \"ticks\": \"\"}, \"colorscale\": [[0.0, \"#0d0887\"], [0.1111111111111111, \"#46039f\"], [0.2222222222222222, \"#7201a8\"], [0.3333333333333333, \"#9c179e\"], [0.4444444444444444, \"#bd3786\"], [0.5555555555555556, \"#d8576b\"], [0.6666666666666666, \"#ed7953\"], [0.7777777777777778, \"#fb9f3a\"], [0.8888888888888888, \"#fdca26\"], [1.0, \"#f0f921\"]], \"type\": \"histogram2dcontour\"}], \"mesh3d\": [{\"colorbar\": {\"outlinewidth\": 0, \"ticks\": \"\"}, \"type\": \"mesh3d\"}], \"parcoords\": [{\"line\": {\"colorbar\": {\"outlinewidth\": 0, \"ticks\": \"\"}}, \"type\": \"parcoords\"}], \"pie\": [{\"automargin\": true, \"type\": \"pie\"}], \"scatter\": [{\"marker\": {\"colorbar\": {\"outlinewidth\": 0, \"ticks\": \"\"}}, \"type\": \"scatter\"}], \"scatter3d\": [{\"line\": {\"colorbar\": {\"outlinewidth\": 0, \"ticks\": \"\"}}, \"marker\": {\"colorbar\": {\"outlinewidth\": 0, \"ticks\": \"\"}}, \"type\": \"scatter3d\"}], \"scattercarpet\": [{\"marker\": {\"colorbar\": {\"outlinewidth\": 0, \"ticks\": \"\"}}, \"type\": \"scattercarpet\"}], \"scattergeo\": [{\"marker\": {\"colorbar\": {\"outlinewidth\": 0, \"ticks\": \"\"}}, \"type\": \"scattergeo\"}], \"scattergl\": [{\"marker\": {\"colorbar\": {\"outlinewidth\": 0, \"ticks\": \"\"}}, \"type\": \"scattergl\"}], \"scattermapbox\": [{\"marker\": {\"colorbar\": {\"outlinewidth\": 0, \"ticks\": \"\"}}, \"type\": \"scattermapbox\"}], \"scatterpolar\": [{\"marker\": {\"colorbar\": {\"outlinewidth\": 0, \"ticks\": \"\"}}, \"type\": \"scatterpolar\"}], \"scatterpolargl\": [{\"marker\": {\"colorbar\": {\"outlinewidth\": 0, \"ticks\": \"\"}}, \"type\": \"scatterpolargl\"}], \"scatterternary\": [{\"marker\": {\"colorbar\": {\"outlinewidth\": 0, \"ticks\": \"\"}}, \"type\": \"scatterternary\"}], \"surface\": [{\"colorbar\": {\"outlinewidth\": 0, \"ticks\": \"\"}, \"colorscale\": [[0.0, \"#0d0887\"], [0.1111111111111111, \"#46039f\"], [0.2222222222222222, \"#7201a8\"], [0.3333333333333333, \"#9c179e\"], [0.4444444444444444, \"#bd3786\"], [0.5555555555555556, \"#d8576b\"], [0.6666666666666666, \"#ed7953\"], [0.7777777777777778, \"#fb9f3a\"], [0.8888888888888888, \"#fdca26\"], [1.0, \"#f0f921\"]], \"type\": \"surface\"}], \"table\": [{\"cells\": {\"fill\": {\"color\": \"#EBF0F8\"}, \"line\": {\"color\": \"white\"}}, \"header\": {\"fill\": {\"color\": \"#C8D4E3\"}, \"line\": {\"color\": \"white\"}}, \"type\": \"table\"}]}, \"layout\": {\"annotationdefaults\": {\"arrowcolor\": \"#2a3f5f\", \"arrowhead\": 0, \"arrowwidth\": 1}, \"coloraxis\": {\"colorbar\": {\"outlinewidth\": 0, \"ticks\": \"\"}}, \"colorscale\": {\"diverging\": [[0, \"#8e0152\"], [0.1, \"#c51b7d\"], [0.2, \"#de77ae\"], [0.3, \"#f1b6da\"], [0.4, \"#fde0ef\"], [0.5, \"#f7f7f7\"], [0.6, \"#e6f5d0\"], [0.7, \"#b8e186\"], [0.8, \"#7fbc41\"], [0.9, \"#4d9221\"], [1, \"#276419\"]], \"sequential\": [[0.0, \"#0d0887\"], [0.1111111111111111, \"#46039f\"], [0.2222222222222222, \"#7201a8\"], [0.3333333333333333, \"#9c179e\"], [0.4444444444444444, \"#bd3786\"], [0.5555555555555556, \"#d8576b\"], [0.6666666666666666, \"#ed7953\"], [0.7777777777777778, \"#fb9f3a\"], [0.8888888888888888, \"#fdca26\"], [1.0, \"#f0f921\"]], \"sequentialminus\": [[0.0, \"#0d0887\"], [0.1111111111111111, \"#46039f\"], [0.2222222222222222, \"#7201a8\"], [0.3333333333333333, \"#9c179e\"], [0.4444444444444444, \"#bd3786\"], [0.5555555555555556, \"#d8576b\"], [0.6666666666666666, \"#ed7953\"], [0.7777777777777778, \"#fb9f3a\"], [0.8888888888888888, \"#fdca26\"], [1.0, \"#f0f921\"]]}, \"colorway\": [\"#636efa\", \"#EF553B\", \"#00cc96\", \"#ab63fa\", \"#FFA15A\", \"#19d3f3\", \"#FF6692\", \"#B6E880\", \"#FF97FF\", \"#FECB52\"], \"font\": {\"color\": \"#2a3f5f\"}, \"geo\": {\"bgcolor\": \"white\", \"lakecolor\": \"white\", \"landcolor\": \"#E5ECF6\", \"showlakes\": true, \"showland\": true, \"subunitcolor\": \"white\"}, \"hoverlabel\": {\"align\": \"left\"}, \"hovermode\": \"closest\", \"mapbox\": {\"style\": \"light\"}, \"paper_bgcolor\": \"white\", \"plot_bgcolor\": \"#E5ECF6\", \"polar\": {\"angularaxis\": {\"gridcolor\": \"white\", \"linecolor\": \"white\", \"ticks\": \"\"}, \"bgcolor\": \"#E5ECF6\", \"radialaxis\": {\"gridcolor\": \"white\", \"linecolor\": \"white\", \"ticks\": \"\"}}, \"scene\": {\"xaxis\": {\"backgroundcolor\": \"#E5ECF6\", \"gridcolor\": \"white\", \"gridwidth\": 2, \"linecolor\": \"white\", \"showbackground\": true, \"ticks\": \"\", \"zerolinecolor\": \"white\"}, \"yaxis\": {\"backgroundcolor\": \"#E5ECF6\", \"gridcolor\": \"white\", \"gridwidth\": 2, \"linecolor\": \"white\", \"showbackground\": true, \"ticks\": \"\", \"zerolinecolor\": \"white\"}, \"zaxis\": {\"backgroundcolor\": \"#E5ECF6\", \"gridcolor\": \"white\", \"gridwidth\": 2, \"linecolor\": \"white\", \"showbackground\": true, \"ticks\": \"\", \"zerolinecolor\": \"white\"}}, \"shapedefaults\": {\"line\": {\"color\": \"#2a3f5f\"}}, \"ternary\": {\"aaxis\": {\"gridcolor\": \"white\", \"linecolor\": \"white\", \"ticks\": \"\"}, \"baxis\": {\"gridcolor\": \"white\", \"linecolor\": \"white\", \"ticks\": \"\"}, \"bgcolor\": \"#E5ECF6\", \"caxis\": {\"gridcolor\": \"white\", \"linecolor\": \"white\", \"ticks\": \"\"}}, \"title\": {\"x\": 0.05}, \"xaxis\": {\"automargin\": true, \"gridcolor\": \"white\", \"linecolor\": \"white\", \"ticks\": \"\", \"title\": {\"standoff\": 15}, \"zerolinecolor\": \"white\", \"zerolinewidth\": 2}, \"yaxis\": {\"automargin\": true, \"gridcolor\": \"white\", \"linecolor\": \"white\", \"ticks\": \"\", \"title\": {\"standoff\": 15}, \"zerolinecolor\": \"white\", \"zerolinewidth\": 2}}}, \"title\": {\"font\": {\"color\": \"#4D5663\"}, \"text\": \"Post Text Length Distribution\"}, \"xaxis\": {\"gridcolor\": \"#E1E5ED\", \"linecolor\": \"black\", \"showgrid\": true, \"tickfont\": {\"color\": \"#4D5663\"}, \"title\": {\"font\": {\"color\": \"#4D5663\"}, \"text\": \"text length\"}, \"zerolinecolor\": \"#E1E5ED\"}, \"yaxis\": {\"gridcolor\": \"#E1E5ED\", \"linecolor\": \"black\", \"showgrid\": true, \"tickfont\": {\"color\": \"#4D5663\"}, \"title\": {\"font\": {\"color\": \"#4D5663\"}, \"text\": \"count\"}, \"zerolinecolor\": \"#E1E5ED\"}},\n",
       "                        {\"showLink\": true, \"linkText\": \"Export to plot.ly\", \"plotlyServerURL\": \"https://plot.ly\", \"responsive\": true}\n",
       "                    ).then(function(){\n",
       "                            \n",
       "var gd = document.getElementById('3c7013f1-9774-4b8d-aeff-7b9f9960c269');\n",
       "var x = new MutationObserver(function (mutations, observer) {{\n",
       "        var display = window.getComputedStyle(gd).display;\n",
       "        if (!display || display === 'none') {{\n",
       "            console.log([gd, 'removed!']);\n",
       "            Plotly.purge(gd);\n",
       "            observer.disconnect();\n",
       "        }}\n",
       "}});\n",
       "\n",
       "// Listen for the removal of the full notebook cells\n",
       "var notebookContainer = gd.closest('#notebook-container');\n",
       "if (notebookContainer) {{\n",
       "    x.observe(notebookContainer, {childList: true});\n",
       "}}\n",
       "\n",
       "// Listen for the clearing of the current output cell\n",
       "var outputEl = gd.closest('.output');\n",
       "if (outputEl) {{\n",
       "    x.observe(outputEl, {childList: true});\n",
       "}}\n",
       "\n",
       "                        })\n",
       "                };\n",
       "                });\n",
       "            </script>\n",
       "        </div>"
      ]
     },
     "metadata": {},
     "output_type": "display_data"
    }
   ],
   "source": [
    "df_ed['text_len'].iplot(\n",
    "    kind='hist',\n",
    "    bins=100,\n",
    "    xTitle='text length',\n",
    "    linecolor='black',\n",
    "    yTitle='count',\n",
    "    title='Post Text Length Distribution')"
   ]
  },
  {
   "cell_type": "code",
   "execution_count": 45,
   "metadata": {},
   "outputs": [],
   "source": [
    "#There were quite number of people like to leave long reviews."
   ]
  },
  {
   "cell_type": "code",
   "execution_count": 46,
   "metadata": {},
   "outputs": [
    {
     "data": {
      "application/vnd.plotly.v1+json": {
       "config": {
        "linkText": "Export to plot.ly",
        "plotlyServerURL": "https://plot.ly",
        "showLink": true
       },
       "data": [
        {
         "histfunc": "count",
         "histnorm": "",
         "marker": {
          "color": "rgba(255, 153, 51, 1.0)",
          "line": {
           "color": "#000000",
           "width": 1.3
          }
         },
         "name": "word_count",
         "nbinsx": 100,
         "opacity": 0.8,
         "orientation": "v",
         "type": "histogram",
         "x": [
          112,
          102,
          132,
          270,
          444,
          119,
          114,
          176,
          126,
          181,
          148,
          127,
          105,
          250,
          157,
          77,
          793,
          101,
          141,
          429,
          147,
          534,
          133,
          90,
          192,
          161,
          104,
          142,
          139,
          170,
          399,
          157,
          113,
          650,
          627,
          627,
          532,
          472,
          100,
          125,
          165,
          250,
          137,
          534,
          237,
          399,
          266,
          157,
          132,
          96,
          286,
          127,
          89,
          205,
          130,
          434,
          99,
          264,
          164,
          417,
          162,
          295,
          115,
          245,
          141,
          138,
          138,
          114,
          133,
          461,
          100,
          252,
          130,
          99,
          157,
          93,
          114,
          325,
          113,
          137,
          247,
          283,
          85,
          108,
          97,
          198,
          235,
          176,
          95,
          161,
          221,
          383,
          232,
          381,
          245,
          103,
          161,
          100,
          182,
          698,
          250,
          245,
          345,
          113,
          231,
          222,
          217,
          183,
          189,
          113,
          156,
          84,
          175,
          270,
          89,
          242,
          123,
          179,
          145,
          98,
          407,
          240,
          96,
          90,
          363,
          118,
          126,
          163,
          103,
          225,
          290,
          131,
          150,
          162,
          163,
          381,
          646,
          368,
          289,
          488,
          699,
          260,
          236,
          126,
          628,
          235,
          183,
          114,
          221,
          364,
          117,
          349,
          144,
          648,
          141,
          95,
          123,
          339,
          114,
          265,
          165,
          110,
          376,
          104,
          112,
          103,
          100,
          112,
          141,
          217,
          108,
          307,
          219,
          212,
          108,
          213,
          149,
          109,
          495,
          197,
          126,
          184,
          168,
          147,
          534,
          132,
          94,
          508,
          67,
          121,
          302,
          312,
          331,
          146,
          251,
          95,
          355,
          250,
          137,
          357,
          123,
          217,
          404,
          121,
          115,
          96,
          111,
          112,
          153,
          858,
          132,
          157,
          190,
          121,
          128,
          100,
          229,
          103,
          117,
          170,
          108,
          126,
          148,
          258,
          107,
          180,
          310,
          170,
          132,
          224,
          140,
          311,
          846,
          109,
          219,
          364,
          275,
          94,
          146,
          366,
          85,
          105,
          133,
          138,
          153,
          110,
          138,
          847,
          100,
          120,
          321,
          79,
          123,
          109,
          106,
          180,
          333,
          86,
          173,
          93,
          862,
          381,
          98,
          93,
          401,
          119,
          157,
          182,
          200,
          112,
          93,
          86,
          226,
          101,
          387,
          276,
          112,
          99,
          184,
          190,
          379,
          109,
          270,
          165,
          153,
          463,
          161,
          518,
          167,
          415,
          104,
          238,
          115,
          115,
          254,
          389,
          131,
          445,
          99,
          179,
          409,
          111,
          109,
          160,
          150,
          453,
          250,
          178,
          248,
          130,
          112,
          102,
          96,
          475,
          100,
          208,
          108,
          132,
          122,
          125,
          185,
          329,
          167,
          167,
          108,
          111,
          238,
          126,
          135,
          102,
          400,
          522,
          228,
          191,
          98,
          456,
          165,
          801,
          102,
          113,
          114,
          123,
          93,
          181,
          115,
          217,
          388,
          115,
          463,
          125,
          170,
          194,
          87,
          134,
          531,
          260,
          232,
          233,
          200,
          106,
          130,
          97,
          202,
          538,
          96,
          116,
          139,
          166,
          114,
          225,
          115,
          112,
          109,
          124,
          83,
          211,
          169,
          120,
          120,
          580,
          99,
          101,
          162,
          188,
          234,
          97,
          427,
          197,
          201,
          260,
          285,
          257,
          137,
          145,
          338,
          107,
          124,
          546,
          546,
          545,
          545,
          545,
          130,
          124,
          124,
          124,
          124,
          124,
          452,
          452,
          452,
          452,
          124,
          124,
          124,
          124,
          124,
          124,
          124,
          124,
          121,
          99,
          208,
          374,
          314,
          120,
          153,
          116,
          608,
          158,
          232,
          232,
          128,
          254,
          303,
          124,
          129,
          427,
          187,
          539,
          167,
          82,
          238,
          117,
          274,
          178,
          103,
          238,
          107,
          815,
          125,
          125,
          133,
          433,
          113,
          169,
          173,
          392,
          150,
          152,
          98,
          190,
          117,
          166,
          96,
          108,
          155,
          106,
          213,
          165,
          218,
          103,
          199,
          137,
          97,
          97,
          97,
          119,
          236,
          322,
          100,
          121,
          128,
          199,
          309,
          153,
          118,
          146,
          115,
          234,
          217,
          187,
          384,
          719,
          104,
          145,
          104,
          115,
          141,
          171,
          132,
          217,
          124,
          177,
          120,
          101,
          118,
          239,
          273,
          107,
          138,
          235,
          195,
          100,
          103,
          180,
          408,
          432,
          88,
          113,
          603,
          117,
          310,
          204,
          369,
          437,
          132,
          98,
          108,
          77,
          129,
          149,
          349,
          168,
          232,
          198,
          197,
          105,
          119,
          289,
          225,
          224,
          429,
          103,
          290,
          196,
          253,
          111,
          169,
          127,
          186,
          304,
          179,
          177,
          117,
          96,
          95,
          261,
          261,
          261,
          261,
          261,
          261,
          261,
          261,
          112,
          192,
          129,
          421,
          207,
          497,
          89,
          229,
          92,
          117,
          141,
          133,
          120,
          110,
          107,
          227,
          141,
          129,
          162,
          162,
          205,
          102,
          179,
          106,
          131,
          140,
          133,
          247,
          577,
          236,
          285,
          193,
          118,
          186,
          102,
          383,
          234,
          758,
          295,
          101,
          141,
          261,
          239,
          342,
          164,
          150,
          120,
          92,
          412,
          331,
          329,
          107,
          198,
          246,
          394,
          426,
          250,
          100,
          152,
          144,
          178,
          178,
          142,
          312,
          113,
          165,
          381,
          161,
          298,
          209,
          178,
          284,
          297,
          661,
          102,
          257,
          217,
          121,
          162,
          240,
          263,
          181,
          224,
          323,
          410,
          124,
          144,
          112,
          127,
          558,
          204,
          100,
          135,
          228,
          243,
          111,
          432,
          100,
          733,
          489,
          368,
          110,
          237,
          157,
          112,
          151,
          278,
          114,
          134,
          630,
          181,
          273,
          118,
          241,
          93,
          115,
          740,
          301,
          251,
          147,
          96,
          94,
          325,
          426,
          106,
          149,
          179,
          216,
          280,
          343,
          458,
          366,
          98,
          101,
          273,
          145,
          134,
          103,
          167,
          285,
          207,
          377,
          120,
          91,
          90,
          198,
          146,
          114,
          96,
          181,
          201,
          540,
          161,
          330,
          109,
          387,
          343,
          142,
          124,
          98,
          97,
          209,
          152,
          97,
          156,
          143,
          239,
          102,
          260,
          133,
          202,
          95,
          122,
          235,
          105,
          214,
          168,
          132,
          229,
          186,
          178,
          264,
          105,
          323,
          312,
          109,
          370,
          300,
          194,
          95,
          116,
          84,
          417,
          111,
          122,
          144,
          315,
          105,
          145,
          690,
          90,
          206,
          102,
          138,
          143,
          114,
          214,
          104,
          136,
          196,
          202,
          175,
          182,
          162,
          121,
          297,
          363,
          99,
          341,
          661,
          144,
          135,
          134,
          495,
          301,
          136,
          121,
          303,
          191,
          591,
          205,
          177,
          115,
          120,
          163,
          101,
          112,
          119,
          210,
          255,
          91,
          149,
          389,
          113,
          195,
          98,
          116,
          880,
          329,
          96,
          120,
          187,
          287,
          189,
          202,
          121,
          422,
          113,
          128,
          241,
          83,
          182,
          160,
          244,
          131,
          100,
          196,
          100,
          100,
          103,
          752,
          140,
          173,
          110,
          91,
          90,
          354,
          108,
          96,
          204,
          96,
          129,
          236,
          256,
          400,
          585,
          203,
          681,
          64,
          247,
          101,
          150,
          163,
          303,
          122,
          274,
          139,
          118,
          145,
          118,
          154,
          123,
          159,
          200,
          461,
          246,
          125,
          596,
          138,
          401,
          80,
          189,
          84,
          147,
          166,
          131,
          101,
          99,
          160,
          99,
          236,
          121,
          138,
          294,
          109,
          154,
          114,
          367,
          97,
          94,
          112,
          241,
          118,
          114,
          439,
          80,
          131,
          361,
          302,
          131,
          112,
          146,
          111,
          105,
          230,
          156,
          356,
          112,
          147,
          293,
          156,
          623,
          164,
          115,
          118,
          644,
          580,
          131,
          108,
          177,
          91,
          103,
          94,
          128,
          185,
          92,
          312,
          90,
          121,
          256,
          91,
          564,
          799,
          190,
          279,
          256,
          136,
          361,
          125,
          236,
          220,
          98,
          658,
          85,
          712,
          101,
          137,
          312,
          273,
          144,
          87,
          342,
          223,
          110,
          126,
          709,
          248,
          272,
          448,
          541,
          545,
          464,
          143,
          337,
          96,
          93,
          105,
          134,
          650,
          102,
          95,
          259,
          275,
          129,
          199,
          121,
          107,
          209,
          222,
          145,
          475,
          197,
          232,
          172,
          174,
          348,
          92,
          128,
          288,
          185,
          126,
          134,
          233,
          558,
          355,
          110,
          211,
          216,
          188,
          183,
          77,
          100,
          101,
          167,
          137,
          104,
          219,
          146,
          245,
          111,
          179,
          95,
          465,
          135,
          79,
          105,
          126,
          95,
          105,
          212,
          816,
          108,
          215,
          101,
          660,
          245,
          148,
          157
         ]
        }
       ],
       "layout": {
        "barmode": "overlay",
        "legend": {
         "bgcolor": "#F5F6F9",
         "font": {
          "color": "#4D5663"
         }
        },
        "paper_bgcolor": "#F5F6F9",
        "plot_bgcolor": "#F5F6F9",
        "template": {
         "data": {
          "bar": [
           {
            "error_x": {
             "color": "#2a3f5f"
            },
            "error_y": {
             "color": "#2a3f5f"
            },
            "marker": {
             "line": {
              "color": "#E5ECF6",
              "width": 0.5
             }
            },
            "type": "bar"
           }
          ],
          "barpolar": [
           {
            "marker": {
             "line": {
              "color": "#E5ECF6",
              "width": 0.5
             }
            },
            "type": "barpolar"
           }
          ],
          "carpet": [
           {
            "aaxis": {
             "endlinecolor": "#2a3f5f",
             "gridcolor": "white",
             "linecolor": "white",
             "minorgridcolor": "white",
             "startlinecolor": "#2a3f5f"
            },
            "baxis": {
             "endlinecolor": "#2a3f5f",
             "gridcolor": "white",
             "linecolor": "white",
             "minorgridcolor": "white",
             "startlinecolor": "#2a3f5f"
            },
            "type": "carpet"
           }
          ],
          "choropleth": [
           {
            "colorbar": {
             "outlinewidth": 0,
             "ticks": ""
            },
            "type": "choropleth"
           }
          ],
          "contour": [
           {
            "colorbar": {
             "outlinewidth": 0,
             "ticks": ""
            },
            "colorscale": [
             [
              0,
              "#0d0887"
             ],
             [
              0.1111111111111111,
              "#46039f"
             ],
             [
              0.2222222222222222,
              "#7201a8"
             ],
             [
              0.3333333333333333,
              "#9c179e"
             ],
             [
              0.4444444444444444,
              "#bd3786"
             ],
             [
              0.5555555555555556,
              "#d8576b"
             ],
             [
              0.6666666666666666,
              "#ed7953"
             ],
             [
              0.7777777777777778,
              "#fb9f3a"
             ],
             [
              0.8888888888888888,
              "#fdca26"
             ],
             [
              1,
              "#f0f921"
             ]
            ],
            "type": "contour"
           }
          ],
          "contourcarpet": [
           {
            "colorbar": {
             "outlinewidth": 0,
             "ticks": ""
            },
            "type": "contourcarpet"
           }
          ],
          "heatmap": [
           {
            "colorbar": {
             "outlinewidth": 0,
             "ticks": ""
            },
            "colorscale": [
             [
              0,
              "#0d0887"
             ],
             [
              0.1111111111111111,
              "#46039f"
             ],
             [
              0.2222222222222222,
              "#7201a8"
             ],
             [
              0.3333333333333333,
              "#9c179e"
             ],
             [
              0.4444444444444444,
              "#bd3786"
             ],
             [
              0.5555555555555556,
              "#d8576b"
             ],
             [
              0.6666666666666666,
              "#ed7953"
             ],
             [
              0.7777777777777778,
              "#fb9f3a"
             ],
             [
              0.8888888888888888,
              "#fdca26"
             ],
             [
              1,
              "#f0f921"
             ]
            ],
            "type": "heatmap"
           }
          ],
          "heatmapgl": [
           {
            "colorbar": {
             "outlinewidth": 0,
             "ticks": ""
            },
            "colorscale": [
             [
              0,
              "#0d0887"
             ],
             [
              0.1111111111111111,
              "#46039f"
             ],
             [
              0.2222222222222222,
              "#7201a8"
             ],
             [
              0.3333333333333333,
              "#9c179e"
             ],
             [
              0.4444444444444444,
              "#bd3786"
             ],
             [
              0.5555555555555556,
              "#d8576b"
             ],
             [
              0.6666666666666666,
              "#ed7953"
             ],
             [
              0.7777777777777778,
              "#fb9f3a"
             ],
             [
              0.8888888888888888,
              "#fdca26"
             ],
             [
              1,
              "#f0f921"
             ]
            ],
            "type": "heatmapgl"
           }
          ],
          "histogram": [
           {
            "marker": {
             "colorbar": {
              "outlinewidth": 0,
              "ticks": ""
             }
            },
            "type": "histogram"
           }
          ],
          "histogram2d": [
           {
            "colorbar": {
             "outlinewidth": 0,
             "ticks": ""
            },
            "colorscale": [
             [
              0,
              "#0d0887"
             ],
             [
              0.1111111111111111,
              "#46039f"
             ],
             [
              0.2222222222222222,
              "#7201a8"
             ],
             [
              0.3333333333333333,
              "#9c179e"
             ],
             [
              0.4444444444444444,
              "#bd3786"
             ],
             [
              0.5555555555555556,
              "#d8576b"
             ],
             [
              0.6666666666666666,
              "#ed7953"
             ],
             [
              0.7777777777777778,
              "#fb9f3a"
             ],
             [
              0.8888888888888888,
              "#fdca26"
             ],
             [
              1,
              "#f0f921"
             ]
            ],
            "type": "histogram2d"
           }
          ],
          "histogram2dcontour": [
           {
            "colorbar": {
             "outlinewidth": 0,
             "ticks": ""
            },
            "colorscale": [
             [
              0,
              "#0d0887"
             ],
             [
              0.1111111111111111,
              "#46039f"
             ],
             [
              0.2222222222222222,
              "#7201a8"
             ],
             [
              0.3333333333333333,
              "#9c179e"
             ],
             [
              0.4444444444444444,
              "#bd3786"
             ],
             [
              0.5555555555555556,
              "#d8576b"
             ],
             [
              0.6666666666666666,
              "#ed7953"
             ],
             [
              0.7777777777777778,
              "#fb9f3a"
             ],
             [
              0.8888888888888888,
              "#fdca26"
             ],
             [
              1,
              "#f0f921"
             ]
            ],
            "type": "histogram2dcontour"
           }
          ],
          "mesh3d": [
           {
            "colorbar": {
             "outlinewidth": 0,
             "ticks": ""
            },
            "type": "mesh3d"
           }
          ],
          "parcoords": [
           {
            "line": {
             "colorbar": {
              "outlinewidth": 0,
              "ticks": ""
             }
            },
            "type": "parcoords"
           }
          ],
          "pie": [
           {
            "automargin": true,
            "type": "pie"
           }
          ],
          "scatter": [
           {
            "marker": {
             "colorbar": {
              "outlinewidth": 0,
              "ticks": ""
             }
            },
            "type": "scatter"
           }
          ],
          "scatter3d": [
           {
            "line": {
             "colorbar": {
              "outlinewidth": 0,
              "ticks": ""
             }
            },
            "marker": {
             "colorbar": {
              "outlinewidth": 0,
              "ticks": ""
             }
            },
            "type": "scatter3d"
           }
          ],
          "scattercarpet": [
           {
            "marker": {
             "colorbar": {
              "outlinewidth": 0,
              "ticks": ""
             }
            },
            "type": "scattercarpet"
           }
          ],
          "scattergeo": [
           {
            "marker": {
             "colorbar": {
              "outlinewidth": 0,
              "ticks": ""
             }
            },
            "type": "scattergeo"
           }
          ],
          "scattergl": [
           {
            "marker": {
             "colorbar": {
              "outlinewidth": 0,
              "ticks": ""
             }
            },
            "type": "scattergl"
           }
          ],
          "scattermapbox": [
           {
            "marker": {
             "colorbar": {
              "outlinewidth": 0,
              "ticks": ""
             }
            },
            "type": "scattermapbox"
           }
          ],
          "scatterpolar": [
           {
            "marker": {
             "colorbar": {
              "outlinewidth": 0,
              "ticks": ""
             }
            },
            "type": "scatterpolar"
           }
          ],
          "scatterpolargl": [
           {
            "marker": {
             "colorbar": {
              "outlinewidth": 0,
              "ticks": ""
             }
            },
            "type": "scatterpolargl"
           }
          ],
          "scatterternary": [
           {
            "marker": {
             "colorbar": {
              "outlinewidth": 0,
              "ticks": ""
             }
            },
            "type": "scatterternary"
           }
          ],
          "surface": [
           {
            "colorbar": {
             "outlinewidth": 0,
             "ticks": ""
            },
            "colorscale": [
             [
              0,
              "#0d0887"
             ],
             [
              0.1111111111111111,
              "#46039f"
             ],
             [
              0.2222222222222222,
              "#7201a8"
             ],
             [
              0.3333333333333333,
              "#9c179e"
             ],
             [
              0.4444444444444444,
              "#bd3786"
             ],
             [
              0.5555555555555556,
              "#d8576b"
             ],
             [
              0.6666666666666666,
              "#ed7953"
             ],
             [
              0.7777777777777778,
              "#fb9f3a"
             ],
             [
              0.8888888888888888,
              "#fdca26"
             ],
             [
              1,
              "#f0f921"
             ]
            ],
            "type": "surface"
           }
          ],
          "table": [
           {
            "cells": {
             "fill": {
              "color": "#EBF0F8"
             },
             "line": {
              "color": "white"
             }
            },
            "header": {
             "fill": {
              "color": "#C8D4E3"
             },
             "line": {
              "color": "white"
             }
            },
            "type": "table"
           }
          ]
         },
         "layout": {
          "annotationdefaults": {
           "arrowcolor": "#2a3f5f",
           "arrowhead": 0,
           "arrowwidth": 1
          },
          "coloraxis": {
           "colorbar": {
            "outlinewidth": 0,
            "ticks": ""
           }
          },
          "colorscale": {
           "diverging": [
            [
             0,
             "#8e0152"
            ],
            [
             0.1,
             "#c51b7d"
            ],
            [
             0.2,
             "#de77ae"
            ],
            [
             0.3,
             "#f1b6da"
            ],
            [
             0.4,
             "#fde0ef"
            ],
            [
             0.5,
             "#f7f7f7"
            ],
            [
             0.6,
             "#e6f5d0"
            ],
            [
             0.7,
             "#b8e186"
            ],
            [
             0.8,
             "#7fbc41"
            ],
            [
             0.9,
             "#4d9221"
            ],
            [
             1,
             "#276419"
            ]
           ],
           "sequential": [
            [
             0,
             "#0d0887"
            ],
            [
             0.1111111111111111,
             "#46039f"
            ],
            [
             0.2222222222222222,
             "#7201a8"
            ],
            [
             0.3333333333333333,
             "#9c179e"
            ],
            [
             0.4444444444444444,
             "#bd3786"
            ],
            [
             0.5555555555555556,
             "#d8576b"
            ],
            [
             0.6666666666666666,
             "#ed7953"
            ],
            [
             0.7777777777777778,
             "#fb9f3a"
            ],
            [
             0.8888888888888888,
             "#fdca26"
            ],
            [
             1,
             "#f0f921"
            ]
           ],
           "sequentialminus": [
            [
             0,
             "#0d0887"
            ],
            [
             0.1111111111111111,
             "#46039f"
            ],
            [
             0.2222222222222222,
             "#7201a8"
            ],
            [
             0.3333333333333333,
             "#9c179e"
            ],
            [
             0.4444444444444444,
             "#bd3786"
            ],
            [
             0.5555555555555556,
             "#d8576b"
            ],
            [
             0.6666666666666666,
             "#ed7953"
            ],
            [
             0.7777777777777778,
             "#fb9f3a"
            ],
            [
             0.8888888888888888,
             "#fdca26"
            ],
            [
             1,
             "#f0f921"
            ]
           ]
          },
          "colorway": [
           "#636efa",
           "#EF553B",
           "#00cc96",
           "#ab63fa",
           "#FFA15A",
           "#19d3f3",
           "#FF6692",
           "#B6E880",
           "#FF97FF",
           "#FECB52"
          ],
          "font": {
           "color": "#2a3f5f"
          },
          "geo": {
           "bgcolor": "white",
           "lakecolor": "white",
           "landcolor": "#E5ECF6",
           "showlakes": true,
           "showland": true,
           "subunitcolor": "white"
          },
          "hoverlabel": {
           "align": "left"
          },
          "hovermode": "closest",
          "mapbox": {
           "style": "light"
          },
          "paper_bgcolor": "white",
          "plot_bgcolor": "#E5ECF6",
          "polar": {
           "angularaxis": {
            "gridcolor": "white",
            "linecolor": "white",
            "ticks": ""
           },
           "bgcolor": "#E5ECF6",
           "radialaxis": {
            "gridcolor": "white",
            "linecolor": "white",
            "ticks": ""
           }
          },
          "scene": {
           "xaxis": {
            "backgroundcolor": "#E5ECF6",
            "gridcolor": "white",
            "gridwidth": 2,
            "linecolor": "white",
            "showbackground": true,
            "ticks": "",
            "zerolinecolor": "white"
           },
           "yaxis": {
            "backgroundcolor": "#E5ECF6",
            "gridcolor": "white",
            "gridwidth": 2,
            "linecolor": "white",
            "showbackground": true,
            "ticks": "",
            "zerolinecolor": "white"
           },
           "zaxis": {
            "backgroundcolor": "#E5ECF6",
            "gridcolor": "white",
            "gridwidth": 2,
            "linecolor": "white",
            "showbackground": true,
            "ticks": "",
            "zerolinecolor": "white"
           }
          },
          "shapedefaults": {
           "line": {
            "color": "#2a3f5f"
           }
          },
          "ternary": {
           "aaxis": {
            "gridcolor": "white",
            "linecolor": "white",
            "ticks": ""
           },
           "baxis": {
            "gridcolor": "white",
            "linecolor": "white",
            "ticks": ""
           },
           "bgcolor": "#E5ECF6",
           "caxis": {
            "gridcolor": "white",
            "linecolor": "white",
            "ticks": ""
           }
          },
          "title": {
           "x": 0.05
          },
          "xaxis": {
           "automargin": true,
           "gridcolor": "white",
           "linecolor": "white",
           "ticks": "",
           "title": {
            "standoff": 15
           },
           "zerolinecolor": "white",
           "zerolinewidth": 2
          },
          "yaxis": {
           "automargin": true,
           "gridcolor": "white",
           "linecolor": "white",
           "ticks": "",
           "title": {
            "standoff": 15
           },
           "zerolinecolor": "white",
           "zerolinewidth": 2
          }
         }
        },
        "title": {
         "font": {
          "color": "#4D5663"
         },
         "text": "Post Text Word Count Distribution"
        },
        "xaxis": {
         "gridcolor": "#E1E5ED",
         "linecolor": "black",
         "showgrid": true,
         "tickfont": {
          "color": "#4D5663"
         },
         "title": {
          "font": {
           "color": "#4D5663"
          },
          "text": "word count"
         },
         "zerolinecolor": "#E1E5ED"
        },
        "yaxis": {
         "gridcolor": "#E1E5ED",
         "linecolor": "black",
         "showgrid": true,
         "tickfont": {
          "color": "#4D5663"
         },
         "title": {
          "font": {
           "color": "#4D5663"
          },
          "text": "count"
         },
         "zerolinecolor": "#E1E5ED"
        }
       }
      },
      "text/html": [
       "<div>\n",
       "        \n",
       "        \n",
       "            <div id=\"2296ae68-27c3-4311-ac28-0fbdbb7024a3\" class=\"plotly-graph-div\" style=\"height:525px; width:100%;\"></div>\n",
       "            <script type=\"text/javascript\">\n",
       "                require([\"plotly\"], function(Plotly) {\n",
       "                    window.PLOTLYENV=window.PLOTLYENV || {};\n",
       "                    window.PLOTLYENV.BASE_URL='https://plot.ly';\n",
       "                    \n",
       "                if (document.getElementById(\"2296ae68-27c3-4311-ac28-0fbdbb7024a3\")) {\n",
       "                    Plotly.newPlot(\n",
       "                        '2296ae68-27c3-4311-ac28-0fbdbb7024a3',\n",
       "                        [{\"histfunc\": \"count\", \"histnorm\": \"\", \"marker\": {\"color\": \"rgba(255, 153, 51, 1.0)\", \"line\": {\"color\": \"#000000\", \"width\": 1.3}}, \"name\": \"word_count\", \"nbinsx\": 100, \"opacity\": 0.8, \"orientation\": \"v\", \"type\": \"histogram\", \"x\": [112, 102, 132, 270, 444, 119, 114, 176, 126, 181, 148, 127, 105, 250, 157, 77, 793, 101, 141, 429, 147, 534, 133, 90, 192, 161, 104, 142, 139, 170, 399, 157, 113, 650, 627, 627, 532, 472, 100, 125, 165, 250, 137, 534, 237, 399, 266, 157, 132, 96, 286, 127, 89, 205, 130, 434, 99, 264, 164, 417, 162, 295, 115, 245, 141, 138, 138, 114, 133, 461, 100, 252, 130, 99, 157, 93, 114, 325, 113, 137, 247, 283, 85, 108, 97, 198, 235, 176, 95, 161, 221, 383, 232, 381, 245, 103, 161, 100, 182, 698, 250, 245, 345, 113, 231, 222, 217, 183, 189, 113, 156, 84, 175, 270, 89, 242, 123, 179, 145, 98, 407, 240, 96, 90, 363, 118, 126, 163, 103, 225, 290, 131, 150, 162, 163, 381, 646, 368, 289, 488, 699, 260, 236, 126, 628, 235, 183, 114, 221, 364, 117, 349, 144, 648, 141, 95, 123, 339, 114, 265, 165, 110, 376, 104, 112, 103, 100, 112, 141, 217, 108, 307, 219, 212, 108, 213, 149, 109, 495, 197, 126, 184, 168, 147, 534, 132, 94, 508, 67, 121, 302, 312, 331, 146, 251, 95, 355, 250, 137, 357, 123, 217, 404, 121, 115, 96, 111, 112, 153, 858, 132, 157, 190, 121, 128, 100, 229, 103, 117, 170, 108, 126, 148, 258, 107, 180, 310, 170, 132, 224, 140, 311, 846, 109, 219, 364, 275, 94, 146, 366, 85, 105, 133, 138, 153, 110, 138, 847, 100, 120, 321, 79, 123, 109, 106, 180, 333, 86, 173, 93, 862, 381, 98, 93, 401, 119, 157, 182, 200, 112, 93, 86, 226, 101, 387, 276, 112, 99, 184, 190, 379, 109, 270, 165, 153, 463, 161, 518, 167, 415, 104, 238, 115, 115, 254, 389, 131, 445, 99, 179, 409, 111, 109, 160, 150, 453, 250, 178, 248, 130, 112, 102, 96, 475, 100, 208, 108, 132, 122, 125, 185, 329, 167, 167, 108, 111, 238, 126, 135, 102, 400, 522, 228, 191, 98, 456, 165, 801, 102, 113, 114, 123, 93, 181, 115, 217, 388, 115, 463, 125, 170, 194, 87, 134, 531, 260, 232, 233, 200, 106, 130, 97, 202, 538, 96, 116, 139, 166, 114, 225, 115, 112, 109, 124, 83, 211, 169, 120, 120, 580, 99, 101, 162, 188, 234, 97, 427, 197, 201, 260, 285, 257, 137, 145, 338, 107, 124, 546, 546, 545, 545, 545, 130, 124, 124, 124, 124, 124, 452, 452, 452, 452, 124, 124, 124, 124, 124, 124, 124, 124, 121, 99, 208, 374, 314, 120, 153, 116, 608, 158, 232, 232, 128, 254, 303, 124, 129, 427, 187, 539, 167, 82, 238, 117, 274, 178, 103, 238, 107, 815, 125, 125, 133, 433, 113, 169, 173, 392, 150, 152, 98, 190, 117, 166, 96, 108, 155, 106, 213, 165, 218, 103, 199, 137, 97, 97, 97, 119, 236, 322, 100, 121, 128, 199, 309, 153, 118, 146, 115, 234, 217, 187, 384, 719, 104, 145, 104, 115, 141, 171, 132, 217, 124, 177, 120, 101, 118, 239, 273, 107, 138, 235, 195, 100, 103, 180, 408, 432, 88, 113, 603, 117, 310, 204, 369, 437, 132, 98, 108, 77, 129, 149, 349, 168, 232, 198, 197, 105, 119, 289, 225, 224, 429, 103, 290, 196, 253, 111, 169, 127, 186, 304, 179, 177, 117, 96, 95, 261, 261, 261, 261, 261, 261, 261, 261, 112, 192, 129, 421, 207, 497, 89, 229, 92, 117, 141, 133, 120, 110, 107, 227, 141, 129, 162, 162, 205, 102, 179, 106, 131, 140, 133, 247, 577, 236, 285, 193, 118, 186, 102, 383, 234, 758, 295, 101, 141, 261, 239, 342, 164, 150, 120, 92, 412, 331, 329, 107, 198, 246, 394, 426, 250, 100, 152, 144, 178, 178, 142, 312, 113, 165, 381, 161, 298, 209, 178, 284, 297, 661, 102, 257, 217, 121, 162, 240, 263, 181, 224, 323, 410, 124, 144, 112, 127, 558, 204, 100, 135, 228, 243, 111, 432, 100, 733, 489, 368, 110, 237, 157, 112, 151, 278, 114, 134, 630, 181, 273, 118, 241, 93, 115, 740, 301, 251, 147, 96, 94, 325, 426, 106, 149, 179, 216, 280, 343, 458, 366, 98, 101, 273, 145, 134, 103, 167, 285, 207, 377, 120, 91, 90, 198, 146, 114, 96, 181, 201, 540, 161, 330, 109, 387, 343, 142, 124, 98, 97, 209, 152, 97, 156, 143, 239, 102, 260, 133, 202, 95, 122, 235, 105, 214, 168, 132, 229, 186, 178, 264, 105, 323, 312, 109, 370, 300, 194, 95, 116, 84, 417, 111, 122, 144, 315, 105, 145, 690, 90, 206, 102, 138, 143, 114, 214, 104, 136, 196, 202, 175, 182, 162, 121, 297, 363, 99, 341, 661, 144, 135, 134, 495, 301, 136, 121, 303, 191, 591, 205, 177, 115, 120, 163, 101, 112, 119, 210, 255, 91, 149, 389, 113, 195, 98, 116, 880, 329, 96, 120, 187, 287, 189, 202, 121, 422, 113, 128, 241, 83, 182, 160, 244, 131, 100, 196, 100, 100, 103, 752, 140, 173, 110, 91, 90, 354, 108, 96, 204, 96, 129, 236, 256, 400, 585, 203, 681, 64, 247, 101, 150, 163, 303, 122, 274, 139, 118, 145, 118, 154, 123, 159, 200, 461, 246, 125, 596, 138, 401, 80, 189, 84, 147, 166, 131, 101, 99, 160, 99, 236, 121, 138, 294, 109, 154, 114, 367, 97, 94, 112, 241, 118, 114, 439, 80, 131, 361, 302, 131, 112, 146, 111, 105, 230, 156, 356, 112, 147, 293, 156, 623, 164, 115, 118, 644, 580, 131, 108, 177, 91, 103, 94, 128, 185, 92, 312, 90, 121, 256, 91, 564, 799, 190, 279, 256, 136, 361, 125, 236, 220, 98, 658, 85, 712, 101, 137, 312, 273, 144, 87, 342, 223, 110, 126, 709, 248, 272, 448, 541, 545, 464, 143, 337, 96, 93, 105, 134, 650, 102, 95, 259, 275, 129, 199, 121, 107, 209, 222, 145, 475, 197, 232, 172, 174, 348, 92, 128, 288, 185, 126, 134, 233, 558, 355, 110, 211, 216, 188, 183, 77, 100, 101, 167, 137, 104, 219, 146, 245, 111, 179, 95, 465, 135, 79, 105, 126, 95, 105, 212, 816, 108, 215, 101, 660, 245, 148, 157]}],\n",
       "                        {\"barmode\": \"overlay\", \"legend\": {\"bgcolor\": \"#F5F6F9\", \"font\": {\"color\": \"#4D5663\"}}, \"paper_bgcolor\": \"#F5F6F9\", \"plot_bgcolor\": \"#F5F6F9\", \"template\": {\"data\": {\"bar\": [{\"error_x\": {\"color\": \"#2a3f5f\"}, \"error_y\": {\"color\": \"#2a3f5f\"}, \"marker\": {\"line\": {\"color\": \"#E5ECF6\", \"width\": 0.5}}, \"type\": \"bar\"}], \"barpolar\": [{\"marker\": {\"line\": {\"color\": \"#E5ECF6\", \"width\": 0.5}}, \"type\": \"barpolar\"}], \"carpet\": [{\"aaxis\": {\"endlinecolor\": \"#2a3f5f\", \"gridcolor\": \"white\", \"linecolor\": \"white\", \"minorgridcolor\": \"white\", \"startlinecolor\": \"#2a3f5f\"}, \"baxis\": {\"endlinecolor\": \"#2a3f5f\", \"gridcolor\": \"white\", \"linecolor\": \"white\", \"minorgridcolor\": \"white\", \"startlinecolor\": \"#2a3f5f\"}, \"type\": \"carpet\"}], \"choropleth\": [{\"colorbar\": {\"outlinewidth\": 0, \"ticks\": \"\"}, \"type\": \"choropleth\"}], \"contour\": [{\"colorbar\": {\"outlinewidth\": 0, \"ticks\": \"\"}, \"colorscale\": [[0.0, \"#0d0887\"], [0.1111111111111111, \"#46039f\"], [0.2222222222222222, \"#7201a8\"], [0.3333333333333333, \"#9c179e\"], [0.4444444444444444, \"#bd3786\"], [0.5555555555555556, \"#d8576b\"], [0.6666666666666666, \"#ed7953\"], [0.7777777777777778, \"#fb9f3a\"], [0.8888888888888888, \"#fdca26\"], [1.0, \"#f0f921\"]], \"type\": \"contour\"}], \"contourcarpet\": [{\"colorbar\": {\"outlinewidth\": 0, \"ticks\": \"\"}, \"type\": \"contourcarpet\"}], \"heatmap\": [{\"colorbar\": {\"outlinewidth\": 0, \"ticks\": \"\"}, \"colorscale\": [[0.0, \"#0d0887\"], [0.1111111111111111, \"#46039f\"], [0.2222222222222222, \"#7201a8\"], [0.3333333333333333, \"#9c179e\"], [0.4444444444444444, \"#bd3786\"], [0.5555555555555556, \"#d8576b\"], [0.6666666666666666, \"#ed7953\"], [0.7777777777777778, \"#fb9f3a\"], [0.8888888888888888, \"#fdca26\"], [1.0, \"#f0f921\"]], \"type\": \"heatmap\"}], \"heatmapgl\": [{\"colorbar\": {\"outlinewidth\": 0, \"ticks\": \"\"}, \"colorscale\": [[0.0, \"#0d0887\"], [0.1111111111111111, \"#46039f\"], [0.2222222222222222, \"#7201a8\"], [0.3333333333333333, \"#9c179e\"], [0.4444444444444444, \"#bd3786\"], [0.5555555555555556, \"#d8576b\"], [0.6666666666666666, \"#ed7953\"], [0.7777777777777778, \"#fb9f3a\"], [0.8888888888888888, \"#fdca26\"], [1.0, \"#f0f921\"]], \"type\": \"heatmapgl\"}], \"histogram\": [{\"marker\": {\"colorbar\": {\"outlinewidth\": 0, \"ticks\": \"\"}}, \"type\": \"histogram\"}], \"histogram2d\": [{\"colorbar\": {\"outlinewidth\": 0, \"ticks\": \"\"}, \"colorscale\": [[0.0, \"#0d0887\"], [0.1111111111111111, \"#46039f\"], [0.2222222222222222, \"#7201a8\"], [0.3333333333333333, \"#9c179e\"], [0.4444444444444444, \"#bd3786\"], [0.5555555555555556, \"#d8576b\"], [0.6666666666666666, \"#ed7953\"], [0.7777777777777778, \"#fb9f3a\"], [0.8888888888888888, \"#fdca26\"], [1.0, \"#f0f921\"]], \"type\": \"histogram2d\"}], \"histogram2dcontour\": [{\"colorbar\": {\"outlinewidth\": 0, \"ticks\": \"\"}, \"colorscale\": [[0.0, \"#0d0887\"], [0.1111111111111111, \"#46039f\"], [0.2222222222222222, \"#7201a8\"], [0.3333333333333333, \"#9c179e\"], [0.4444444444444444, \"#bd3786\"], [0.5555555555555556, \"#d8576b\"], [0.6666666666666666, \"#ed7953\"], [0.7777777777777778, \"#fb9f3a\"], [0.8888888888888888, \"#fdca26\"], [1.0, \"#f0f921\"]], \"type\": \"histogram2dcontour\"}], \"mesh3d\": [{\"colorbar\": {\"outlinewidth\": 0, \"ticks\": \"\"}, \"type\": \"mesh3d\"}], \"parcoords\": [{\"line\": {\"colorbar\": {\"outlinewidth\": 0, \"ticks\": \"\"}}, \"type\": \"parcoords\"}], \"pie\": [{\"automargin\": true, \"type\": \"pie\"}], \"scatter\": [{\"marker\": {\"colorbar\": {\"outlinewidth\": 0, \"ticks\": \"\"}}, \"type\": \"scatter\"}], \"scatter3d\": [{\"line\": {\"colorbar\": {\"outlinewidth\": 0, \"ticks\": \"\"}}, \"marker\": {\"colorbar\": {\"outlinewidth\": 0, \"ticks\": \"\"}}, \"type\": \"scatter3d\"}], \"scattercarpet\": [{\"marker\": {\"colorbar\": {\"outlinewidth\": 0, \"ticks\": \"\"}}, \"type\": \"scattercarpet\"}], \"scattergeo\": [{\"marker\": {\"colorbar\": {\"outlinewidth\": 0, \"ticks\": \"\"}}, \"type\": \"scattergeo\"}], \"scattergl\": [{\"marker\": {\"colorbar\": {\"outlinewidth\": 0, \"ticks\": \"\"}}, \"type\": \"scattergl\"}], \"scattermapbox\": [{\"marker\": {\"colorbar\": {\"outlinewidth\": 0, \"ticks\": \"\"}}, \"type\": \"scattermapbox\"}], \"scatterpolar\": [{\"marker\": {\"colorbar\": {\"outlinewidth\": 0, \"ticks\": \"\"}}, \"type\": \"scatterpolar\"}], \"scatterpolargl\": [{\"marker\": {\"colorbar\": {\"outlinewidth\": 0, \"ticks\": \"\"}}, \"type\": \"scatterpolargl\"}], \"scatterternary\": [{\"marker\": {\"colorbar\": {\"outlinewidth\": 0, \"ticks\": \"\"}}, \"type\": \"scatterternary\"}], \"surface\": [{\"colorbar\": {\"outlinewidth\": 0, \"ticks\": \"\"}, \"colorscale\": [[0.0, \"#0d0887\"], [0.1111111111111111, \"#46039f\"], [0.2222222222222222, \"#7201a8\"], [0.3333333333333333, \"#9c179e\"], [0.4444444444444444, \"#bd3786\"], [0.5555555555555556, \"#d8576b\"], [0.6666666666666666, \"#ed7953\"], [0.7777777777777778, \"#fb9f3a\"], [0.8888888888888888, \"#fdca26\"], [1.0, \"#f0f921\"]], \"type\": \"surface\"}], \"table\": [{\"cells\": {\"fill\": {\"color\": \"#EBF0F8\"}, \"line\": {\"color\": \"white\"}}, \"header\": {\"fill\": {\"color\": \"#C8D4E3\"}, \"line\": {\"color\": \"white\"}}, \"type\": \"table\"}]}, \"layout\": {\"annotationdefaults\": {\"arrowcolor\": \"#2a3f5f\", \"arrowhead\": 0, \"arrowwidth\": 1}, \"coloraxis\": {\"colorbar\": {\"outlinewidth\": 0, \"ticks\": \"\"}}, \"colorscale\": {\"diverging\": [[0, \"#8e0152\"], [0.1, \"#c51b7d\"], [0.2, \"#de77ae\"], [0.3, \"#f1b6da\"], [0.4, \"#fde0ef\"], [0.5, \"#f7f7f7\"], [0.6, \"#e6f5d0\"], [0.7, \"#b8e186\"], [0.8, \"#7fbc41\"], [0.9, \"#4d9221\"], [1, \"#276419\"]], \"sequential\": [[0.0, \"#0d0887\"], [0.1111111111111111, \"#46039f\"], [0.2222222222222222, \"#7201a8\"], [0.3333333333333333, \"#9c179e\"], [0.4444444444444444, \"#bd3786\"], [0.5555555555555556, \"#d8576b\"], [0.6666666666666666, \"#ed7953\"], [0.7777777777777778, \"#fb9f3a\"], [0.8888888888888888, \"#fdca26\"], [1.0, \"#f0f921\"]], \"sequentialminus\": [[0.0, \"#0d0887\"], [0.1111111111111111, \"#46039f\"], [0.2222222222222222, \"#7201a8\"], [0.3333333333333333, \"#9c179e\"], [0.4444444444444444, \"#bd3786\"], [0.5555555555555556, \"#d8576b\"], [0.6666666666666666, \"#ed7953\"], [0.7777777777777778, \"#fb9f3a\"], [0.8888888888888888, \"#fdca26\"], [1.0, \"#f0f921\"]]}, \"colorway\": [\"#636efa\", \"#EF553B\", \"#00cc96\", \"#ab63fa\", \"#FFA15A\", \"#19d3f3\", \"#FF6692\", \"#B6E880\", \"#FF97FF\", \"#FECB52\"], \"font\": {\"color\": \"#2a3f5f\"}, \"geo\": {\"bgcolor\": \"white\", \"lakecolor\": \"white\", \"landcolor\": \"#E5ECF6\", \"showlakes\": true, \"showland\": true, \"subunitcolor\": \"white\"}, \"hoverlabel\": {\"align\": \"left\"}, \"hovermode\": \"closest\", \"mapbox\": {\"style\": \"light\"}, \"paper_bgcolor\": \"white\", \"plot_bgcolor\": \"#E5ECF6\", \"polar\": {\"angularaxis\": {\"gridcolor\": \"white\", \"linecolor\": \"white\", \"ticks\": \"\"}, \"bgcolor\": \"#E5ECF6\", \"radialaxis\": {\"gridcolor\": \"white\", \"linecolor\": \"white\", \"ticks\": \"\"}}, \"scene\": {\"xaxis\": {\"backgroundcolor\": \"#E5ECF6\", \"gridcolor\": \"white\", \"gridwidth\": 2, \"linecolor\": \"white\", \"showbackground\": true, \"ticks\": \"\", \"zerolinecolor\": \"white\"}, \"yaxis\": {\"backgroundcolor\": \"#E5ECF6\", \"gridcolor\": \"white\", \"gridwidth\": 2, \"linecolor\": \"white\", \"showbackground\": true, \"ticks\": \"\", \"zerolinecolor\": \"white\"}, \"zaxis\": {\"backgroundcolor\": \"#E5ECF6\", \"gridcolor\": \"white\", \"gridwidth\": 2, \"linecolor\": \"white\", \"showbackground\": true, \"ticks\": \"\", \"zerolinecolor\": \"white\"}}, \"shapedefaults\": {\"line\": {\"color\": \"#2a3f5f\"}}, \"ternary\": {\"aaxis\": {\"gridcolor\": \"white\", \"linecolor\": \"white\", \"ticks\": \"\"}, \"baxis\": {\"gridcolor\": \"white\", \"linecolor\": \"white\", \"ticks\": \"\"}, \"bgcolor\": \"#E5ECF6\", \"caxis\": {\"gridcolor\": \"white\", \"linecolor\": \"white\", \"ticks\": \"\"}}, \"title\": {\"x\": 0.05}, \"xaxis\": {\"automargin\": true, \"gridcolor\": \"white\", \"linecolor\": \"white\", \"ticks\": \"\", \"title\": {\"standoff\": 15}, \"zerolinecolor\": \"white\", \"zerolinewidth\": 2}, \"yaxis\": {\"automargin\": true, \"gridcolor\": \"white\", \"linecolor\": \"white\", \"ticks\": \"\", \"title\": {\"standoff\": 15}, \"zerolinecolor\": \"white\", \"zerolinewidth\": 2}}}, \"title\": {\"font\": {\"color\": \"#4D5663\"}, \"text\": \"Post Text Word Count Distribution\"}, \"xaxis\": {\"gridcolor\": \"#E1E5ED\", \"linecolor\": \"black\", \"showgrid\": true, \"tickfont\": {\"color\": \"#4D5663\"}, \"title\": {\"font\": {\"color\": \"#4D5663\"}, \"text\": \"word count\"}, \"zerolinecolor\": \"#E1E5ED\"}, \"yaxis\": {\"gridcolor\": \"#E1E5ED\", \"linecolor\": \"black\", \"showgrid\": true, \"tickfont\": {\"color\": \"#4D5663\"}, \"title\": {\"font\": {\"color\": \"#4D5663\"}, \"text\": \"count\"}, \"zerolinecolor\": \"#E1E5ED\"}},\n",
       "                        {\"showLink\": true, \"linkText\": \"Export to plot.ly\", \"plotlyServerURL\": \"https://plot.ly\", \"responsive\": true}\n",
       "                    ).then(function(){\n",
       "                            \n",
       "var gd = document.getElementById('2296ae68-27c3-4311-ac28-0fbdbb7024a3');\n",
       "var x = new MutationObserver(function (mutations, observer) {{\n",
       "        var display = window.getComputedStyle(gd).display;\n",
       "        if (!display || display === 'none') {{\n",
       "            console.log([gd, 'removed!']);\n",
       "            Plotly.purge(gd);\n",
       "            observer.disconnect();\n",
       "        }}\n",
       "}});\n",
       "\n",
       "// Listen for the removal of the full notebook cells\n",
       "var notebookContainer = gd.closest('#notebook-container');\n",
       "if (notebookContainer) {{\n",
       "    x.observe(notebookContainer, {childList: true});\n",
       "}}\n",
       "\n",
       "// Listen for the clearing of the current output cell\n",
       "var outputEl = gd.closest('.output');\n",
       "if (outputEl) {{\n",
       "    x.observe(outputEl, {childList: true});\n",
       "}}\n",
       "\n",
       "                        })\n",
       "                };\n",
       "                });\n",
       "            </script>\n",
       "        </div>"
      ]
     },
     "metadata": {},
     "output_type": "display_data"
    }
   ],
   "source": [
    "df_ed['word_count'].iplot(\n",
    "    kind='hist',\n",
    "    bins=100,\n",
    "    xTitle='word count',\n",
    "    linecolor='black',\n",
    "    yTitle='count',\n",
    "    title='Post Text Word Count Distribution')"
   ]
  },
  {
   "cell_type": "code",
   "execution_count": 47,
   "metadata": {},
   "outputs": [],
   "source": [
    "##Word count ranges are not showing very high count level.Most of the words count in between 80-100"
   ]
  },
  {
   "cell_type": "code",
   "execution_count": 48,
   "metadata": {},
   "outputs": [
    {
     "data": {
      "application/vnd.plotly.v1+json": {
       "config": {
        "linkText": "Export to plot.ly",
        "plotlyServerURL": "https://plot.ly",
        "showLink": true
       },
       "data": [
        {
         "marker": {
          "color": "rgba(255, 153, 51, 0.8)",
          "line": {
           "color": "rgba(255, 153, 51, 1.0)",
           "width": 1
          }
         },
         "name": "selftext",
         "orientation": "v",
         "text": "",
         "type": "bar",
         "x": [
          0,
          1
         ],
         "y": [
          507,
          526
         ]
        }
       ],
       "layout": {
        "legend": {
         "bgcolor": "#F5F6F9",
         "font": {
          "color": "#4D5663"
         }
        },
        "paper_bgcolor": "#F5F6F9",
        "plot_bgcolor": "#F5F6F9",
        "template": {
         "data": {
          "bar": [
           {
            "error_x": {
             "color": "#2a3f5f"
            },
            "error_y": {
             "color": "#2a3f5f"
            },
            "marker": {
             "line": {
              "color": "#E5ECF6",
              "width": 0.5
             }
            },
            "type": "bar"
           }
          ],
          "barpolar": [
           {
            "marker": {
             "line": {
              "color": "#E5ECF6",
              "width": 0.5
             }
            },
            "type": "barpolar"
           }
          ],
          "carpet": [
           {
            "aaxis": {
             "endlinecolor": "#2a3f5f",
             "gridcolor": "white",
             "linecolor": "white",
             "minorgridcolor": "white",
             "startlinecolor": "#2a3f5f"
            },
            "baxis": {
             "endlinecolor": "#2a3f5f",
             "gridcolor": "white",
             "linecolor": "white",
             "minorgridcolor": "white",
             "startlinecolor": "#2a3f5f"
            },
            "type": "carpet"
           }
          ],
          "choropleth": [
           {
            "colorbar": {
             "outlinewidth": 0,
             "ticks": ""
            },
            "type": "choropleth"
           }
          ],
          "contour": [
           {
            "colorbar": {
             "outlinewidth": 0,
             "ticks": ""
            },
            "colorscale": [
             [
              0,
              "#0d0887"
             ],
             [
              0.1111111111111111,
              "#46039f"
             ],
             [
              0.2222222222222222,
              "#7201a8"
             ],
             [
              0.3333333333333333,
              "#9c179e"
             ],
             [
              0.4444444444444444,
              "#bd3786"
             ],
             [
              0.5555555555555556,
              "#d8576b"
             ],
             [
              0.6666666666666666,
              "#ed7953"
             ],
             [
              0.7777777777777778,
              "#fb9f3a"
             ],
             [
              0.8888888888888888,
              "#fdca26"
             ],
             [
              1,
              "#f0f921"
             ]
            ],
            "type": "contour"
           }
          ],
          "contourcarpet": [
           {
            "colorbar": {
             "outlinewidth": 0,
             "ticks": ""
            },
            "type": "contourcarpet"
           }
          ],
          "heatmap": [
           {
            "colorbar": {
             "outlinewidth": 0,
             "ticks": ""
            },
            "colorscale": [
             [
              0,
              "#0d0887"
             ],
             [
              0.1111111111111111,
              "#46039f"
             ],
             [
              0.2222222222222222,
              "#7201a8"
             ],
             [
              0.3333333333333333,
              "#9c179e"
             ],
             [
              0.4444444444444444,
              "#bd3786"
             ],
             [
              0.5555555555555556,
              "#d8576b"
             ],
             [
              0.6666666666666666,
              "#ed7953"
             ],
             [
              0.7777777777777778,
              "#fb9f3a"
             ],
             [
              0.8888888888888888,
              "#fdca26"
             ],
             [
              1,
              "#f0f921"
             ]
            ],
            "type": "heatmap"
           }
          ],
          "heatmapgl": [
           {
            "colorbar": {
             "outlinewidth": 0,
             "ticks": ""
            },
            "colorscale": [
             [
              0,
              "#0d0887"
             ],
             [
              0.1111111111111111,
              "#46039f"
             ],
             [
              0.2222222222222222,
              "#7201a8"
             ],
             [
              0.3333333333333333,
              "#9c179e"
             ],
             [
              0.4444444444444444,
              "#bd3786"
             ],
             [
              0.5555555555555556,
              "#d8576b"
             ],
             [
              0.6666666666666666,
              "#ed7953"
             ],
             [
              0.7777777777777778,
              "#fb9f3a"
             ],
             [
              0.8888888888888888,
              "#fdca26"
             ],
             [
              1,
              "#f0f921"
             ]
            ],
            "type": "heatmapgl"
           }
          ],
          "histogram": [
           {
            "marker": {
             "colorbar": {
              "outlinewidth": 0,
              "ticks": ""
             }
            },
            "type": "histogram"
           }
          ],
          "histogram2d": [
           {
            "colorbar": {
             "outlinewidth": 0,
             "ticks": ""
            },
            "colorscale": [
             [
              0,
              "#0d0887"
             ],
             [
              0.1111111111111111,
              "#46039f"
             ],
             [
              0.2222222222222222,
              "#7201a8"
             ],
             [
              0.3333333333333333,
              "#9c179e"
             ],
             [
              0.4444444444444444,
              "#bd3786"
             ],
             [
              0.5555555555555556,
              "#d8576b"
             ],
             [
              0.6666666666666666,
              "#ed7953"
             ],
             [
              0.7777777777777778,
              "#fb9f3a"
             ],
             [
              0.8888888888888888,
              "#fdca26"
             ],
             [
              1,
              "#f0f921"
             ]
            ],
            "type": "histogram2d"
           }
          ],
          "histogram2dcontour": [
           {
            "colorbar": {
             "outlinewidth": 0,
             "ticks": ""
            },
            "colorscale": [
             [
              0,
              "#0d0887"
             ],
             [
              0.1111111111111111,
              "#46039f"
             ],
             [
              0.2222222222222222,
              "#7201a8"
             ],
             [
              0.3333333333333333,
              "#9c179e"
             ],
             [
              0.4444444444444444,
              "#bd3786"
             ],
             [
              0.5555555555555556,
              "#d8576b"
             ],
             [
              0.6666666666666666,
              "#ed7953"
             ],
             [
              0.7777777777777778,
              "#fb9f3a"
             ],
             [
              0.8888888888888888,
              "#fdca26"
             ],
             [
              1,
              "#f0f921"
             ]
            ],
            "type": "histogram2dcontour"
           }
          ],
          "mesh3d": [
           {
            "colorbar": {
             "outlinewidth": 0,
             "ticks": ""
            },
            "type": "mesh3d"
           }
          ],
          "parcoords": [
           {
            "line": {
             "colorbar": {
              "outlinewidth": 0,
              "ticks": ""
             }
            },
            "type": "parcoords"
           }
          ],
          "pie": [
           {
            "automargin": true,
            "type": "pie"
           }
          ],
          "scatter": [
           {
            "marker": {
             "colorbar": {
              "outlinewidth": 0,
              "ticks": ""
             }
            },
            "type": "scatter"
           }
          ],
          "scatter3d": [
           {
            "line": {
             "colorbar": {
              "outlinewidth": 0,
              "ticks": ""
             }
            },
            "marker": {
             "colorbar": {
              "outlinewidth": 0,
              "ticks": ""
             }
            },
            "type": "scatter3d"
           }
          ],
          "scattercarpet": [
           {
            "marker": {
             "colorbar": {
              "outlinewidth": 0,
              "ticks": ""
             }
            },
            "type": "scattercarpet"
           }
          ],
          "scattergeo": [
           {
            "marker": {
             "colorbar": {
              "outlinewidth": 0,
              "ticks": ""
             }
            },
            "type": "scattergeo"
           }
          ],
          "scattergl": [
           {
            "marker": {
             "colorbar": {
              "outlinewidth": 0,
              "ticks": ""
             }
            },
            "type": "scattergl"
           }
          ],
          "scattermapbox": [
           {
            "marker": {
             "colorbar": {
              "outlinewidth": 0,
              "ticks": ""
             }
            },
            "type": "scattermapbox"
           }
          ],
          "scatterpolar": [
           {
            "marker": {
             "colorbar": {
              "outlinewidth": 0,
              "ticks": ""
             }
            },
            "type": "scatterpolar"
           }
          ],
          "scatterpolargl": [
           {
            "marker": {
             "colorbar": {
              "outlinewidth": 0,
              "ticks": ""
             }
            },
            "type": "scatterpolargl"
           }
          ],
          "scatterternary": [
           {
            "marker": {
             "colorbar": {
              "outlinewidth": 0,
              "ticks": ""
             }
            },
            "type": "scatterternary"
           }
          ],
          "surface": [
           {
            "colorbar": {
             "outlinewidth": 0,
             "ticks": ""
            },
            "colorscale": [
             [
              0,
              "#0d0887"
             ],
             [
              0.1111111111111111,
              "#46039f"
             ],
             [
              0.2222222222222222,
              "#7201a8"
             ],
             [
              0.3333333333333333,
              "#9c179e"
             ],
             [
              0.4444444444444444,
              "#bd3786"
             ],
             [
              0.5555555555555556,
              "#d8576b"
             ],
             [
              0.6666666666666666,
              "#ed7953"
             ],
             [
              0.7777777777777778,
              "#fb9f3a"
             ],
             [
              0.8888888888888888,
              "#fdca26"
             ],
             [
              1,
              "#f0f921"
             ]
            ],
            "type": "surface"
           }
          ],
          "table": [
           {
            "cells": {
             "fill": {
              "color": "#EBF0F8"
             },
             "line": {
              "color": "white"
             }
            },
            "header": {
             "fill": {
              "color": "#C8D4E3"
             },
             "line": {
              "color": "white"
             }
            },
            "type": "table"
           }
          ]
         },
         "layout": {
          "annotationdefaults": {
           "arrowcolor": "#2a3f5f",
           "arrowhead": 0,
           "arrowwidth": 1
          },
          "coloraxis": {
           "colorbar": {
            "outlinewidth": 0,
            "ticks": ""
           }
          },
          "colorscale": {
           "diverging": [
            [
             0,
             "#8e0152"
            ],
            [
             0.1,
             "#c51b7d"
            ],
            [
             0.2,
             "#de77ae"
            ],
            [
             0.3,
             "#f1b6da"
            ],
            [
             0.4,
             "#fde0ef"
            ],
            [
             0.5,
             "#f7f7f7"
            ],
            [
             0.6,
             "#e6f5d0"
            ],
            [
             0.7,
             "#b8e186"
            ],
            [
             0.8,
             "#7fbc41"
            ],
            [
             0.9,
             "#4d9221"
            ],
            [
             1,
             "#276419"
            ]
           ],
           "sequential": [
            [
             0,
             "#0d0887"
            ],
            [
             0.1111111111111111,
             "#46039f"
            ],
            [
             0.2222222222222222,
             "#7201a8"
            ],
            [
             0.3333333333333333,
             "#9c179e"
            ],
            [
             0.4444444444444444,
             "#bd3786"
            ],
            [
             0.5555555555555556,
             "#d8576b"
            ],
            [
             0.6666666666666666,
             "#ed7953"
            ],
            [
             0.7777777777777778,
             "#fb9f3a"
            ],
            [
             0.8888888888888888,
             "#fdca26"
            ],
            [
             1,
             "#f0f921"
            ]
           ],
           "sequentialminus": [
            [
             0,
             "#0d0887"
            ],
            [
             0.1111111111111111,
             "#46039f"
            ],
            [
             0.2222222222222222,
             "#7201a8"
            ],
            [
             0.3333333333333333,
             "#9c179e"
            ],
            [
             0.4444444444444444,
             "#bd3786"
            ],
            [
             0.5555555555555556,
             "#d8576b"
            ],
            [
             0.6666666666666666,
             "#ed7953"
            ],
            [
             0.7777777777777778,
             "#fb9f3a"
            ],
            [
             0.8888888888888888,
             "#fdca26"
            ],
            [
             1,
             "#f0f921"
            ]
           ]
          },
          "colorway": [
           "#636efa",
           "#EF553B",
           "#00cc96",
           "#ab63fa",
           "#FFA15A",
           "#19d3f3",
           "#FF6692",
           "#B6E880",
           "#FF97FF",
           "#FECB52"
          ],
          "font": {
           "color": "#2a3f5f"
          },
          "geo": {
           "bgcolor": "white",
           "lakecolor": "white",
           "landcolor": "#E5ECF6",
           "showlakes": true,
           "showland": true,
           "subunitcolor": "white"
          },
          "hoverlabel": {
           "align": "left"
          },
          "hovermode": "closest",
          "mapbox": {
           "style": "light"
          },
          "paper_bgcolor": "white",
          "plot_bgcolor": "#E5ECF6",
          "polar": {
           "angularaxis": {
            "gridcolor": "white",
            "linecolor": "white",
            "ticks": ""
           },
           "bgcolor": "#E5ECF6",
           "radialaxis": {
            "gridcolor": "white",
            "linecolor": "white",
            "ticks": ""
           }
          },
          "scene": {
           "xaxis": {
            "backgroundcolor": "#E5ECF6",
            "gridcolor": "white",
            "gridwidth": 2,
            "linecolor": "white",
            "showbackground": true,
            "ticks": "",
            "zerolinecolor": "white"
           },
           "yaxis": {
            "backgroundcolor": "#E5ECF6",
            "gridcolor": "white",
            "gridwidth": 2,
            "linecolor": "white",
            "showbackground": true,
            "ticks": "",
            "zerolinecolor": "white"
           },
           "zaxis": {
            "backgroundcolor": "#E5ECF6",
            "gridcolor": "white",
            "gridwidth": 2,
            "linecolor": "white",
            "showbackground": true,
            "ticks": "",
            "zerolinecolor": "white"
           }
          },
          "shapedefaults": {
           "line": {
            "color": "#2a3f5f"
           }
          },
          "ternary": {
           "aaxis": {
            "gridcolor": "white",
            "linecolor": "white",
            "ticks": ""
           },
           "baxis": {
            "gridcolor": "white",
            "linecolor": "white",
            "ticks": ""
           },
           "bgcolor": "#E5ECF6",
           "caxis": {
            "gridcolor": "white",
            "linecolor": "white",
            "ticks": ""
           }
          },
          "title": {
           "x": 0.05
          },
          "xaxis": {
           "automargin": true,
           "gridcolor": "white",
           "linecolor": "white",
           "ticks": "",
           "title": {
            "standoff": 15
           },
           "zerolinecolor": "white",
           "zerolinewidth": 2
          },
          "yaxis": {
           "automargin": true,
           "gridcolor": "white",
           "linecolor": "white",
           "ticks": "",
           "title": {
            "standoff": 15
           },
           "zerolinecolor": "white",
           "zerolinewidth": 2
          }
         }
        },
        "title": {
         "font": {
          "color": "#4D5663"
         },
         "text": "Bar chart of subreddit "
        },
        "xaxis": {
         "gridcolor": "#E1E5ED",
         "linecolor": "black",
         "showgrid": true,
         "tickfont": {
          "color": "#4D5663"
         },
         "title": {
          "font": {
           "color": "#4D5663"
          },
          "text": "Subreddit Name"
         },
         "zerolinecolor": "#E1E5ED"
        },
        "yaxis": {
         "gridcolor": "#E1E5ED",
         "linecolor": "black",
         "showgrid": true,
         "tickfont": {
          "color": "#4D5663"
         },
         "title": {
          "font": {
           "color": "#4D5663"
          },
          "text": "Count"
         },
         "zerolinecolor": "#E1E5ED"
        }
       }
      },
      "text/html": [
       "<div>\n",
       "        \n",
       "        \n",
       "            <div id=\"7912fbf5-1f35-4d88-94e5-e85dd3166a58\" class=\"plotly-graph-div\" style=\"height:525px; width:100%;\"></div>\n",
       "            <script type=\"text/javascript\">\n",
       "                require([\"plotly\"], function(Plotly) {\n",
       "                    window.PLOTLYENV=window.PLOTLYENV || {};\n",
       "                    window.PLOTLYENV.BASE_URL='https://plot.ly';\n",
       "                    \n",
       "                if (document.getElementById(\"7912fbf5-1f35-4d88-94e5-e85dd3166a58\")) {\n",
       "                    Plotly.newPlot(\n",
       "                        '7912fbf5-1f35-4d88-94e5-e85dd3166a58',\n",
       "                        [{\"marker\": {\"color\": \"rgba(255, 153, 51, 0.8)\", \"line\": {\"color\": \"rgba(255, 153, 51, 1.0)\", \"width\": 1}}, \"name\": \"selftext\", \"orientation\": \"v\", \"text\": \"\", \"type\": \"bar\", \"x\": [0, 1], \"y\": [507, 526]}],\n",
       "                        {\"legend\": {\"bgcolor\": \"#F5F6F9\", \"font\": {\"color\": \"#4D5663\"}}, \"paper_bgcolor\": \"#F5F6F9\", \"plot_bgcolor\": \"#F5F6F9\", \"template\": {\"data\": {\"bar\": [{\"error_x\": {\"color\": \"#2a3f5f\"}, \"error_y\": {\"color\": \"#2a3f5f\"}, \"marker\": {\"line\": {\"color\": \"#E5ECF6\", \"width\": 0.5}}, \"type\": \"bar\"}], \"barpolar\": [{\"marker\": {\"line\": {\"color\": \"#E5ECF6\", \"width\": 0.5}}, \"type\": \"barpolar\"}], \"carpet\": [{\"aaxis\": {\"endlinecolor\": \"#2a3f5f\", \"gridcolor\": \"white\", \"linecolor\": \"white\", \"minorgridcolor\": \"white\", \"startlinecolor\": \"#2a3f5f\"}, \"baxis\": {\"endlinecolor\": \"#2a3f5f\", \"gridcolor\": \"white\", \"linecolor\": \"white\", \"minorgridcolor\": \"white\", \"startlinecolor\": \"#2a3f5f\"}, \"type\": \"carpet\"}], \"choropleth\": [{\"colorbar\": {\"outlinewidth\": 0, \"ticks\": \"\"}, \"type\": \"choropleth\"}], \"contour\": [{\"colorbar\": {\"outlinewidth\": 0, \"ticks\": \"\"}, \"colorscale\": [[0.0, \"#0d0887\"], [0.1111111111111111, \"#46039f\"], [0.2222222222222222, \"#7201a8\"], [0.3333333333333333, \"#9c179e\"], [0.4444444444444444, \"#bd3786\"], [0.5555555555555556, \"#d8576b\"], [0.6666666666666666, \"#ed7953\"], [0.7777777777777778, \"#fb9f3a\"], [0.8888888888888888, \"#fdca26\"], [1.0, \"#f0f921\"]], \"type\": \"contour\"}], \"contourcarpet\": [{\"colorbar\": {\"outlinewidth\": 0, \"ticks\": \"\"}, \"type\": \"contourcarpet\"}], \"heatmap\": [{\"colorbar\": {\"outlinewidth\": 0, \"ticks\": \"\"}, \"colorscale\": [[0.0, \"#0d0887\"], [0.1111111111111111, \"#46039f\"], [0.2222222222222222, \"#7201a8\"], [0.3333333333333333, \"#9c179e\"], [0.4444444444444444, \"#bd3786\"], [0.5555555555555556, \"#d8576b\"], [0.6666666666666666, \"#ed7953\"], [0.7777777777777778, \"#fb9f3a\"], [0.8888888888888888, \"#fdca26\"], [1.0, \"#f0f921\"]], \"type\": \"heatmap\"}], \"heatmapgl\": [{\"colorbar\": {\"outlinewidth\": 0, \"ticks\": \"\"}, \"colorscale\": [[0.0, \"#0d0887\"], [0.1111111111111111, \"#46039f\"], [0.2222222222222222, \"#7201a8\"], [0.3333333333333333, \"#9c179e\"], [0.4444444444444444, \"#bd3786\"], [0.5555555555555556, \"#d8576b\"], [0.6666666666666666, \"#ed7953\"], [0.7777777777777778, \"#fb9f3a\"], [0.8888888888888888, \"#fdca26\"], [1.0, \"#f0f921\"]], \"type\": \"heatmapgl\"}], \"histogram\": [{\"marker\": {\"colorbar\": {\"outlinewidth\": 0, \"ticks\": \"\"}}, \"type\": \"histogram\"}], \"histogram2d\": [{\"colorbar\": {\"outlinewidth\": 0, \"ticks\": \"\"}, \"colorscale\": [[0.0, \"#0d0887\"], [0.1111111111111111, \"#46039f\"], [0.2222222222222222, \"#7201a8\"], [0.3333333333333333, \"#9c179e\"], [0.4444444444444444, \"#bd3786\"], [0.5555555555555556, \"#d8576b\"], [0.6666666666666666, \"#ed7953\"], [0.7777777777777778, \"#fb9f3a\"], [0.8888888888888888, \"#fdca26\"], [1.0, \"#f0f921\"]], \"type\": \"histogram2d\"}], \"histogram2dcontour\": [{\"colorbar\": {\"outlinewidth\": 0, \"ticks\": \"\"}, \"colorscale\": [[0.0, \"#0d0887\"], [0.1111111111111111, \"#46039f\"], [0.2222222222222222, \"#7201a8\"], [0.3333333333333333, \"#9c179e\"], [0.4444444444444444, \"#bd3786\"], [0.5555555555555556, \"#d8576b\"], [0.6666666666666666, \"#ed7953\"], [0.7777777777777778, \"#fb9f3a\"], [0.8888888888888888, \"#fdca26\"], [1.0, \"#f0f921\"]], \"type\": \"histogram2dcontour\"}], \"mesh3d\": [{\"colorbar\": {\"outlinewidth\": 0, \"ticks\": \"\"}, \"type\": \"mesh3d\"}], \"parcoords\": [{\"line\": {\"colorbar\": {\"outlinewidth\": 0, \"ticks\": \"\"}}, \"type\": \"parcoords\"}], \"pie\": [{\"automargin\": true, \"type\": \"pie\"}], \"scatter\": [{\"marker\": {\"colorbar\": {\"outlinewidth\": 0, \"ticks\": \"\"}}, \"type\": \"scatter\"}], \"scatter3d\": [{\"line\": {\"colorbar\": {\"outlinewidth\": 0, \"ticks\": \"\"}}, \"marker\": {\"colorbar\": {\"outlinewidth\": 0, \"ticks\": \"\"}}, \"type\": \"scatter3d\"}], \"scattercarpet\": [{\"marker\": {\"colorbar\": {\"outlinewidth\": 0, \"ticks\": \"\"}}, \"type\": \"scattercarpet\"}], \"scattergeo\": [{\"marker\": {\"colorbar\": {\"outlinewidth\": 0, \"ticks\": \"\"}}, \"type\": \"scattergeo\"}], \"scattergl\": [{\"marker\": {\"colorbar\": {\"outlinewidth\": 0, \"ticks\": \"\"}}, \"type\": \"scattergl\"}], \"scattermapbox\": [{\"marker\": {\"colorbar\": {\"outlinewidth\": 0, \"ticks\": \"\"}}, \"type\": \"scattermapbox\"}], \"scatterpolar\": [{\"marker\": {\"colorbar\": {\"outlinewidth\": 0, \"ticks\": \"\"}}, \"type\": \"scatterpolar\"}], \"scatterpolargl\": [{\"marker\": {\"colorbar\": {\"outlinewidth\": 0, \"ticks\": \"\"}}, \"type\": \"scatterpolargl\"}], \"scatterternary\": [{\"marker\": {\"colorbar\": {\"outlinewidth\": 0, \"ticks\": \"\"}}, \"type\": \"scatterternary\"}], \"surface\": [{\"colorbar\": {\"outlinewidth\": 0, \"ticks\": \"\"}, \"colorscale\": [[0.0, \"#0d0887\"], [0.1111111111111111, \"#46039f\"], [0.2222222222222222, \"#7201a8\"], [0.3333333333333333, \"#9c179e\"], [0.4444444444444444, \"#bd3786\"], [0.5555555555555556, \"#d8576b\"], [0.6666666666666666, \"#ed7953\"], [0.7777777777777778, \"#fb9f3a\"], [0.8888888888888888, \"#fdca26\"], [1.0, \"#f0f921\"]], \"type\": \"surface\"}], \"table\": [{\"cells\": {\"fill\": {\"color\": \"#EBF0F8\"}, \"line\": {\"color\": \"white\"}}, \"header\": {\"fill\": {\"color\": \"#C8D4E3\"}, \"line\": {\"color\": \"white\"}}, \"type\": \"table\"}]}, \"layout\": {\"annotationdefaults\": {\"arrowcolor\": \"#2a3f5f\", \"arrowhead\": 0, \"arrowwidth\": 1}, \"coloraxis\": {\"colorbar\": {\"outlinewidth\": 0, \"ticks\": \"\"}}, \"colorscale\": {\"diverging\": [[0, \"#8e0152\"], [0.1, \"#c51b7d\"], [0.2, \"#de77ae\"], [0.3, \"#f1b6da\"], [0.4, \"#fde0ef\"], [0.5, \"#f7f7f7\"], [0.6, \"#e6f5d0\"], [0.7, \"#b8e186\"], [0.8, \"#7fbc41\"], [0.9, \"#4d9221\"], [1, \"#276419\"]], \"sequential\": [[0.0, \"#0d0887\"], [0.1111111111111111, \"#46039f\"], [0.2222222222222222, \"#7201a8\"], [0.3333333333333333, \"#9c179e\"], [0.4444444444444444, \"#bd3786\"], [0.5555555555555556, \"#d8576b\"], [0.6666666666666666, \"#ed7953\"], [0.7777777777777778, \"#fb9f3a\"], [0.8888888888888888, \"#fdca26\"], [1.0, \"#f0f921\"]], \"sequentialminus\": [[0.0, \"#0d0887\"], [0.1111111111111111, \"#46039f\"], [0.2222222222222222, \"#7201a8\"], [0.3333333333333333, \"#9c179e\"], [0.4444444444444444, \"#bd3786\"], [0.5555555555555556, \"#d8576b\"], [0.6666666666666666, \"#ed7953\"], [0.7777777777777778, \"#fb9f3a\"], [0.8888888888888888, \"#fdca26\"], [1.0, \"#f0f921\"]]}, \"colorway\": [\"#636efa\", \"#EF553B\", \"#00cc96\", \"#ab63fa\", \"#FFA15A\", \"#19d3f3\", \"#FF6692\", \"#B6E880\", \"#FF97FF\", \"#FECB52\"], \"font\": {\"color\": \"#2a3f5f\"}, \"geo\": {\"bgcolor\": \"white\", \"lakecolor\": \"white\", \"landcolor\": \"#E5ECF6\", \"showlakes\": true, \"showland\": true, \"subunitcolor\": \"white\"}, \"hoverlabel\": {\"align\": \"left\"}, \"hovermode\": \"closest\", \"mapbox\": {\"style\": \"light\"}, \"paper_bgcolor\": \"white\", \"plot_bgcolor\": \"#E5ECF6\", \"polar\": {\"angularaxis\": {\"gridcolor\": \"white\", \"linecolor\": \"white\", \"ticks\": \"\"}, \"bgcolor\": \"#E5ECF6\", \"radialaxis\": {\"gridcolor\": \"white\", \"linecolor\": \"white\", \"ticks\": \"\"}}, \"scene\": {\"xaxis\": {\"backgroundcolor\": \"#E5ECF6\", \"gridcolor\": \"white\", \"gridwidth\": 2, \"linecolor\": \"white\", \"showbackground\": true, \"ticks\": \"\", \"zerolinecolor\": \"white\"}, \"yaxis\": {\"backgroundcolor\": \"#E5ECF6\", \"gridcolor\": \"white\", \"gridwidth\": 2, \"linecolor\": \"white\", \"showbackground\": true, \"ticks\": \"\", \"zerolinecolor\": \"white\"}, \"zaxis\": {\"backgroundcolor\": \"#E5ECF6\", \"gridcolor\": \"white\", \"gridwidth\": 2, \"linecolor\": \"white\", \"showbackground\": true, \"ticks\": \"\", \"zerolinecolor\": \"white\"}}, \"shapedefaults\": {\"line\": {\"color\": \"#2a3f5f\"}}, \"ternary\": {\"aaxis\": {\"gridcolor\": \"white\", \"linecolor\": \"white\", \"ticks\": \"\"}, \"baxis\": {\"gridcolor\": \"white\", \"linecolor\": \"white\", \"ticks\": \"\"}, \"bgcolor\": \"#E5ECF6\", \"caxis\": {\"gridcolor\": \"white\", \"linecolor\": \"white\", \"ticks\": \"\"}}, \"title\": {\"x\": 0.05}, \"xaxis\": {\"automargin\": true, \"gridcolor\": \"white\", \"linecolor\": \"white\", \"ticks\": \"\", \"title\": {\"standoff\": 15}, \"zerolinecolor\": \"white\", \"zerolinewidth\": 2}, \"yaxis\": {\"automargin\": true, \"gridcolor\": \"white\", \"linecolor\": \"white\", \"ticks\": \"\", \"title\": {\"standoff\": 15}, \"zerolinecolor\": \"white\", \"zerolinewidth\": 2}}}, \"title\": {\"font\": {\"color\": \"#4D5663\"}, \"text\": \"Bar chart of subreddit \"}, \"xaxis\": {\"gridcolor\": \"#E1E5ED\", \"linecolor\": \"black\", \"showgrid\": true, \"tickfont\": {\"color\": \"#4D5663\"}, \"title\": {\"font\": {\"color\": \"#4D5663\"}, \"text\": \"Subreddit Name\"}, \"zerolinecolor\": \"#E1E5ED\"}, \"yaxis\": {\"gridcolor\": \"#E1E5ED\", \"linecolor\": \"black\", \"showgrid\": true, \"tickfont\": {\"color\": \"#4D5663\"}, \"title\": {\"font\": {\"color\": \"#4D5663\"}, \"text\": \"Count\"}, \"zerolinecolor\": \"#E1E5ED\"}},\n",
       "                        {\"showLink\": true, \"linkText\": \"Export to plot.ly\", \"plotlyServerURL\": \"https://plot.ly\", \"responsive\": true}\n",
       "                    ).then(function(){\n",
       "                            \n",
       "var gd = document.getElementById('7912fbf5-1f35-4d88-94e5-e85dd3166a58');\n",
       "var x = new MutationObserver(function (mutations, observer) {{\n",
       "        var display = window.getComputedStyle(gd).display;\n",
       "        if (!display || display === 'none') {{\n",
       "            console.log([gd, 'removed!']);\n",
       "            Plotly.purge(gd);\n",
       "            observer.disconnect();\n",
       "        }}\n",
       "}});\n",
       "\n",
       "// Listen for the removal of the full notebook cells\n",
       "var notebookContainer = gd.closest('#notebook-container');\n",
       "if (notebookContainer) {{\n",
       "    x.observe(notebookContainer, {childList: true});\n",
       "}}\n",
       "\n",
       "// Listen for the clearing of the current output cell\n",
       "var outputEl = gd.closest('.output');\n",
       "if (outputEl) {{\n",
       "    x.observe(outputEl, {childList: true});\n",
       "}}\n",
       "\n",
       "                        })\n",
       "                };\n",
       "                });\n",
       "            </script>\n",
       "        </div>"
      ]
     },
     "metadata": {},
     "output_type": "display_data"
    }
   ],
   "source": [
    "df_ed.groupby('subreddit').count()['selftext'].iplot(kind='bar', yTitle='Count', linecolor='black', opacity=0.8,\n",
    "                                                           title='Bar chart of subreddit ', xTitle='Subreddit Name')"
   ]
  },
  {
   "cell_type": "code",
   "execution_count": 49,
   "metadata": {},
   "outputs": [
    {
     "data": {
      "text/html": [
       "<div>\n",
       "<style scoped>\n",
       "    .dataframe tbody tr th:only-of-type {\n",
       "        vertical-align: middle;\n",
       "    }\n",
       "\n",
       "    .dataframe tbody tr th {\n",
       "        vertical-align: top;\n",
       "    }\n",
       "\n",
       "    .dataframe thead th {\n",
       "        text-align: right;\n",
       "    }\n",
       "</style>\n",
       "<table border=\"1\" class=\"dataframe\">\n",
       "  <thead>\n",
       "    <tr style=\"text-align: right;\">\n",
       "      <th></th>\n",
       "      <th>subreddit</th>\n",
       "      <th>selftext</th>\n",
       "      <th>title</th>\n",
       "      <th>polarity</th>\n",
       "      <th>text_len</th>\n",
       "      <th>word_count</th>\n",
       "    </tr>\n",
       "  </thead>\n",
       "  <tbody>\n",
       "    <tr>\n",
       "      <th>0</th>\n",
       "      <td>0</td>\n",
       "      <td>Full disclosure - I'm not fully aware of all the OT lore in the comics/canon books. After seeing the Clone Wars finale and knowing that Ahsoka was alive past ROTJ - is it possible that she met with and helped train Luke between ESB and ROTJ?Luke levels up quite a bit between those movies and I don't think he is trained by Yoda during that time (unless there is some other non-film canon explanation for how he gets so much better with the force.)It would be sweet to see them interact somehow, or with some of the other OT/ST characters. Can't wait to see what they do with her in live action.</td>\n",
       "      <td>Theory: Does Ahsoka help train Luke?</td>\n",
       "      <td>0.116942</td>\n",
       "      <td>595</td>\n",
       "      <td>112</td>\n",
       "    </tr>\n",
       "    <tr>\n",
       "      <th>1</th>\n",
       "      <td>0</td>\n",
       "      <td>With baby yoda seeming to have a significant purpose, where will his place be in the next hundreds of years? With The sky walker saga being done it sounds like the main story line will not continue into the future. What will baby yoda purpose be? Will his life get cut short?Will Ezra and baby yoda end up being the future of the Jedi or Sith?Or will Mando and baby yoda lead the rise of mandalorians and build a new found friendshipWe can guess Ashoka is dead based on the voice in rise of sky Walker so where will the future be</td>\n",
       "      <td>What wil baby yoda end up being</td>\n",
       "      <td>0.059754</td>\n",
       "      <td>529</td>\n",
       "      <td>102</td>\n",
       "    </tr>\n",
       "    <tr>\n",
       "      <th>2</th>\n",
       "      <td>0</td>\n",
       "      <td>The show starts showing two figures laughing and talking around a table, we can't hear them talking, just see their movements. The image focuses and it shows that these figures are obi wan and Anakin(Hayden Christensen) and they're on naboo. They both turn their head and a young boy runs up to Anakin and the camera pans over to padme walking in with a young girl. Obi wan looks up at her and smiles but then we hear a loud wind and the room goes dark. We're suddenly on tatooine with a worn down obi wan who just had his fire blown out and was hit in the face with some sand. He wipes his face off and says \"I hate sand\" as the camera cuts away and the opening credits/theme plays.</td>\n",
       "      <td>Had a dream last night after watching ROTS as to how the new Kenobi show should open</td>\n",
       "      <td>-0.140556</td>\n",
       "      <td>683</td>\n",
       "      <td>132</td>\n",
       "    </tr>\n",
       "    <tr>\n",
       "      <th>3</th>\n",
       "      <td>0</td>\n",
       "      <td>Post contains spoilers for Star Wars Rebels and Clone Wars!I've been seeing a lot of hate towards rebels recently, specifically the art, however, there are others commenting on the \"trash plot\", \"dull characters\" and a range of other criticism which I personally feel the show doesn't deserve.Rebels is still Star Wars and it's a great piece of canon that really helps show what the empires reign was like in the early years. It is packed with exciting moments that are arguably more memorable than a lot of the memorable moments in the clone wars (with exception of season 7), such as Ahsoka vs Vader or Ezra and Thrawn disappearing into the outer rim somewhere and especially the development and final moments of Maul. Rebels art style isn't even that bad, it's just not as good as the clone wars. The only major flaws in the artwork was Yoda, Hondo, Anakin and Bo, Everything else was fine if not good. Rebels was our first \"Canon\" introduction to how brutal Vader was in the time between ROT...</td>\n",
       "      <td>Rebels is still a good show despite its faults.</td>\n",
       "      <td>0.030613</td>\n",
       "      <td>1520</td>\n",
       "      <td>270</td>\n",
       "    </tr>\n",
       "    <tr>\n",
       "      <th>4</th>\n",
       "      <td>0</td>\n",
       "      <td>I once had a friend claim that Maul is just as evil, if not, MORE evil than old Sheev. I pondered that notion, but had to disagree. Here's why:Maul knew nothing besides violence and bloodshed from the day he was born. He grew up on the ruthless planet of Dathomir, and was recruited by Sidious at a young age. The ways of the Sith melded naturally with the warrior ways of male Dathomirian tribes. He never really had a chance to be anything but a killing machine. He grew to tfavor the Dark Side because it granted him the ability to reach the top of any hierarchy he desired, crowning him as the alpha among all of his peers.Contrarily, Sidious was raised in a Royal family on the peaceful planet of Naboo. He was naturally drawn to positions of power, and sought out knowledge of the mythical Sith. He initially wasn't influenced by any outside force. He just thirsted for power. He wanted to sculpt the galaxy how he saw fit. Darth Plagueis discovered him because of his immense Force sensit...</td>\n",
       "      <td>Is Darth Maul as evil as Darth Sidious?</td>\n",
       "      <td>0.016757</td>\n",
       "      <td>2518</td>\n",
       "      <td>444</td>\n",
       "    </tr>\n",
       "  </tbody>\n",
       "</table>\n",
       "</div>"
      ],
      "text/plain": [
       "   subreddit  \\\n",
       "0          0   \n",
       "1          0   \n",
       "2          0   \n",
       "3          0   \n",
       "4          0   \n",
       "\n",
       "                                                                                                                                                                                                                                                                                                                                                                                                                                                                                                                                                                                                                                                                                                                                                                                                                                                                                                                                                                                                                                 selftext  \\\n",
       "0                                                                                                                                                                                                                                                                                                                                                                                                                     Full disclosure - I'm not fully aware of all the OT lore in the comics/canon books. After seeing the Clone Wars finale and knowing that Ahsoka was alive past ROTJ - is it possible that she met with and helped train Luke between ESB and ROTJ?Luke levels up quite a bit between those movies and I don't think he is trained by Yoda during that time (unless there is some other non-film canon explanation for how he gets so much better with the force.)It would be sweet to see them interact somehow, or with some of the other OT/ST characters. Can't wait to see what they do with her in live action.   \n",
       "1                                                                                                                                                                                                                                                                                                                                                                                                                                                                                       With baby yoda seeming to have a significant purpose, where will his place be in the next hundreds of years? With The sky walker saga being done it sounds like the main story line will not continue into the future. What will baby yoda purpose be? Will his life get cut short?Will Ezra and baby yoda end up being the future of the Jedi or Sith?Or will Mando and baby yoda lead the rise of mandalorians and build a new found friendshipWe can guess Ashoka is dead based on the voice in rise of sky Walker so where will the future be   \n",
       "2                                                                                                                                                                                                                                                                                                                             The show starts showing two figures laughing and talking around a table, we can't hear them talking, just see their movements. The image focuses and it shows that these figures are obi wan and Anakin(Hayden Christensen) and they're on naboo. They both turn their head and a young boy runs up to Anakin and the camera pans over to padme walking in with a young girl. Obi wan looks up at her and smiles but then we hear a loud wind and the room goes dark. We're suddenly on tatooine with a worn down obi wan who just had his fire blown out and was hit in the face with some sand. He wipes his face off and says \"I hate sand\" as the camera cuts away and the opening credits/theme plays.   \n",
       "3  Post contains spoilers for Star Wars Rebels and Clone Wars!I've been seeing a lot of hate towards rebels recently, specifically the art, however, there are others commenting on the \"trash plot\", \"dull characters\" and a range of other criticism which I personally feel the show doesn't deserve.Rebels is still Star Wars and it's a great piece of canon that really helps show what the empires reign was like in the early years. It is packed with exciting moments that are arguably more memorable than a lot of the memorable moments in the clone wars (with exception of season 7), such as Ahsoka vs Vader or Ezra and Thrawn disappearing into the outer rim somewhere and especially the development and final moments of Maul. Rebels art style isn't even that bad, it's just not as good as the clone wars. The only major flaws in the artwork was Yoda, Hondo, Anakin and Bo, Everything else was fine if not good. Rebels was our first \"Canon\" introduction to how brutal Vader was in the time between ROT...   \n",
       "4  I once had a friend claim that Maul is just as evil, if not, MORE evil than old Sheev. I pondered that notion, but had to disagree. Here's why:Maul knew nothing besides violence and bloodshed from the day he was born. He grew up on the ruthless planet of Dathomir, and was recruited by Sidious at a young age. The ways of the Sith melded naturally with the warrior ways of male Dathomirian tribes. He never really had a chance to be anything but a killing machine. He grew to tfavor the Dark Side because it granted him the ability to reach the top of any hierarchy he desired, crowning him as the alpha among all of his peers.Contrarily, Sidious was raised in a Royal family on the peaceful planet of Naboo. He was naturally drawn to positions of power, and sought out knowledge of the mythical Sith. He initially wasn't influenced by any outside force. He just thirsted for power. He wanted to sculpt the galaxy how he saw fit. Darth Plagueis discovered him because of his immense Force sensit...   \n",
       "\n",
       "                                                                                  title  \\\n",
       "0                                                  Theory: Does Ahsoka help train Luke?   \n",
       "1                                                       What wil baby yoda end up being   \n",
       "2  Had a dream last night after watching ROTS as to how the new Kenobi show should open   \n",
       "3                                       Rebels is still a good show despite its faults.   \n",
       "4                                               Is Darth Maul as evil as Darth Sidious?   \n",
       "\n",
       "   polarity  text_len  word_count  \n",
       "0  0.116942       595         112  \n",
       "1  0.059754       529         102  \n",
       "2 -0.140556       683         132  \n",
       "3  0.030613      1520         270  \n",
       "4  0.016757      2518         444  "
      ]
     },
     "execution_count": 49,
     "metadata": {},
     "output_type": "execute_result"
    }
   ],
   "source": [
    "df_ed.head()"
   ]
  },
  {
   "cell_type": "code",
   "execution_count": 50,
   "metadata": {},
   "outputs": [],
   "source": [
    "filtered_words=df_ed['title'].apply(lambda x: ' '.join([word for word in x.split() if word not in stopwords.words('english')]))\n",
    "\n",
    "bagsofwords_1 = [ collections.Counter(re.findall(r'\\w+', txt)) for txt in filtered_words]\n",
    "sumbags = sum(bagsofwords_1, collections.Counter())"
   ]
  },
  {
   "cell_type": "code",
   "execution_count": 51,
   "metadata": {},
   "outputs": [],
   "source": [
    "A=pd.Series.to_string(filtered_words)\n",
    "tagged_sent = pos_tag(A.split())\n",
    "propernouns = [word for word,pos in tagged_sent if pos == 'NNP']\n",
    "\n",
    "propernouns_count=Counter(propernouns)"
   ]
  },
  {
   "cell_type": "code",
   "execution_count": 52,
   "metadata": {},
   "outputs": [
    {
     "data": {
      "image/png": "[encoded data removed]",
      "text/plain": [
       "<Figure size 576x576 with 1 Axes>"
      ]
     },
     "metadata": {
      "needs_background": "light"
     },
     "output_type": "display_data"
    }
   ],
   "source": [
    "most_common_100 = propernouns_count.most_common(101)\n",
    "most_common_100 = pd.DataFrame(most_common_100)\n",
    "most_common_100 = most_common_100.drop(most_common_100.index[1])\n",
    "most_common_100 = most_common_100.drop(most_common_100.index[38])\n",
    "\n",
    "most_common_100.rename(columns={0:'text',1:'score'},inplace=True)\n",
    "wordcloud1 = WordCloud(background_color='white', width=3000, height=2500).generate(' '.join(most_common_100['text']))\n",
    "\n",
    "plt.figure(1,figsize=(8,8))\n",
    "plt.imshow(wordcloud1)\n",
    "plt.axis('off')\n",
    "plt.show()"
   ]
  },
  {
   "cell_type": "code",
   "execution_count": 53,
   "metadata": {},
   "outputs": [],
   "source": [
    "##Wordcloud -top 100 words taking from both the clouds to visualize the words"
   ]
  },
  {
   "cell_type": "code",
   "execution_count": 54,
   "metadata": {},
   "outputs": [
    {
     "data": {
      "text/plain": [
       "<1033x2530 sparse matrix of type '<class 'numpy.int64'>'\n",
       "\twith 61427 stored elements in Compressed Sparse Row format>"
      ]
     },
     "execution_count": 54,
     "metadata": {},
     "output_type": "execute_result"
    }
   ],
   "source": [
    "custom_stop = list(ENGLISH_STOP_WORDS)\n",
    "cv = CountVectorizer(stop_words = custom_stop, min_df = 6)\n",
    "X_cv = cv.fit_transform(df_ed['selftext'])\n",
    "X_cv"
   ]
  },
  {
   "cell_type": "code",
   "execution_count": 55,
   "metadata": {},
   "outputs": [
    {
     "data": {
      "text/html": [
       "<div>\n",
       "<style scoped>\n",
       "    .dataframe tbody tr th:only-of-type {\n",
       "        vertical-align: middle;\n",
       "    }\n",
       "\n",
       "    .dataframe tbody tr th {\n",
       "        vertical-align: top;\n",
       "    }\n",
       "\n",
       "    .dataframe thead th {\n",
       "        text-align: right;\n",
       "    }\n",
       "</style>\n",
       "<table border=\"1\" class=\"dataframe\">\n",
       "  <thead>\n",
       "    <tr style=\"text-align: right;\">\n",
       "      <th></th>\n",
       "      <th>01</th>\n",
       "      <th>10</th>\n",
       "      <th>100</th>\n",
       "      <th>11</th>\n",
       "      <th>12</th>\n",
       "      <th>13</th>\n",
       "      <th>14</th>\n",
       "      <th>15</th>\n",
       "      <th>16</th>\n",
       "      <th>17</th>\n",
       "      <th>...</th>\n",
       "      <th>year</th>\n",
       "      <th>years</th>\n",
       "      <th>yellow</th>\n",
       "      <th>yes</th>\n",
       "      <th>yesterday</th>\n",
       "      <th>yoda</th>\n",
       "      <th>young</th>\n",
       "      <th>younger</th>\n",
       "      <th>youtube</th>\n",
       "      <th>zone</th>\n",
       "    </tr>\n",
       "  </thead>\n",
       "  <tbody>\n",
       "    <tr>\n",
       "      <th>0</th>\n",
       "      <td>0</td>\n",
       "      <td>0</td>\n",
       "      <td>0</td>\n",
       "      <td>0</td>\n",
       "      <td>0</td>\n",
       "      <td>0</td>\n",
       "      <td>0</td>\n",
       "      <td>0</td>\n",
       "      <td>0</td>\n",
       "      <td>0</td>\n",
       "      <td>...</td>\n",
       "      <td>0</td>\n",
       "      <td>0</td>\n",
       "      <td>0</td>\n",
       "      <td>0</td>\n",
       "      <td>0</td>\n",
       "      <td>1</td>\n",
       "      <td>0</td>\n",
       "      <td>0</td>\n",
       "      <td>0</td>\n",
       "      <td>0</td>\n",
       "    </tr>\n",
       "    <tr>\n",
       "      <th>1</th>\n",
       "      <td>0</td>\n",
       "      <td>0</td>\n",
       "      <td>0</td>\n",
       "      <td>0</td>\n",
       "      <td>0</td>\n",
       "      <td>0</td>\n",
       "      <td>0</td>\n",
       "      <td>0</td>\n",
       "      <td>0</td>\n",
       "      <td>0</td>\n",
       "      <td>...</td>\n",
       "      <td>0</td>\n",
       "      <td>1</td>\n",
       "      <td>0</td>\n",
       "      <td>0</td>\n",
       "      <td>0</td>\n",
       "      <td>4</td>\n",
       "      <td>0</td>\n",
       "      <td>0</td>\n",
       "      <td>0</td>\n",
       "      <td>0</td>\n",
       "    </tr>\n",
       "    <tr>\n",
       "      <th>2</th>\n",
       "      <td>0</td>\n",
       "      <td>0</td>\n",
       "      <td>0</td>\n",
       "      <td>0</td>\n",
       "      <td>0</td>\n",
       "      <td>0</td>\n",
       "      <td>0</td>\n",
       "      <td>0</td>\n",
       "      <td>0</td>\n",
       "      <td>0</td>\n",
       "      <td>...</td>\n",
       "      <td>0</td>\n",
       "      <td>0</td>\n",
       "      <td>0</td>\n",
       "      <td>0</td>\n",
       "      <td>0</td>\n",
       "      <td>0</td>\n",
       "      <td>2</td>\n",
       "      <td>0</td>\n",
       "      <td>0</td>\n",
       "      <td>0</td>\n",
       "    </tr>\n",
       "    <tr>\n",
       "      <th>3</th>\n",
       "      <td>0</td>\n",
       "      <td>0</td>\n",
       "      <td>0</td>\n",
       "      <td>0</td>\n",
       "      <td>0</td>\n",
       "      <td>0</td>\n",
       "      <td>0</td>\n",
       "      <td>0</td>\n",
       "      <td>0</td>\n",
       "      <td>0</td>\n",
       "      <td>...</td>\n",
       "      <td>0</td>\n",
       "      <td>1</td>\n",
       "      <td>0</td>\n",
       "      <td>1</td>\n",
       "      <td>0</td>\n",
       "      <td>1</td>\n",
       "      <td>0</td>\n",
       "      <td>0</td>\n",
       "      <td>0</td>\n",
       "      <td>0</td>\n",
       "    </tr>\n",
       "    <tr>\n",
       "      <th>4</th>\n",
       "      <td>0</td>\n",
       "      <td>0</td>\n",
       "      <td>0</td>\n",
       "      <td>0</td>\n",
       "      <td>0</td>\n",
       "      <td>0</td>\n",
       "      <td>0</td>\n",
       "      <td>0</td>\n",
       "      <td>0</td>\n",
       "      <td>0</td>\n",
       "      <td>...</td>\n",
       "      <td>0</td>\n",
       "      <td>0</td>\n",
       "      <td>0</td>\n",
       "      <td>0</td>\n",
       "      <td>0</td>\n",
       "      <td>0</td>\n",
       "      <td>1</td>\n",
       "      <td>0</td>\n",
       "      <td>0</td>\n",
       "      <td>0</td>\n",
       "    </tr>\n",
       "  </tbody>\n",
       "</table>\n",
       "<p>5 rows × 2530 columns</p>\n",
       "</div>"
      ],
      "text/plain": [
       "   01  10  100  11  12  13  14  15  16  17  ...  year  years  yellow  yes  \\\n",
       "0   0   0    0   0   0   0   0   0   0   0  ...     0      0       0    0   \n",
       "1   0   0    0   0   0   0   0   0   0   0  ...     0      1       0    0   \n",
       "2   0   0    0   0   0   0   0   0   0   0  ...     0      0       0    0   \n",
       "3   0   0    0   0   0   0   0   0   0   0  ...     0      1       0    1   \n",
       "4   0   0    0   0   0   0   0   0   0   0  ...     0      0       0    0   \n",
       "\n",
       "   yesterday  yoda  young  younger  youtube  zone  \n",
       "0          0     1      0        0        0     0  \n",
       "1          0     4      0        0        0     0  \n",
       "2          0     0      2        0        0     0  \n",
       "3          0     1      0        0        0     0  \n",
       "4          0     0      1        0        0     0  \n",
       "\n",
       "[5 rows x 2530 columns]"
      ]
     },
     "execution_count": 55,
     "metadata": {},
     "output_type": "execute_result"
    }
   ],
   "source": [
    "custom_stop = list(ENGLISH_STOP_WORDS)\n",
    "cv = CountVectorizer(stop_words = custom_stop, min_df = 6)\n",
    "X_cv = cv.fit_transform(df_ed['selftext'])\n",
    "df_features = pd.DataFrame(data = X_cv.todense(),\n",
    "                           columns = cv.get_feature_names())\n",
    "df_features.head()"
   ]
  },
  {
   "cell_type": "code",
   "execution_count": 56,
   "metadata": {},
   "outputs": [],
   "source": [
    "common_words=df_features.sum().sort_values(ascending = False).head(50).index"
   ]
  },
  {
   "cell_type": "code",
   "execution_count": 57,
   "metadata": {},
   "outputs": [
    {
     "data": {
      "image/png": "[encoded data removed]",
      "text/plain": [
       "<Figure size 432x288 with 1 Axes>"
      ]
     },
     "metadata": {
      "needs_background": "light"
     },
     "output_type": "display_data"
    }
   ],
   "source": [
    "common_words = df_features.sum().sort_values(ascending = False).head(50).index\n",
    "df_features.sum().sort_values(ascending = False).head(15).plot.barh()\n",
    "plt.title('Most frequent words in corpus')\n",
    "plt.xlabel('Number of times used');"
   ]
  },
  {
   "cell_type": "code",
   "execution_count": 58,
   "metadata": {},
   "outputs": [],
   "source": [
    "##Most frequent words in both the corpus "
   ]
  },
  {
   "cell_type": "code",
   "execution_count": 59,
   "metadata": {},
   "outputs": [],
   "source": [
    "df_features=pd.merge(df_features,df_ed['subreddit'],left_index=True,right_index=True)"
   ]
  },
  {
   "cell_type": "code",
   "execution_count": 60,
   "metadata": {},
   "outputs": [
    {
     "data": {
      "image/png": "[encoded data removed]",
      "text/plain": [
       "<Figure size 864x432 with 1 Axes>"
      ]
     },
     "metadata": {
      "needs_background": "light"
     },
     "output_type": "display_data"
    }
   ],
   "source": [
    "fig, ax = plt.subplots(figsize = (12, 6))\n",
    "df_features.groupby('subreddit_y').sum()[common_words].T.plot.bar(ax = ax,\n",
    "                                                               width = 0.8,\n",
    "                                                               color = ['Orange', 'Navy', 'Black'])\n",
    "ax.set_title('Long Live and Prosper And May the Force be with You');"
   ]
  },
  {
   "cell_type": "code",
   "execution_count": 61,
   "metadata": {},
   "outputs": [],
   "source": [
    "##Most frequent words used in both reddits"
   ]
  },
  {
   "cell_type": "code",
   "execution_count": 62,
   "metadata": {},
   "outputs": [
    {
     "name": "stdout",
     "output_type": "stream",
     "text": [
      "the 12405\n",
      "and 6334\n",
      "to 5875\n",
      "of 5060\n",
      "it 3482\n",
      "in 3167\n",
      "that 2989\n",
      "is 2643\n",
      "was 2047\n",
      "but 1793\n",
      "for 1719\n",
      "with 1670\n",
      "this 1629\n",
      "he 1504\n",
      "on 1430\n",
      "they 1411\n",
      "have 1401\n",
      "as 1367\n",
      "be 1323\n",
      "so 1208\n"
     ]
    },
    {
     "data": {
      "application/vnd.plotly.v1+json": {
       "config": {
        "linkText": "Export to plot.ly",
        "plotlyServerURL": "https://plot.ly",
        "showLink": true
       },
       "data": [
        {
         "marker": {
          "color": "rgba(255, 153, 51, 0.6)",
          "line": {
           "color": "rgba(255, 153, 51, 1.0)",
           "width": 1
          }
         },
         "name": "count",
         "orientation": "v",
         "text": "",
         "type": "bar",
         "x": [
          "the",
          "and",
          "to",
          "of",
          "it",
          "in",
          "that",
          "is",
          "was",
          "but",
          "for",
          "with",
          "this",
          "he",
          "on",
          "they",
          "have",
          "as",
          "be",
          "so"
         ],
         "y": [
          12405,
          6334,
          5875,
          5060,
          3482,
          3167,
          2989,
          2643,
          2047,
          1793,
          1719,
          1670,
          1629,
          1504,
          1430,
          1411,
          1401,
          1367,
          1323,
          1208
         ]
        }
       ],
       "layout": {
        "legend": {
         "bgcolor": "#F5F6F9",
         "font": {
          "color": "#4D5663"
         }
        },
        "paper_bgcolor": "#F5F6F9",
        "plot_bgcolor": "#F5F6F9",
        "template": {
         "data": {
          "bar": [
           {
            "error_x": {
             "color": "#2a3f5f"
            },
            "error_y": {
             "color": "#2a3f5f"
            },
            "marker": {
             "line": {
              "color": "#E5ECF6",
              "width": 0.5
             }
            },
            "type": "bar"
           }
          ],
          "barpolar": [
           {
            "marker": {
             "line": {
              "color": "#E5ECF6",
              "width": 0.5
             }
            },
            "type": "barpolar"
           }
          ],
          "carpet": [
           {
            "aaxis": {
             "endlinecolor": "#2a3f5f",
             "gridcolor": "white",
             "linecolor": "white",
             "minorgridcolor": "white",
             "startlinecolor": "#2a3f5f"
            },
            "baxis": {
             "endlinecolor": "#2a3f5f",
             "gridcolor": "white",
             "linecolor": "white",
             "minorgridcolor": "white",
             "startlinecolor": "#2a3f5f"
            },
            "type": "carpet"
           }
          ],
          "choropleth": [
           {
            "colorbar": {
             "outlinewidth": 0,
             "ticks": ""
            },
            "type": "choropleth"
           }
          ],
          "contour": [
           {
            "colorbar": {
             "outlinewidth": 0,
             "ticks": ""
            },
            "colorscale": [
             [
              0,
              "#0d0887"
             ],
             [
              0.1111111111111111,
              "#46039f"
             ],
             [
              0.2222222222222222,
              "#7201a8"
             ],
             [
              0.3333333333333333,
              "#9c179e"
             ],
             [
              0.4444444444444444,
              "#bd3786"
             ],
             [
              0.5555555555555556,
              "#d8576b"
             ],
             [
              0.6666666666666666,
              "#ed7953"
             ],
             [
              0.7777777777777778,
              "#fb9f3a"
             ],
             [
              0.8888888888888888,
              "#fdca26"
             ],
             [
              1,
              "#f0f921"
             ]
            ],
            "type": "contour"
           }
          ],
          "contourcarpet": [
           {
            "colorbar": {
             "outlinewidth": 0,
             "ticks": ""
            },
            "type": "contourcarpet"
           }
          ],
          "heatmap": [
           {
            "colorbar": {
             "outlinewidth": 0,
             "ticks": ""
            },
            "colorscale": [
             [
              0,
              "#0d0887"
             ],
             [
              0.1111111111111111,
              "#46039f"
             ],
             [
              0.2222222222222222,
              "#7201a8"
             ],
             [
              0.3333333333333333,
              "#9c179e"
             ],
             [
              0.4444444444444444,
              "#bd3786"
             ],
             [
              0.5555555555555556,
              "#d8576b"
             ],
             [
              0.6666666666666666,
              "#ed7953"
             ],
             [
              0.7777777777777778,
              "#fb9f3a"
             ],
             [
              0.8888888888888888,
              "#fdca26"
             ],
             [
              1,
              "#f0f921"
             ]
            ],
            "type": "heatmap"
           }
          ],
          "heatmapgl": [
           {
            "colorbar": {
             "outlinewidth": 0,
             "ticks": ""
            },
            "colorscale": [
             [
              0,
              "#0d0887"
             ],
             [
              0.1111111111111111,
              "#46039f"
             ],
             [
              0.2222222222222222,
              "#7201a8"
             ],
             [
              0.3333333333333333,
              "#9c179e"
             ],
             [
              0.4444444444444444,
              "#bd3786"
             ],
             [
              0.5555555555555556,
              "#d8576b"
             ],
             [
              0.6666666666666666,
              "#ed7953"
             ],
             [
              0.7777777777777778,
              "#fb9f3a"
             ],
             [
              0.8888888888888888,
              "#fdca26"
             ],
             [
              1,
              "#f0f921"
             ]
            ],
            "type": "heatmapgl"
           }
          ],
          "histogram": [
           {
            "marker": {
             "colorbar": {
              "outlinewidth": 0,
              "ticks": ""
             }
            },
            "type": "histogram"
           }
          ],
          "histogram2d": [
           {
            "colorbar": {
             "outlinewidth": 0,
             "ticks": ""
            },
            "colorscale": [
             [
              0,
              "#0d0887"
             ],
             [
              0.1111111111111111,
              "#46039f"
             ],
             [
              0.2222222222222222,
              "#7201a8"
             ],
             [
              0.3333333333333333,
              "#9c179e"
             ],
             [
              0.4444444444444444,
              "#bd3786"
             ],
             [
              0.5555555555555556,
              "#d8576b"
             ],
             [
              0.6666666666666666,
              "#ed7953"
             ],
             [
              0.7777777777777778,
              "#fb9f3a"
             ],
             [
              0.8888888888888888,
              "#fdca26"
             ],
             [
              1,
              "#f0f921"
             ]
            ],
            "type": "histogram2d"
           }
          ],
          "histogram2dcontour": [
           {
            "colorbar": {
             "outlinewidth": 0,
             "ticks": ""
            },
            "colorscale": [
             [
              0,
              "#0d0887"
             ],
             [
              0.1111111111111111,
              "#46039f"
             ],
             [
              0.2222222222222222,
              "#7201a8"
             ],
             [
              0.3333333333333333,
              "#9c179e"
             ],
             [
              0.4444444444444444,
              "#bd3786"
             ],
             [
              0.5555555555555556,
              "#d8576b"
             ],
             [
              0.6666666666666666,
              "#ed7953"
             ],
             [
              0.7777777777777778,
              "#fb9f3a"
             ],
             [
              0.8888888888888888,
              "#fdca26"
             ],
             [
              1,
              "#f0f921"
             ]
            ],
            "type": "histogram2dcontour"
           }
          ],
          "mesh3d": [
           {
            "colorbar": {
             "outlinewidth": 0,
             "ticks": ""
            },
            "type": "mesh3d"
           }
          ],
          "parcoords": [
           {
            "line": {
             "colorbar": {
              "outlinewidth": 0,
              "ticks": ""
             }
            },
            "type": "parcoords"
           }
          ],
          "pie": [
           {
            "automargin": true,
            "type": "pie"
           }
          ],
          "scatter": [
           {
            "marker": {
             "colorbar": {
              "outlinewidth": 0,
              "ticks": ""
             }
            },
            "type": "scatter"
           }
          ],
          "scatter3d": [
           {
            "line": {
             "colorbar": {
              "outlinewidth": 0,
              "ticks": ""
             }
            },
            "marker": {
             "colorbar": {
              "outlinewidth": 0,
              "ticks": ""
             }
            },
            "type": "scatter3d"
           }
          ],
          "scattercarpet": [
           {
            "marker": {
             "colorbar": {
              "outlinewidth": 0,
              "ticks": ""
             }
            },
            "type": "scattercarpet"
           }
          ],
          "scattergeo": [
           {
            "marker": {
             "colorbar": {
              "outlinewidth": 0,
              "ticks": ""
             }
            },
            "type": "scattergeo"
           }
          ],
          "scattergl": [
           {
            "marker": {
             "colorbar": {
              "outlinewidth": 0,
              "ticks": ""
             }
            },
            "type": "scattergl"
           }
          ],
          "scattermapbox": [
           {
            "marker": {
             "colorbar": {
              "outlinewidth": 0,
              "ticks": ""
             }
            },
            "type": "scattermapbox"
           }
          ],
          "scatterpolar": [
           {
            "marker": {
             "colorbar": {
              "outlinewidth": 0,
              "ticks": ""
             }
            },
            "type": "scatterpolar"
           }
          ],
          "scatterpolargl": [
           {
            "marker": {
             "colorbar": {
              "outlinewidth": 0,
              "ticks": ""
             }
            },
            "type": "scatterpolargl"
           }
          ],
          "scatterternary": [
           {
            "marker": {
             "colorbar": {
              "outlinewidth": 0,
              "ticks": ""
             }
            },
            "type": "scatterternary"
           }
          ],
          "surface": [
           {
            "colorbar": {
             "outlinewidth": 0,
             "ticks": ""
            },
            "colorscale": [
             [
              0,
              "#0d0887"
             ],
             [
              0.1111111111111111,
              "#46039f"
             ],
             [
              0.2222222222222222,
              "#7201a8"
             ],
             [
              0.3333333333333333,
              "#9c179e"
             ],
             [
              0.4444444444444444,
              "#bd3786"
             ],
             [
              0.5555555555555556,
              "#d8576b"
             ],
             [
              0.6666666666666666,
              "#ed7953"
             ],
             [
              0.7777777777777778,
              "#fb9f3a"
             ],
             [
              0.8888888888888888,
              "#fdca26"
             ],
             [
              1,
              "#f0f921"
             ]
            ],
            "type": "surface"
           }
          ],
          "table": [
           {
            "cells": {
             "fill": {
              "color": "#EBF0F8"
             },
             "line": {
              "color": "white"
             }
            },
            "header": {
             "fill": {
              "color": "#C8D4E3"
             },
             "line": {
              "color": "white"
             }
            },
            "type": "table"
           }
          ]
         },
         "layout": {
          "annotationdefaults": {
           "arrowcolor": "#2a3f5f",
           "arrowhead": 0,
           "arrowwidth": 1
          },
          "coloraxis": {
           "colorbar": {
            "outlinewidth": 0,
            "ticks": ""
           }
          },
          "colorscale": {
           "diverging": [
            [
             0,
             "#8e0152"
            ],
            [
             0.1,
             "#c51b7d"
            ],
            [
             0.2,
             "#de77ae"
            ],
            [
             0.3,
             "#f1b6da"
            ],
            [
             0.4,
             "#fde0ef"
            ],
            [
             0.5,
             "#f7f7f7"
            ],
            [
             0.6,
             "#e6f5d0"
            ],
            [
             0.7,
             "#b8e186"
            ],
            [
             0.8,
             "#7fbc41"
            ],
            [
             0.9,
             "#4d9221"
            ],
            [
             1,
             "#276419"
            ]
           ],
           "sequential": [
            [
             0,
             "#0d0887"
            ],
            [
             0.1111111111111111,
             "#46039f"
            ],
            [
             0.2222222222222222,
             "#7201a8"
            ],
            [
             0.3333333333333333,
             "#9c179e"
            ],
            [
             0.4444444444444444,
             "#bd3786"
            ],
            [
             0.5555555555555556,
             "#d8576b"
            ],
            [
             0.6666666666666666,
             "#ed7953"
            ],
            [
             0.7777777777777778,
             "#fb9f3a"
            ],
            [
             0.8888888888888888,
             "#fdca26"
            ],
            [
             1,
             "#f0f921"
            ]
           ],
           "sequentialminus": [
            [
             0,
             "#0d0887"
            ],
            [
             0.1111111111111111,
             "#46039f"
            ],
            [
             0.2222222222222222,
             "#7201a8"
            ],
            [
             0.3333333333333333,
             "#9c179e"
            ],
            [
             0.4444444444444444,
             "#bd3786"
            ],
            [
             0.5555555555555556,
             "#d8576b"
            ],
            [
             0.6666666666666666,
             "#ed7953"
            ],
            [
             0.7777777777777778,
             "#fb9f3a"
            ],
            [
             0.8888888888888888,
             "#fdca26"
            ],
            [
             1,
             "#f0f921"
            ]
           ]
          },
          "colorway": [
           "#636efa",
           "#EF553B",
           "#00cc96",
           "#ab63fa",
           "#FFA15A",
           "#19d3f3",
           "#FF6692",
           "#B6E880",
           "#FF97FF",
           "#FECB52"
          ],
          "font": {
           "color": "#2a3f5f"
          },
          "geo": {
           "bgcolor": "white",
           "lakecolor": "white",
           "landcolor": "#E5ECF6",
           "showlakes": true,
           "showland": true,
           "subunitcolor": "white"
          },
          "hoverlabel": {
           "align": "left"
          },
          "hovermode": "closest",
          "mapbox": {
           "style": "light"
          },
          "paper_bgcolor": "white",
          "plot_bgcolor": "#E5ECF6",
          "polar": {
           "angularaxis": {
            "gridcolor": "white",
            "linecolor": "white",
            "ticks": ""
           },
           "bgcolor": "#E5ECF6",
           "radialaxis": {
            "gridcolor": "white",
            "linecolor": "white",
            "ticks": ""
           }
          },
          "scene": {
           "xaxis": {
            "backgroundcolor": "#E5ECF6",
            "gridcolor": "white",
            "gridwidth": 2,
            "linecolor": "white",
            "showbackground": true,
            "ticks": "",
            "zerolinecolor": "white"
           },
           "yaxis": {
            "backgroundcolor": "#E5ECF6",
            "gridcolor": "white",
            "gridwidth": 2,
            "linecolor": "white",
            "showbackground": true,
            "ticks": "",
            "zerolinecolor": "white"
           },
           "zaxis": {
            "backgroundcolor": "#E5ECF6",
            "gridcolor": "white",
            "gridwidth": 2,
            "linecolor": "white",
            "showbackground": true,
            "ticks": "",
            "zerolinecolor": "white"
           }
          },
          "shapedefaults": {
           "line": {
            "color": "#2a3f5f"
           }
          },
          "ternary": {
           "aaxis": {
            "gridcolor": "white",
            "linecolor": "white",
            "ticks": ""
           },
           "baxis": {
            "gridcolor": "white",
            "linecolor": "white",
            "ticks": ""
           },
           "bgcolor": "#E5ECF6",
           "caxis": {
            "gridcolor": "white",
            "linecolor": "white",
            "ticks": ""
           }
          },
          "title": {
           "x": 0.05
          },
          "xaxis": {
           "automargin": true,
           "gridcolor": "white",
           "linecolor": "white",
           "ticks": "",
           "title": {
            "standoff": 15
           },
           "zerolinecolor": "white",
           "zerolinewidth": 2
          },
          "yaxis": {
           "automargin": true,
           "gridcolor": "white",
           "linecolor": "white",
           "ticks": "",
           "title": {
            "standoff": 15
           },
           "zerolinecolor": "white",
           "zerolinewidth": 2
          }
         }
        },
        "title": {
         "font": {
          "color": "#4D5663"
         },
         "text": "Top 20 text in selftext before removing stop words"
        },
        "xaxis": {
         "gridcolor": "#E1E5ED",
         "linecolor": "black",
         "showgrid": true,
         "tickfont": {
          "color": "#4D5663"
         },
         "title": {
          "font": {
           "color": "#4D5663"
          },
          "text": ""
         },
         "zerolinecolor": "#E1E5ED"
        },
        "yaxis": {
         "gridcolor": "#E1E5ED",
         "linecolor": "black",
         "showgrid": true,
         "tickfont": {
          "color": "#4D5663"
         },
         "title": {
          "font": {
           "color": "#4D5663"
          },
          "text": "Count"
         },
         "zerolinecolor": "#E1E5ED"
        }
       }
      },
      "text/html": [
       "<div>\n",
       "        \n",
       "        \n",
       "            <div id=\"c265b875-17ad-4617-ab2d-928a56429d58\" class=\"plotly-graph-div\" style=\"height:525px; width:100%;\"></div>\n",
       "            <script type=\"text/javascript\">\n",
       "                require([\"plotly\"], function(Plotly) {\n",
       "                    window.PLOTLYENV=window.PLOTLYENV || {};\n",
       "                    window.PLOTLYENV.BASE_URL='https://plot.ly';\n",
       "                    \n",
       "                if (document.getElementById(\"c265b875-17ad-4617-ab2d-928a56429d58\")) {\n",
       "                    Plotly.newPlot(\n",
       "                        'c265b875-17ad-4617-ab2d-928a56429d58',\n",
       "                        [{\"marker\": {\"color\": \"rgba(255, 153, 51, 0.6)\", \"line\": {\"color\": \"rgba(255, 153, 51, 1.0)\", \"width\": 1}}, \"name\": \"count\", \"orientation\": \"v\", \"text\": \"\", \"type\": \"bar\", \"x\": [\"the\", \"and\", \"to\", \"of\", \"it\", \"in\", \"that\", \"is\", \"was\", \"but\", \"for\", \"with\", \"this\", \"he\", \"on\", \"they\", \"have\", \"as\", \"be\", \"so\"], \"y\": [12405, 6334, 5875, 5060, 3482, 3167, 2989, 2643, 2047, 1793, 1719, 1670, 1629, 1504, 1430, 1411, 1401, 1367, 1323, 1208]}],\n",
       "                        {\"legend\": {\"bgcolor\": \"#F5F6F9\", \"font\": {\"color\": \"#4D5663\"}}, \"paper_bgcolor\": \"#F5F6F9\", \"plot_bgcolor\": \"#F5F6F9\", \"template\": {\"data\": {\"bar\": [{\"error_x\": {\"color\": \"#2a3f5f\"}, \"error_y\": {\"color\": \"#2a3f5f\"}, \"marker\": {\"line\": {\"color\": \"#E5ECF6\", \"width\": 0.5}}, \"type\": \"bar\"}], \"barpolar\": [{\"marker\": {\"line\": {\"color\": \"#E5ECF6\", \"width\": 0.5}}, \"type\": \"barpolar\"}], \"carpet\": [{\"aaxis\": {\"endlinecolor\": \"#2a3f5f\", \"gridcolor\": \"white\", \"linecolor\": \"white\", \"minorgridcolor\": \"white\", \"startlinecolor\": \"#2a3f5f\"}, \"baxis\": {\"endlinecolor\": \"#2a3f5f\", \"gridcolor\": \"white\", \"linecolor\": \"white\", \"minorgridcolor\": \"white\", \"startlinecolor\": \"#2a3f5f\"}, \"type\": \"carpet\"}], \"choropleth\": [{\"colorbar\": {\"outlinewidth\": 0, \"ticks\": \"\"}, \"type\": \"choropleth\"}], \"contour\": [{\"colorbar\": {\"outlinewidth\": 0, \"ticks\": \"\"}, \"colorscale\": [[0.0, \"#0d0887\"], [0.1111111111111111, \"#46039f\"], [0.2222222222222222, \"#7201a8\"], [0.3333333333333333, \"#9c179e\"], [0.4444444444444444, \"#bd3786\"], [0.5555555555555556, \"#d8576b\"], [0.6666666666666666, \"#ed7953\"], [0.7777777777777778, \"#fb9f3a\"], [0.8888888888888888, \"#fdca26\"], [1.0, \"#f0f921\"]], \"type\": \"contour\"}], \"contourcarpet\": [{\"colorbar\": {\"outlinewidth\": 0, \"ticks\": \"\"}, \"type\": \"contourcarpet\"}], \"heatmap\": [{\"colorbar\": {\"outlinewidth\": 0, \"ticks\": \"\"}, \"colorscale\": [[0.0, \"#0d0887\"], [0.1111111111111111, \"#46039f\"], [0.2222222222222222, \"#7201a8\"], [0.3333333333333333, \"#9c179e\"], [0.4444444444444444, \"#bd3786\"], [0.5555555555555556, \"#d8576b\"], [0.6666666666666666, \"#ed7953\"], [0.7777777777777778, \"#fb9f3a\"], [0.8888888888888888, \"#fdca26\"], [1.0, \"#f0f921\"]], \"type\": \"heatmap\"}], \"heatmapgl\": [{\"colorbar\": {\"outlinewidth\": 0, \"ticks\": \"\"}, \"colorscale\": [[0.0, \"#0d0887\"], [0.1111111111111111, \"#46039f\"], [0.2222222222222222, \"#7201a8\"], [0.3333333333333333, \"#9c179e\"], [0.4444444444444444, \"#bd3786\"], [0.5555555555555556, \"#d8576b\"], [0.6666666666666666, \"#ed7953\"], [0.7777777777777778, \"#fb9f3a\"], [0.8888888888888888, \"#fdca26\"], [1.0, \"#f0f921\"]], \"type\": \"heatmapgl\"}], \"histogram\": [{\"marker\": {\"colorbar\": {\"outlinewidth\": 0, \"ticks\": \"\"}}, \"type\": \"histogram\"}], \"histogram2d\": [{\"colorbar\": {\"outlinewidth\": 0, \"ticks\": \"\"}, \"colorscale\": [[0.0, \"#0d0887\"], [0.1111111111111111, \"#46039f\"], [0.2222222222222222, \"#7201a8\"], [0.3333333333333333, \"#9c179e\"], [0.4444444444444444, \"#bd3786\"], [0.5555555555555556, \"#d8576b\"], [0.6666666666666666, \"#ed7953\"], [0.7777777777777778, \"#fb9f3a\"], [0.8888888888888888, \"#fdca26\"], [1.0, \"#f0f921\"]], \"type\": \"histogram2d\"}], \"histogram2dcontour\": [{\"colorbar\": {\"outlinewidth\": 0, \"ticks\": \"\"}, \"colorscale\": [[0.0, \"#0d0887\"], [0.1111111111111111, \"#46039f\"], [0.2222222222222222, \"#7201a8\"], [0.3333333333333333, \"#9c179e\"], [0.4444444444444444, \"#bd3786\"], [0.5555555555555556, \"#d8576b\"], [0.6666666666666666, \"#ed7953\"], [0.7777777777777778, \"#fb9f3a\"], [0.8888888888888888, \"#fdca26\"], [1.0, \"#f0f921\"]], \"type\": \"histogram2dcontour\"}], \"mesh3d\": [{\"colorbar\": {\"outlinewidth\": 0, \"ticks\": \"\"}, \"type\": \"mesh3d\"}], \"parcoords\": [{\"line\": {\"colorbar\": {\"outlinewidth\": 0, \"ticks\": \"\"}}, \"type\": \"parcoords\"}], \"pie\": [{\"automargin\": true, \"type\": \"pie\"}], \"scatter\": [{\"marker\": {\"colorbar\": {\"outlinewidth\": 0, \"ticks\": \"\"}}, \"type\": \"scatter\"}], \"scatter3d\": [{\"line\": {\"colorbar\": {\"outlinewidth\": 0, \"ticks\": \"\"}}, \"marker\": {\"colorbar\": {\"outlinewidth\": 0, \"ticks\": \"\"}}, \"type\": \"scatter3d\"}], \"scattercarpet\": [{\"marker\": {\"colorbar\": {\"outlinewidth\": 0, \"ticks\": \"\"}}, \"type\": \"scattercarpet\"}], \"scattergeo\": [{\"marker\": {\"colorbar\": {\"outlinewidth\": 0, \"ticks\": \"\"}}, \"type\": \"scattergeo\"}], \"scattergl\": [{\"marker\": {\"colorbar\": {\"outlinewidth\": 0, \"ticks\": \"\"}}, \"type\": \"scattergl\"}], \"scattermapbox\": [{\"marker\": {\"colorbar\": {\"outlinewidth\": 0, \"ticks\": \"\"}}, \"type\": \"scattermapbox\"}], \"scatterpolar\": [{\"marker\": {\"colorbar\": {\"outlinewidth\": 0, \"ticks\": \"\"}}, \"type\": \"scatterpolar\"}], \"scatterpolargl\": [{\"marker\": {\"colorbar\": {\"outlinewidth\": 0, \"ticks\": \"\"}}, \"type\": \"scatterpolargl\"}], \"scatterternary\": [{\"marker\": {\"colorbar\": {\"outlinewidth\": 0, \"ticks\": \"\"}}, \"type\": \"scatterternary\"}], \"surface\": [{\"colorbar\": {\"outlinewidth\": 0, \"ticks\": \"\"}, \"colorscale\": [[0.0, \"#0d0887\"], [0.1111111111111111, \"#46039f\"], [0.2222222222222222, \"#7201a8\"], [0.3333333333333333, \"#9c179e\"], [0.4444444444444444, \"#bd3786\"], [0.5555555555555556, \"#d8576b\"], [0.6666666666666666, \"#ed7953\"], [0.7777777777777778, \"#fb9f3a\"], [0.8888888888888888, \"#fdca26\"], [1.0, \"#f0f921\"]], \"type\": \"surface\"}], \"table\": [{\"cells\": {\"fill\": {\"color\": \"#EBF0F8\"}, \"line\": {\"color\": \"white\"}}, \"header\": {\"fill\": {\"color\": \"#C8D4E3\"}, \"line\": {\"color\": \"white\"}}, \"type\": \"table\"}]}, \"layout\": {\"annotationdefaults\": {\"arrowcolor\": \"#2a3f5f\", \"arrowhead\": 0, \"arrowwidth\": 1}, \"coloraxis\": {\"colorbar\": {\"outlinewidth\": 0, \"ticks\": \"\"}}, \"colorscale\": {\"diverging\": [[0, \"#8e0152\"], [0.1, \"#c51b7d\"], [0.2, \"#de77ae\"], [0.3, \"#f1b6da\"], [0.4, \"#fde0ef\"], [0.5, \"#f7f7f7\"], [0.6, \"#e6f5d0\"], [0.7, \"#b8e186\"], [0.8, \"#7fbc41\"], [0.9, \"#4d9221\"], [1, \"#276419\"]], \"sequential\": [[0.0, \"#0d0887\"], [0.1111111111111111, \"#46039f\"], [0.2222222222222222, \"#7201a8\"], [0.3333333333333333, \"#9c179e\"], [0.4444444444444444, \"#bd3786\"], [0.5555555555555556, \"#d8576b\"], [0.6666666666666666, \"#ed7953\"], [0.7777777777777778, \"#fb9f3a\"], [0.8888888888888888, \"#fdca26\"], [1.0, \"#f0f921\"]], \"sequentialminus\": [[0.0, \"#0d0887\"], [0.1111111111111111, \"#46039f\"], [0.2222222222222222, \"#7201a8\"], [0.3333333333333333, \"#9c179e\"], [0.4444444444444444, \"#bd3786\"], [0.5555555555555556, \"#d8576b\"], [0.6666666666666666, \"#ed7953\"], [0.7777777777777778, \"#fb9f3a\"], [0.8888888888888888, \"#fdca26\"], [1.0, \"#f0f921\"]]}, \"colorway\": [\"#636efa\", \"#EF553B\", \"#00cc96\", \"#ab63fa\", \"#FFA15A\", \"#19d3f3\", \"#FF6692\", \"#B6E880\", \"#FF97FF\", \"#FECB52\"], \"font\": {\"color\": \"#2a3f5f\"}, \"geo\": {\"bgcolor\": \"white\", \"lakecolor\": \"white\", \"landcolor\": \"#E5ECF6\", \"showlakes\": true, \"showland\": true, \"subunitcolor\": \"white\"}, \"hoverlabel\": {\"align\": \"left\"}, \"hovermode\": \"closest\", \"mapbox\": {\"style\": \"light\"}, \"paper_bgcolor\": \"white\", \"plot_bgcolor\": \"#E5ECF6\", \"polar\": {\"angularaxis\": {\"gridcolor\": \"white\", \"linecolor\": \"white\", \"ticks\": \"\"}, \"bgcolor\": \"#E5ECF6\", \"radialaxis\": {\"gridcolor\": \"white\", \"linecolor\": \"white\", \"ticks\": \"\"}}, \"scene\": {\"xaxis\": {\"backgroundcolor\": \"#E5ECF6\", \"gridcolor\": \"white\", \"gridwidth\": 2, \"linecolor\": \"white\", \"showbackground\": true, \"ticks\": \"\", \"zerolinecolor\": \"white\"}, \"yaxis\": {\"backgroundcolor\": \"#E5ECF6\", \"gridcolor\": \"white\", \"gridwidth\": 2, \"linecolor\": \"white\", \"showbackground\": true, \"ticks\": \"\", \"zerolinecolor\": \"white\"}, \"zaxis\": {\"backgroundcolor\": \"#E5ECF6\", \"gridcolor\": \"white\", \"gridwidth\": 2, \"linecolor\": \"white\", \"showbackground\": true, \"ticks\": \"\", \"zerolinecolor\": \"white\"}}, \"shapedefaults\": {\"line\": {\"color\": \"#2a3f5f\"}}, \"ternary\": {\"aaxis\": {\"gridcolor\": \"white\", \"linecolor\": \"white\", \"ticks\": \"\"}, \"baxis\": {\"gridcolor\": \"white\", \"linecolor\": \"white\", \"ticks\": \"\"}, \"bgcolor\": \"#E5ECF6\", \"caxis\": {\"gridcolor\": \"white\", \"linecolor\": \"white\", \"ticks\": \"\"}}, \"title\": {\"x\": 0.05}, \"xaxis\": {\"automargin\": true, \"gridcolor\": \"white\", \"linecolor\": \"white\", \"ticks\": \"\", \"title\": {\"standoff\": 15}, \"zerolinecolor\": \"white\", \"zerolinewidth\": 2}, \"yaxis\": {\"automargin\": true, \"gridcolor\": \"white\", \"linecolor\": \"white\", \"ticks\": \"\", \"title\": {\"standoff\": 15}, \"zerolinecolor\": \"white\", \"zerolinewidth\": 2}}}, \"title\": {\"font\": {\"color\": \"#4D5663\"}, \"text\": \"Top 20 text in selftext before removing stop words\"}, \"xaxis\": {\"gridcolor\": \"#E1E5ED\", \"linecolor\": \"black\", \"showgrid\": true, \"tickfont\": {\"color\": \"#4D5663\"}, \"title\": {\"font\": {\"color\": \"#4D5663\"}, \"text\": \"\"}, \"zerolinecolor\": \"#E1E5ED\"}, \"yaxis\": {\"gridcolor\": \"#E1E5ED\", \"linecolor\": \"black\", \"showgrid\": true, \"tickfont\": {\"color\": \"#4D5663\"}, \"title\": {\"font\": {\"color\": \"#4D5663\"}, \"text\": \"Count\"}, \"zerolinecolor\": \"#E1E5ED\"}},\n",
       "                        {\"showLink\": true, \"linkText\": \"Export to plot.ly\", \"plotlyServerURL\": \"https://plot.ly\", \"responsive\": true}\n",
       "                    ).then(function(){\n",
       "                            \n",
       "var gd = document.getElementById('c265b875-17ad-4617-ab2d-928a56429d58');\n",
       "var x = new MutationObserver(function (mutations, observer) {{\n",
       "        var display = window.getComputedStyle(gd).display;\n",
       "        if (!display || display === 'none') {{\n",
       "            console.log([gd, 'removed!']);\n",
       "            Plotly.purge(gd);\n",
       "            observer.disconnect();\n",
       "        }}\n",
       "}});\n",
       "\n",
       "// Listen for the removal of the full notebook cells\n",
       "var notebookContainer = gd.closest('#notebook-container');\n",
       "if (notebookContainer) {{\n",
       "    x.observe(notebookContainer, {childList: true});\n",
       "}}\n",
       "\n",
       "// Listen for the clearing of the current output cell\n",
       "var outputEl = gd.closest('.output');\n",
       "if (outputEl) {{\n",
       "    x.observe(outputEl, {childList: true});\n",
       "}}\n",
       "\n",
       "                        })\n",
       "                };\n",
       "                });\n",
       "            </script>\n",
       "        </div>"
      ]
     },
     "metadata": {},
     "output_type": "display_data"
    }
   ],
   "source": [
    "def get_top_n_words(corpus, n=None):\n",
    "    vec = CountVectorizer().fit(corpus)\n",
    "    bag_of_words = vec.transform(corpus)\n",
    "    sum_words = bag_of_words.sum(axis=0) \n",
    "    words_freq = [(word, sum_words[0, idx]) for word, idx in vec.vocabulary_.items()]\n",
    "    words_freq =sorted(words_freq, key = lambda x: x[1], reverse=True)\n",
    "    return words_freq[:n]\n",
    "common_words = get_top_n_words(df_ed['selftext'], 20)\n",
    "for word, freq in common_words:\n",
    "    print(word, freq)\n",
    "df_ed1 = pd.DataFrame(common_words, columns = ['selftext' , 'count'])\n",
    "df_ed1.groupby('selftext').sum()['count'].sort_values(ascending=False).iplot(\n",
    "    kind='bar', yTitle='Count', linecolor='black', title='Top 20 text in selftext before removing stop words')"
   ]
  },
  {
   "cell_type": "code",
   "execution_count": 63,
   "metadata": {},
   "outputs": [],
   "source": [
    "#The distribution of top unigrams before removing stop words"
   ]
  },
  {
   "cell_type": "code",
   "execution_count": 64,
   "metadata": {},
   "outputs": [
    {
     "name": "stdout",
     "output_type": "stream",
     "text": [
      "star 1184\n",
      "just 1168\n",
      "like 1120\n",
      "wars 933\n",
      "episode 692\n",
      "trek 655\n",
      "time 578\n",
      "know 577\n",
      "think 560\n",
      "really 533\n",
      "jedi 513\n",
      "picard 501\n",
      "people 458\n",
      "don 457\n",
      "clone 448\n",
      "new 437\n",
      "ve 425\n",
      "season 410\n",
      "series 368\n",
      "did 354\n"
     ]
    },
    {
     "data": {
      "application/vnd.plotly.v1+json": {
       "config": {
        "linkText": "Export to plot.ly",
        "plotlyServerURL": "https://plot.ly",
        "showLink": true
       },
       "data": [
        {
         "marker": {
          "color": "rgba(255, 153, 51, 0.6)",
          "line": {
           "color": "rgba(255, 153, 51, 1.0)",
           "width": 1
          }
         },
         "name": "count",
         "orientation": "v",
         "text": "",
         "type": "bar",
         "x": [
          "star",
          "just",
          "like",
          "wars",
          "episode",
          "trek",
          "time",
          "know",
          "think",
          "really",
          "jedi",
          "picard",
          "people",
          "don",
          "clone",
          "new",
          "ve",
          "season",
          "series",
          "did"
         ],
         "y": [
          1184,
          1168,
          1120,
          933,
          692,
          655,
          578,
          577,
          560,
          533,
          513,
          501,
          458,
          457,
          448,
          437,
          425,
          410,
          368,
          354
         ]
        }
       ],
       "layout": {
        "legend": {
         "bgcolor": "#F5F6F9",
         "font": {
          "color": "#4D5663"
         }
        },
        "paper_bgcolor": "#F5F6F9",
        "plot_bgcolor": "#F5F6F9",
        "template": {
         "data": {
          "bar": [
           {
            "error_x": {
             "color": "#2a3f5f"
            },
            "error_y": {
             "color": "#2a3f5f"
            },
            "marker": {
             "line": {
              "color": "#E5ECF6",
              "width": 0.5
             }
            },
            "type": "bar"
           }
          ],
          "barpolar": [
           {
            "marker": {
             "line": {
              "color": "#E5ECF6",
              "width": 0.5
             }
            },
            "type": "barpolar"
           }
          ],
          "carpet": [
           {
            "aaxis": {
             "endlinecolor": "#2a3f5f",
             "gridcolor": "white",
             "linecolor": "white",
             "minorgridcolor": "white",
             "startlinecolor": "#2a3f5f"
            },
            "baxis": {
             "endlinecolor": "#2a3f5f",
             "gridcolor": "white",
             "linecolor": "white",
             "minorgridcolor": "white",
             "startlinecolor": "#2a3f5f"
            },
            "type": "carpet"
           }
          ],
          "choropleth": [
           {
            "colorbar": {
             "outlinewidth": 0,
             "ticks": ""
            },
            "type": "choropleth"
           }
          ],
          "contour": [
           {
            "colorbar": {
             "outlinewidth": 0,
             "ticks": ""
            },
            "colorscale": [
             [
              0,
              "#0d0887"
             ],
             [
              0.1111111111111111,
              "#46039f"
             ],
             [
              0.2222222222222222,
              "#7201a8"
             ],
             [
              0.3333333333333333,
              "#9c179e"
             ],
             [
              0.4444444444444444,
              "#bd3786"
             ],
             [
              0.5555555555555556,
              "#d8576b"
             ],
             [
              0.6666666666666666,
              "#ed7953"
             ],
             [
              0.7777777777777778,
              "#fb9f3a"
             ],
             [
              0.8888888888888888,
              "#fdca26"
             ],
             [
              1,
              "#f0f921"
             ]
            ],
            "type": "contour"
           }
          ],
          "contourcarpet": [
           {
            "colorbar": {
             "outlinewidth": 0,
             "ticks": ""
            },
            "type": "contourcarpet"
           }
          ],
          "heatmap": [
           {
            "colorbar": {
             "outlinewidth": 0,
             "ticks": ""
            },
            "colorscale": [
             [
              0,
              "#0d0887"
             ],
             [
              0.1111111111111111,
              "#46039f"
             ],
             [
              0.2222222222222222,
              "#7201a8"
             ],
             [
              0.3333333333333333,
              "#9c179e"
             ],
             [
              0.4444444444444444,
              "#bd3786"
             ],
             [
              0.5555555555555556,
              "#d8576b"
             ],
             [
              0.6666666666666666,
              "#ed7953"
             ],
             [
              0.7777777777777778,
              "#fb9f3a"
             ],
             [
              0.8888888888888888,
              "#fdca26"
             ],
             [
              1,
              "#f0f921"
             ]
            ],
            "type": "heatmap"
           }
          ],
          "heatmapgl": [
           {
            "colorbar": {
             "outlinewidth": 0,
             "ticks": ""
            },
            "colorscale": [
             [
              0,
              "#0d0887"
             ],
             [
              0.1111111111111111,
              "#46039f"
             ],
             [
              0.2222222222222222,
              "#7201a8"
             ],
             [
              0.3333333333333333,
              "#9c179e"
             ],
             [
              0.4444444444444444,
              "#bd3786"
             ],
             [
              0.5555555555555556,
              "#d8576b"
             ],
             [
              0.6666666666666666,
              "#ed7953"
             ],
             [
              0.7777777777777778,
              "#fb9f3a"
             ],
             [
              0.8888888888888888,
              "#fdca26"
             ],
             [
              1,
              "#f0f921"
             ]
            ],
            "type": "heatmapgl"
           }
          ],
          "histogram": [
           {
            "marker": {
             "colorbar": {
              "outlinewidth": 0,
              "ticks": ""
             }
            },
            "type": "histogram"
           }
          ],
          "histogram2d": [
           {
            "colorbar": {
             "outlinewidth": 0,
             "ticks": ""
            },
            "colorscale": [
             [
              0,
              "#0d0887"
             ],
             [
              0.1111111111111111,
              "#46039f"
             ],
             [
              0.2222222222222222,
              "#7201a8"
             ],
             [
              0.3333333333333333,
              "#9c179e"
             ],
             [
              0.4444444444444444,
              "#bd3786"
             ],
             [
              0.5555555555555556,
              "#d8576b"
             ],
             [
              0.6666666666666666,
              "#ed7953"
             ],
             [
              0.7777777777777778,
              "#fb9f3a"
             ],
             [
              0.8888888888888888,
              "#fdca26"
             ],
             [
              1,
              "#f0f921"
             ]
            ],
            "type": "histogram2d"
           }
          ],
          "histogram2dcontour": [
           {
            "colorbar": {
             "outlinewidth": 0,
             "ticks": ""
            },
            "colorscale": [
             [
              0,
              "#0d0887"
             ],
             [
              0.1111111111111111,
              "#46039f"
             ],
             [
              0.2222222222222222,
              "#7201a8"
             ],
             [
              0.3333333333333333,
              "#9c179e"
             ],
             [
              0.4444444444444444,
              "#bd3786"
             ],
             [
              0.5555555555555556,
              "#d8576b"
             ],
             [
              0.6666666666666666,
              "#ed7953"
             ],
             [
              0.7777777777777778,
              "#fb9f3a"
             ],
             [
              0.8888888888888888,
              "#fdca26"
             ],
             [
              1,
              "#f0f921"
             ]
            ],
            "type": "histogram2dcontour"
           }
          ],
          "mesh3d": [
           {
            "colorbar": {
             "outlinewidth": 0,
             "ticks": ""
            },
            "type": "mesh3d"
           }
          ],
          "parcoords": [
           {
            "line": {
             "colorbar": {
              "outlinewidth": 0,
              "ticks": ""
             }
            },
            "type": "parcoords"
           }
          ],
          "pie": [
           {
            "automargin": true,
            "type": "pie"
           }
          ],
          "scatter": [
           {
            "marker": {
             "colorbar": {
              "outlinewidth": 0,
              "ticks": ""
             }
            },
            "type": "scatter"
           }
          ],
          "scatter3d": [
           {
            "line": {
             "colorbar": {
              "outlinewidth": 0,
              "ticks": ""
             }
            },
            "marker": {
             "colorbar": {
              "outlinewidth": 0,
              "ticks": ""
             }
            },
            "type": "scatter3d"
           }
          ],
          "scattercarpet": [
           {
            "marker": {
             "colorbar": {
              "outlinewidth": 0,
              "ticks": ""
             }
            },
            "type": "scattercarpet"
           }
          ],
          "scattergeo": [
           {
            "marker": {
             "colorbar": {
              "outlinewidth": 0,
              "ticks": ""
             }
            },
            "type": "scattergeo"
           }
          ],
          "scattergl": [
           {
            "marker": {
             "colorbar": {
              "outlinewidth": 0,
              "ticks": ""
             }
            },
            "type": "scattergl"
           }
          ],
          "scattermapbox": [
           {
            "marker": {
             "colorbar": {
              "outlinewidth": 0,
              "ticks": ""
             }
            },
            "type": "scattermapbox"
           }
          ],
          "scatterpolar": [
           {
            "marker": {
             "colorbar": {
              "outlinewidth": 0,
              "ticks": ""
             }
            },
            "type": "scatterpolar"
           }
          ],
          "scatterpolargl": [
           {
            "marker": {
             "colorbar": {
              "outlinewidth": 0,
              "ticks": ""
             }
            },
            "type": "scatterpolargl"
           }
          ],
          "scatterternary": [
           {
            "marker": {
             "colorbar": {
              "outlinewidth": 0,
              "ticks": ""
             }
            },
            "type": "scatterternary"
           }
          ],
          "surface": [
           {
            "colorbar": {
             "outlinewidth": 0,
             "ticks": ""
            },
            "colorscale": [
             [
              0,
              "#0d0887"
             ],
             [
              0.1111111111111111,
              "#46039f"
             ],
             [
              0.2222222222222222,
              "#7201a8"
             ],
             [
              0.3333333333333333,
              "#9c179e"
             ],
             [
              0.4444444444444444,
              "#bd3786"
             ],
             [
              0.5555555555555556,
              "#d8576b"
             ],
             [
              0.6666666666666666,
              "#ed7953"
             ],
             [
              0.7777777777777778,
              "#fb9f3a"
             ],
             [
              0.8888888888888888,
              "#fdca26"
             ],
             [
              1,
              "#f0f921"
             ]
            ],
            "type": "surface"
           }
          ],
          "table": [
           {
            "cells": {
             "fill": {
              "color": "#EBF0F8"
             },
             "line": {
              "color": "white"
             }
            },
            "header": {
             "fill": {
              "color": "#C8D4E3"
             },
             "line": {
              "color": "white"
             }
            },
            "type": "table"
           }
          ]
         },
         "layout": {
          "annotationdefaults": {
           "arrowcolor": "#2a3f5f",
           "arrowhead": 0,
           "arrowwidth": 1
          },
          "coloraxis": {
           "colorbar": {
            "outlinewidth": 0,
            "ticks": ""
           }
          },
          "colorscale": {
           "diverging": [
            [
             0,
             "#8e0152"
            ],
            [
             0.1,
             "#c51b7d"
            ],
            [
             0.2,
             "#de77ae"
            ],
            [
             0.3,
             "#f1b6da"
            ],
            [
             0.4,
             "#fde0ef"
            ],
            [
             0.5,
             "#f7f7f7"
            ],
            [
             0.6,
             "#e6f5d0"
            ],
            [
             0.7,
             "#b8e186"
            ],
            [
             0.8,
             "#7fbc41"
            ],
            [
             0.9,
             "#4d9221"
            ],
            [
             1,
             "#276419"
            ]
           ],
           "sequential": [
            [
             0,
             "#0d0887"
            ],
            [
             0.1111111111111111,
             "#46039f"
            ],
            [
             0.2222222222222222,
             "#7201a8"
            ],
            [
             0.3333333333333333,
             "#9c179e"
            ],
            [
             0.4444444444444444,
             "#bd3786"
            ],
            [
             0.5555555555555556,
             "#d8576b"
            ],
            [
             0.6666666666666666,
             "#ed7953"
            ],
            [
             0.7777777777777778,
             "#fb9f3a"
            ],
            [
             0.8888888888888888,
             "#fdca26"
            ],
            [
             1,
             "#f0f921"
            ]
           ],
           "sequentialminus": [
            [
             0,
             "#0d0887"
            ],
            [
             0.1111111111111111,
             "#46039f"
            ],
            [
             0.2222222222222222,
             "#7201a8"
            ],
            [
             0.3333333333333333,
             "#9c179e"
            ],
            [
             0.4444444444444444,
             "#bd3786"
            ],
            [
             0.5555555555555556,
             "#d8576b"
            ],
            [
             0.6666666666666666,
             "#ed7953"
            ],
            [
             0.7777777777777778,
             "#fb9f3a"
            ],
            [
             0.8888888888888888,
             "#fdca26"
            ],
            [
             1,
             "#f0f921"
            ]
           ]
          },
          "colorway": [
           "#636efa",
           "#EF553B",
           "#00cc96",
           "#ab63fa",
           "#FFA15A",
           "#19d3f3",
           "#FF6692",
           "#B6E880",
           "#FF97FF",
           "#FECB52"
          ],
          "font": {
           "color": "#2a3f5f"
          },
          "geo": {
           "bgcolor": "white",
           "lakecolor": "white",
           "landcolor": "#E5ECF6",
           "showlakes": true,
           "showland": true,
           "subunitcolor": "white"
          },
          "hoverlabel": {
           "align": "left"
          },
          "hovermode": "closest",
          "mapbox": {
           "style": "light"
          },
          "paper_bgcolor": "white",
          "plot_bgcolor": "#E5ECF6",
          "polar": {
           "angularaxis": {
            "gridcolor": "white",
            "linecolor": "white",
            "ticks": ""
           },
           "bgcolor": "#E5ECF6",
           "radialaxis": {
            "gridcolor": "white",
            "linecolor": "white",
            "ticks": ""
           }
          },
          "scene": {
           "xaxis": {
            "backgroundcolor": "#E5ECF6",
            "gridcolor": "white",
            "gridwidth": 2,
            "linecolor": "white",
            "showbackground": true,
            "ticks": "",
            "zerolinecolor": "white"
           },
           "yaxis": {
            "backgroundcolor": "#E5ECF6",
            "gridcolor": "white",
            "gridwidth": 2,
            "linecolor": "white",
            "showbackground": true,
            "ticks": "",
            "zerolinecolor": "white"
           },
           "zaxis": {
            "backgroundcolor": "#E5ECF6",
            "gridcolor": "white",
            "gridwidth": 2,
            "linecolor": "white",
            "showbackground": true,
            "ticks": "",
            "zerolinecolor": "white"
           }
          },
          "shapedefaults": {
           "line": {
            "color": "#2a3f5f"
           }
          },
          "ternary": {
           "aaxis": {
            "gridcolor": "white",
            "linecolor": "white",
            "ticks": ""
           },
           "baxis": {
            "gridcolor": "white",
            "linecolor": "white",
            "ticks": ""
           },
           "bgcolor": "#E5ECF6",
           "caxis": {
            "gridcolor": "white",
            "linecolor": "white",
            "ticks": ""
           }
          },
          "title": {
           "x": 0.05
          },
          "xaxis": {
           "automargin": true,
           "gridcolor": "white",
           "linecolor": "white",
           "ticks": "",
           "title": {
            "standoff": 15
           },
           "zerolinecolor": "white",
           "zerolinewidth": 2
          },
          "yaxis": {
           "automargin": true,
           "gridcolor": "white",
           "linecolor": "white",
           "ticks": "",
           "title": {
            "standoff": 15
           },
           "zerolinecolor": "white",
           "zerolinewidth": 2
          }
         }
        },
        "title": {
         "font": {
          "color": "#4D5663"
         },
         "text": "Top 20 text in selftext after removing stop words"
        },
        "xaxis": {
         "gridcolor": "#E1E5ED",
         "linecolor": "black",
         "showgrid": true,
         "tickfont": {
          "color": "#4D5663"
         },
         "title": {
          "font": {
           "color": "#4D5663"
          },
          "text": ""
         },
         "zerolinecolor": "#E1E5ED"
        },
        "yaxis": {
         "gridcolor": "#E1E5ED",
         "linecolor": "black",
         "showgrid": true,
         "tickfont": {
          "color": "#4D5663"
         },
         "title": {
          "font": {
           "color": "#4D5663"
          },
          "text": "Count"
         },
         "zerolinecolor": "#E1E5ED"
        }
       }
      },
      "text/html": [
       "<div>\n",
       "        \n",
       "        \n",
       "            <div id=\"d4abc8a9-0b80-4696-b812-89038185952a\" class=\"plotly-graph-div\" style=\"height:525px; width:100%;\"></div>\n",
       "            <script type=\"text/javascript\">\n",
       "                require([\"plotly\"], function(Plotly) {\n",
       "                    window.PLOTLYENV=window.PLOTLYENV || {};\n",
       "                    window.PLOTLYENV.BASE_URL='https://plot.ly';\n",
       "                    \n",
       "                if (document.getElementById(\"d4abc8a9-0b80-4696-b812-89038185952a\")) {\n",
       "                    Plotly.newPlot(\n",
       "                        'd4abc8a9-0b80-4696-b812-89038185952a',\n",
       "                        [{\"marker\": {\"color\": \"rgba(255, 153, 51, 0.6)\", \"line\": {\"color\": \"rgba(255, 153, 51, 1.0)\", \"width\": 1}}, \"name\": \"count\", \"orientation\": \"v\", \"text\": \"\", \"type\": \"bar\", \"x\": [\"star\", \"just\", \"like\", \"wars\", \"episode\", \"trek\", \"time\", \"know\", \"think\", \"really\", \"jedi\", \"picard\", \"people\", \"don\", \"clone\", \"new\", \"ve\", \"season\", \"series\", \"did\"], \"y\": [1184, 1168, 1120, 933, 692, 655, 578, 577, 560, 533, 513, 501, 458, 457, 448, 437, 425, 410, 368, 354]}],\n",
       "                        {\"legend\": {\"bgcolor\": \"#F5F6F9\", \"font\": {\"color\": \"#4D5663\"}}, \"paper_bgcolor\": \"#F5F6F9\", \"plot_bgcolor\": \"#F5F6F9\", \"template\": {\"data\": {\"bar\": [{\"error_x\": {\"color\": \"#2a3f5f\"}, \"error_y\": {\"color\": \"#2a3f5f\"}, \"marker\": {\"line\": {\"color\": \"#E5ECF6\", \"width\": 0.5}}, \"type\": \"bar\"}], \"barpolar\": [{\"marker\": {\"line\": {\"color\": \"#E5ECF6\", \"width\": 0.5}}, \"type\": \"barpolar\"}], \"carpet\": [{\"aaxis\": {\"endlinecolor\": \"#2a3f5f\", \"gridcolor\": \"white\", \"linecolor\": \"white\", \"minorgridcolor\": \"white\", \"startlinecolor\": \"#2a3f5f\"}, \"baxis\": {\"endlinecolor\": \"#2a3f5f\", \"gridcolor\": \"white\", \"linecolor\": \"white\", \"minorgridcolor\": \"white\", \"startlinecolor\": \"#2a3f5f\"}, \"type\": \"carpet\"}], \"choropleth\": [{\"colorbar\": {\"outlinewidth\": 0, \"ticks\": \"\"}, \"type\": \"choropleth\"}], \"contour\": [{\"colorbar\": {\"outlinewidth\": 0, \"ticks\": \"\"}, \"colorscale\": [[0.0, \"#0d0887\"], [0.1111111111111111, \"#46039f\"], [0.2222222222222222, \"#7201a8\"], [0.3333333333333333, \"#9c179e\"], [0.4444444444444444, \"#bd3786\"], [0.5555555555555556, \"#d8576b\"], [0.6666666666666666, \"#ed7953\"], [0.7777777777777778, \"#fb9f3a\"], [0.8888888888888888, \"#fdca26\"], [1.0, \"#f0f921\"]], \"type\": \"contour\"}], \"contourcarpet\": [{\"colorbar\": {\"outlinewidth\": 0, \"ticks\": \"\"}, \"type\": \"contourcarpet\"}], \"heatmap\": [{\"colorbar\": {\"outlinewidth\": 0, \"ticks\": \"\"}, \"colorscale\": [[0.0, \"#0d0887\"], [0.1111111111111111, \"#46039f\"], [0.2222222222222222, \"#7201a8\"], [0.3333333333333333, \"#9c179e\"], [0.4444444444444444, \"#bd3786\"], [0.5555555555555556, \"#d8576b\"], [0.6666666666666666, \"#ed7953\"], [0.7777777777777778, \"#fb9f3a\"], [0.8888888888888888, \"#fdca26\"], [1.0, \"#f0f921\"]], \"type\": \"heatmap\"}], \"heatmapgl\": [{\"colorbar\": {\"outlinewidth\": 0, \"ticks\": \"\"}, \"colorscale\": [[0.0, \"#0d0887\"], [0.1111111111111111, \"#46039f\"], [0.2222222222222222, \"#7201a8\"], [0.3333333333333333, \"#9c179e\"], [0.4444444444444444, \"#bd3786\"], [0.5555555555555556, \"#d8576b\"], [0.6666666666666666, \"#ed7953\"], [0.7777777777777778, \"#fb9f3a\"], [0.8888888888888888, \"#fdca26\"], [1.0, \"#f0f921\"]], \"type\": \"heatmapgl\"}], \"histogram\": [{\"marker\": {\"colorbar\": {\"outlinewidth\": 0, \"ticks\": \"\"}}, \"type\": \"histogram\"}], \"histogram2d\": [{\"colorbar\": {\"outlinewidth\": 0, \"ticks\": \"\"}, \"colorscale\": [[0.0, \"#0d0887\"], [0.1111111111111111, \"#46039f\"], [0.2222222222222222, \"#7201a8\"], [0.3333333333333333, \"#9c179e\"], [0.4444444444444444, \"#bd3786\"], [0.5555555555555556, \"#d8576b\"], [0.6666666666666666, \"#ed7953\"], [0.7777777777777778, \"#fb9f3a\"], [0.8888888888888888, \"#fdca26\"], [1.0, \"#f0f921\"]], \"type\": \"histogram2d\"}], \"histogram2dcontour\": [{\"colorbar\": {\"outlinewidth\": 0, \"ticks\": \"\"}, \"colorscale\": [[0.0, \"#0d0887\"], [0.1111111111111111, \"#46039f\"], [0.2222222222222222, \"#7201a8\"], [0.3333333333333333, \"#9c179e\"], [0.4444444444444444, \"#bd3786\"], [0.5555555555555556, \"#d8576b\"], [0.6666666666666666, \"#ed7953\"], [0.7777777777777778, \"#fb9f3a\"], [0.8888888888888888, \"#fdca26\"], [1.0, \"#f0f921\"]], \"type\": \"histogram2dcontour\"}], \"mesh3d\": [{\"colorbar\": {\"outlinewidth\": 0, \"ticks\": \"\"}, \"type\": \"mesh3d\"}], \"parcoords\": [{\"line\": {\"colorbar\": {\"outlinewidth\": 0, \"ticks\": \"\"}}, \"type\": \"parcoords\"}], \"pie\": [{\"automargin\": true, \"type\": \"pie\"}], \"scatter\": [{\"marker\": {\"colorbar\": {\"outlinewidth\": 0, \"ticks\": \"\"}}, \"type\": \"scatter\"}], \"scatter3d\": [{\"line\": {\"colorbar\": {\"outlinewidth\": 0, \"ticks\": \"\"}}, \"marker\": {\"colorbar\": {\"outlinewidth\": 0, \"ticks\": \"\"}}, \"type\": \"scatter3d\"}], \"scattercarpet\": [{\"marker\": {\"colorbar\": {\"outlinewidth\": 0, \"ticks\": \"\"}}, \"type\": \"scattercarpet\"}], \"scattergeo\": [{\"marker\": {\"colorbar\": {\"outlinewidth\": 0, \"ticks\": \"\"}}, \"type\": \"scattergeo\"}], \"scattergl\": [{\"marker\": {\"colorbar\": {\"outlinewidth\": 0, \"ticks\": \"\"}}, \"type\": \"scattergl\"}], \"scattermapbox\": [{\"marker\": {\"colorbar\": {\"outlinewidth\": 0, \"ticks\": \"\"}}, \"type\": \"scattermapbox\"}], \"scatterpolar\": [{\"marker\": {\"colorbar\": {\"outlinewidth\": 0, \"ticks\": \"\"}}, \"type\": \"scatterpolar\"}], \"scatterpolargl\": [{\"marker\": {\"colorbar\": {\"outlinewidth\": 0, \"ticks\": \"\"}}, \"type\": \"scatterpolargl\"}], \"scatterternary\": [{\"marker\": {\"colorbar\": {\"outlinewidth\": 0, \"ticks\": \"\"}}, \"type\": \"scatterternary\"}], \"surface\": [{\"colorbar\": {\"outlinewidth\": 0, \"ticks\": \"\"}, \"colorscale\": [[0.0, \"#0d0887\"], [0.1111111111111111, \"#46039f\"], [0.2222222222222222, \"#7201a8\"], [0.3333333333333333, \"#9c179e\"], [0.4444444444444444, \"#bd3786\"], [0.5555555555555556, \"#d8576b\"], [0.6666666666666666, \"#ed7953\"], [0.7777777777777778, \"#fb9f3a\"], [0.8888888888888888, \"#fdca26\"], [1.0, \"#f0f921\"]], \"type\": \"surface\"}], \"table\": [{\"cells\": {\"fill\": {\"color\": \"#EBF0F8\"}, \"line\": {\"color\": \"white\"}}, \"header\": {\"fill\": {\"color\": \"#C8D4E3\"}, \"line\": {\"color\": \"white\"}}, \"type\": \"table\"}]}, \"layout\": {\"annotationdefaults\": {\"arrowcolor\": \"#2a3f5f\", \"arrowhead\": 0, \"arrowwidth\": 1}, \"coloraxis\": {\"colorbar\": {\"outlinewidth\": 0, \"ticks\": \"\"}}, \"colorscale\": {\"diverging\": [[0, \"#8e0152\"], [0.1, \"#c51b7d\"], [0.2, \"#de77ae\"], [0.3, \"#f1b6da\"], [0.4, \"#fde0ef\"], [0.5, \"#f7f7f7\"], [0.6, \"#e6f5d0\"], [0.7, \"#b8e186\"], [0.8, \"#7fbc41\"], [0.9, \"#4d9221\"], [1, \"#276419\"]], \"sequential\": [[0.0, \"#0d0887\"], [0.1111111111111111, \"#46039f\"], [0.2222222222222222, \"#7201a8\"], [0.3333333333333333, \"#9c179e\"], [0.4444444444444444, \"#bd3786\"], [0.5555555555555556, \"#d8576b\"], [0.6666666666666666, \"#ed7953\"], [0.7777777777777778, \"#fb9f3a\"], [0.8888888888888888, \"#fdca26\"], [1.0, \"#f0f921\"]], \"sequentialminus\": [[0.0, \"#0d0887\"], [0.1111111111111111, \"#46039f\"], [0.2222222222222222, \"#7201a8\"], [0.3333333333333333, \"#9c179e\"], [0.4444444444444444, \"#bd3786\"], [0.5555555555555556, \"#d8576b\"], [0.6666666666666666, \"#ed7953\"], [0.7777777777777778, \"#fb9f3a\"], [0.8888888888888888, \"#fdca26\"], [1.0, \"#f0f921\"]]}, \"colorway\": [\"#636efa\", \"#EF553B\", \"#00cc96\", \"#ab63fa\", \"#FFA15A\", \"#19d3f3\", \"#FF6692\", \"#B6E880\", \"#FF97FF\", \"#FECB52\"], \"font\": {\"color\": \"#2a3f5f\"}, \"geo\": {\"bgcolor\": \"white\", \"lakecolor\": \"white\", \"landcolor\": \"#E5ECF6\", \"showlakes\": true, \"showland\": true, \"subunitcolor\": \"white\"}, \"hoverlabel\": {\"align\": \"left\"}, \"hovermode\": \"closest\", \"mapbox\": {\"style\": \"light\"}, \"paper_bgcolor\": \"white\", \"plot_bgcolor\": \"#E5ECF6\", \"polar\": {\"angularaxis\": {\"gridcolor\": \"white\", \"linecolor\": \"white\", \"ticks\": \"\"}, \"bgcolor\": \"#E5ECF6\", \"radialaxis\": {\"gridcolor\": \"white\", \"linecolor\": \"white\", \"ticks\": \"\"}}, \"scene\": {\"xaxis\": {\"backgroundcolor\": \"#E5ECF6\", \"gridcolor\": \"white\", \"gridwidth\": 2, \"linecolor\": \"white\", \"showbackground\": true, \"ticks\": \"\", \"zerolinecolor\": \"white\"}, \"yaxis\": {\"backgroundcolor\": \"#E5ECF6\", \"gridcolor\": \"white\", \"gridwidth\": 2, \"linecolor\": \"white\", \"showbackground\": true, \"ticks\": \"\", \"zerolinecolor\": \"white\"}, \"zaxis\": {\"backgroundcolor\": \"#E5ECF6\", \"gridcolor\": \"white\", \"gridwidth\": 2, \"linecolor\": \"white\", \"showbackground\": true, \"ticks\": \"\", \"zerolinecolor\": \"white\"}}, \"shapedefaults\": {\"line\": {\"color\": \"#2a3f5f\"}}, \"ternary\": {\"aaxis\": {\"gridcolor\": \"white\", \"linecolor\": \"white\", \"ticks\": \"\"}, \"baxis\": {\"gridcolor\": \"white\", \"linecolor\": \"white\", \"ticks\": \"\"}, \"bgcolor\": \"#E5ECF6\", \"caxis\": {\"gridcolor\": \"white\", \"linecolor\": \"white\", \"ticks\": \"\"}}, \"title\": {\"x\": 0.05}, \"xaxis\": {\"automargin\": true, \"gridcolor\": \"white\", \"linecolor\": \"white\", \"ticks\": \"\", \"title\": {\"standoff\": 15}, \"zerolinecolor\": \"white\", \"zerolinewidth\": 2}, \"yaxis\": {\"automargin\": true, \"gridcolor\": \"white\", \"linecolor\": \"white\", \"ticks\": \"\", \"title\": {\"standoff\": 15}, \"zerolinecolor\": \"white\", \"zerolinewidth\": 2}}}, \"title\": {\"font\": {\"color\": \"#4D5663\"}, \"text\": \"Top 20 text in selftext after removing stop words\"}, \"xaxis\": {\"gridcolor\": \"#E1E5ED\", \"linecolor\": \"black\", \"showgrid\": true, \"tickfont\": {\"color\": \"#4D5663\"}, \"title\": {\"font\": {\"color\": \"#4D5663\"}, \"text\": \"\"}, \"zerolinecolor\": \"#E1E5ED\"}, \"yaxis\": {\"gridcolor\": \"#E1E5ED\", \"linecolor\": \"black\", \"showgrid\": true, \"tickfont\": {\"color\": \"#4D5663\"}, \"title\": {\"font\": {\"color\": \"#4D5663\"}, \"text\": \"Count\"}, \"zerolinecolor\": \"#E1E5ED\"}},\n",
       "                        {\"showLink\": true, \"linkText\": \"Export to plot.ly\", \"plotlyServerURL\": \"https://plot.ly\", \"responsive\": true}\n",
       "                    ).then(function(){\n",
       "                            \n",
       "var gd = document.getElementById('d4abc8a9-0b80-4696-b812-89038185952a');\n",
       "var x = new MutationObserver(function (mutations, observer) {{\n",
       "        var display = window.getComputedStyle(gd).display;\n",
       "        if (!display || display === 'none') {{\n",
       "            console.log([gd, 'removed!']);\n",
       "            Plotly.purge(gd);\n",
       "            observer.disconnect();\n",
       "        }}\n",
       "}});\n",
       "\n",
       "// Listen for the removal of the full notebook cells\n",
       "var notebookContainer = gd.closest('#notebook-container');\n",
       "if (notebookContainer) {{\n",
       "    x.observe(notebookContainer, {childList: true});\n",
       "}}\n",
       "\n",
       "// Listen for the clearing of the current output cell\n",
       "var outputEl = gd.closest('.output');\n",
       "if (outputEl) {{\n",
       "    x.observe(outputEl, {childList: true});\n",
       "}}\n",
       "\n",
       "                        })\n",
       "                };\n",
       "                });\n",
       "            </script>\n",
       "        </div>"
      ]
     },
     "metadata": {},
     "output_type": "display_data"
    }
   ],
   "source": [
    "def get_top_n_words(corpus, n=None):\n",
    "    vec = CountVectorizer(stop_words = 'english').fit(corpus)\n",
    "    bag_of_words = vec.transform(corpus)\n",
    "    sum_words = bag_of_words.sum(axis=0) \n",
    "    words_freq = [(word, sum_words[0, idx]) for word, idx in vec.vocabulary_.items()]\n",
    "    words_freq =sorted(words_freq, key = lambda x: x[1], reverse=True)\n",
    "    return words_freq[:n]\n",
    "common_words = get_top_n_words(df_ed['selftext'], 20)\n",
    "for word, freq in common_words:\n",
    "    print(word, freq)\n",
    "df_ed2 = pd.DataFrame(common_words, columns = ['selftext' , 'count'])\n",
    "df_ed2.groupby('selftext').sum()['count'].sort_values(ascending=False).iplot(\n",
    "    kind='bar', yTitle='Count', linecolor='black', title='Top 20 text in selftext after removing stop words')"
   ]
  },
  {
   "cell_type": "code",
   "execution_count": 65,
   "metadata": {},
   "outputs": [],
   "source": [
    "##The distribution of top unigrams after removing stop words"
   ]
  },
  {
   "cell_type": "code",
   "execution_count": 66,
   "metadata": {},
   "outputs": [
    {
     "data": {
      "text/plain": [
       "<matplotlib.legend.Legend at 0x1a1b125cd0>"
      ]
     },
     "execution_count": 66,
     "metadata": {},
     "output_type": "execute_result"
    },
    {
     "data": {
      "image/png": "[encoded data removed]",
      "text/plain": [
       "<Figure size 864x576 with 1 Axes>"
      ]
     },
     "metadata": {
      "needs_background": "light"
     },
     "output_type": "display_data"
    }
   ],
   "source": [
    "plt.figure(figsize = (12, 8))\n",
    "plt.xlim(right = 700)\n",
    "sns.distplot(df_ed.loc[df_ed['subreddit'] == 0, 'selftext'].str.len(), color = 'orange', label = 'starwars');\n",
    "sns.distplot(df_ed.loc[df_ed['subreddit'] == 1, 'selftext'].str.len(), color = 'k', label = 'startrek');\n",
    "\n",
    "plt.title('Characters per Sentence Dist by Subreddit')\n",
    "plt.legend()"
   ]
  },
  {
   "cell_type": "code",
   "execution_count": 67,
   "metadata": {},
   "outputs": [],
   "source": [
    "#Both the reddits showing more or like same cherecters distribution per sentance."
   ]
  },
  {
   "cell_type": "code",
   "execution_count": 68,
   "metadata": {},
   "outputs": [],
   "source": [
    "##Recommendation:\n",
    "#Multinomial bayers model giving very outstanding performance overall in my models\n",
    "#More feature options can choose like post comment, Upvotes etc. for more feature engineering can give more performance and can any get more informative analysis.\n",
    "#Considering the small amount of data gathered and minimal amount of features used, the Multinomial Naive Bayes model was the most outstanding"
   ]
  }
 ],
 "metadata": {
  "kernelspec": {
   "display_name": "Python 3",
   "language": "python",
   "name": "python3"
  },
  "language_info": {
   "codemirror_mode": {
    "name": "ipython",
    "version": 3
   },
   "file_extension": ".py",
   "mimetype": "text/x-python",
   "name": "python",
   "nbconvert_exporter": "python",
   "pygments_lexer": "ipython3",
   "version": "3.7.6"
  }
 },
 "nbformat": 4,
 "nbformat_minor": 4
}
